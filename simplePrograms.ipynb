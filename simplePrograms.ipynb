{
  "nbformat": 4,
  "nbformat_minor": 0,
  "metadata": {
    "colab": {
      "provenance": [],
      "authorship_tag": "ABX9TyOmfHyGHB1g3uY/+LrXXulO",
      "include_colab_link": true
    },
    "kernelspec": {
      "name": "python3",
      "display_name": "Python 3"
    },
    "language_info": {
      "name": "python"
    }
  },
  "cells": [
    {
      "cell_type": "markdown",
      "metadata": {
        "id": "view-in-github",
        "colab_type": "text"
      },
      "source": [
        "<a href=\"https://colab.research.google.com/github/BALAJIKUMARAN-CS/pythonNotes/blob/main/may28.ipynb\" target=\"_parent\"><img src=\"https://colab.research.google.com/assets/colab-badge.svg\" alt=\"Open In Colab\"/></a>"
      ]
    },
    {
      "cell_type": "markdown",
      "source": [
        "#Agenda: 28 May\n",
        "\n",
        "1. Largest of 3 numbers program\n",
        "\n",
        "2. Calculator program\n",
        "\n",
        "3. Salary Range\n",
        "\n",
        "4. For loop range\n",
        "\n",
        "5. For loop in a list\n",
        "\n",
        "6. Nested Loops\n",
        "\n",
        "7. While Loops\n",
        "\n"
      ],
      "metadata": {
        "id": "MlFZupKEiuE8"
      }
    },
    {
      "cell_type": "markdown",
      "source": [
        "# 1. Largest of 3 Numbers\n",
        "\n",
        "Develop a simple program to find largest of 3 numbers\n",
        "\n",
        "requirements:\n",
        "\n",
        "  1. The user wants to give input\n",
        "  2. User want to give 3 input"
      ],
      "metadata": {
        "id": "QdMW94SHiVgb"
      }
    },
    {
      "cell_type": "code",
      "execution_count": null,
      "metadata": {
        "colab": {
          "base_uri": "https://localhost:8080/"
        },
        "id": "4ZWmsmFvaT_m",
        "outputId": "33816fd6-991b-4157-dc6c-408220551578"
      },
      "outputs": [
        {
          "output_type": "stream",
          "name": "stdout",
          "text": [
            "Enter the number 1 100\n",
            "Enter the number 2 99\n",
            "Enter the number 3 98\n",
            "The Largest number is  100.0\n"
          ]
        }
      ],
      "source": [
        "num1 = int(input(\"Enter the number 1 \"))\n",
        "num2 = int(input(\"Enter the number 2 \"))\n",
        "num3 = int(input(\"Enter the number 3 \"))\n",
        "if(num1>=num2) and (num1>=num3):\n",
        "  largestNum=float(num1)\n",
        "  print(\"The Largest number is \",largestNum)\n",
        "elif (num2 >= num1) and (num2 >= num3):\n",
        "  largestNum=num2\n",
        "  print(\"The Largest number is \",largestNum)\n",
        "else:\n",
        "  largestNum=num3\n",
        "  print(\"The Largest number is \",largestNum)\n"
      ]
    },
    {
      "cell_type": "markdown",
      "source": [
        "# Calculator:\n",
        "\n",
        "Develop a simple calculator in python\n",
        "\n",
        "requirements:\n",
        "\n",
        "1. Calculator have options like add, sub, mul, div and one invalid operation\n",
        "\n",
        "2. The user wants to give the input\n"
      ],
      "metadata": {
        "id": "5ksyB119f7cP"
      }
    },
    {
      "cell_type": "code",
      "source": [
        "num1=int(input(\"Enter number 1 : \"))\n",
        "num2=int(input(\"ENter number 2 : \"))\n",
        "choice=input(\"\"\"What operation do you want to perform :\n",
        "Choose your choice\n",
        "+ for addition\n",
        "- for subtraction\n",
        "* for multiplication\n",
        "/ for division\n",
        "\"\"\")\n",
        "if (choice == \"+\"):\n",
        "  num3=num1+num2\n",
        "  print(f\"The addition of {num1} and {num2} is {num3}\")\n",
        "elif (choice == \"-\"):\n",
        "  num3=num1-num2\n",
        "  print(f\"The subtraction of {num1} and {num2} is {num3}\")\n",
        "elif (choice == \"*\"):\n",
        "  num3=num1*num2\n",
        "  print(f\"The multiplication of {num1} and {num2} is {num3}\")\n",
        "elif (choice == \"/\"):\n",
        "  num3=num1/num2\n",
        "  print(f\"The division of {num1} and {num2} is {num3}\")\n",
        "else:\n",
        "  print(\"Enter a valid operation\")\n"
      ],
      "metadata": {
        "colab": {
          "base_uri": "https://localhost:8080/"
        },
        "id": "B7RSBY3-f9eO",
        "outputId": "b035c027-49ea-447f-a052-9b755bdd15ef"
      },
      "execution_count": null,
      "outputs": [
        {
          "output_type": "stream",
          "name": "stdout",
          "text": [
            "Enter number 1 : 10\n",
            "ENter number 2 : 2\n",
            "What operation do you want to perform :\n",
            "Choose your choice\n",
            "+ for addition\n",
            "- for subtraction\n",
            "* for multiplication\n",
            "/ for division\n",
            "/\n",
            "The division of 10 and 2 is 5.0\n"
          ]
        }
      ]
    },
    {
      "cell_type": "markdown",
      "source": [
        "# 3. Salary Range\n",
        "\n",
        "Write a program to find the salary range of Executive, Manager, Senior Manager\n",
        "\n",
        "\n",
        "1. The user wants to enter the input(Designation)\n",
        "2. The output should print salary range of the designation\n"
      ],
      "metadata": {
        "id": "7FK1PkTiiQoJ"
      }
    },
    {
      "cell_type": "code",
      "source": [
        "#Eg : 1\n",
        "\n",
        "designation=input(\"\"\"Choose your Designation:\n",
        "1. Executive\n",
        "2. Manager\n",
        "3. Senior Manager\n",
        "\"\"\")\n",
        "if (designation==\"Executive\"):\n",
        "  print(\"The salary range of the Executive is 30k to 40k\")\n",
        "elif (designation==\"Manager\"):\n",
        "  print(\"The salary range of the Manager is 60k to 90k\")\n",
        "elif (designation==\"Senior Manager\"):\n",
        "  print(\"The salary range of the Senior Manager is 1.2L to 1.6L\")\n",
        "else:\n",
        "  print(\"Please enter the vaid designation\")"
      ],
      "metadata": {
        "colab": {
          "base_uri": "https://localhost:8080/"
        },
        "id": "EIg-vTegjpz5",
        "outputId": "7e072b19-f183-4597-e633-f9b53b0f9f64"
      },
      "execution_count": null,
      "outputs": [
        {
          "output_type": "stream",
          "name": "stdout",
          "text": [
            "Choose your Designation:\n",
            "1. Executive\n",
            "2. Manager\n",
            "3. Senior Manager\n",
            "Executive\n",
            "The salary range of the Executive is 30k to 40k\n"
          ]
        }
      ]
    },
    {
      "cell_type": "code",
      "source": [
        "#Eg : 2\n",
        "\n",
        "designation=input(\"\"\"Choose your Designation:\n",
        "1. Executive\n",
        "2. Manager\n",
        "3. Senior Manager\n",
        "\"\"\")\n",
        "test=designation.upper()\n",
        "if (test==\"EXECUTIVE\"):\n",
        "  print(f\"The salary range of the {test} is 30k to 40k\")\n",
        "elif (test==\"MANAGER\"):\n",
        "  print(f\"The salary range of the {test} is 60k to 90k\")\n",
        "elif (test==\"SENIOR MANAGER\"):\n",
        "  print(f\"The salary range of the {test} is 1.2L to 1.6L\")\n",
        "else:\n",
        "  print(\"Please enter the vaid designation\")"
      ],
      "metadata": {
        "colab": {
          "base_uri": "https://localhost:8080/"
        },
        "id": "ss7PO6qalzzy",
        "outputId": "8d2d04d2-655d-4a28-a473-e1a81b3a2aa4"
      },
      "execution_count": null,
      "outputs": [
        {
          "output_type": "stream",
          "name": "stdout",
          "text": [
            "Choose your Designation:\n",
            "1. Executive\n",
            "2. Manager\n",
            "3. Senior Manager\n",
            "Ecede\n",
            "Please enter the vaid designation\n"
          ]
        }
      ]
    },
    {
      "cell_type": "code",
      "source": [
        "print(range(5))"
      ],
      "metadata": {
        "colab": {
          "base_uri": "https://localhost:8080/"
        },
        "id": "JrqtYP16pTZB",
        "outputId": "42e4984f-4909-459b-de06-7cbb9161ecba"
      },
      "execution_count": null,
      "outputs": [
        {
          "output_type": "stream",
          "name": "stdout",
          "text": [
            "range(0, 5)\n"
          ]
        }
      ]
    },
    {
      "cell_type": "markdown",
      "source": [
        "#4. For Loop range\n",
        "\n",
        "    For loop on range\n",
        "\n",
        "    1 . range(n)\n",
        "\n",
        "    Here n is a stop index\n",
        "\n",
        "    2 . range(n1,n2)\n",
        "\n",
        "    Here n1 is a start index\n",
        "    n2 is a stop index\n",
        "  \n",
        "\n",
        "    3 . range(n1,n2,n3)\n",
        "\n",
        "    Here n1 is a start index\n",
        "    n2 is a stop index\n",
        "    n3 is a step index"
      ],
      "metadata": {
        "id": "5LHRRNd_r0PA"
      }
    },
    {
      "cell_type": "code",
      "source": [
        "# Range(n)  ---> it prints (0 to n-1)(0 to 4)\n",
        "for i in range(5):\n",
        "  print(i)"
      ],
      "metadata": {
        "colab": {
          "base_uri": "https://localhost:8080/"
        },
        "id": "1zDRaQ5Jr3I6",
        "outputId": "701cbc61-b2f5-4341-8e2d-fd631490f2e3"
      },
      "execution_count": null,
      "outputs": [
        {
          "output_type": "stream",
          "name": "stdout",
          "text": [
            "0\n",
            "1\n",
            "2\n",
            "3\n",
            "4\n"
          ]
        }
      ]
    },
    {
      "cell_type": "code",
      "source": [
        "# Range(n1, n2)  ---> it prints (n1 to n2-1)\n",
        "for i in range(300,304):\n",
        "  print(i)"
      ],
      "metadata": {
        "colab": {
          "base_uri": "https://localhost:8080/"
        },
        "id": "w3U0xLflspuS",
        "outputId": "450b9e3f-1352-43f6-e8bf-ab8dfe73e18c"
      },
      "execution_count": null,
      "outputs": [
        {
          "output_type": "stream",
          "name": "stdout",
          "text": [
            "300\n",
            "301\n",
            "302\n",
            "303\n"
          ]
        }
      ]
    },
    {
      "cell_type": "code",
      "source": [
        "# Range(n1, n2, n3)  ---> it prints (n1 to n2-1 with n3 step)\n",
        "for i in range(2,20,3):\n",
        "  print(i)"
      ],
      "metadata": {
        "colab": {
          "base_uri": "https://localhost:8080/"
        },
        "id": "eoNA1yNHtCXD",
        "outputId": "d2b05890-027e-4787-afa9-00fa48fddddf"
      },
      "execution_count": null,
      "outputs": [
        {
          "output_type": "stream",
          "name": "stdout",
          "text": [
            "2\n",
            "5\n",
            "8\n",
            "11\n",
            "14\n",
            "17\n"
          ]
        }
      ]
    },
    {
      "cell_type": "markdown",
      "source": [
        "#5. For loop in a List"
      ],
      "metadata": {
        "id": "13xJ3cgBtUbs"
      }
    },
    {
      "cell_type": "code",
      "source": [
        "demonSlayer=[\"Tanjiro\",\"Nezuko\",\"Zenitsu\"]\n",
        "for i in demonSlayer:\n",
        "  print(i)"
      ],
      "metadata": {
        "colab": {
          "base_uri": "https://localhost:8080/"
        },
        "id": "dlc-8ux9taE4",
        "outputId": "beb484cf-d950-4e03-9ca1-cad6226f16fe"
      },
      "execution_count": null,
      "outputs": [
        {
          "output_type": "stream",
          "name": "stdout",
          "text": [
            "Tanjiro\n",
            "Nezuko\n",
            "Zenitsu\n"
          ]
        }
      ]
    },
    {
      "cell_type": "code",
      "source": [
        "#How to print list values with a range\n",
        "\n",
        "demonSlayer=[\"Tanjiro\",\"Nezuko\",\"Zenitsu\"]\n",
        "for i in range(len(demonSlayer)):\n",
        "  print(demonSlayer[i])"
      ],
      "metadata": {
        "colab": {
          "base_uri": "https://localhost:8080/"
        },
        "id": "fz0jmxcPuC3P",
        "outputId": "1a9efa25-124f-4b41-d94c-236b060db3d7"
      },
      "execution_count": null,
      "outputs": [
        {
          "output_type": "stream",
          "name": "stdout",
          "text": [
            "Tanjiro\n",
            "Nezuko\n",
            "Zenitsu\n"
          ]
        }
      ]
    },
    {
      "cell_type": "markdown",
      "source": [
        "#6. Nested Loops\n",
        "\n",
        "It is loop inside the loop\n",
        "\n",
        "\n",
        "    write a program to print\n",
        "\n",
        "    *\n",
        "    * *\n",
        "    * * *\n",
        "    * * * *\n",
        "    * * * * *\n"
      ],
      "metadata": {
        "id": "GVLKxC7p42uT"
      }
    },
    {
      "cell_type": "code",
      "source": [
        "row = 5\n",
        "for i in range(row):\n",
        "  for j in range(i+1):\n",
        "    print(\"*\",end=\" \")\n",
        "  print()"
      ],
      "metadata": {
        "colab": {
          "base_uri": "https://localhost:8080/"
        },
        "id": "Po_6OFzb3Y1i",
        "outputId": "3f0e60a4-4c5e-451d-dafd-6aef01e8c9ad"
      },
      "execution_count": null,
      "outputs": [
        {
          "output_type": "stream",
          "name": "stdout",
          "text": [
            "* \n",
            "* * \n",
            "* * * \n",
            "* * * * \n",
            "* * * * * \n"
          ]
        }
      ]
    },
    {
      "cell_type": "code",
      "source": [
        "row = 5\n",
        "for i in range(row):\n",
        "  for j in range(row-(i)):\n",
        "    print(\"*\",end=\" \")\n",
        "  print()"
      ],
      "metadata": {
        "colab": {
          "base_uri": "https://localhost:8080/"
        },
        "id": "Y5-cG2i436BS",
        "outputId": "c8f2798e-569a-4f04-8e24-fcae18c6bd11"
      },
      "execution_count": null,
      "outputs": [
        {
          "output_type": "stream",
          "name": "stdout",
          "text": [
            "* * * * * \n",
            "* * * * \n",
            "* * * \n",
            "* * \n",
            "* \n"
          ]
        }
      ]
    },
    {
      "cell_type": "markdown",
      "source": [
        "# 7. While loop\n",
        "\n",
        "    This loop runs till the loop becomes \"false\"\n",
        "\n",
        "    test=10\n",
        "    count=1\n",
        "    while count<=10: \n",
        "      print(count)\n",
        "      count+=1\n",
        "\n",
        "    Steps: \n",
        "    while 1 <=10 (True)\n",
        "    print(1)\n",
        "    count=2\n",
        "    :\n",
        "    :\n",
        "    while 11<=10 (False)\n",
        "    Loop exitted\n",
        "\n",
        "\n"
      ],
      "metadata": {
        "id": "OTRVNVOy5_cX"
      }
    },
    {
      "cell_type": "code",
      "source": [
        "test=10\n",
        "count=1\n",
        "while count<=10: \n",
        "  print(count)\n",
        "  count+=1\n"
      ],
      "metadata": {
        "colab": {
          "base_uri": "https://localhost:8080/"
        },
        "id": "afL5r-h26V2i",
        "outputId": "743b5af6-9998-405f-e36a-e09b975dfd02"
      },
      "execution_count": null,
      "outputs": [
        {
          "output_type": "stream",
          "name": "stdout",
          "text": [
            "1\n",
            "2\n",
            "3\n",
            "4\n",
            "5\n",
            "6\n",
            "7\n",
            "8\n",
            "9\n",
            "10\n"
          ]
        }
      ]
    },
    {
      "cell_type": "code",
      "source": [
        "text=\"\"\n",
        "while text!= \"quit\":\n",
        "  text=input(\"Enter your input or type quit to exit: \")\n",
        "  print(text)"
      ],
      "metadata": {
        "colab": {
          "base_uri": "https://localhost:8080/"
        },
        "id": "pSTpXBx-9EWs",
        "outputId": "3744b400-05f4-43dc-dc7b-50e0cc00cbe0"
      },
      "execution_count": null,
      "outputs": [
        {
          "output_type": "stream",
          "name": "stdout",
          "text": [
            "Enter your input or type quit to exit: book\n",
            "book\n",
            "Enter your input or type quit to exit: net\n",
            "net\n",
            "Enter your input or type quit to exit: nest\n",
            "nest\n",
            "Enter your input or type quit to exit: code\n",
            "code\n",
            "Enter your input or type quit to exit: intro\n",
            "intro\n",
            "Enter your input or type quit to exit: quit\n",
            "quit\n"
          ]
        }
      ]
    },
    {
      "cell_type": "code",
      "source": [
        "name = [\"naruto\",\"kabuto\",\"itachi\"]\n",
        "salary=[5000,4000,3000]\n",
        "print(\"The old salary list are\\n\")\n",
        "print(f\"The salary of {name[0]} before  promotion is {salary[0]}\")\n",
        "print(f\"The salary of {name[1]} before  promotion is {salary[1]}\")\n",
        "print(f\"The salary of {name[2]} before  promotion is {salary[2]}\")\n",
        "\n",
        "for i in range(len(name)):\n",
        "  if(name[i] == \"naruto\"):\n",
        "    newSalary=salary[i]*0.05\n",
        "    salary[i]=int(newSalary + salary[0])\n",
        "print(\"\\nThe updated salary list are\\n\")\n",
        "print(f\"The salary of {name[0]} after promotion is {salary[0]}\")\n",
        "print(f\"The salary of {name[1]} after promotion is {salary[1]}\")\n",
        "print(f\"The salary of {name[2]} after promotion is {salary[2]}\")\n",
        "\n"
      ],
      "metadata": {
        "colab": {
          "base_uri": "https://localhost:8080/"
        },
        "id": "7x4QL0cqA3ZC",
        "outputId": "761ff090-458c-4173-c466-fcefc675b711"
      },
      "execution_count": null,
      "outputs": [
        {
          "output_type": "stream",
          "name": "stdout",
          "text": [
            "The old salary list are\n",
            "\n",
            "The salary of naruto before  promotion is 5000\n",
            "The salary of kabuto before  promotion is 4000\n",
            "The salary of itachi before  promotion is 3000\n",
            "\n",
            "The updated salary list are\n",
            "\n",
            "The salary of naruto after promotion is 5250\n",
            "The salary of kabuto after promotion is 4000\n",
            "The salary of itachi after promotion is 3000\n"
          ]
        }
      ]
    },
    {
      "cell_type": "code",
      "source": [
        "salary=[5000,2000,300]\n",
        "salary[0]=2000\n",
        "print(salary)"
      ],
      "metadata": {
        "colab": {
          "base_uri": "https://localhost:8080/"
        },
        "id": "bz1HiyYkBYce",
        "outputId": "2da0cfe3-ca05-4581-825b-56b45d546e0a"
      },
      "execution_count": null,
      "outputs": [
        {
          "output_type": "stream",
          "name": "stdout",
          "text": [
            "[2000, 2000, 300]\n"
          ]
        }
      ]
    }
  ]
}
