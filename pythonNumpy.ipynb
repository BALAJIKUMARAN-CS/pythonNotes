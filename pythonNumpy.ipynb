{
  "nbformat": 4,
  "nbformat_minor": 0,
  "metadata": {
    "colab": {
      "provenance": [],
      "authorship_tag": "ABX9TyMEYv4eAIItGhUdPjt+Asb3",
      "include_colab_link": true
    },
    "kernelspec": {
      "name": "python3",
      "display_name": "Python 3"
    },
    "language_info": {
      "name": "python"
    }
  },
  "cells": [
    {
      "cell_type": "markdown",
      "metadata": {
        "id": "view-in-github",
        "colab_type": "text"
      },
      "source": [
        "<a href=\"https://colab.research.google.com/github/BALAJIKUMARAN-CS/pythonNotes/blob/main/pythonNumpy.ipynb\" target=\"_parent\"><img src=\"https://colab.research.google.com/assets/colab-badge.svg\" alt=\"Open In Colab\"/></a>"
      ]
    },
    {
      "cell_type": "markdown",
      "source": [
        "**Notes by BALAJIKUMARAN CS**"
      ],
      "metadata": {
        "id": "iRvSVKMrYuPJ"
      }
    },
    {
      "cell_type": "markdown",
      "source": [
        "#**Numpy:**\n",
        "\n",
        "    1. Numpy Definition\n",
        "\n",
        "    2. How to import Numpy\n",
        "\n",
        "    3. How to check the version\n",
        "\n",
        "    4. Array Creation\n",
        "\n",
        "    5. np.zeros()\n",
        "\n",
        "    6. np.ones()\n",
        "\n",
        "    7. np.empty()\n",
        "    \n",
        "    8. np.eye()\n",
        "\n",
        "    9. np.arange()\n",
        "\n",
        "    10. np.reshape()\n",
        "\n",
        "    11. np.ones_like()\n",
        "\n",
        "    12. Elipsis\n",
        "\n",
        "    13. Printing Large Arrays without elipsis\n",
        "\n",
        "    14. Basic operation\n",
        "\n",
        "    15. Rules to perform operation\n",
        "\n",
        "    16. array and integer/float\n",
        "\n",
        "    17. multiDimensional array operations\n",
        "\n",
        "    18. np.dot()\n",
        "\n",
        "    19. Aggregate Functions\n",
        "\n",
        "    20. sum(axis = 0) and sum(axis =1)\n",
        "\n",
        "    21. Universal functions\n",
        "\n",
        "    22. Index and slicing\n",
        "\n",
        "    23. Array Iterating\n",
        "\n",
        "    24. flatten()\n",
        "\n",
        "    25. nditer()\n",
        "\n",
        "    26. ravel()"
      ],
      "metadata": {
        "id": "BCJwoB9rSmKT"
      }
    },
    {
      "cell_type": "markdown",
      "source": [
        "# 1. Numpy Definition:\n",
        "\n",
        "    NumPy arrays are stored at one continuous place in memory unlike lists, so processes can access and manipulate them very efficiently.\n",
        "\n",
        "    This behavior is called locality of reference in computer science.\n",
        "\n",
        "    This is the main reason why NumPy is faster than lists. Also it is optimized to work with latest CPU architectures."
      ],
      "metadata": {
        "id": "hkVajVs0Sy53"
      }
    },
    {
      "cell_type": "markdown",
      "source": [
        "#2. How to Import Numpy\n",
        "\n",
        "    Steps to import numpy\n",
        "    ---------------------\n",
        "\n",
        "    If you have Python and PIP already installed on a system, then installation of NumPy is very easy.\n",
        "\n",
        "    1. Install it using this command:\n",
        "\n",
        "    ----- pip install numpy -------\n",
        "\n",
        "    2. Once NumPy is installed, import it in your applications by adding the import keyword:\n",
        "\n",
        "    ---- import numpy ----\n",
        "\n",
        "    3. NumPy is usually imported under the np alias.\n",
        "\n",
        "    alias: In Python alias are an alternate name for referring to the same thing.\n",
        "\n",
        "    Create an alias with the as keyword while importing:\n",
        "\n",
        "    ----- import numpy as np -----\n",
        "\n",
        "    Now the NumPy package can be referred to as np instead of numpy.\n",
        "\n"
      ],
      "metadata": {
        "id": "D1kkMuahT1Eu"
      }
    },
    {
      "cell_type": "code",
      "source": [
        "pip install numpy"
      ],
      "metadata": {
        "colab": {
          "base_uri": "https://localhost:8080/"
        },
        "id": "uiRrvm5NT8oJ",
        "outputId": "fd4f2e13-c730-4fd1-8377-bf6cd7beb8f2"
      },
      "execution_count": null,
      "outputs": [
        {
          "output_type": "stream",
          "name": "stdout",
          "text": [
            "Looking in indexes: https://pypi.org/simple, https://us-python.pkg.dev/colab-wheels/public/simple/\n",
            "Requirement already satisfied: numpy in /usr/local/lib/python3.10/dist-packages (1.22.4)\n"
          ]
        }
      ]
    },
    {
      "cell_type": "code",
      "source": [
        "import numpy as np"
      ],
      "metadata": {
        "id": "y1gJgwmLVTJr"
      },
      "execution_count": null,
      "outputs": []
    },
    {
      "cell_type": "markdown",
      "source": [
        "#3. How to check the version\n",
        "\n",
        "    The version string is stored under __version__ attribute.\n",
        "\n"
      ],
      "metadata": {
        "id": "xv0gB2bBSku6"
      }
    },
    {
      "cell_type": "code",
      "source": [
        "print(np.__version__)"
      ],
      "metadata": {
        "colab": {
          "base_uri": "https://localhost:8080/"
        },
        "id": "pYeiEu-rVkcR",
        "outputId": "0d85e46c-28b7-4ed9-c52b-033ec86de4a5"
      },
      "execution_count": null,
      "outputs": [
        {
          "output_type": "stream",
          "name": "stdout",
          "text": [
            "1.22.4\n"
          ]
        }
      ]
    },
    {
      "cell_type": "markdown",
      "source": [
        "#4. Array Creation\n",
        "\n",
        "    NumPy is used to work with arrays.\n",
        "    \n",
        "    The array object in NumPy is called ndarray.\n",
        "\n",
        "    We can create a NumPy ndarray object by using the array() function."
      ],
      "metadata": {
        "id": "VqVNHJBCWH0n"
      }
    },
    {
      "cell_type": "code",
      "source": [
        "import numpy as np\n",
        "\n",
        "arr = np.array([1, 2, 3, 4, 5])\n",
        "\n",
        "print(arr)\n",
        "\n",
        "print(type(arr)) #type(): This built-in Python function tells us the type of the object passed to it."
      ],
      "metadata": {
        "colab": {
          "base_uri": "https://localhost:8080/"
        },
        "id": "nQ2ljW6tV7JE",
        "outputId": "742a7a43-fc5e-4d5f-8904-4494f89f0678"
      },
      "execution_count": null,
      "outputs": [
        {
          "output_type": "stream",
          "name": "stdout",
          "text": [
            "[1 2 3 4 5]\n",
            "<class 'numpy.ndarray'>\n"
          ]
        }
      ]
    },
    {
      "cell_type": "markdown",
      "source": [
        "#5. np.zeros()\n",
        "\n",
        "    The numpy.zeros() function returns a new array of given shape and type, with zeros.\n",
        "\n",
        "    ----------------------------------------------\n",
        "    Syntax:\n",
        "\n",
        "    numpy.zeros(shape, dtype = None, order = 'C')\n",
        "    ----------------------------------------------\n",
        "\n",
        "    shape : integer or sequence of integers\n",
        "    \n",
        "\n",
        "    order  : C_contiguous or F_contiguous\n",
        "         \n",
        "         1. C-contiguous order in memory(last index varies the fastest)\n",
        "            \n",
        "            C order means that operating row-rise on the array will be slightly quicker\n",
        "\n",
        "         2. FORTRAN-contiguous order in memory (first index varies the fastest).\n",
        "         \n",
        "            F order means that column-wise operations will be faster.\n",
        "\n",
        "\n",
        "    dtype : [optional, float(byDeafult)] Data type of returned array."
      ],
      "metadata": {
        "id": "MpxXV5ucWuv7"
      }
    },
    {
      "cell_type": "code",
      "source": [
        "#simple code with only shape --\n",
        "\n",
        "# In the below code 2 means array with 2 colums filles with zeros\n",
        "\n",
        "# Here we are not mentioning the dtype. so it will consider dtype as float\n",
        "\n",
        "checkZeroBasic=np.zeros((2))\n",
        "\n",
        "print(f\"{checkZeroBasic}\\n\")\n",
        "\n",
        "print(\"The type is \",type(checkZeroBasic[1]))"
      ],
      "metadata": {
        "colab": {
          "base_uri": "https://localhost:8080/"
        },
        "id": "XuNJ-c_4b1_E",
        "outputId": "28a6b5e0-3a3e-4893-8748-d183bf99365e"
      },
      "execution_count": null,
      "outputs": [
        {
          "output_type": "stream",
          "name": "stdout",
          "text": [
            "[0. 0.]\n",
            "\n",
            "The type is  <class 'numpy.float64'>\n"
          ]
        }
      ]
    },
    {
      "cell_type": "code",
      "source": [
        "#simple code with only shape --\n",
        "\n",
        "# In the below code (2,3) means array with 2 rows and 3 colum filling with zero\n",
        "\n",
        "# Here we are not mentioning the dtype. so it will consider dtype as float\n",
        "import numpy as np\n",
        "\n",
        "checkZero=np.zeros((2,3))\n",
        "\n",
        "print(checkZero)\n",
        "\n",
        "print(type(checkZero[1][1]))\n",
        "\n",
        "checkZero"
      ],
      "metadata": {
        "colab": {
          "base_uri": "https://localhost:8080/"
        },
        "id": "GPE1nfTNXi2O",
        "outputId": "71aac3e3-821d-4655-a4d7-9484034b9fbf"
      },
      "execution_count": 2,
      "outputs": [
        {
          "output_type": "stream",
          "name": "stdout",
          "text": [
            "[[0. 0. 0.]\n",
            " [0. 0. 0.]]\n",
            "<class 'numpy.float64'>\n"
          ]
        },
        {
          "output_type": "execute_result",
          "data": {
            "text/plain": [
              "array([[0., 0., 0.],\n",
              "       [0., 0., 0.]])"
            ]
          },
          "metadata": {},
          "execution_count": 2
        }
      ]
    },
    {
      "cell_type": "code",
      "source": [
        "#simple code with only shape and dtype--\n",
        "\n",
        "# In the below code (2,3) means array with 2 rows and 3 colum filling with zero\n",
        "\n",
        "# Here we are mentioning the dtype as int. so it will consider dtype as int\n",
        "\n",
        "checkZeroWithDtype=np.zeros((2,3), dtype=np.int32)\n",
        "\n",
        "print(checkZeroWithDtype,\"\\n\")\n",
        "\n",
        "print(type(checkZeroWithDtype[1][1]),\"\\n\")\n",
        "\n",
        "checkZeroWithDtype"
      ],
      "metadata": {
        "colab": {
          "base_uri": "https://localhost:8080/"
        },
        "id": "gEP2NSaTYzgR",
        "outputId": "6addf14f-5e02-4856-e173-ba65f0618f0b"
      },
      "execution_count": null,
      "outputs": [
        {
          "output_type": "stream",
          "name": "stdout",
          "text": [
            "[[0 0 0]\n",
            " [0 0 0]] \n",
            "\n",
            "<class 'numpy.int32'> \n",
            "\n"
          ]
        },
        {
          "output_type": "execute_result",
          "data": {
            "text/plain": [
              "array([[0, 0, 0],\n",
              "       [0, 0, 0]], dtype=int32)"
            ]
          },
          "metadata": {},
          "execution_count": 132
        }
      ]
    },
    {
      "cell_type": "markdown",
      "source": [
        "# 6. np.ones()\n",
        "\n",
        "    The numpy.zeros() function returns a new array of given shape and type, with ones.\n",
        "\n",
        "    ----------------------------------------------\n",
        "    Syntax:\n",
        "\n",
        "    numpy.zeros(shape, dtype = None, order = 'C')\n",
        "    ----------------------------------------------\n",
        "\n",
        "    shape : integer or sequence of integers\n",
        "\n",
        "\n",
        "    order  : C_contiguous or F_contiguous\n",
        "\n",
        "        1. C-contiguous order in memory(last index varies the fastest)\n",
        "\n",
        "            C order means that operating row-rise on the array will be slightly quicker\n",
        "\n",
        "        2. FORTRAN-contiguous order in memory (first index varies the fastest).\n",
        "\n",
        "            F order means that column-wise operations will be faster.\n",
        "\n",
        "\n",
        "    dtype : [optional, float(byDeafult)] Data type of returned array."
      ],
      "metadata": {
        "id": "2g84WyTiaBjy"
      }
    },
    {
      "cell_type": "code",
      "source": [
        "#simple code with only shape --\n",
        "\n",
        "# In the below code 2 means array with 2 colums filles with ones\n",
        "\n",
        "# Here we are not mentioning the dtype. so it will consider dtype as float\n",
        "\n",
        "checkOneBasic=np.ones((2))\n",
        "\n",
        "print(f\"{checkOneBasic}\\n\")\n",
        "\n",
        "print(\"The type is \",type(checkOneBasic[1]))"
      ],
      "metadata": {
        "colab": {
          "base_uri": "https://localhost:8080/"
        },
        "id": "FuAFTl2cbjQy",
        "outputId": "de914b41-a0d0-4c45-d82b-a4a1ba92a4d5"
      },
      "execution_count": null,
      "outputs": [
        {
          "output_type": "stream",
          "name": "stdout",
          "text": [
            "[1. 1.]\n",
            "\n",
            "The type is  <class 'numpy.float64'>\n"
          ]
        }
      ]
    },
    {
      "cell_type": "code",
      "source": [
        "#simple code with only shape --\n",
        "\n",
        "# In the below code (2,3) means array with 2 rows and 3 colum filling with ones\n",
        "\n",
        "# Here we are not mentioning the dtype. so it will consider dtype as float\n",
        "\n",
        "checkOne=np.ones((2,3))\n",
        "\n",
        "print(f\"{checkOne}\\n\")\n",
        "\n",
        "print(\"The type is \",type(checkOne[1][1]))"
      ],
      "metadata": {
        "colab": {
          "base_uri": "https://localhost:8080/"
        },
        "id": "4bOZfWPJaVg4",
        "outputId": "52b3fc43-87fe-4d4f-f6e7-7b443fcdfa22"
      },
      "execution_count": null,
      "outputs": [
        {
          "output_type": "stream",
          "name": "stdout",
          "text": [
            "[[1. 1. 1.]\n",
            " [1. 1. 1.]]\n",
            "\n",
            "The type is  <class 'numpy.float64'>\n"
          ]
        }
      ]
    },
    {
      "cell_type": "code",
      "source": [
        "#simple code with only shape and dtype--\n",
        "\n",
        "# In the below code (2,3) means array with 2 rows and 3 colum filling with zero\n",
        "\n",
        "# Here we are mentioning the dtype as int. so it will consider dtype as int\n",
        "\n",
        "checkOneWithDtype=np.zeros((2,3), dtype=np.int32)\n",
        "\n",
        "print(f\"{checkOneWithDtype}\\n\")\n",
        "\n",
        "print(\"The type is \",type(checkOne[1][1]),\"\\n\")\n",
        "\n",
        "checkZeroWithDtype"
      ],
      "metadata": {
        "colab": {
          "base_uri": "https://localhost:8080/"
        },
        "id": "e7UiFgGaauca",
        "outputId": "6f1de463-3a30-4dfc-fcc4-43e40dfdc3ba"
      },
      "execution_count": null,
      "outputs": [
        {
          "output_type": "stream",
          "name": "stdout",
          "text": [
            "[[0 0 0]\n",
            " [0 0 0]]\n",
            "\n",
            "The type is  <class 'numpy.float64'> \n",
            "\n"
          ]
        },
        {
          "output_type": "execute_result",
          "data": {
            "text/plain": [
              "array([[0, 0, 0],\n",
              "       [0, 0, 0]], dtype=int32)"
            ]
          },
          "metadata": {},
          "execution_count": 24
        }
      ]
    },
    {
      "cell_type": "markdown",
      "source": [
        "# 7. np.empty()\n",
        "\n",
        "    The elements of this array will not be initialized to any value.\n",
        "\n",
        "    It is typically used for large arrays when performance is critical, and the values will be filled in later.\n",
        "\n",
        "    Uses:\n",
        "    -------------------------\n",
        "    1. This operation will run quicker that any of the array initialization functions.\n",
        "    \n",
        "    2. However the elements of the array will need to be explicitly set at later point"
      ],
      "metadata": {
        "id": "W4h4KOs2cpDN"
      }
    },
    {
      "cell_type": "code",
      "source": [
        "#Eg 1: It will assign random values to the array Eg:2.46471327e-316\n",
        "\n",
        "checkEmptyBasic=np.empty((2))\n",
        "\n",
        "print(f\"{checkEmptyBasic}\\n\")\n",
        "\n",
        "print(\"The type is \",type(checkEmptyBasic[1]))"
      ],
      "metadata": {
        "colab": {
          "base_uri": "https://localhost:8080/"
        },
        "id": "T3IKkwe7dQWR",
        "outputId": "a79e91e7-88ae-49f5-854d-859b3f7c127d"
      },
      "execution_count": null,
      "outputs": [
        {
          "output_type": "stream",
          "name": "stdout",
          "text": [
            "[2.46471327e-316 1.26480805e-321]\n",
            "\n",
            "The type is  <class 'numpy.float64'>\n"
          ]
        }
      ]
    },
    {
      "cell_type": "code",
      "source": [
        "#Eg 2:\n",
        "\n",
        "checkEmpty=np.empty((4,4))\n",
        "\n",
        "print(f\"{checkEmpty}\\n\")\n",
        "\n",
        "print(\"The type is \",type(checkEmpty[1][1]))"
      ],
      "metadata": {
        "colab": {
          "base_uri": "https://localhost:8080/"
        },
        "id": "s7JXNLKadlGD",
        "outputId": "66e96d2a-7286-435d-aeb3-a3ef6e374af5"
      },
      "execution_count": null,
      "outputs": [
        {
          "output_type": "stream",
          "name": "stdout",
          "text": [
            "[[3.53930368e-316 0.00000000e+000 2.41907520e-312 2.37663529e-312]\n",
            " [2.22809558e-312 2.46151512e-312 6.79038654e-313 2.35541533e-312]\n",
            " [2.46151512e-312 6.79038654e-313 2.35541533e-312 6.79038654e-313]\n",
            " [2.14321575e-312 2.22809558e-312 2.14321575e-312 6.94614102e-310]]\n",
            "\n",
            "The type is  <class 'numpy.float64'>\n"
          ]
        }
      ]
    },
    {
      "cell_type": "code",
      "source": [
        "#Eg 3:\n",
        "# Must Know --> Here the values of Empty array are not random values. Because We have a value for 5,5 shape already present in the memory,\n",
        "# So, it takes/points to that value\n",
        "\n",
        "checkOneTest=np.ones((5,5))\n",
        "\n",
        "print(f\"The values of Ones are {checkOneTest}\\n\")\n",
        "\n",
        "checkEmptyTest=np.empty((5,5))\n",
        "\n",
        "print(f\"The values of Empty are {checkEmptyTest}\\n\")"
      ],
      "metadata": {
        "colab": {
          "base_uri": "https://localhost:8080/"
        },
        "id": "5WFO1HjueVDH",
        "outputId": "e66e5dee-4188-4a2c-a816-8c4f160edb72"
      },
      "execution_count": null,
      "outputs": [
        {
          "output_type": "stream",
          "name": "stdout",
          "text": [
            "The values of Ones are [[1. 1. 1. 1. 1.]\n",
            " [1. 1. 1. 1. 1.]\n",
            " [1. 1. 1. 1. 1.]\n",
            " [1. 1. 1. 1. 1.]\n",
            " [1. 1. 1. 1. 1.]]\n",
            "\n",
            "The values of Empty are [[1. 1. 1. 1. 1.]\n",
            " [1. 1. 1. 1. 1.]\n",
            " [1. 1. 1. 1. 1.]\n",
            " [1. 1. 1. 1. 1.]\n",
            " [1. 1. 1. 1. 1.]]\n",
            "\n"
          ]
        }
      ]
    },
    {
      "cell_type": "markdown",
      "source": [],
      "metadata": {
        "id": "PconO6p7uOU7"
      }
    },
    {
      "cell_type": "markdown",
      "source": [
        "#8. np.eye()\n",
        "\n",
        "    The numpy.eye() function returns a square identity matrix of the specified size\n",
        "\n",
        "    The eye tool returns a 2-D array with  1’s as the diagonal and  0’s elsewhere.\n",
        "\n",
        "    ---------------------------------------------------------------------------\n",
        "    Syntax:\n",
        "\n",
        "    numpy.eye(R, C = None, k = 0, dtype = type <‘float’>)\n",
        "\n",
        "    --------------------------------------------------------------------------\n",
        "\n",
        "    R : Number of rows\n",
        "\n",
        "    C : [optional] Number of columns; By default it takes the no of rows value to column\n",
        "\n",
        "    k : [int, optional, 0 by default]\n",
        "              Diagonal we require; k>0 means diagonal above main diagonal or vice versa.\n",
        "\n",
        "    dtype : [optional, float(by Default)] Data type of returned array."
      ],
      "metadata": {
        "id": "OIAb9znOuU1t"
      }
    },
    {
      "cell_type": "code",
      "source": [
        "#Eg 1: with only rows\n",
        "\n",
        "checkEye=np.eye(4)\n",
        "\n",
        "print(checkEye)\n",
        "\n",
        "print(f\"The type is {type(checkEye[1][1])}\")"
      ],
      "metadata": {
        "colab": {
          "base_uri": "https://localhost:8080/"
        },
        "id": "bnGHmLrlusnh",
        "outputId": "06bb6aa6-45a5-40c1-ef33-bd520e888357"
      },
      "execution_count": 4,
      "outputs": [
        {
          "output_type": "stream",
          "name": "stdout",
          "text": [
            "[[1. 0. 0. 0.]\n",
            " [0. 1. 0. 0.]\n",
            " [0. 0. 1. 0.]\n",
            " [0. 0. 0. 1.]]\n",
            "The type is <class 'numpy.float64'>\n"
          ]
        }
      ]
    },
    {
      "cell_type": "code",
      "source": [
        "#Eg 2: with only rows and column\n",
        "\n",
        "checkEyeWithRowColumn=np.eye(4,5)\n",
        "\n",
        "print(checkEyeWithRowColumn)"
      ],
      "metadata": {
        "colab": {
          "base_uri": "https://localhost:8080/"
        },
        "id": "e-nY8G_DvekN",
        "outputId": "7f9174de-a56f-494d-a6ec-dd7b7de9c572"
      },
      "execution_count": null,
      "outputs": [
        {
          "output_type": "stream",
          "name": "stdout",
          "text": [
            "[[1. 0. 0. 0. 0.]\n",
            " [0. 1. 0. 0. 0.]\n",
            " [0. 0. 1. 0. 0.]\n",
            " [0. 0. 0. 1. 0.]]\n"
          ]
        }
      ]
    },
    {
      "cell_type": "code",
      "source": [
        "#Eg 3: with row, column and dtype\n",
        "\n",
        "checkEyeWithInt=np.eye(4,5,dtype=np.int32)\n",
        "\n",
        "print(checkEyeWithInt)\n",
        "\n",
        "print(f\"The type is {type(checkEyeWithInt[1][1])}\")"
      ],
      "metadata": {
        "colab": {
          "base_uri": "https://localhost:8080/"
        },
        "id": "B3jBV67KwVlH",
        "outputId": "0dc95e47-cd6d-4c3f-e6f9-9ed871b1beba"
      },
      "execution_count": null,
      "outputs": [
        {
          "output_type": "stream",
          "name": "stdout",
          "text": [
            "[[1 0 0 0 0]\n",
            " [0 1 0 0 0]\n",
            " [0 0 1 0 0]\n",
            " [0 0 0 1 0]]\n"
          ]
        }
      ]
    },
    {
      "cell_type": "code",
      "source": [
        "#Eg 4: with row, column, k (positive value) and dtype\n",
        "\n",
        "\"\"\"It will move the 1 right to left based on the k value)\"\"\"\n",
        "\n",
        "checkEyeWithK=np.eye(4,5,k=1,dtype=np.int32)\n",
        "\n",
        "print(checkEyeWithK)\n"
      ],
      "metadata": {
        "colab": {
          "base_uri": "https://localhost:8080/"
        },
        "id": "k6MjWUUMw-RZ",
        "outputId": "066e54e0-0994-41c7-848e-c920005bb3fd"
      },
      "execution_count": 6,
      "outputs": [
        {
          "output_type": "stream",
          "name": "stdout",
          "text": [
            "[[0 1 0 0 0]\n",
            " [0 0 1 0 0]\n",
            " [0 0 0 1 0]\n",
            " [0 0 0 0 1]]\n"
          ]
        }
      ]
    },
    {
      "cell_type": "code",
      "source": [
        "#Eg 5: with row, column, k (negative value) and dtype\n",
        "\n",
        "\"\"\"It will move the 1 up to down based on the k value)\"\"\"\n",
        "\n",
        "checkEyeWithKneg=np.eye(4,5,k=-1,dtype=np.int32)\n",
        "\n",
        "print(checkEyeWithKneg)\n"
      ],
      "metadata": {
        "colab": {
          "base_uri": "https://localhost:8080/"
        },
        "id": "q7EQod4dx3HM",
        "outputId": "90aa4e78-3503-4a32-eba3-9bce5783c17d"
      },
      "execution_count": null,
      "outputs": [
        {
          "output_type": "stream",
          "name": "stdout",
          "text": [
            "[[0 0 0 0 0]\n",
            " [1 0 0 0 0]\n",
            " [0 1 0 0 0]\n",
            " [0 0 1 0 0]]\n"
          ]
        }
      ]
    },
    {
      "cell_type": "markdown",
      "source": [
        "#9. np.arange()\n",
        "\n",
        "    The arange() function returns an array with evenly spaced elements as per the interval.\n",
        "    \n",
        "    The interval mentioned is half-opened i.e. [Start, Stop)\n",
        "\n",
        "    ---------------------------------------------------------------------------\n",
        "    Syntax:\n",
        "\n",
        "    arange([start,] stop[, step,][, dtype])\n",
        "\n",
        "    --------------------------------------------------------------------------\n",
        "\n",
        "\n",
        "    start : [optional] start of interval range. By default start = 0\n",
        "  \n",
        "    stop  : end of interval range\n",
        "\n",
        "    step  : [optional] step size of interval. It can be float value also\n",
        "    \n",
        "    By default step size = 1,  \n",
        "    \n",
        "    dtype : type of output array. The type will be based on input given"
      ],
      "metadata": {
        "id": "JAEpUTbkDgn_"
      }
    },
    {
      "cell_type": "code",
      "source": [
        "#Eg 1: Only with stop\n",
        "\n",
        "arangeTest=np.arange(10)\n",
        "\n",
        "print(arangeTest)\n",
        "\n",
        "print(f\"\\nThe default data type is {type(arangeTest[1])}\")"
      ],
      "metadata": {
        "colab": {
          "base_uri": "https://localhost:8080/"
        },
        "id": "HLlSLVVeEfDi",
        "outputId": "0cc94781-69dd-40c5-8509-986c8887d6dd"
      },
      "execution_count": null,
      "outputs": [
        {
          "output_type": "stream",
          "name": "stdout",
          "text": [
            "[0 1 2 3 4 5 6 7 8 9]\n",
            "\n",
            "The default data type is <class 'numpy.int64'>\n"
          ]
        }
      ]
    },
    {
      "cell_type": "code",
      "source": [
        "#Eg 2: With start and stop\n",
        "\n",
        "arangeTestStart=np.arange(10,20)\n",
        "\n",
        "print(arangeTestStart)"
      ],
      "metadata": {
        "colab": {
          "base_uri": "https://localhost:8080/"
        },
        "id": "7532SW3sFB5C",
        "outputId": "c8748428-ed60-405d-c508-3abe127b4178"
      },
      "execution_count": null,
      "outputs": [
        {
          "output_type": "stream",
          "name": "stdout",
          "text": [
            "[10 11 12 13 14 15 16 17 18 19]\n"
          ]
        }
      ]
    },
    {
      "cell_type": "code",
      "source": [
        "#Eg 3: With start, stop and step\n",
        "\n",
        "arangeTestStep=np.arange(10,20,3)\n",
        "\n",
        "print(arangeTestStep)"
      ],
      "metadata": {
        "colab": {
          "base_uri": "https://localhost:8080/"
        },
        "id": "AcxqlM6EFkyk",
        "outputId": "acf7b639-e686-4f0c-d537-f1bd8f4b891b"
      },
      "execution_count": null,
      "outputs": [
        {
          "output_type": "stream",
          "name": "stdout",
          "text": [
            "[10 13 16 19]\n"
          ]
        }
      ]
    },
    {
      "cell_type": "code",
      "source": [
        "#Eg 4: With start, stop and step with float\n",
        "\n",
        "arangeTestStepFloat=np.arange(1,5,1.1)\n",
        "\n",
        "print(arangeTestStepFloat)"
      ],
      "metadata": {
        "colab": {
          "base_uri": "https://localhost:8080/"
        },
        "id": "6WxANWAJGPFr",
        "outputId": "940dec3f-1231-4569-915d-388958a65132"
      },
      "execution_count": null,
      "outputs": [
        {
          "output_type": "stream",
          "name": "stdout",
          "text": [
            "[1.  2.1 3.2 4.3]\n"
          ]
        }
      ]
    },
    {
      "cell_type": "code",
      "source": [
        "#Eg 5: With start, stop and step, dtype\n",
        "\n",
        "arangedTypeFloat=np.arange(1,10,1,dtype=np.float64)\n",
        "\n",
        "print(f\"The values are {arangedTypeFloat} \\n\\n The data type of the values are {type(arangedTypeFloat[1])} \")"
      ],
      "metadata": {
        "colab": {
          "base_uri": "https://localhost:8080/"
        },
        "id": "PyEj2eAhGuG3",
        "outputId": "616fa6be-3ae2-4f33-f0fb-317533541ad7"
      },
      "execution_count": null,
      "outputs": [
        {
          "output_type": "stream",
          "name": "stdout",
          "text": [
            "The values are [1. 2. 3. 4. 5. 6. 7. 8. 9.] \n",
            "\n",
            " The data type of the values are <class 'numpy.float64'> \n"
          ]
        }
      ]
    },
    {
      "cell_type": "markdown",
      "source": [
        "#10. np.reshape()\n",
        "\n",
        "    The numpy.reshape() function shapes an array without changing the data of the array.\n",
        "\n",
        "    -------------------------------------------------------------------------\n",
        "    \n",
        "    Syntax:\n",
        "\n",
        "    numpy.reshape(array, shape, order = 'C')\n",
        "\n",
        "    -------------------------------------------------------------------------\n",
        "\n",
        "    Points to note:\n",
        "\n",
        "    If we have 10 elements means,\n",
        "    \n",
        "    numpy.reshape(4, 8) is wrong. The array needs to have the right number of elements in order to be reordered into a specified shape. Otherwise it will throw an error\n",
        "    \n",
        "    we can do numpy.reshape(2, 5) or (5, 2)\n"
      ],
      "metadata": {
        "id": "xZ-T3oyHIDZE"
      }
    },
    {
      "cell_type": "code",
      "source": [
        "#Eg 1:\n",
        "\n",
        "reshapeTest=np.arange(10).reshape(2,5)\n",
        "\n",
        "print(reshapeTest)"
      ],
      "metadata": {
        "colab": {
          "base_uri": "https://localhost:8080/"
        },
        "id": "BzQcQVVcHuoS",
        "outputId": "cf367be8-89fe-451d-d021-aedd890d7ba7"
      },
      "execution_count": 8,
      "outputs": [
        {
          "output_type": "stream",
          "name": "stdout",
          "text": [
            "[[0 1 2 3 4]\n",
            " [5 6 7 8 9]]\n"
          ]
        }
      ]
    },
    {
      "cell_type": "code",
      "source": [
        "#Eg 1:\n",
        "\n",
        "reshapeTestErr=np.arange(10).reshape(2,10)\n",
        "\n",
        "print(reshapeTestErr)"
      ],
      "metadata": {
        "colab": {
          "base_uri": "https://localhost:8080/",
          "height": 235
        },
        "id": "2vi4PJ_GKfW6",
        "outputId": "2ebd8c45-c1af-4cf2-b86e-2fa775222129"
      },
      "execution_count": null,
      "outputs": [
        {
          "output_type": "error",
          "ename": "ValueError",
          "evalue": "ignored",
          "traceback": [
            "\u001b[0;31m---------------------------------------------------------------------------\u001b[0m",
            "\u001b[0;31mValueError\u001b[0m                                Traceback (most recent call last)",
            "\u001b[0;32m<ipython-input-110-eab0054db007>\u001b[0m in \u001b[0;36m<cell line: 3>\u001b[0;34m()\u001b[0m\n\u001b[1;32m      1\u001b[0m \u001b[0;31m#Eg 1:\u001b[0m\u001b[0;34m\u001b[0m\u001b[0;34m\u001b[0m\u001b[0m\n\u001b[1;32m      2\u001b[0m \u001b[0;34m\u001b[0m\u001b[0m\n\u001b[0;32m----> 3\u001b[0;31m \u001b[0mreshapeTestErr\u001b[0m\u001b[0;34m=\u001b[0m\u001b[0mnp\u001b[0m\u001b[0;34m.\u001b[0m\u001b[0marange\u001b[0m\u001b[0;34m(\u001b[0m\u001b[0;36m10\u001b[0m\u001b[0;34m)\u001b[0m\u001b[0;34m.\u001b[0m\u001b[0mreshape\u001b[0m\u001b[0;34m(\u001b[0m\u001b[0;36m2\u001b[0m\u001b[0;34m,\u001b[0m\u001b[0;36m10\u001b[0m\u001b[0;34m)\u001b[0m\u001b[0;34m\u001b[0m\u001b[0;34m\u001b[0m\u001b[0m\n\u001b[0m\u001b[1;32m      4\u001b[0m \u001b[0;34m\u001b[0m\u001b[0m\n\u001b[1;32m      5\u001b[0m \u001b[0mprint\u001b[0m\u001b[0;34m(\u001b[0m\u001b[0mreshapeTestErr\u001b[0m\u001b[0;34m)\u001b[0m\u001b[0;34m\u001b[0m\u001b[0;34m\u001b[0m\u001b[0m\n",
            "\u001b[0;31mValueError\u001b[0m: cannot reshape array of size 10 into shape (2,10)"
          ]
        }
      ]
    },
    {
      "cell_type": "markdown",
      "source": [
        "#11. np.ones_like()\n",
        "\n",
        "    This function is slightly different from numpy.ones().\n",
        "    \n",
        "    Instead of taking a shape this function takes an array a, and returns the new array of ones of given shape and type as given array.\n",
        "\n"
      ],
      "metadata": {
        "id": "kGsICFJvL6ZB"
      }
    },
    {
      "cell_type": "code",
      "source": [
        "OnesTest=np.ones((2,2))\n",
        "print(f\"The value of Ones is \\n{OnesTest}\\nThe type is {type(OnesTest)}\")\n",
        "\n",
        "OnesLikeTest=np.ones_like((OnesTest))\n",
        "print(f\"\\nThe value of OnesLikeTest is \\n{OnesLikeTest}\\nThe type is {type(OnesLikeTest)}\")"
      ],
      "metadata": {
        "colab": {
          "base_uri": "https://localhost:8080/"
        },
        "id": "U398bc9LL8td",
        "outputId": "427edda1-5dfe-4c43-bfc8-8a8a317131cb"
      },
      "execution_count": 9,
      "outputs": [
        {
          "output_type": "stream",
          "name": "stdout",
          "text": [
            "The value of Ones is \n",
            "[[1. 1.]\n",
            " [1. 1.]]\n",
            "The type is <class 'numpy.ndarray'>\n",
            "\n",
            "The value of OnesLikeTest is \n",
            "[[1. 1.]\n",
            " [1. 1.]]\n",
            "The type is <class 'numpy.ndarray'>\n"
          ]
        }
      ]
    },
    {
      "cell_type": "markdown",
      "source": [
        "#12. Elipsis\n",
        "\n",
        "    The Ellipsis or Ellipsis literal ... (three dots) is a built-in singleton object representing an infinite or unspecified number of arguments."
      ],
      "metadata": {
        "id": "jmas063RT9X2"
      }
    },
    {
      "cell_type": "code",
      "source": [
        "#Elipsis on 1D array\n",
        "\n",
        "testElipsis = np.arange(20000)\n",
        "\n",
        "print(testElipsis)\n",
        "\n",
        "\"\"\"\n",
        "Here the output will be\n",
        "\n",
        " [    0     1     2 ... 19997 19998 19999]\n",
        "\n",
        " We notice that all elements are not visible, But in fact these three dots, which are also referred as an ellipsis\n",
        "\n",
        "\"\"\"\n",
        "print()"
      ],
      "metadata": {
        "colab": {
          "base_uri": "https://localhost:8080/"
        },
        "id": "HDDNDY8oT8nQ",
        "outputId": "10f00761-2c9f-45a6-8c42-868a4c4f83ee"
      },
      "execution_count": null,
      "outputs": [
        {
          "output_type": "stream",
          "name": "stdout",
          "text": [
            "[    0     1     2 ... 19997 19998 19999]\n",
            "\n"
          ]
        }
      ]
    },
    {
      "cell_type": "code",
      "source": [
        "#Elipsis on 2D array\n",
        "\n",
        "testElipsis2D = np.arange(20000).reshape(100,200)\n",
        "\n",
        "print(testElipsis2D)\n"
      ],
      "metadata": {
        "colab": {
          "base_uri": "https://localhost:8080/"
        },
        "id": "dz-VQhH1WBXo",
        "outputId": "73101e1a-c1c0-4d72-b04d-f3a7a009ce0e"
      },
      "execution_count": null,
      "outputs": [
        {
          "output_type": "stream",
          "name": "stdout",
          "text": [
            "[[    0     1     2 ...   197   198   199]\n",
            " [  200   201   202 ...   397   398   399]\n",
            " [  400   401   402 ...   597   598   599]\n",
            " ...\n",
            " [19400 19401 19402 ... 19597 19598 19599]\n",
            " [19600 19601 19602 ... 19797 19798 19799]\n",
            " [19800 19801 19802 ... 19997 19998 19999]]\n"
          ]
        }
      ]
    },
    {
      "cell_type": "markdown",
      "source": [
        "#13. Printing Large Arrays without elipsis\n",
        "\n",
        "    How to print all the values,\n",
        "\n",
        "    For this we can use: set_printoptions\n",
        "\n",
        "    -------------------------------------------------------------------------\n",
        "    \n",
        "    import sys\n",
        "    numpy.set_printoptions(threshold=sys.maxsize)\n",
        "\n",
        "    -------------------------------------------------------------------------\n",
        "\n",
        "    It allows us to specify how floating point numbers, arrays and other NumPy objects are displayed.\n",
        "    \n",
        "    We call this function by passing in a value for the threshold argument, which sets the number of array elements for which ellipsis would begin to be used.\n",
        "\n",
        "    The default value of threshold is 1000"
      ],
      "metadata": {
        "id": "yPkGcRylXInu"
      }
    },
    {
      "cell_type": "code",
      "source": [
        "import sys\n",
        "np.set_printoptions(threshold=sys.maxsize)\n",
        "\n",
        "testPrintArray = np.arange(2000)\n",
        "\n",
        "print(testPrintArray)\n"
      ],
      "metadata": {
        "colab": {
          "base_uri": "https://localhost:8080/"
        },
        "id": "n53dricGXKU6",
        "outputId": "1c095d45-1322-49eb-db72-75dee572fc7d"
      },
      "execution_count": null,
      "outputs": [
        {
          "output_type": "stream",
          "name": "stdout",
          "text": [
            "[   0    1    2    3    4    5    6    7    8    9   10   11   12   13\n",
            "   14   15   16   17   18   19   20   21   22   23   24   25   26   27\n",
            "   28   29   30   31   32   33   34   35   36   37   38   39   40   41\n",
            "   42   43   44   45   46   47   48   49   50   51   52   53   54   55\n",
            "   56   57   58   59   60   61   62   63   64   65   66   67   68   69\n",
            "   70   71   72   73   74   75   76   77   78   79   80   81   82   83\n",
            "   84   85   86   87   88   89   90   91   92   93   94   95   96   97\n",
            "   98   99  100  101  102  103  104  105  106  107  108  109  110  111\n",
            "  112  113  114  115  116  117  118  119  120  121  122  123  124  125\n",
            "  126  127  128  129  130  131  132  133  134  135  136  137  138  139\n",
            "  140  141  142  143  144  145  146  147  148  149  150  151  152  153\n",
            "  154  155  156  157  158  159  160  161  162  163  164  165  166  167\n",
            "  168  169  170  171  172  173  174  175  176  177  178  179  180  181\n",
            "  182  183  184  185  186  187  188  189  190  191  192  193  194  195\n",
            "  196  197  198  199  200  201  202  203  204  205  206  207  208  209\n",
            "  210  211  212  213  214  215  216  217  218  219  220  221  222  223\n",
            "  224  225  226  227  228  229  230  231  232  233  234  235  236  237\n",
            "  238  239  240  241  242  243  244  245  246  247  248  249  250  251\n",
            "  252  253  254  255  256  257  258  259  260  261  262  263  264  265\n",
            "  266  267  268  269  270  271  272  273  274  275  276  277  278  279\n",
            "  280  281  282  283  284  285  286  287  288  289  290  291  292  293\n",
            "  294  295  296  297  298  299  300  301  302  303  304  305  306  307\n",
            "  308  309  310  311  312  313  314  315  316  317  318  319  320  321\n",
            "  322  323  324  325  326  327  328  329  330  331  332  333  334  335\n",
            "  336  337  338  339  340  341  342  343  344  345  346  347  348  349\n",
            "  350  351  352  353  354  355  356  357  358  359  360  361  362  363\n",
            "  364  365  366  367  368  369  370  371  372  373  374  375  376  377\n",
            "  378  379  380  381  382  383  384  385  386  387  388  389  390  391\n",
            "  392  393  394  395  396  397  398  399  400  401  402  403  404  405\n",
            "  406  407  408  409  410  411  412  413  414  415  416  417  418  419\n",
            "  420  421  422  423  424  425  426  427  428  429  430  431  432  433\n",
            "  434  435  436  437  438  439  440  441  442  443  444  445  446  447\n",
            "  448  449  450  451  452  453  454  455  456  457  458  459  460  461\n",
            "  462  463  464  465  466  467  468  469  470  471  472  473  474  475\n",
            "  476  477  478  479  480  481  482  483  484  485  486  487  488  489\n",
            "  490  491  492  493  494  495  496  497  498  499  500  501  502  503\n",
            "  504  505  506  507  508  509  510  511  512  513  514  515  516  517\n",
            "  518  519  520  521  522  523  524  525  526  527  528  529  530  531\n",
            "  532  533  534  535  536  537  538  539  540  541  542  543  544  545\n",
            "  546  547  548  549  550  551  552  553  554  555  556  557  558  559\n",
            "  560  561  562  563  564  565  566  567  568  569  570  571  572  573\n",
            "  574  575  576  577  578  579  580  581  582  583  584  585  586  587\n",
            "  588  589  590  591  592  593  594  595  596  597  598  599  600  601\n",
            "  602  603  604  605  606  607  608  609  610  611  612  613  614  615\n",
            "  616  617  618  619  620  621  622  623  624  625  626  627  628  629\n",
            "  630  631  632  633  634  635  636  637  638  639  640  641  642  643\n",
            "  644  645  646  647  648  649  650  651  652  653  654  655  656  657\n",
            "  658  659  660  661  662  663  664  665  666  667  668  669  670  671\n",
            "  672  673  674  675  676  677  678  679  680  681  682  683  684  685\n",
            "  686  687  688  689  690  691  692  693  694  695  696  697  698  699\n",
            "  700  701  702  703  704  705  706  707  708  709  710  711  712  713\n",
            "  714  715  716  717  718  719  720  721  722  723  724  725  726  727\n",
            "  728  729  730  731  732  733  734  735  736  737  738  739  740  741\n",
            "  742  743  744  745  746  747  748  749  750  751  752  753  754  755\n",
            "  756  757  758  759  760  761  762  763  764  765  766  767  768  769\n",
            "  770  771  772  773  774  775  776  777  778  779  780  781  782  783\n",
            "  784  785  786  787  788  789  790  791  792  793  794  795  796  797\n",
            "  798  799  800  801  802  803  804  805  806  807  808  809  810  811\n",
            "  812  813  814  815  816  817  818  819  820  821  822  823  824  825\n",
            "  826  827  828  829  830  831  832  833  834  835  836  837  838  839\n",
            "  840  841  842  843  844  845  846  847  848  849  850  851  852  853\n",
            "  854  855  856  857  858  859  860  861  862  863  864  865  866  867\n",
            "  868  869  870  871  872  873  874  875  876  877  878  879  880  881\n",
            "  882  883  884  885  886  887  888  889  890  891  892  893  894  895\n",
            "  896  897  898  899  900  901  902  903  904  905  906  907  908  909\n",
            "  910  911  912  913  914  915  916  917  918  919  920  921  922  923\n",
            "  924  925  926  927  928  929  930  931  932  933  934  935  936  937\n",
            "  938  939  940  941  942  943  944  945  946  947  948  949  950  951\n",
            "  952  953  954  955  956  957  958  959  960  961  962  963  964  965\n",
            "  966  967  968  969  970  971  972  973  974  975  976  977  978  979\n",
            "  980  981  982  983  984  985  986  987  988  989  990  991  992  993\n",
            "  994  995  996  997  998  999 1000 1001 1002 1003 1004 1005 1006 1007\n",
            " 1008 1009 1010 1011 1012 1013 1014 1015 1016 1017 1018 1019 1020 1021\n",
            " 1022 1023 1024 1025 1026 1027 1028 1029 1030 1031 1032 1033 1034 1035\n",
            " 1036 1037 1038 1039 1040 1041 1042 1043 1044 1045 1046 1047 1048 1049\n",
            " 1050 1051 1052 1053 1054 1055 1056 1057 1058 1059 1060 1061 1062 1063\n",
            " 1064 1065 1066 1067 1068 1069 1070 1071 1072 1073 1074 1075 1076 1077\n",
            " 1078 1079 1080 1081 1082 1083 1084 1085 1086 1087 1088 1089 1090 1091\n",
            " 1092 1093 1094 1095 1096 1097 1098 1099 1100 1101 1102 1103 1104 1105\n",
            " 1106 1107 1108 1109 1110 1111 1112 1113 1114 1115 1116 1117 1118 1119\n",
            " 1120 1121 1122 1123 1124 1125 1126 1127 1128 1129 1130 1131 1132 1133\n",
            " 1134 1135 1136 1137 1138 1139 1140 1141 1142 1143 1144 1145 1146 1147\n",
            " 1148 1149 1150 1151 1152 1153 1154 1155 1156 1157 1158 1159 1160 1161\n",
            " 1162 1163 1164 1165 1166 1167 1168 1169 1170 1171 1172 1173 1174 1175\n",
            " 1176 1177 1178 1179 1180 1181 1182 1183 1184 1185 1186 1187 1188 1189\n",
            " 1190 1191 1192 1193 1194 1195 1196 1197 1198 1199 1200 1201 1202 1203\n",
            " 1204 1205 1206 1207 1208 1209 1210 1211 1212 1213 1214 1215 1216 1217\n",
            " 1218 1219 1220 1221 1222 1223 1224 1225 1226 1227 1228 1229 1230 1231\n",
            " 1232 1233 1234 1235 1236 1237 1238 1239 1240 1241 1242 1243 1244 1245\n",
            " 1246 1247 1248 1249 1250 1251 1252 1253 1254 1255 1256 1257 1258 1259\n",
            " 1260 1261 1262 1263 1264 1265 1266 1267 1268 1269 1270 1271 1272 1273\n",
            " 1274 1275 1276 1277 1278 1279 1280 1281 1282 1283 1284 1285 1286 1287\n",
            " 1288 1289 1290 1291 1292 1293 1294 1295 1296 1297 1298 1299 1300 1301\n",
            " 1302 1303 1304 1305 1306 1307 1308 1309 1310 1311 1312 1313 1314 1315\n",
            " 1316 1317 1318 1319 1320 1321 1322 1323 1324 1325 1326 1327 1328 1329\n",
            " 1330 1331 1332 1333 1334 1335 1336 1337 1338 1339 1340 1341 1342 1343\n",
            " 1344 1345 1346 1347 1348 1349 1350 1351 1352 1353 1354 1355 1356 1357\n",
            " 1358 1359 1360 1361 1362 1363 1364 1365 1366 1367 1368 1369 1370 1371\n",
            " 1372 1373 1374 1375 1376 1377 1378 1379 1380 1381 1382 1383 1384 1385\n",
            " 1386 1387 1388 1389 1390 1391 1392 1393 1394 1395 1396 1397 1398 1399\n",
            " 1400 1401 1402 1403 1404 1405 1406 1407 1408 1409 1410 1411 1412 1413\n",
            " 1414 1415 1416 1417 1418 1419 1420 1421 1422 1423 1424 1425 1426 1427\n",
            " 1428 1429 1430 1431 1432 1433 1434 1435 1436 1437 1438 1439 1440 1441\n",
            " 1442 1443 1444 1445 1446 1447 1448 1449 1450 1451 1452 1453 1454 1455\n",
            " 1456 1457 1458 1459 1460 1461 1462 1463 1464 1465 1466 1467 1468 1469\n",
            " 1470 1471 1472 1473 1474 1475 1476 1477 1478 1479 1480 1481 1482 1483\n",
            " 1484 1485 1486 1487 1488 1489 1490 1491 1492 1493 1494 1495 1496 1497\n",
            " 1498 1499 1500 1501 1502 1503 1504 1505 1506 1507 1508 1509 1510 1511\n",
            " 1512 1513 1514 1515 1516 1517 1518 1519 1520 1521 1522 1523 1524 1525\n",
            " 1526 1527 1528 1529 1530 1531 1532 1533 1534 1535 1536 1537 1538 1539\n",
            " 1540 1541 1542 1543 1544 1545 1546 1547 1548 1549 1550 1551 1552 1553\n",
            " 1554 1555 1556 1557 1558 1559 1560 1561 1562 1563 1564 1565 1566 1567\n",
            " 1568 1569 1570 1571 1572 1573 1574 1575 1576 1577 1578 1579 1580 1581\n",
            " 1582 1583 1584 1585 1586 1587 1588 1589 1590 1591 1592 1593 1594 1595\n",
            " 1596 1597 1598 1599 1600 1601 1602 1603 1604 1605 1606 1607 1608 1609\n",
            " 1610 1611 1612 1613 1614 1615 1616 1617 1618 1619 1620 1621 1622 1623\n",
            " 1624 1625 1626 1627 1628 1629 1630 1631 1632 1633 1634 1635 1636 1637\n",
            " 1638 1639 1640 1641 1642 1643 1644 1645 1646 1647 1648 1649 1650 1651\n",
            " 1652 1653 1654 1655 1656 1657 1658 1659 1660 1661 1662 1663 1664 1665\n",
            " 1666 1667 1668 1669 1670 1671 1672 1673 1674 1675 1676 1677 1678 1679\n",
            " 1680 1681 1682 1683 1684 1685 1686 1687 1688 1689 1690 1691 1692 1693\n",
            " 1694 1695 1696 1697 1698 1699 1700 1701 1702 1703 1704 1705 1706 1707\n",
            " 1708 1709 1710 1711 1712 1713 1714 1715 1716 1717 1718 1719 1720 1721\n",
            " 1722 1723 1724 1725 1726 1727 1728 1729 1730 1731 1732 1733 1734 1735\n",
            " 1736 1737 1738 1739 1740 1741 1742 1743 1744 1745 1746 1747 1748 1749\n",
            " 1750 1751 1752 1753 1754 1755 1756 1757 1758 1759 1760 1761 1762 1763\n",
            " 1764 1765 1766 1767 1768 1769 1770 1771 1772 1773 1774 1775 1776 1777\n",
            " 1778 1779 1780 1781 1782 1783 1784 1785 1786 1787 1788 1789 1790 1791\n",
            " 1792 1793 1794 1795 1796 1797 1798 1799 1800 1801 1802 1803 1804 1805\n",
            " 1806 1807 1808 1809 1810 1811 1812 1813 1814 1815 1816 1817 1818 1819\n",
            " 1820 1821 1822 1823 1824 1825 1826 1827 1828 1829 1830 1831 1832 1833\n",
            " 1834 1835 1836 1837 1838 1839 1840 1841 1842 1843 1844 1845 1846 1847\n",
            " 1848 1849 1850 1851 1852 1853 1854 1855 1856 1857 1858 1859 1860 1861\n",
            " 1862 1863 1864 1865 1866 1867 1868 1869 1870 1871 1872 1873 1874 1875\n",
            " 1876 1877 1878 1879 1880 1881 1882 1883 1884 1885 1886 1887 1888 1889\n",
            " 1890 1891 1892 1893 1894 1895 1896 1897 1898 1899 1900 1901 1902 1903\n",
            " 1904 1905 1906 1907 1908 1909 1910 1911 1912 1913 1914 1915 1916 1917\n",
            " 1918 1919 1920 1921 1922 1923 1924 1925 1926 1927 1928 1929 1930 1931\n",
            " 1932 1933 1934 1935 1936 1937 1938 1939 1940 1941 1942 1943 1944 1945\n",
            " 1946 1947 1948 1949 1950 1951 1952 1953 1954 1955 1956 1957 1958 1959\n",
            " 1960 1961 1962 1963 1964 1965 1966 1967 1968 1969 1970 1971 1972 1973\n",
            " 1974 1975 1976 1977 1978 1979 1980 1981 1982 1983 1984 1985 1986 1987\n",
            " 1988 1989 1990 1991 1992 1993 1994 1995 1996 1997 1998 1999]\n"
          ]
        }
      ]
    },
    {
      "cell_type": "markdown",
      "source": [
        "#14. Basic operation\n",
        "\n",
        "    we can able to perform operation in numpy like\n",
        "\n",
        "    addition\n",
        "\n",
        "    subtraction\n",
        "\n",
        "    multiplication\n",
        "\n",
        "    division\n",
        "\n",
        "    modulo\n",
        "\n",
        "    Boolean\n",
        "\n",
        "    etc.."
      ],
      "metadata": {
        "id": "Gr2wZwlaRzt_"
      }
    },
    {
      "cell_type": "code",
      "source": [
        "import numpy as np\n",
        "array1=np.array([2,3,7,5])\n",
        "array2=np.array([2,3,4,5])\n",
        "\n",
        "print(f\"The addition of {array1} and {array2} is {array1+array2}\")\n",
        "print()\n",
        "print(f\"The subtraction of {array1} and {array2} is {array1-array2}\")\n",
        "print()\n",
        "print(f\"The division of {array1} and {array2} is {array1/array2}\")\n",
        "print()\n",
        "print(f\"The floor division of {array1} and {array2} is {array1//array2}\")\n",
        "print()\n",
        "print(f\"The modulo of {array1} and {array2} is {array1%array2}\")\n",
        "print()\n",
        "print(f\"The Boolean of {array1} and {array2} is {array1>array2}\")"
      ],
      "metadata": {
        "colab": {
          "base_uri": "https://localhost:8080/"
        },
        "id": "2iNsGiwjRymj",
        "outputId": "eb3fe34f-a4bb-4b9f-e435-bec7d42f18d6"
      },
      "execution_count": null,
      "outputs": [
        {
          "output_type": "stream",
          "name": "stdout",
          "text": [
            "The addition of [2 3 7 5] and [2 3 4 5] is [ 4  6 11 10]\n",
            "\n",
            "The subtraction of [2 3 7 5] and [2 3 4 5] is [0 0 3 0]\n",
            "\n",
            "The division of [2 3 7 5] and [2 3 4 5] is [1.   1.   1.75 1.  ]\n",
            "\n",
            "The floor division of [2 3 7 5] and [2 3 4 5] is [1 1 1 1]\n",
            "\n",
            "The modulo of [2 3 7 5] and [2 3 4 5] is [0 0 3 0]\n",
            "\n",
            "The Boolean of [2 3 7 5] and [2 3 4 5] is [False False  True False]\n"
          ]
        }
      ]
    },
    {
      "cell_type": "markdown",
      "source": [
        "#15. Rules to perform operation\n",
        "\n",
        "    If shape of two arrays are not same,\n",
        "    \n",
        "    that is arr1.shape != arr2.shape,\n",
        "    \n",
        "    they must be broadcastable to a common shape\n",
        "    \n",
        "    (which may be the shape of one or the other)."
      ],
      "metadata": {
        "id": "JFREiJHST6G4"
      }
    },
    {
      "cell_type": "code",
      "source": [
        "#The below code throws an error. Because The shapes are different\n",
        "\n",
        "array3=np.array([2,3,4])\n",
        "\n",
        "array4=np.array([5,6])\n",
        "\n",
        "add=array3+array4"
      ],
      "metadata": {
        "colab": {
          "base_uri": "https://localhost:8080/",
          "height": 200
        },
        "id": "HhR64aMTUdpH",
        "outputId": "9c41aea2-459a-457d-d7ca-b8212b943931"
      },
      "execution_count": null,
      "outputs": [
        {
          "output_type": "error",
          "ename": "ValueError",
          "evalue": "ignored",
          "traceback": [
            "\u001b[0;31m---------------------------------------------------------------------------\u001b[0m",
            "\u001b[0;31mValueError\u001b[0m                                Traceback (most recent call last)",
            "\u001b[0;32m<ipython-input-14-96b44465fb60>\u001b[0m in \u001b[0;36m<cell line: 7>\u001b[0;34m()\u001b[0m\n\u001b[1;32m      5\u001b[0m \u001b[0marray4\u001b[0m\u001b[0;34m=\u001b[0m\u001b[0mnp\u001b[0m\u001b[0;34m.\u001b[0m\u001b[0marray\u001b[0m\u001b[0;34m(\u001b[0m\u001b[0;34m[\u001b[0m\u001b[0;36m5\u001b[0m\u001b[0;34m,\u001b[0m\u001b[0;36m6\u001b[0m\u001b[0;34m]\u001b[0m\u001b[0;34m)\u001b[0m\u001b[0;34m\u001b[0m\u001b[0;34m\u001b[0m\u001b[0m\n\u001b[1;32m      6\u001b[0m \u001b[0;34m\u001b[0m\u001b[0m\n\u001b[0;32m----> 7\u001b[0;31m \u001b[0madd\u001b[0m\u001b[0;34m=\u001b[0m\u001b[0marray3\u001b[0m\u001b[0;34m+\u001b[0m\u001b[0marray4\u001b[0m\u001b[0;34m\u001b[0m\u001b[0;34m\u001b[0m\u001b[0m\n\u001b[0m",
            "\u001b[0;31mValueError\u001b[0m: operands could not be broadcast together with shapes (3,) (2,) "
          ]
        }
      ]
    },
    {
      "cell_type": "markdown",
      "source": [
        "#16. array and integer/float\n",
        "\n",
        "    We can add an integer or float with an array.\n",
        "\n",
        "    Eg:\n",
        "\n",
        "    array=[1,2,3,4,5]\n",
        "    num=1\n",
        "    array+num=[2,3,4,5,6] --> it will add the number with each elements in the array\n",
        "\n",
        "    The same is applicable for addition, subtraction, division ...etc"
      ],
      "metadata": {
        "id": "R_EffjEsVsRw"
      }
    },
    {
      "cell_type": "code",
      "source": [
        "array5=np.array([2,3,4])\n",
        "\n",
        "number=1\n",
        "\n",
        "print(f\"The addition of {array5} and {number} is {array5+number}\")\n",
        "print()\n",
        "print(f\"The subtraction of {array5} and {number} is {array5-number}\")\n",
        "print()\n",
        "print(f\"The division of {array5} and {number} is {array5/number}\")\n",
        "print()\n",
        "print(f\"The floor division of {array5} and {number} is {array5//number}\")\n",
        "print()\n",
        "print(f\"The modulo of {array5} and {number} is {array5%number}\")\n",
        "print()\n",
        "print(f\"The Boolean of {array5} and {number} is {array5>number}\")"
      ],
      "metadata": {
        "colab": {
          "base_uri": "https://localhost:8080/"
        },
        "id": "nqF0aRnuU0DG",
        "outputId": "16916082-bfb7-41e8-94c6-5440e20abdba"
      },
      "execution_count": null,
      "outputs": [
        {
          "output_type": "stream",
          "name": "stdout",
          "text": [
            "The addition of [2 3 4] and 1 is [3 4 5]\n",
            "\n",
            "The subtraction of [2 3 4] and 1 is [1 2 3]\n",
            "\n",
            "The division of [2 3 4] and 1 is [2. 3. 4.]\n",
            "\n",
            "The floor division of [2 3 4] and 1 is [2 3 4]\n",
            "\n",
            "The modulo of [2 3 4] and 1 is [0 0 0]\n",
            "\n",
            "The Boolean of [2 3 4] and 1 is [ True  True  True]\n"
          ]
        }
      ]
    },
    {
      "cell_type": "markdown",
      "source": [
        "#17. multiDimensional array operations\n",
        "\n",
        "    We can perform add, mul, sub,..etc in multi dimensional array also.\n",
        "\n",
        "    The rules is as same as one dimensional array"
      ],
      "metadata": {
        "id": "_op3Mho-a912"
      }
    },
    {
      "cell_type": "code",
      "source": [
        "#Eg :array + array\n",
        "import numpy as np\n",
        "array1=np.array([[2,2],[3,3]])\n",
        "array2=np.array([[2,2],[3,3]])\n",
        "\n",
        "array1+array2\n"
      ],
      "metadata": {
        "colab": {
          "base_uri": "https://localhost:8080/"
        },
        "id": "q5TxFQJObJ71",
        "outputId": "b19ee2f1-9807-4bdc-887e-9a318ccc1b18"
      },
      "execution_count": null,
      "outputs": [
        {
          "output_type": "execute_result",
          "data": {
            "text/plain": [
              "array([[4, 4],\n",
              "       [6, 6]])"
            ]
          },
          "metadata": {},
          "execution_count": 22
        }
      ]
    },
    {
      "cell_type": "code",
      "source": [
        "#Eg :array + int/float\n",
        "import numpy as np\n",
        "multiDims=np.array([[2,2],[3,3]])\n",
        "val=2.1\n",
        "\n",
        "multiDims+val\n"
      ],
      "metadata": {
        "colab": {
          "base_uri": "https://localhost:8080/"
        },
        "id": "cjYFdnvWb2Zs",
        "outputId": "dc23d4d7-97f0-41ad-c2cc-ef5ae77166dc"
      },
      "execution_count": null,
      "outputs": [
        {
          "output_type": "execute_result",
          "data": {
            "text/plain": [
              "array([[4.1, 4.1],\n",
              "       [5.1, 5.1]])"
            ]
          },
          "metadata": {},
          "execution_count": 24
        }
      ]
    },
    {
      "cell_type": "markdown",
      "source": [
        "#18. np.dot()\n",
        "\n",
        "    This function returns the dot product of two arrays.\n",
        "    \n",
        "    For 2-D vectors, it is the equivalent to matrix multiplication.\n",
        "    \n",
        "    For 1-D arrays, it is the inner product of the vectors.\n",
        "    \n",
        "    For N-dimensional arrays, it is a sum product over the last axis of a and the second-last axis of b.\n",
        "\n",
        "    Eg:\n",
        "    a = np.array([[1,2],[3,4]])\n",
        "    b = np.array([[11,12],[13,14]])\n",
        "\n",
        "    The output will be calculated as\n",
        "    \n",
        "    [ [1 * 11 + 2 * 13, 1 * 12 + 2 * 14] ,[3 * 11 + 4 * 13, 3 * 12 + 4 * 14] ]\n"
      ],
      "metadata": {
        "id": "1jRcFMT7cwYo"
      }
    },
    {
      "cell_type": "code",
      "source": [
        "#Eg: dot with one dimensional\n",
        "\n",
        "import numpy as np\n",
        "\n",
        "a = np.array([1,2])\n",
        "\n",
        "b = np.array([13,14])\n",
        "\n",
        "print(np.dot(a,b)) # np.dot(a,b)\n",
        "\n",
        "print(a.dot(b)) #another way of using dot function"
      ],
      "metadata": {
        "colab": {
          "base_uri": "https://localhost:8080/"
        },
        "id": "T8bvWDVudW91",
        "outputId": "a574e742-847f-49d6-ef1a-05730f7f2271"
      },
      "execution_count": null,
      "outputs": [
        {
          "output_type": "stream",
          "name": "stdout",
          "text": [
            "41\n",
            "41\n"
          ]
        }
      ]
    },
    {
      "cell_type": "code",
      "source": [
        "#Eg: dot with two dimensional\n",
        "\n",
        "import numpy as np\n",
        "\n",
        "a = np.array([[1,2],[3,4]])\n",
        "\n",
        "b = np.array([[11,12],[13,14]])\n",
        "\n",
        "print(np.dot(a,b))"
      ],
      "metadata": {
        "colab": {
          "base_uri": "https://localhost:8080/"
        },
        "id": "hiZ9B6ncdkRu",
        "outputId": "0f1d5d1b-fd5d-447f-de64-b25b24089690"
      },
      "execution_count": null,
      "outputs": [
        {
          "output_type": "stream",
          "name": "stdout",
          "text": [
            "[[37 40]\n",
            " [85 92]]\n"
          ]
        }
      ]
    },
    {
      "cell_type": "markdown",
      "source": [
        "#19. Aggregate Functions\n",
        "\n",
        "    In the Python numpy module, we have many aggregate functions or statistical functions to work with a single-dim or multi-dim array.\n",
        "    \n",
        "    The Python numpy aggregate functions are sum, min, max, mean, average, product, median"
      ],
      "metadata": {
        "id": "l3m8uwxsfJHt"
      }
    },
    {
      "cell_type": "code",
      "source": [
        "#Eg : Aggregate function with 1D array\n",
        "\n",
        "import numpy as np\n",
        "\n",
        "testSum=np.array([1,2,3,4,5])\n",
        "\n",
        "print(f\"The sum of the array {testSum} is {np.sum(testSum)}\")\n",
        "print()\n",
        "\n",
        "print(f\"The min of the array {testSum} is {np.min(testSum)}\")\n",
        "print()\n",
        "\n",
        "print(f\"The max of the array {testSum} is {np.max(testSum)}\")\n",
        "print()\n",
        "\n",
        "print(f\"The average of the array {testSum} is {np.average(testSum)}\")\n",
        "print()\n",
        "\n",
        "print(f\"The mean of the array {testSum} is {np.mean(testSum)}\")\n",
        "print()\n",
        "\n",
        "print(f\"The median of the array {testSum} is {np.median(testSum)}\")\n",
        "print()\n",
        "\n",
        "\n"
      ],
      "metadata": {
        "colab": {
          "base_uri": "https://localhost:8080/"
        },
        "id": "loOe4CoYfbAn",
        "outputId": "c0f15578-ec92-4428-91bb-1ea54723fafc"
      },
      "execution_count": null,
      "outputs": [
        {
          "output_type": "stream",
          "name": "stdout",
          "text": [
            "The sum of the array [1 2 3 4 5] is 15\n",
            "\n",
            "The min of the array [1 2 3 4 5] is 1\n",
            "\n",
            "The max of the array [1 2 3 4 5] is 5\n",
            "\n",
            "The average of the array [1 2 3 4 5] is 3.0\n",
            "\n",
            "The mean of the array [1 2 3 4 5] is 3.0\n",
            "\n",
            "The median of the array [1 2 3 4 5] is 3.0\n",
            "\n"
          ]
        }
      ]
    },
    {
      "cell_type": "code",
      "source": [
        "#Eg : Aggregate function with 1D array\n",
        "\n",
        "import numpy as np\n",
        "\n",
        "testSum=np.arange(6)\n",
        "\n",
        "print(f\"The sum of the array {testSum} is {np.sum(testSum)}\")\n",
        "print()\n",
        "\n",
        "print(f\"The min of the array {testSum} is {np.min(testSum)}\")\n",
        "print()\n",
        "\n",
        "print(f\"The max of the array {testSum} is {np.max(testSum)}\")\n",
        "print()\n",
        "\n",
        "print(f\"The average of the array {testSum} is {np.average(testSum)}\")\n",
        "print()\n",
        "\n",
        "print(f\"The mean of the array {testSum} is {np.mean(testSum)}\")\n",
        "print()\n",
        "\n",
        "print(f\"The median of the array {testSum} is {np.median(testSum)}\")\n",
        "print()\n",
        "\n"
      ],
      "metadata": {
        "id": "M2F-djcrmDM7",
        "colab": {
          "base_uri": "https://localhost:8080/"
        },
        "outputId": "25f4bc26-762c-434f-f711-1b27c664a327"
      },
      "execution_count": null,
      "outputs": [
        {
          "output_type": "stream",
          "name": "stdout",
          "text": [
            "The sum of the array [0 1 2 3 4 5] is 15\n",
            "\n",
            "The min of the array [0 1 2 3 4 5] is 0\n",
            "\n",
            "The max of the array [0 1 2 3 4 5] is 5\n",
            "\n",
            "The average of the array [0 1 2 3 4 5] is 2.5\n",
            "\n",
            "The mean of the array [0 1 2 3 4 5] is 2.5\n",
            "\n",
            "The median of the array [0 1 2 3 4 5] is 2.5\n",
            "\n"
          ]
        }
      ]
    },
    {
      "cell_type": "code",
      "source": [
        "#Eg : Aggregate function with 2D array\n",
        "\n",
        "import numpy as np\n",
        "\n",
        "test2D=np.arange(4).reshape(2,2)\n",
        "\n",
        "print(f\"The sum of the array {test2D} is {np.sum(test2D)}\")\n",
        "print()\n",
        "\n",
        "print(f\"The min of the array {test2D} is {np.min(test2D)}\")\n",
        "print()\n"
      ],
      "metadata": {
        "colab": {
          "base_uri": "https://localhost:8080/"
        },
        "id": "jHRFqqxIxMRI",
        "outputId": "7fed021c-4b97-451d-e9c7-8d5492679c72"
      },
      "execution_count": null,
      "outputs": [
        {
          "output_type": "stream",
          "name": "stdout",
          "text": [
            "The sum of the array [[0 1]\n",
            " [2 3]] is 6\n",
            "\n",
            "The min of the array [[0 1]\n",
            " [2 3]] is 0\n",
            "\n"
          ]
        }
      ]
    },
    {
      "cell_type": "markdown",
      "source": [
        "#20. sum(axis = 0) and sum(axis =1)\n",
        "\n",
        "    In two dimensional array, the sum(axis = 0) and sum(axis=1) help us to sum up across the individual dimensions.\n",
        "\n",
        "    To do that, we simply pass along a value for the axis argument.\n",
        "\n",
        "    -----------------------------------------------------------------------------------------------------------------------\n",
        "    If sum(axis = 0) --> all the values are summed up for each of the column    \n",
        "                        and the result is a one dims array whose size corresponds to the number of rows in the array.\n",
        "                        (simply Sums up the values in each of the column)\n",
        "    \n",
        "\n",
        "     If sum(axis = 1) --> Sums up the values in each of the rows in the array.\n",
        "                          This will return an array with the sum of each row, and the size will correspond to the number of column)\n",
        "\n",
        "\n",
        "    -----------------------------------------------------------------------------------------------------------------------\n",
        "\n",
        "    Points to Note\n",
        "    ---------------\n",
        "\n",
        "    1. We can perform aggregation for individual dimensions, even using the other aggregate functions such as min, max, mean, median, etc.."
      ],
      "metadata": {
        "id": "Es5284epuIvq"
      }
    },
    {
      "cell_type": "code",
      "source": [
        "import numpy as np\n",
        "\n",
        "testAxis =np.arange(4).reshape(2,2)\n",
        "\n",
        "print(testAxis)\n",
        "\n",
        "print(f\"\\n The sum of each of the column in an array is {testAxis.sum(axis=0)}\")\n",
        "\n",
        "print(f\"\\n The sum of each of the row in an array is {testAxis.sum(axis=1)}\")"
      ],
      "metadata": {
        "colab": {
          "base_uri": "https://localhost:8080/"
        },
        "id": "rCe6OiACuIO1",
        "outputId": "2d98f893-42f0-42ae-bd78-aa4f92459d38"
      },
      "execution_count": null,
      "outputs": [
        {
          "output_type": "stream",
          "name": "stdout",
          "text": [
            "[[0 1]\n",
            " [2 3]]\n",
            "\n",
            " The sum of each of the column in an array is [2 4]\n",
            "\n",
            " The sum of each of the row in an array is [1 5]\n"
          ]
        }
      ]
    },
    {
      "cell_type": "markdown",
      "source": [
        "#21. Universal functions\n",
        "\n",
        "    Universal functions in Numpy are simple mathematical functions.\n",
        "    \n",
        "    It is just a term that we gave to mathematical functions in the Numpy library.\n",
        "    \n",
        "    Numpy provides various universal functions that cover a wide variety of operations.\n",
        "    \n",
        "    These functions include\n",
        "    \n",
        "        1. standard trigonometric functions,\n",
        "        \n",
        "        2. functions for arithmetic operations,\n",
        "        \n",
        "        3. handling complex numbers,\n",
        "        \n",
        "        4. statistical functions,\n",
        "        \n",
        "        5. etc.............\n",
        "\n",
        "    -------------------------------------------------------------------------------------------------------------------\n",
        "\n",
        "    Some of the universal functions are:\n",
        "\n",
        "    1. sin, cos, tan\t         -----> compute sine, cosine and tangent of angles\n",
        "    \n",
        "    2. arcsin, arccos, arctan\t-----> calculate inverse sine, cosine and tangent\n",
        "    \n",
        "    3. exp                       -----> calculate the exponential of all elements in the input array.\n",
        "\n",
        "    4. sqrt                      -----> calculate the square root of all elements in the input array.\n",
        "\n",
        "    5. median                    -----> calculate the median of all elements in the input array.\n"
      ],
      "metadata": {
        "id": "n4JcZMeqzO1i"
      }
    },
    {
      "cell_type": "code",
      "source": [
        "import numpy as np\n",
        "testUniversal = np.array([30,60,90,120])\n",
        "\n",
        "print(f\"The values of the array are {testUniversal}\\n\")\n",
        "\n",
        "print(f\"The sine values of the array are {np.sin(testUniversal)}\\n\")\n",
        "\n",
        "print(f\"The cos values of the array are {np.cos(testUniversal)}\\n\")\n",
        "\n",
        "print(f\"The tan values of the array are {np.tan(testUniversal)}\\n\")\n",
        "\n",
        "print(f\"The square root values of the array are {np.sqrt(testUniversal)}\\n\")\n",
        "\n",
        "print(f\"The exponential values of the array are {np.exp(testUniversal)}\\n\")"
      ],
      "metadata": {
        "colab": {
          "base_uri": "https://localhost:8080/"
        },
        "id": "0JVwBQazz5B4",
        "outputId": "a3a72f55-503a-4361-d3f6-dfd3aeccecf1"
      },
      "execution_count": null,
      "outputs": [
        {
          "output_type": "stream",
          "name": "stdout",
          "text": [
            "The values of the array are [ 30  60  90 120]\n",
            "\n",
            "The sine values of the array are [-0.98803162 -0.30481062  0.89399666  0.58061118]\n",
            "\n",
            "The cos values of the array are [ 0.15425145 -0.95241298 -0.44807362  0.81418097]\n",
            "\n",
            "The tan values of the array are [-6.4053312   0.32004039 -1.99520041  0.71312301]\n",
            "\n",
            "The square root values of the array are [ 5.47722558  7.74596669  9.48683298 10.95445115]\n",
            "\n",
            "The exponential values of the array are [1.06864746e+13 1.14200739e+26 1.22040329e+39 1.30418088e+52]\n",
            "\n"
          ]
        }
      ]
    },
    {
      "cell_type": "markdown",
      "source": [
        "#22. Index and slicing\n",
        "\n",
        "    The index and slicing of array is as same as python lists index and slicing\n",
        "\n",
        "    Indexing:\n",
        "    ---------\n",
        "    Array indexing is the same as accessing an array element.\n",
        "\n",
        "    You can access an array element by referring to its index number.\n",
        "\n",
        "    ----------------------------------------------------------------------------------------\n",
        "    \n",
        "    Slicing:\n",
        "    --------\n",
        "\n",
        "    Slicing in python means taking elements from one given index to another given index.\n",
        "\n",
        "    We pass slice instead of index like this: [start:end].\n",
        "\n",
        "    We can also define the step, like this: [start:end:step].\n",
        "\n",
        "    If we don't pass start its considered 0\n",
        "\n",
        "    If we don't pass end its considered length of array in that dimension\n",
        "\n",
        "    If we don't pass step its considered 1\n"
      ],
      "metadata": {
        "id": "uY43CzMM4bJ9"
      }
    },
    {
      "cell_type": "code",
      "source": [
        "import numpy as np\n",
        "\n",
        "x=np.arange(15)\n",
        "\n",
        "print(f\"The values of array are {x}\\n\")\n",
        "\n",
        "print(f\"The values of x[0] are {x[0]}\\n\")\n",
        "\n",
        "print(f\"The slice of x[0:10] are {x[0:10]}\\n\")"
      ],
      "metadata": {
        "colab": {
          "base_uri": "https://localhost:8080/"
        },
        "id": "FQVjoO-J5Gql",
        "outputId": "196e72ea-821a-4b59-bf26-3ce8d50746fa"
      },
      "execution_count": null,
      "outputs": [
        {
          "output_type": "stream",
          "name": "stdout",
          "text": [
            "The values of array are [ 0  1  2  3  4  5  6  7  8  9 10 11 12 13 14]\n",
            "\n",
            "The values of x[0] are 0\n",
            "\n",
            "The slice of x[0:10] are [0 1 2 3 4 5 6 7 8 9]\n",
            "\n"
          ]
        }
      ]
    },
    {
      "cell_type": "markdown",
      "source": [
        "##23. Array Iterating   \n",
        "    \n",
        "    Iterating means going through elements one by one.\n",
        "\n",
        "    As we deal with multi-dimensional arrays in numpy, we can do this using basic for loop of python.\n",
        "\n",
        "    If we iterate on a 1-D array it will go through each element one by one.\n",
        "\n",
        "    In a 2-D array it will go through all the rows."
      ],
      "metadata": {
        "id": "h6QhEVcK63Wg"
      }
    },
    {
      "cell_type": "code",
      "source": [
        "#Iterating 1D array\n",
        "\n",
        "import numpy as np\n",
        "\n",
        "arr = np.array([1, 2, 3])\n",
        "\n",
        "for x in arr:\n",
        "  print(x)"
      ],
      "metadata": {
        "colab": {
          "base_uri": "https://localhost:8080/"
        },
        "id": "nQ-DR_K8628W",
        "outputId": "e6183824-5034-453a-c8ec-150c1a696608"
      },
      "execution_count": null,
      "outputs": [
        {
          "output_type": "stream",
          "name": "stdout",
          "text": [
            "1\n",
            "2\n",
            "3\n"
          ]
        }
      ]
    },
    {
      "cell_type": "code",
      "source": [
        "#Iterating 2D array\n",
        "\n",
        "import numpy as np\n",
        "\n",
        "narutoComics = np.array([[\"Naruto\", \"Hinata\", \"Shikamaru\"], [\"Minato\",\"Hiashi\",\"Shikaku \"],[\"Rasengan\", \"Byakugan\", \"Shadow Possession\"]])\n",
        "\n",
        "i = 0\n",
        "\n",
        "for x in narutoComics:\n",
        "\n",
        "  print(f\"Row {i} is {x}\")\n",
        "\n",
        "  i+=1"
      ],
      "metadata": {
        "colab": {
          "base_uri": "https://localhost:8080/"
        },
        "id": "6f_WE1mP7VWi",
        "outputId": "df4b28fe-5f11-45c3-ac5f-e7e29cc7875e"
      },
      "execution_count": null,
      "outputs": [
        {
          "output_type": "stream",
          "name": "stdout",
          "text": [
            "Row 0 is ['Naruto' 'Hinata' 'Shikamaru']\n",
            "Row 1 is ['Minato' 'Hiashi' 'Shikaku ']\n",
            "Row 2 is ['Rasengan' 'Byakugan' 'Shadow Possession']\n"
          ]
        }
      ]
    },
    {
      "cell_type": "markdown",
      "source": [
        "#24. flatten()\n",
        "\n",
        "    flatten() function return a copy of the array collapsed into one dimension.\n",
        "\n",
        "    It is also used to reshape the array\n",
        "    -------------------------------------------------------------------------------\n",
        "    Syntax : numpy.ndarray.flatten(order='C')\n",
        "\n",
        "    -------------\n",
        "    Parameters :\n",
        "    -------------\n",
        "    order : [{'C', 'F', 'A', 'K'}, optional]\n",
        "    \n",
        "    'C' means to flatten in row-major (C-style) order.\n",
        "    \n",
        "    'F' means to flatten in column-major (Fortran- style)\n",
        "\n",
        "    -------------------------------------------------------------------------------"
      ],
      "metadata": {
        "id": "gDYIAWyu9DJH"
      }
    },
    {
      "cell_type": "code",
      "source": [
        "# C style (row) ordering -(Denotes the C programming Language Order)\n",
        "\n",
        "import numpy as np\n",
        "\n",
        "narutoComics = np.array([[\"Naruto\", \"Hinata\", \"Shikamaru\"], [\"Minato\",\"Hiashi\",\"Shikaku \"],[\"Rasengan\", \"Byakugan\", \"Shadow Possession\"]])\n",
        "\n",
        "print(narutoComics.flatten())"
      ],
      "metadata": {
        "colab": {
          "base_uri": "https://localhost:8080/"
        },
        "id": "1uSj4JpH9JrJ",
        "outputId": "50f3e891-6065-43a2-e7e8-50d6d3515872"
      },
      "execution_count": null,
      "outputs": [
        {
          "output_type": "stream",
          "name": "stdout",
          "text": [
            "['Naruto' 'Hinata' 'Shikamaru' 'Minato' 'Hiashi' 'Shikaku ' 'Rasengan'\n",
            " 'Byakugan' 'Shadow Possession']\n"
          ]
        }
      ]
    },
    {
      "cell_type": "code",
      "source": [
        "# F style (column) ordering -(Denotes the Fortran programming Language Order)\n",
        "\n",
        "import numpy as np\n",
        "\n",
        "narutoComics = np.array([[\"Naruto\", \"Hinata\", \"Shikamaru\"], [\"Minato\",\"Hiashi\",\"Shikaku \"],[\"Rasengan\", \"Byakugan\", \"Shadow Possession\"]])\n",
        "\n",
        "print(narutoComics.flatten(order='F'))"
      ],
      "metadata": {
        "colab": {
          "base_uri": "https://localhost:8080/"
        },
        "id": "C3jg8dxc-VXQ",
        "outputId": "a20a83fe-55c7-47f7-ce0c-fd1c79695b32"
      },
      "execution_count": null,
      "outputs": [
        {
          "output_type": "stream",
          "name": "stdout",
          "text": [
            "['Naruto' 'Minato' 'Rasengan' 'Hinata' 'Hiashi' 'Byakugan' 'Shikamaru'\n",
            " 'Shikaku ' 'Shadow Possession']\n"
          ]
        }
      ]
    },
    {
      "cell_type": "markdown",
      "source": [
        "#25. nditer()\n",
        "\n",
        "    It is an efficient multidimensional iterator object using which it is possible to iterate over an array.\n",
        "    \n",
        "    Each element of an array is visited using Python’s standard Iterator interface.\n",
        "\n",
        "    \n",
        "\n",
        "    Points to Note:\n",
        "    ----------------\n",
        "\n",
        "    One thing Keep in mind: When we using the nditer object, is that the array which is returned by it is by default read-only.\n",
        "    \n",
        "    -------------------------------------------------------------------\n",
        "\n",
        "    We cannot able to modify the content of the array inside the loop.\n",
        "\n",
        "    -------------------------------------------------------------------\n",
        "\n",
        "    This is because it points to the array which is passed as argument to nditer and any changes which will be performed will not be on a copy of the array, but will in fact be to the array itself.\n",
        "\n",
        "    Ways to Modify the array with nditer:\n",
        "    --------------------------------------\n",
        "\n",
        "    To modify the content with nditer, we want to change the array to readwrite mode\n",
        "\n",
        "    For this use the below syntax:\n",
        "\n",
        "    np.nditer(arrayName,op_flags=['readwrite']):\n",
        "\n"
      ],
      "metadata": {
        "id": "bGvGC3CQ_Rvr"
      }
    },
    {
      "cell_type": "code",
      "source": [
        "#Normal Iteration of  2D array\n",
        "\n",
        "import numpy as np\n",
        "\n",
        "narutoComics = np.array([[\"Naruto\", \"Hinata\", \"Shikamaru\"], [\"Minato\",\"Hiashi\",\"Shikaku \"],[\"Rasengan\", \"Byakugan\", \"Shadow Possession\"]])\n",
        "\n",
        "i = 0\n",
        "\n",
        "for x in narutoComics:\n",
        "\n",
        "  print(f\"Line {i} is {x}\")\n",
        "\n",
        "  i+=1"
      ],
      "metadata": {
        "colab": {
          "base_uri": "https://localhost:8080/"
        },
        "id": "5xnsj8y2_WaN",
        "outputId": "2b878905-edb2-4d4e-830e-2ef18217473d"
      },
      "execution_count": null,
      "outputs": [
        {
          "output_type": "stream",
          "name": "stdout",
          "text": [
            "Row 0 is ['Naruto' 'Hinata' 'Shikamaru']\n",
            "Row 1 is ['Minato' 'Hiashi' 'Shikaku ']\n",
            "Row 2 is ['Rasengan' 'Byakugan' 'Shadow Possession']\n"
          ]
        }
      ]
    },
    {
      "cell_type": "code",
      "source": [
        "#Iteration with nditer in 2D array\n",
        "\n",
        "import numpy as np\n",
        "\n",
        "narutoComics = np.array([[\"Naruto\", \"Hinata\", \"Shikamaru\"], [\"Minato\",\"Hiashi\",\"Shikaku \"],[\"Rasengan\", \"Byakugan\", \"Shadow Possession\"]])\n",
        "\n",
        "i = 0\n",
        "\n",
        "for x in np.nditer(narutoComics):\n",
        "\n",
        "  print(f\"Line {i} is {x}\")\n",
        "\n",
        "  i+=1"
      ],
      "metadata": {
        "colab": {
          "base_uri": "https://localhost:8080/"
        },
        "id": "0JxSoFLA_nF8",
        "outputId": "b3af3442-3f65-40d6-8caf-792972edbfe9"
      },
      "execution_count": null,
      "outputs": [
        {
          "output_type": "stream",
          "name": "stdout",
          "text": [
            "Line 0 is Naruto\n",
            "Line 1 is Hinata\n",
            "Line 2 is Shikamaru\n",
            "Line 3 is Minato\n",
            "Line 4 is Hiashi\n",
            "Line 5 is Shikaku \n",
            "Line 6 is Rasengan\n",
            "Line 7 is Byakugan\n",
            "Line 8 is Shadow Possession\n"
          ]
        }
      ]
    },
    {
      "cell_type": "code",
      "source": [
        "#Mofify nditer without readwrite op_flag in 2D array\n",
        "\n",
        "import numpy as np\n",
        "\n",
        "checkNditer = np.arange(10).reshape(5,2)\n",
        "\n",
        "print(checkNditer )\n",
        "\n",
        "for x in np.nditer(checkNditer):\n",
        "\n",
        "  x[...]=x*x"
      ],
      "metadata": {
        "colab": {
          "base_uri": "https://localhost:8080/",
          "height": 287
        },
        "id": "TA_CAX3nBddB",
        "outputId": "adfc2c75-a073-49a4-9177-88fceffca38b"
      },
      "execution_count": null,
      "outputs": [
        {
          "output_type": "stream",
          "name": "stdout",
          "text": [
            "[[0 1]\n",
            " [2 3]\n",
            " [4 5]\n",
            " [6 7]\n",
            " [8 9]]\n"
          ]
        },
        {
          "output_type": "error",
          "ename": "ValueError",
          "evalue": "ignored",
          "traceback": [
            "\u001b[0;31m---------------------------------------------------------------------------\u001b[0m",
            "\u001b[0;31mValueError\u001b[0m                                Traceback (most recent call last)",
            "\u001b[0;32m<ipython-input-39-246b68f70290>\u001b[0m in \u001b[0;36m<cell line: 9>\u001b[0;34m()\u001b[0m\n\u001b[1;32m      9\u001b[0m \u001b[0;32mfor\u001b[0m \u001b[0mx\u001b[0m \u001b[0;32min\u001b[0m \u001b[0mnp\u001b[0m\u001b[0;34m.\u001b[0m\u001b[0mnditer\u001b[0m\u001b[0;34m(\u001b[0m\u001b[0mcheckNditer\u001b[0m\u001b[0;34m)\u001b[0m\u001b[0;34m:\u001b[0m\u001b[0;34m\u001b[0m\u001b[0;34m\u001b[0m\u001b[0m\n\u001b[1;32m     10\u001b[0m \u001b[0;34m\u001b[0m\u001b[0m\n\u001b[0;32m---> 11\u001b[0;31m   \u001b[0mx\u001b[0m\u001b[0;34m[\u001b[0m\u001b[0;34m...\u001b[0m\u001b[0;34m]\u001b[0m\u001b[0;34m=\u001b[0m\u001b[0mx\u001b[0m\u001b[0;34m*\u001b[0m\u001b[0mx\u001b[0m\u001b[0;34m\u001b[0m\u001b[0;34m\u001b[0m\u001b[0m\n\u001b[0m",
            "\u001b[0;31mValueError\u001b[0m: assignment destination is read-only"
          ]
        }
      ]
    },
    {
      "cell_type": "code",
      "source": [
        "#Mofify nditer with readwrite op_flag in 2D array\n",
        "\n",
        "import numpy as np\n",
        "\n",
        "checkNditer = np.arange(10).reshape(5,2)\n",
        "\n",
        "print(checkNditer,\"\\n\")\n",
        "\n",
        "for x in np.nditer(checkNditer,op_flags=['readwrite']):\n",
        "\n",
        "  x[...]=x*x\n",
        "\n",
        "print(f\"The square of array is \\n {checkNditer}\")\n"
      ],
      "metadata": {
        "colab": {
          "base_uri": "https://localhost:8080/"
        },
        "id": "5fWfsmYzCK5U",
        "outputId": "ae6ca035-b16b-4211-eb98-7ed6a36389c4"
      },
      "execution_count": null,
      "outputs": [
        {
          "output_type": "stream",
          "name": "stdout",
          "text": [
            "[[0 1]\n",
            " [2 3]\n",
            " [4 5]\n",
            " [6 7]\n",
            " [8 9]] \n",
            "\n",
            "The square of array is \n",
            " [[ 0  1]\n",
            " [ 4  9]\n",
            " [16 25]\n",
            " [36 49]\n",
            " [64 81]]\n"
          ]
        }
      ]
    },
    {
      "cell_type": "markdown",
      "source": [
        "#26. ravel():\n",
        "\n",
        "    Ravel function is similar to the flatten function which reduces multi dims array to a single dims array.\n",
        "\n",
        "    The main difference between both are\n",
        "\n",
        "    flatten() belongs to an array object and can only be used by NumPy arrays.\n",
        "\n",
        "    ravel() belongs to NumPy library and can be applied to any object which can be successfully passed."
      ],
      "metadata": {
        "id": "OyU7h2MUoILI"
      }
    },
    {
      "cell_type": "markdown",
      "source": [
        "#27. Transpose T\n",
        "\n",
        "    The T helps to view the transpose of the array"
      ],
      "metadata": {
        "id": "qUB2TfuIptpk"
      }
    },
    {
      "cell_type": "code",
      "source": [
        "import numpy as np\n",
        "\n",
        "arrayTrans = np.array([[\"Naruto\",\"Hinata\"],[\"Sasuke\",\"Sakura\"],[\"Shikamaru\",\"Temari\"]])\n",
        "\n",
        "print(arrayTrans,\"\\n\")\n",
        "\n",
        "print(arrayTrans.T)\n"
      ],
      "metadata": {
        "colab": {
          "base_uri": "https://localhost:8080/"
        },
        "id": "5OUigrEUpUze",
        "outputId": "bf48a962-b9f3-4a05-c0db-929401f65bf5"
      },
      "execution_count": null,
      "outputs": [
        {
          "output_type": "stream",
          "name": "stdout",
          "text": [
            "[['Naruto' 'Hinata']\n",
            " ['Sasuke' 'Sakura']\n",
            " ['Shikamaru' 'Temari']] \n",
            "\n",
            "[['Naruto' 'Sasuke' 'Shikamaru']\n",
            " ['Hinata' 'Sakura' 'Temari']]\n"
          ]
        }
      ]
    }
  ]
}