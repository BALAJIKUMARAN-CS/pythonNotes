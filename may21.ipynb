{
  "nbformat": 4,
  "nbformat_minor": 0,
  "metadata": {
    "colab": {
      "provenance": [],
      "authorship_tag": "ABX9TyOgSRJWnUPSHRZwhYI8v3lg",
      "include_colab_link": true
    },
    "kernelspec": {
      "name": "python3",
      "display_name": "Python 3"
    },
    "language_info": {
      "name": "python"
    }
  },
  "cells": [
    {
      "cell_type": "markdown",
      "metadata": {
        "id": "view-in-github",
        "colab_type": "text"
      },
      "source": [
        "<a href=\"https://colab.research.google.com/github/BALAJIKUMARAN-CS/pythonNotes/blob/main/may21.ipynb\" target=\"_parent\"><img src=\"https://colab.research.google.com/assets/colab-badge.svg\" alt=\"Open In Colab\"/></a>"
      ]
    },
    {
      "cell_type": "markdown",
      "source": [
        "Agenda of the Day (May 22)\n",
        "\n",
        "1. Packages\n",
        "2. Package import types\n",
        "3. Python is a case sensitive\n",
        "4. Variable name format\n",
        "5. Comment types\n",
        "6. Conditional statement indendation\n",
        "7. Data Type"
      ],
      "metadata": {
        "id": "ZWeq74AqTpYL"
      }
    },
    {
      "cell_type": "markdown",
      "source": [
        "# 1. Packages\n",
        "\n",
        "    packages is a container which contains a list of functions in it\n",
        "\n",
        "    Eg: keyword, math"
      ],
      "metadata": {
        "id": "6LgDn6eXT6_G"
      }
    },
    {
      "cell_type": "code",
      "source": [
        "print(keyword.kwlist)  #Here we are getting error because we dint call the package before running the functions"
      ],
      "metadata": {
        "colab": {
          "base_uri": "https://localhost:8080/",
          "height": 165
        },
        "id": "b_6qqUrnT5zo",
        "outputId": "7b1ed2f1-fb6d-4e02-8516-7ad0b58a32c0"
      },
      "execution_count": null,
      "outputs": [
        {
          "output_type": "error",
          "ename": "NameError",
          "evalue": "ignored",
          "traceback": [
            "\u001b[0;31m---------------------------------------------------------------------------\u001b[0m",
            "\u001b[0;31mNameError\u001b[0m                                 Traceback (most recent call last)",
            "\u001b[0;32m<ipython-input-1-e95b2ef98bdd>\u001b[0m in \u001b[0;36m<cell line: 1>\u001b[0;34m()\u001b[0m\n\u001b[0;32m----> 1\u001b[0;31m \u001b[0mprint\u001b[0m\u001b[0;34m(\u001b[0m\u001b[0mkeyword\u001b[0m\u001b[0;34m.\u001b[0m\u001b[0mkwlist\u001b[0m\u001b[0;34m)\u001b[0m\u001b[0;34m\u001b[0m\u001b[0;34m\u001b[0m\u001b[0m\n\u001b[0m",
            "\u001b[0;31mNameError\u001b[0m: name 'keyword' is not defined"
          ]
        }
      ]
    },
    {
      "cell_type": "code",
      "source": [
        "import keyword\n",
        "print(keyword.kwlist)\n",
        "test=keyword.kwlist\n",
        "print(test.count())"
      ],
      "metadata": {
        "colab": {
          "base_uri": "https://localhost:8080/",
          "height": 237
        },
        "id": "Ev28PnnCUctn",
        "outputId": "be75790c-896c-42d4-d3a7-8d57f8f5998b"
      },
      "execution_count": null,
      "outputs": [
        {
          "output_type": "stream",
          "name": "stdout",
          "text": [
            "['False', 'None', 'True', 'and', 'as', 'assert', 'async', 'await', 'break', 'class', 'continue', 'def', 'del', 'elif', 'else', 'except', 'finally', 'for', 'from', 'global', 'if', 'import', 'in', 'is', 'lambda', 'nonlocal', 'not', 'or', 'pass', 'raise', 'return', 'try', 'while', 'with', 'yield']\n"
          ]
        },
        {
          "output_type": "error",
          "ename": "TypeError",
          "evalue": "ignored",
          "traceback": [
            "\u001b[0;31m---------------------------------------------------------------------------\u001b[0m",
            "\u001b[0;31mTypeError\u001b[0m                                 Traceback (most recent call last)",
            "\u001b[0;32m<ipython-input-8-4b20d66336d7>\u001b[0m in \u001b[0;36m<cell line: 4>\u001b[0;34m()\u001b[0m\n\u001b[1;32m      2\u001b[0m \u001b[0mprint\u001b[0m\u001b[0;34m(\u001b[0m\u001b[0mkeyword\u001b[0m\u001b[0;34m.\u001b[0m\u001b[0mkwlist\u001b[0m\u001b[0;34m)\u001b[0m\u001b[0;34m\u001b[0m\u001b[0;34m\u001b[0m\u001b[0m\n\u001b[1;32m      3\u001b[0m \u001b[0mtest\u001b[0m\u001b[0;34m=\u001b[0m\u001b[0mkeyword\u001b[0m\u001b[0;34m.\u001b[0m\u001b[0mkwlist\u001b[0m\u001b[0;34m\u001b[0m\u001b[0;34m\u001b[0m\u001b[0m\n\u001b[0;32m----> 4\u001b[0;31m \u001b[0mprint\u001b[0m\u001b[0;34m(\u001b[0m\u001b[0mtest\u001b[0m\u001b[0;34m.\u001b[0m\u001b[0mcount\u001b[0m\u001b[0;34m(\u001b[0m\u001b[0;34m)\u001b[0m\u001b[0;34m)\u001b[0m\u001b[0;34m\u001b[0m\u001b[0;34m\u001b[0m\u001b[0m\n\u001b[0m",
            "\u001b[0;31mTypeError\u001b[0m: list.count() takes exactly one argument (0 given)"
          ]
        }
      ]
    },
    {
      "cell_type": "markdown",
      "source": [
        "# 2. Package import types\n",
        "\n",
        "    We can import the functions by 2 ways\n",
        "\n",
        "    1 Calling the whole package\n",
        "    \n",
        "    2 Calling particular function from the package"
      ],
      "metadata": {
        "id": "azQwDobYUyDU"
      }
    },
    {
      "cell_type": "code",
      "source": [
        "#Calling the whole package\n",
        "\n",
        "import math\n",
        "print(math.sqrt(81))"
      ],
      "metadata": {
        "colab": {
          "base_uri": "https://localhost:8080/"
        },
        "id": "NwoqAKriUxqw",
        "outputId": "b281853e-2dde-4de3-9d3e-e195ce388d91"
      },
      "execution_count": null,
      "outputs": [
        {
          "output_type": "stream",
          "name": "stdout",
          "text": [
            "9.0\n"
          ]
        }
      ]
    },
    {
      "cell_type": "code",
      "source": [
        "#Calling particular function from the package\n",
        "from math import sqrt\n",
        "print(sqrt(81))"
      ],
      "metadata": {
        "colab": {
          "base_uri": "https://localhost:8080/"
        },
        "id": "v65_oeDEVPox",
        "outputId": "4f2abd00-b966-44c3-cbfe-01fb364ba759"
      },
      "execution_count": null,
      "outputs": [
        {
          "output_type": "stream",
          "name": "stdout",
          "text": [
            "9.0\n"
          ]
        }
      ]
    },
    {
      "cell_type": "markdown",
      "source": [
        "# 3. Python is a case sensitive language\n",
        "\n",
        "    EG:\n",
        "    Test and test or not same. Because Test starts with capital letter and test start with small letter"
      ],
      "metadata": {
        "id": "jJn0l7wHX2Jc"
      }
    },
    {
      "cell_type": "code",
      "source": [
        "test=\"naruto\"\n",
        "Test=\"kabuto\"\n",
        "if(test != Test):\n",
        "  print(\"naruto and kabuto are different\")\n",
        "else:\n",
        "  print(\"naruto and kabuto are same\")"
      ],
      "metadata": {
        "colab": {
          "base_uri": "https://localhost:8080/"
        },
        "id": "ckxPd64zX8BZ",
        "outputId": "dadccf1b-e222-4ece-8c43-2377dbe6ab8b"
      },
      "execution_count": null,
      "outputs": [
        {
          "output_type": "stream",
          "name": "stdout",
          "text": [
            "naruto and kabuto are same\n"
          ]
        }
      ]
    },
    {
      "cell_type": "code",
      "source": [
        "# EG:2\n",
        "#We cannot use keyword as a variable name\n",
        "True=\"test\"\n",
        "print(true)"
      ],
      "metadata": {
        "colab": {
          "base_uri": "https://localhost:8080/",
          "height": 130
        },
        "id": "XFKi8PJAYpls",
        "outputId": "0bd958ce-442d-4480-ae39-8695a7b6bdff"
      },
      "execution_count": null,
      "outputs": [
        {
          "output_type": "error",
          "ename": "SyntaxError",
          "evalue": "ignored",
          "traceback": [
            "\u001b[0;36m  File \u001b[0;32m\"<ipython-input-13-b40cb0c6df82>\"\u001b[0;36m, line \u001b[0;32m3\u001b[0m\n\u001b[0;31m    True=\"test\"\u001b[0m\n\u001b[0m    ^\u001b[0m\n\u001b[0;31mSyntaxError\u001b[0m\u001b[0;31m:\u001b[0m cannot assign to True\n"
          ]
        }
      ]
    },
    {
      "cell_type": "code",
      "source": [
        "# EG:2\n",
        "#We can use true as a variable name because \"True\" is a keyword . \"true\" is not a keyword\n",
        "true=\"naruto\"\n",
        "print(true)"
      ],
      "metadata": {
        "colab": {
          "base_uri": "https://localhost:8080/"
        },
        "id": "q6O34oCAY4Uv",
        "outputId": "3954527b-1066-4971-b3a1-0997ffe8f431"
      },
      "execution_count": null,
      "outputs": [
        {
          "output_type": "stream",
          "name": "stdout",
          "text": [
            "naruto\n"
          ]
        }
      ]
    },
    {
      "cell_type": "markdown",
      "source": [
        "# 4. Variable name format\n",
        "\n",
        "    Variable name can be named by the below formats\n",
        "    1 alphabet\n",
        "    2 _\n",
        "    3 number not as a first letter"
      ],
      "metadata": {
        "id": "e-shBx4TjGhH"
      }
    },
    {
      "cell_type": "code",
      "source": [
        "# variable name cannot starts with numbers\n",
        "\n",
        "1test='Hello'"
      ],
      "metadata": {
        "colab": {
          "base_uri": "https://localhost:8080/",
          "height": 130
        },
        "id": "7g-GdnW7jcpE",
        "outputId": "a3203fc1-db8e-43e0-a6e5-d9cbdb613b93"
      },
      "execution_count": null,
      "outputs": [
        {
          "output_type": "error",
          "ename": "SyntaxError",
          "evalue": "ignored",
          "traceback": [
            "\u001b[0;36m  File \u001b[0;32m\"<ipython-input-15-28ba00adf47c>\"\u001b[0;36m, line \u001b[0;32m1\u001b[0m\n\u001b[0;31m    1test='Hello'\u001b[0m\n\u001b[0m    ^\u001b[0m\n\u001b[0;31mSyntaxError\u001b[0m\u001b[0;31m:\u001b[0m invalid decimal literal\n"
          ]
        }
      ]
    },
    {
      "cell_type": "code",
      "source": [
        "_2test=\"hello\"\n",
        "print(_2test)"
      ],
      "metadata": {
        "colab": {
          "base_uri": "https://localhost:8080/"
        },
        "id": "LbyHTuE0jklh",
        "outputId": "7991591c-5852-4c9f-d366-48cda39808c2"
      },
      "execution_count": null,
      "outputs": [
        {
          "output_type": "stream",
          "name": "stdout",
          "text": [
            "hello\n"
          ]
        }
      ]
    },
    {
      "cell_type": "code",
      "source": [
        "#vaeiable name cannot be a special characters\n",
        "_st(rt='Hello'"
      ],
      "metadata": {
        "colab": {
          "base_uri": "https://localhost:8080/",
          "height": 130
        },
        "id": "2n0bu4rfjztI",
        "outputId": "44743083-ff99-44a4-f3f2-bd0f84e2891e"
      },
      "execution_count": null,
      "outputs": [
        {
          "output_type": "error",
          "ename": "SyntaxError",
          "evalue": "ignored",
          "traceback": [
            "\u001b[0;36m  File \u001b[0;32m\"<ipython-input-22-8f0934298718>\"\u001b[0;36m, line \u001b[0;32m1\u001b[0m\n\u001b[0;31m    _st(rt='Hello'\u001b[0m\n\u001b[0m                  ^\u001b[0m\n\u001b[0;31mSyntaxError\u001b[0m\u001b[0;31m:\u001b[0m incomplete input\n"
          ]
        }
      ]
    },
    {
      "cell_type": "markdown",
      "source": [
        "# 5. Comment types\n",
        "\n",
        "    Comments can be written by below formats\n",
        "    \n",
        "    1 . Single line comment --> #\n",
        "\n",
        "    2 . Multiline comment  --> \"\"\"   \"\"\""
      ],
      "metadata": {
        "id": "0HpQ3m6xkpdX"
      }
    },
    {
      "cell_type": "code",
      "source": [
        "#It is a single line comment\n",
        "\n",
        "print(\"use # for single line \")"
      ],
      "metadata": {
        "colab": {
          "base_uri": "https://localhost:8080/"
        },
        "id": "4EeEgaSflI6q",
        "outputId": "5f5f5782-9bf7-4050-f114-a6a9962c0706"
      },
      "execution_count": null,
      "outputs": [
        {
          "output_type": "stream",
          "name": "stdout",
          "text": [
            "use # for single line \n"
          ]
        }
      ]
    },
    {
      "cell_type": "code",
      "source": [
        "\"\"\"IT is used for multiline comments\n",
        "Checking 1\n",
        "Checking 2\n",
        "Checking \n",
        "\"\"\"\n",
        "print(\"Hi\")\n"
      ],
      "metadata": {
        "colab": {
          "base_uri": "https://localhost:8080/"
        },
        "id": "iNlxvznNlXfx",
        "outputId": "1ebae4cc-2e3b-41f0-ca16-f8b9b33d0115"
      },
      "execution_count": null,
      "outputs": [
        {
          "output_type": "stream",
          "name": "stdout",
          "text": [
            "Hi\n"
          ]
        }
      ]
    },
    {
      "cell_type": "markdown",
      "source": [
        "# 6. Conditional Statement indentation\n",
        "\n",
        "    Conditional statements are\n",
        "\n",
        "    1 . if\n",
        "\n",
        "    2 . else\n",
        "\n",
        "    3 . elif\n",
        "\n",
        "    #Note:\n",
        "\n",
        "    Indendation can be strictly followed"
      ],
      "metadata": {
        "id": "eg1eXCAnqAHY"
      }
    },
    {
      "cell_type": "code",
      "source": [
        "naruto = \"hokage\"\n",
        "if naruto == 'hokage':\n",
        "  print(\"Naruto is a hokage\")\n",
        "  if naruto != 'hokage':\n",
        "    print(\"Naruto is not a hokage\")\n",
        "  elif naruto == 'hokage':\n",
        "    print(\"Im damn sure !! He is a hokage\")\n",
        "  else:\n",
        "    print(\"Im not sure, whether he was a hokage or not\")\n",
        "else:\n",
        "  print(\"Naruto is not a hokage\")"
      ],
      "metadata": {
        "colab": {
          "base_uri": "https://localhost:8080/"
        },
        "id": "e0wbOqkMp_Qd",
        "outputId": "a632ab99-17e6-491b-d3e7-027f4ef62dfc"
      },
      "execution_count": null,
      "outputs": [
        {
          "output_type": "stream",
          "name": "stdout",
          "text": [
            "Naruto is a hokage\n",
            "Im damn sure !! He is a hokage\n"
          ]
        }
      ]
    },
    {
      "cell_type": "markdown",
      "source": [
        "#7. Data Types\n",
        "\n",
        "    Python is a dynamically typed language\n",
        "\n",
        "    Means we dont want to mention data type it automatically consider its data type"
      ],
      "metadata": {
        "id": "CRGSLjYVvu8y"
      }
    },
    {
      "cell_type": "code",
      "source": [
        "# We dont want to declare variable type\n",
        "\n",
        "a=10\n",
        "print(\"The type of a is \",type(a))\n",
        "\n",
        "b=10.5\n",
        "print(\"\\nThe type of b is \",type(b))\n",
        "\n",
        "c=\"naruto\"\n",
        "print(\"\\nThe type of c is \",type(c))\n",
        "\n",
        "\n",
        "d=[10,11,12]\n",
        "print(\"\\nThe type of d is \",type(d))\n",
        "\n",
        "e=(10,\"hi\",10.5)\n",
        "print(\"\\nThe type of e is \",type(e))\n",
        "\n",
        "f={1,2,3,4,5}\n",
        "print(\"\\nThe type of f is \",type(f))\n",
        "\n",
        "g={1:\"one\",2:\"two\",3:\"three\",4:\"four\",5:\"five\"}\n",
        "print(\"\\nThe type of g is \",type(g))\n",
        "\n",
        "\n"
      ],
      "metadata": {
        "colab": {
          "base_uri": "https://localhost:8080/"
        },
        "id": "yblmPrbxvIh2",
        "outputId": "cc0cc475-b1c0-4171-da2e-ecaf422ff597"
      },
      "execution_count": null,
      "outputs": [
        {
          "output_type": "stream",
          "name": "stdout",
          "text": [
            "The type of a is  <class 'int'>\n",
            "\n",
            "The type of b is  <class 'float'>\n",
            "\n",
            "The type of c is  <class 'str'>\n",
            "\n",
            "The type of d is  <class 'list'>\n",
            "\n",
            "The type of e is  <class 'tuple'>\n",
            "\n",
            "The type of f is  <class 'set'>\n",
            "\n",
            "The type of g is  <class 'dict'>\n"
          ]
        }
      ]
    }
  ]
}