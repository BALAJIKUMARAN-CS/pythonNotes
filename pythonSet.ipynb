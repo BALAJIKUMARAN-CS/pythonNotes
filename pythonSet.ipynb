{
  "nbformat": 4,
  "nbformat_minor": 0,
  "metadata": {
    "colab": {
      "provenance": [],
      "authorship_tag": "ABX9TyOUpOChweh8r2JwxlrZBq+Q",
      "include_colab_link": true
    },
    "kernelspec": {
      "name": "python3",
      "display_name": "Python 3"
    },
    "language_info": {
      "name": "python"
    }
  },
  "cells": [
    {
      "cell_type": "markdown",
      "metadata": {
        "id": "view-in-github",
        "colab_type": "text"
      },
      "source": [
        "<a href=\"https://colab.research.google.com/github/BALAJIKUMARAN-CS/pythonNotes/blob/main/pythonSet.ipynb\" target=\"_parent\"><img src=\"https://colab.research.google.com/assets/colab-badge.svg\" alt=\"Open In Colab\"/></a>"
      ]
    },
    {
      "cell_type": "markdown",
      "source": [
        "**Notes by BALAJIKUMARAN CS**"
      ],
      "metadata": {
        "id": "A7_tiMLn0XK1"
      }
    },
    {
      "cell_type": "markdown",
      "source": [
        "#Set Functions\n",
        "\n",
        "\n",
        "    1. Sets\n",
        "\n",
        "    2. set () constructor\n",
        "\n",
        "    3. set union()\n",
        "\n",
        "    4. set update()\n",
        "\n",
        "    5. set intersection()\n",
        "\n",
        "    6. set intersection_update()\n",
        "\n",
        "    7. set symmetric_difference()\n",
        "\n",
        "    8. multiple set symmetric difference\n",
        "\n",
        "    9. set symmetric_difference_update()\n",
        "    "
      ],
      "metadata": {
        "id": "J2K7wJWNgj1y"
      }
    },
    {
      "cell_type": "markdown",
      "source": [
        "# 1. Sets\n",
        "\n",
        "    Sets are used to store multiple items in a single variable.\n",
        "\n",
        "    Set is one of 4 built-in data types in Python used to store collections of data, the other 3 are List, Tuple, and Dictionary, all with different qualities and usage.\n",
        "\n",
        "    A set is a collection which is unordered, unchangeable*, and unindexed.\n",
        "\n",
        "    * Note: Set items are unchangeable, but you can remove items and add new items."
      ],
      "metadata": {
        "id": "DH5TkXqegyFg"
      }
    },
    {
      "cell_type": "code",
      "source": [
        "clanSet={\"naruto\",\"sakura\",\"kakashi\"}\n",
        "print(clanSet)\n",
        "print(type(clanSet))"
      ],
      "metadata": {
        "colab": {
          "base_uri": "https://localhost:8080/"
        },
        "id": "pyALmN4BjShc",
        "outputId": "6afc0cb7-61ca-4bdd-8f78-27457bf61433"
      },
      "execution_count": null,
      "outputs": [
        {
          "output_type": "stream",
          "name": "stdout",
          "text": [
            "{'naruto', 'kakashi', 'sakura'}\n",
            "<class 'set'>\n"
          ]
        }
      ]
    },
    {
      "cell_type": "markdown",
      "source": [
        "#2. set() Constructor\n",
        "\n",
        "    It is also possible to use the set() constructor to make a set."
      ],
      "metadata": {
        "id": "45ZMQHLukm-Z"
      }
    },
    {
      "cell_type": "code",
      "source": [
        "clanSet=(\"naruto\",\"gaara\",\"lee\")\n",
        "print(type(clanSet),clanSet)\n",
        "clanSet=set(clanSet)\n",
        "print(type(clanSet),clanSet)"
      ],
      "metadata": {
        "colab": {
          "base_uri": "https://localhost:8080/"
        },
        "id": "6ohVEWV7kHkE",
        "outputId": "d0316a89-3c11-471f-a1bd-f635e503333d"
      },
      "execution_count": null,
      "outputs": [
        {
          "output_type": "stream",
          "name": "stdout",
          "text": [
            "<class 'tuple'> ('naruto', 'gaara', 'lee')\n",
            "<class 'set'> {'naruto', 'lee', 'gaara'}\n"
          ]
        }
      ]
    },
    {
      "cell_type": "markdown",
      "source": [
        "#3. set Union()\n",
        "\n",
        "    The union() method returns a set that contains all items from the original set, and all items from the specified set(s).\n",
        "\n",
        "    You can specify as many sets you want, separated by commas.\n",
        "\n",
        "    It does not have to be a set, it can be any iterable object.\n",
        "\n",
        "    If an item is present in more than one set, the result will contain only one appearance of this item."
      ],
      "metadata": {
        "id": "HGU0vrmHlsET"
      }
    },
    {
      "cell_type": "code",
      "source": [
        "#Eg 1: 2 Set union\n",
        "\n",
        "x = {\"naruto\", \"sakura\", \"lee\"}\n",
        "\n",
        "y = {\"sakura\", \"sakura\", \"kakashi\"}\n",
        "\n",
        "z = x.union(y)\n",
        "\n",
        "print(z)"
      ],
      "metadata": {
        "colab": {
          "base_uri": "https://localhost:8080/"
        },
        "id": "0dNzMyqNlrvd",
        "outputId": "1d843795-93e0-4212-cc2d-629aefcec2db"
      },
      "execution_count": null,
      "outputs": [
        {
          "output_type": "stream",
          "name": "stdout",
          "text": [
            "{'naruto', 'kakashi', 'lee', 'sakura'}\n"
          ]
        }
      ]
    },
    {
      "cell_type": "code",
      "source": [
        "#Eg 2: multiple Set union\n",
        "\n",
        "w = {\"naruto\",\"lee\"}\n",
        "\n",
        "x = {\"naruto\", \"sakura\", \"lee\"}\n",
        "\n",
        "y = {\"sakura\", \"sakura\", \"kakashi\"}\n",
        "\n",
        "z={\"sakura\",\"lee\"}\n",
        "\n",
        "\n",
        "\n",
        "a = x.union(w,y,z)\n",
        "\n",
        "print(a)"
      ],
      "metadata": {
        "colab": {
          "base_uri": "https://localhost:8080/"
        },
        "id": "ANtmoHsWprzu",
        "outputId": "f3814c28-416d-4b7c-c0b0-08e755b00b2e"
      },
      "execution_count": null,
      "outputs": [
        {
          "output_type": "stream",
          "name": "stdout",
          "text": [
            "{'naruto', 'kakashi', 'lee', 'sakura'}\n"
          ]
        }
      ]
    },
    {
      "cell_type": "markdown",
      "source": [
        "#4. set Update()\n",
        "\n",
        "    set update is same as set union. But it does not create a new set. It will update on the existing set"
      ],
      "metadata": {
        "id": "PWd77bBCmJ0Q"
      }
    },
    {
      "cell_type": "code",
      "source": [
        "# Eg 1: 2 set update\n",
        "\n",
        "x = {\"naruto\", \"sakura\", \"lee\"}\n",
        "\n",
        "y = {\"sakura\", \"sakura\", \"kakashi\"}\n",
        "\n",
        "x.update(y)\n",
        "\n",
        "print(x)\n",
        "print(y)"
      ],
      "metadata": {
        "colab": {
          "base_uri": "https://localhost:8080/"
        },
        "id": "il9r5GNsmZwM",
        "outputId": "eff0c3ee-89a6-4b02-d942-1c10cbb1a912"
      },
      "execution_count": null,
      "outputs": [
        {
          "output_type": "stream",
          "name": "stdout",
          "text": [
            "{'naruto', 'kakashi', 'lee', 'sakura'}\n",
            "{'kakashi', 'sakura'}\n"
          ]
        }
      ]
    },
    {
      "cell_type": "code",
      "source": [
        "#Eg 2: multiple Set update\n",
        "\n",
        "w = {\"naruto\",\"lee\"}\n",
        "\n",
        "x = {\"naruto\", \"sakura\", \"lee\"}\n",
        "\n",
        "y = {\"sakura\", \"sakura\", \"kakashi\"}\n",
        "\n",
        "z={\"sakura\",\"lee\"}\n",
        "\n",
        "\n",
        "\n",
        "x.update(w,y,z)\n",
        "\n",
        "print(x)"
      ],
      "metadata": {
        "colab": {
          "base_uri": "https://localhost:8080/"
        },
        "id": "iQJ9z_nWqFkv",
        "outputId": "c2ce645e-ee8a-4ccc-8ed0-d6ab8d2a037d"
      },
      "execution_count": null,
      "outputs": [
        {
          "output_type": "stream",
          "name": "stdout",
          "text": [
            "{'naruto', 'kakashi', 'lee', 'sakura'}\n"
          ]
        }
      ]
    },
    {
      "cell_type": "markdown",
      "source": [
        "#5. Set intersection()\n",
        "\n",
        "    The intersection() method returns a set that contains the similarity between two or more sets.\n",
        "\n",
        "    Meaning: The returned set contains only items that exist in both sets, or in all sets if the comparison is done with more than two sets.\n",
        "\n"
      ],
      "metadata": {
        "id": "CXXoyFpvoc_D"
      }
    },
    {
      "cell_type": "code",
      "source": [
        "# Eg 1: 2 set intersection\n",
        "\n",
        "x = {\"naruto\", \"sakura\", \"lee\"}\n",
        "\n",
        "y = {\"sakura\", \"sakura\", \"kakashi\"}\n",
        "\n",
        "z=x.intersection(y)\n",
        "\n",
        "print(z)\n",
        "print(x)\n",
        "print(y)"
      ],
      "metadata": {
        "colab": {
          "base_uri": "https://localhost:8080/"
        },
        "id": "_a4vQq9Kok-y",
        "outputId": "d49f6729-04d4-4a4b-ad37-c2e3512deb78"
      },
      "execution_count": null,
      "outputs": [
        {
          "output_type": "stream",
          "name": "stdout",
          "text": [
            "{'sakura'}\n",
            "{'naruto', 'lee', 'sakura'}\n",
            "{'kakashi', 'sakura'}\n"
          ]
        }
      ]
    },
    {
      "cell_type": "code",
      "source": [
        "#Eg 2: multiple Set intersection\n",
        "\n",
        "w = {\"naruto\",\"lee\",\"sakura\"}\n",
        "\n",
        "x = {\"naruto\", \"sakura\", \"lee\"}\n",
        "\n",
        "y = {\"sakura\", \"sakura\", \"kakashi\"}\n",
        "\n",
        "z={\"sakura\",\"lee\"}\n",
        "\n",
        "\n",
        "\n",
        "a = x.intersection(w,y,z)\n",
        "\n",
        "print(a)"
      ],
      "metadata": {
        "colab": {
          "base_uri": "https://localhost:8080/"
        },
        "id": "NAZ70gMSqqmC",
        "outputId": "bf879a6b-1c40-426f-bfa7-570942d005d0"
      },
      "execution_count": null,
      "outputs": [
        {
          "output_type": "stream",
          "name": "stdout",
          "text": [
            "{'sakura'}\n"
          ]
        }
      ]
    },
    {
      "cell_type": "markdown",
      "source": [
        "#6. set intersection_update()\n",
        "\n",
        "    set intersection_update is same as set intersection. But it does not create a new set. It will update on the existing set"
      ],
      "metadata": {
        "id": "VUcN1SUMpCHB"
      }
    },
    {
      "cell_type": "code",
      "source": [
        "# Eg 1: 2 set intersection_update()\n",
        "\n",
        "x = {\"naruto\", \"sakura\", \"lee\"}\n",
        "\n",
        "y = {\"sakura\", \"sakura\", \"kakashi\"}\n",
        "\n",
        "x.intersection_update(y)\n",
        "\n",
        "print(x)\n"
      ],
      "metadata": {
        "colab": {
          "base_uri": "https://localhost:8080/"
        },
        "id": "ghv0D6ujpbLC",
        "outputId": "9674ccd3-ce0b-439a-9178-3875ddc79220"
      },
      "execution_count": null,
      "outputs": [
        {
          "output_type": "stream",
          "name": "stdout",
          "text": [
            "{'sakura'}\n"
          ]
        }
      ]
    },
    {
      "cell_type": "code",
      "source": [
        "#Eg 2: multiple Set intersection_update()\n",
        "\n",
        "w = {\"naruto\",\"lee\",\"sakura\"}\n",
        "\n",
        "x = {\"naruto\", \"sakura\", \"lee\"}\n",
        "\n",
        "y = {\"sakura\", \"sakura\", \"kakashi\"}\n",
        "\n",
        "z={\"sakura\",\"lee\"}\n",
        "\n",
        "\n",
        "\n",
        "x.intersection_update(w,y,z)\n",
        "\n",
        "print(x)"
      ],
      "metadata": {
        "colab": {
          "base_uri": "https://localhost:8080/"
        },
        "id": "zo1C7-rlq3QW",
        "outputId": "f75247df-67e8-49dc-d638-28a2a59d87b5"
      },
      "execution_count": null,
      "outputs": [
        {
          "output_type": "stream",
          "name": "stdout",
          "text": [
            "{'sakura'}\n"
          ]
        }
      ]
    },
    {
      "cell_type": "markdown",
      "source": [
        "#7. set symmetric_difference()\n",
        "    \n",
        "    The symmetric_difference() method returns a set that contains all items from both set, but not the items that are present in both sets.\n",
        "\n",
        "    Meaning: The returned set contains a mix of items that are not present in both sets"
      ],
      "metadata": {
        "id": "D5npiHt9rnww"
      }
    },
    {
      "cell_type": "code",
      "source": [
        "# Eg 1: 2 set symmetric_difference()\n",
        "\n",
        "x = {\"naruto\", \"sakura\", \"lee\"}\n",
        "\n",
        "y = {\"sakura\", \"sakura\", \"kakashi\"}\n",
        "\n",
        "z=x.symmetric_difference(y)\n",
        "\n",
        "print(z)\n"
      ],
      "metadata": {
        "colab": {
          "base_uri": "https://localhost:8080/"
        },
        "id": "lflC8qZKr0Kk",
        "outputId": "22f7b42c-dc93-43b5-f405-323f15d8ff03"
      },
      "execution_count": null,
      "outputs": [
        {
          "output_type": "stream",
          "name": "stdout",
          "text": [
            "{'naruto', 'lee', 'kakashi'}\n"
          ]
        }
      ]
    },
    {
      "cell_type": "markdown",
      "source": [
        "#8. Multiple set symmetric difference\n",
        "\n",
        "    Symmetric Difference between Multiple Sets\n",
        "    The symmetric_difference() method doesn’t allow multiple sets.\n"
      ],
      "metadata": {
        "id": "GaKbP5D-tEdL"
      }
    },
    {
      "cell_type": "code",
      "source": [
        "#Eg 1: Error multiple Set symmetric_difference()\n",
        "\n",
        "w = {\"naruto\",\"lee\",\"sakura\"}\n",
        "\n",
        "x = {\"naruto\", \"sakura\", \"lee\"}\n",
        "\n",
        "y = {\"sakura\", \"sakura\", \"kakashi\"}\n",
        "\n",
        "z={\"sakura\",\"lee\"}\n",
        "\n",
        "\n",
        "z=x.symmetric_difference(w,y,z)\n",
        "\n",
        "print(z)"
      ],
      "metadata": {
        "colab": {
          "base_uri": "https://localhost:8080/",
          "height": 235
        },
        "id": "8gwyCJh8sPCa",
        "outputId": "247a2504-e6f0-4338-cf22-b90430baf560"
      },
      "execution_count": null,
      "outputs": [
        {
          "output_type": "error",
          "ename": "TypeError",
          "evalue": "ignored",
          "traceback": [
            "\u001b[0;31m---------------------------------------------------------------------------\u001b[0m",
            "\u001b[0;31mTypeError\u001b[0m                                 Traceback (most recent call last)",
            "\u001b[0;32m<ipython-input-38-f6f9dcf20c35>\u001b[0m in \u001b[0;36m<cell line: 12>\u001b[0;34m()\u001b[0m\n\u001b[1;32m     10\u001b[0m \u001b[0;34m\u001b[0m\u001b[0m\n\u001b[1;32m     11\u001b[0m \u001b[0;34m\u001b[0m\u001b[0m\n\u001b[0;32m---> 12\u001b[0;31m \u001b[0mz\u001b[0m\u001b[0;34m=\u001b[0m\u001b[0mx\u001b[0m\u001b[0;34m.\u001b[0m\u001b[0msymmetric_difference\u001b[0m\u001b[0;34m(\u001b[0m\u001b[0mw\u001b[0m\u001b[0;34m,\u001b[0m\u001b[0my\u001b[0m\u001b[0;34m,\u001b[0m\u001b[0mz\u001b[0m\u001b[0;34m)\u001b[0m\u001b[0;34m\u001b[0m\u001b[0;34m\u001b[0m\u001b[0m\n\u001b[0m\u001b[1;32m     13\u001b[0m \u001b[0;34m\u001b[0m\u001b[0m\n\u001b[1;32m     14\u001b[0m \u001b[0mprint\u001b[0m\u001b[0;34m(\u001b[0m\u001b[0mz\u001b[0m\u001b[0;34m)\u001b[0m\u001b[0;34m\u001b[0m\u001b[0;34m\u001b[0m\u001b[0m\n",
            "\u001b[0;31mTypeError\u001b[0m: set.symmetric_difference() takes exactly one argument (3 given)"
          ]
        }
      ]
    },
    {
      "cell_type": "markdown",
      "source": [
        "#9. symmetric_difference_update()\n",
        "\n",
        "    symmetric_difference_update() is same as symmetric_difference(). But it does not create a new set. It will update on the existing set"
      ],
      "metadata": {
        "id": "PuL2jGAWvMk6"
      }
    },
    {
      "cell_type": "code",
      "source": [
        "# Eg 1: 2 set symmetric_difference()\n",
        "\n",
        "x = {\"naruto\", \"sakura\", \"lee\"}\n",
        "\n",
        "y = {\"sakura\", \"sakura\", \"kakashi\"}\n",
        "\n",
        "x.symmetric_difference_update(y)\n",
        "\n",
        "print(x)\n"
      ],
      "metadata": {
        "colab": {
          "base_uri": "https://localhost:8080/"
        },
        "id": "0g-9AgbAve1J",
        "outputId": "e4b9b3b8-fcc4-482f-8e8f-0a791fcbd54c"
      },
      "execution_count": null,
      "outputs": [
        {
          "output_type": "stream",
          "name": "stdout",
          "text": [
            "{'naruto', 'kakashi', 'lee'}\n"
          ]
        }
      ]
    }
  ]
}