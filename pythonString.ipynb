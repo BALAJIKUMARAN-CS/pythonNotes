{
  "nbformat": 4,
  "nbformat_minor": 0,
  "metadata": {
    "colab": {
      "provenance": [],
      "authorship_tag": "ABX9TyM9S9oHASGwxfIgax8/UDnJ",
      "include_colab_link": true
    },
    "kernelspec": {
      "name": "python3",
      "display_name": "Python 3"
    },
    "language_info": {
      "name": "python"
    }
  },
  "cells": [
    {
      "cell_type": "markdown",
      "metadata": {
        "id": "view-in-github",
        "colab_type": "text"
      },
      "source": [
        "<a href=\"https://colab.research.google.com/github/BALAJIKUMARAN-CS/pythonNotes/blob/main/pythonString.ipynb\" target=\"_parent\"><img src=\"https://colab.research.google.com/assets/colab-badge.svg\" alt=\"Open In Colab\"/></a>"
      ]
    },
    {
      "cell_type": "markdown",
      "source": [
        "#Strings\n",
        "\n",
        "    1. How to access string characters || [list[x]\n",
        "    \n",
        "    2. Index out of range exception || [list[0:infinity]\n",
        "    \n",
        "    3. Assign a string in variables || [abc='xxx']\n",
        "    \n",
        "    4. Assignment throws an error || [error a,b='xxx']\n",
        "    \n",
        "    5. undrscore Assignment || [a,b,_='xxx']\n",
        "    \n",
        "    6. Input function  || [input(\"x\")]\n",
        "    \n",
        "    7. Starts with (case sensitive)  || [list.startswith(\"x\")]\n",
        "    \n",
        "    8. Ends with Function (case sensitive) || [list.endswith(\"x\")]\n",
        "    \n",
        "    9. count occurances || [list.count(\"x\")]\n",
        "    \n",
        "    10. convert lower || x.lower()\n",
        "    \n",
        "    11. convert upper || x.upper()\n",
        "    \n",
        "    12. find  || list.finf(\"x\")\n",
        "    \n",
        "    13. index || list.index('x')\n",
        "    \n",
        "    14. find vs index || find shows -1 whereas index throws error\n",
        "    \n",
        "    15. Split Function || list.split('x')\n",
        "    \n",
        "    16. Join Function || 'y'.join('x')\n",
        "    \n",
        "    17. split without passing letter\n",
        "        \n",
        "    18. Reverse a string using step size\n",
        "    \n",
        "    19. isUpper() and isLower()"
      ],
      "metadata": {
        "id": "BkbdWLWpHvfw"
      }
    },
    {
      "cell_type": "markdown",
      "source": [
        "#1. String access\n",
        "\n",
        "    We can access string characters as same as list`"
      ],
      "metadata": {
        "id": "mIsIKCrVIDuY"
      }
    },
    {
      "cell_type": "code",
      "execution_count": 17,
      "metadata": {
        "colab": {
          "base_uri": "https://localhost:8080/"
        },
        "id": "CA2_KWyx1RYB",
        "outputId": "5a71c87a-a54d-4a09-e7a6-4c1765084f98"
      },
      "outputs": [
        {
          "output_type": "stream",
          "name": "stdout",
          "text": [
            "Im n\n",
            "Im naruto uzumaki\n"
          ]
        }
      ],
      "source": [
        "who=\"Im naruto uzumaki\"\n",
        "\n",
        "print(who[0:4])\n",
        "\n",
        "print(who)"
      ]
    },
    {
      "cell_type": "markdown",
      "source": [
        "#2. Index out of range exception\n",
        "\n",
        "\n",
        "    exception thrown when we try to access outside the range"
      ],
      "metadata": {
        "id": "dMZXpVfAItiW"
      }
    },
    {
      "cell_type": "code",
      "source": [
        "testOut=\"Hello\"\n",
        "\n",
        "print(testOut[11])  #error throws when we call a particular variable\n",
        "\n",
        "print(testOut[0:11]) #error doesnot throws in slicing"
      ],
      "metadata": {
        "id": "hxu78ylh1eU4",
        "colab": {
          "base_uri": "https://localhost:8080/",
          "height": 235
        },
        "outputId": "b29d5fab-7349-4daf-91ac-c8d1c7545b40"
      },
      "execution_count": 18,
      "outputs": [
        {
          "output_type": "error",
          "ename": "IndexError",
          "evalue": "ignored",
          "traceback": [
            "\u001b[0;31m---------------------------------------------------------------------------\u001b[0m",
            "\u001b[0;31mIndexError\u001b[0m                                Traceback (most recent call last)",
            "\u001b[0;32m<ipython-input-18-2d61bbb1e8a4>\u001b[0m in \u001b[0;36m<cell line: 3>\u001b[0;34m()\u001b[0m\n\u001b[1;32m      1\u001b[0m \u001b[0mtestOut\u001b[0m\u001b[0;34m=\u001b[0m\u001b[0;34m\"Hello\"\u001b[0m\u001b[0;34m\u001b[0m\u001b[0;34m\u001b[0m\u001b[0m\n\u001b[1;32m      2\u001b[0m \u001b[0;34m\u001b[0m\u001b[0m\n\u001b[0;32m----> 3\u001b[0;31m \u001b[0mprint\u001b[0m\u001b[0;34m(\u001b[0m\u001b[0mtestOut\u001b[0m\u001b[0;34m[\u001b[0m\u001b[0;36m11\u001b[0m\u001b[0;34m]\u001b[0m\u001b[0;34m)\u001b[0m  \u001b[0;31m#error throws when we call a particular variable\u001b[0m\u001b[0;34m\u001b[0m\u001b[0;34m\u001b[0m\u001b[0m\n\u001b[0m\u001b[1;32m      4\u001b[0m \u001b[0;34m\u001b[0m\u001b[0m\n\u001b[1;32m      5\u001b[0m \u001b[0mprint\u001b[0m\u001b[0;34m(\u001b[0m\u001b[0mtestOut\u001b[0m\u001b[0;34m[\u001b[0m\u001b[0;36m0\u001b[0m\u001b[0;34m:\u001b[0m\u001b[0;36m11\u001b[0m\u001b[0;34m]\u001b[0m\u001b[0;34m)\u001b[0m \u001b[0;31m#error doesnot throws in slicing\u001b[0m\u001b[0;34m\u001b[0m\u001b[0;34m\u001b[0m\u001b[0m\n",
            "\u001b[0;31mIndexError\u001b[0m: string index out of range"
          ]
        }
      ]
    },
    {
      "cell_type": "markdown",
      "source": [
        "#3. How to assign a string in a variabe\n",
        "\n"
      ],
      "metadata": {
        "id": "AHJnEkcQJw_3"
      }
    },
    {
      "cell_type": "code",
      "source": [
        "#Eg 1: \n",
        "\n",
        "a,b,c,d,e,f=\"naruto\"\n",
        "\n",
        "print(a,b,c,d,e,f)"
      ],
      "metadata": {
        "colab": {
          "base_uri": "https://localhost:8080/"
        },
        "id": "gXKS0zIiJ9A5",
        "outputId": "c5801954-5dbd-450b-d144-30c0da1bf1a2"
      },
      "execution_count": 19,
      "outputs": [
        {
          "output_type": "stream",
          "name": "stdout",
          "text": [
            "n a r u t o\n"
          ]
        }
      ]
    },
    {
      "cell_type": "code",
      "source": [
        "#Eg 2:\n",
        "\n",
        "assign = \"kabuto\"\n",
        "\n",
        "a,b,c,d,e,f= assign\n",
        "\n",
        "print(a)\n",
        "\n",
        "print(b)\n",
        "\n",
        "print(f)"
      ],
      "metadata": {
        "colab": {
          "base_uri": "https://localhost:8080/"
        },
        "id": "YM0ju65NKZU1",
        "outputId": "ddcea089-ebc1-4d3b-8cc1-7c2041f1a949"
      },
      "execution_count": 20,
      "outputs": [
        {
          "output_type": "stream",
          "name": "stdout",
          "text": [
            "k\n",
            "a\n",
            "o\n"
          ]
        }
      ]
    },
    {
      "cell_type": "markdown",
      "source": [
        "##4. Assignment throws an error:\n",
        "\n",
        "    It throws an error when variable or value not sufficient\n"
      ],
      "metadata": {
        "id": "e-VckSudKsfU"
      }
    },
    {
      "cell_type": "code",
      "source": [
        "#Eg 1: variable not sufficient\n",
        "a,b,c=\"kabuto\""
      ],
      "metadata": {
        "colab": {
          "base_uri": "https://localhost:8080/",
          "height": 183
        },
        "id": "E_wA3pgaK517",
        "outputId": "9fd4ff52-5f32-4012-f19d-04f53977bc3c"
      },
      "execution_count": 21,
      "outputs": [
        {
          "output_type": "error",
          "ename": "ValueError",
          "evalue": "ignored",
          "traceback": [
            "\u001b[0;31m---------------------------------------------------------------------------\u001b[0m",
            "\u001b[0;31mValueError\u001b[0m                                Traceback (most recent call last)",
            "\u001b[0;32m<ipython-input-21-48d3e596c4a3>\u001b[0m in \u001b[0;36m<cell line: 2>\u001b[0;34m()\u001b[0m\n\u001b[1;32m      1\u001b[0m \u001b[0;31m#Eg 1: variable not sufficient\u001b[0m\u001b[0;34m\u001b[0m\u001b[0;34m\u001b[0m\u001b[0m\n\u001b[0;32m----> 2\u001b[0;31m \u001b[0ma\u001b[0m\u001b[0;34m,\u001b[0m\u001b[0mb\u001b[0m\u001b[0;34m,\u001b[0m\u001b[0mc\u001b[0m\u001b[0;34m=\u001b[0m\u001b[0;34m\"kabuto\"\u001b[0m\u001b[0;34m\u001b[0m\u001b[0;34m\u001b[0m\u001b[0m\n\u001b[0m",
            "\u001b[0;31mValueError\u001b[0m: too many values to unpack (expected 3)"
          ]
        }
      ]
    },
    {
      "cell_type": "code",
      "source": [
        "#Eg 2: value not sufficient\n",
        "\n",
        "a,b,c,d,e,f,g='kabuto'"
      ],
      "metadata": {
        "colab": {
          "base_uri": "https://localhost:8080/",
          "height": 200
        },
        "id": "UPBcycfQLBT1",
        "outputId": "15c30f83-ef36-445c-a29b-f5619097b402"
      },
      "execution_count": 22,
      "outputs": [
        {
          "output_type": "error",
          "ename": "ValueError",
          "evalue": "ignored",
          "traceback": [
            "\u001b[0;31m---------------------------------------------------------------------------\u001b[0m",
            "\u001b[0;31mValueError\u001b[0m                                Traceback (most recent call last)",
            "\u001b[0;32m<ipython-input-22-4bc1260a3776>\u001b[0m in \u001b[0;36m<cell line: 3>\u001b[0;34m()\u001b[0m\n\u001b[1;32m      1\u001b[0m \u001b[0;31m#Eg 2: value not sufficient\u001b[0m\u001b[0;34m\u001b[0m\u001b[0;34m\u001b[0m\u001b[0m\n\u001b[1;32m      2\u001b[0m \u001b[0;34m\u001b[0m\u001b[0m\n\u001b[0;32m----> 3\u001b[0;31m \u001b[0ma\u001b[0m\u001b[0;34m,\u001b[0m\u001b[0mb\u001b[0m\u001b[0;34m,\u001b[0m\u001b[0mc\u001b[0m\u001b[0;34m,\u001b[0m\u001b[0md\u001b[0m\u001b[0;34m,\u001b[0m\u001b[0me\u001b[0m\u001b[0;34m,\u001b[0m\u001b[0mf\u001b[0m\u001b[0;34m,\u001b[0m\u001b[0mg\u001b[0m\u001b[0;34m=\u001b[0m\u001b[0;34m'kabuto'\u001b[0m\u001b[0;34m\u001b[0m\u001b[0;34m\u001b[0m\u001b[0m\n\u001b[0m",
            "\u001b[0;31mValueError\u001b[0m: not enough values to unpack (expected 7, got 6)"
          ]
        }
      ]
    },
    {
      "cell_type": "markdown",
      "source": [
        "##5. Underscore assignment \n",
        "\n",
        "    How to assign a value to a variable without throwing an error\n",
        "\n",
        "    _ strores the last latest value"
      ],
      "metadata": {
        "id": "pA8DkCxqLeR_"
      }
    },
    {
      "cell_type": "code",
      "source": [
        "a,b,c,_,_,_='kabuto'\n",
        "print(a,b,c,_,_,_)"
      ],
      "metadata": {
        "colab": {
          "base_uri": "https://localhost:8080/"
        },
        "id": "qxuSY9XOLkSx",
        "outputId": "b2108665-46b6-433f-bdc7-4eceed679295"
      },
      "execution_count": 23,
      "outputs": [
        {
          "output_type": "stream",
          "name": "stdout",
          "text": [
            "k a b o o o\n"
          ]
        }
      ]
    },
    {
      "cell_type": "markdown",
      "source": [
        "#6. Input Function\n",
        "\n",
        "Helps to get input via keyboard"
      ],
      "metadata": {
        "id": "luXQyA33MsTw"
      }
    },
    {
      "cell_type": "code",
      "source": [
        "place = input(\"Naruto Where a you from ? \")\n",
        "print(f\"Naruto came from {place}\")"
      ],
      "metadata": {
        "colab": {
          "base_uri": "https://localhost:8080/"
        },
        "id": "SuG8pAPkMxSO",
        "outputId": "4e027260-c7e0-4d93-c1ea-c2f7aee23de1"
      },
      "execution_count": 24,
      "outputs": [
        {
          "output_type": "stream",
          "name": "stdout",
          "text": [
            "Naruto Where a you from ? greenLeaf Village\n",
            "Naruto came from greenLeaf Village\n"
          ]
        }
      ]
    },
    {
      "cell_type": "markdown",
      "source": [
        "    assign string value into another variable\n",
        "\n"
      ],
      "metadata": {
        "id": "KPNw6y4DOwV2"
      }
    },
    {
      "cell_type": "code",
      "source": [
        "test=\"hello world\"\n",
        "test2=test[0:5]\n",
        "print(test2)\n",
        "del test2\n",
        "\n",
        "print(test)"
      ],
      "metadata": {
        "colab": {
          "base_uri": "https://localhost:8080/"
        },
        "id": "lBG8-dHtO0VS",
        "outputId": "c6b9ed34-08ca-45a1-8b9f-b1d31c616255"
      },
      "execution_count": 25,
      "outputs": [
        {
          "output_type": "stream",
          "name": "stdout",
          "text": [
            "hello\n",
            "hello world\n"
          ]
        }
      ]
    },
    {
      "cell_type": "code",
      "source": [
        "test=[1,2,3,4]\n",
        "test.clear()\n",
        "print(test)"
      ],
      "metadata": {
        "colab": {
          "base_uri": "https://localhost:8080/"
        },
        "id": "eOHCTDXmPU23",
        "outputId": "a711b727-00bc-4a23-b442-a1ba2e942a4b"
      },
      "execution_count": 26,
      "outputs": [
        {
          "output_type": "stream",
          "name": "stdout",
          "text": [
            "[]\n"
          ]
        }
      ]
    },
    {
      "cell_type": "markdown",
      "source": [
        "#7. String startswith()\n",
        "\n",
        "    helps to find the string starts with\n"
      ],
      "metadata": {
        "id": "ixqJlUFuSjUe"
      }
    },
    {
      "cell_type": "code",
      "source": [
        "village=\"Green Leaf\"  #helps to find the string starts with\n",
        "print(village.startswith(\"L\"))"
      ],
      "metadata": {
        "colab": {
          "base_uri": "https://localhost:8080/"
        },
        "id": "2bIZED8vSoyo",
        "outputId": "3756e626-0634-497a-f45a-1d0a71a394d2"
      },
      "execution_count": 27,
      "outputs": [
        {
          "output_type": "stream",
          "name": "stdout",
          "text": [
            "False\n"
          ]
        }
      ]
    },
    {
      "cell_type": "markdown",
      "source": [
        "#8. String endswith()\n",
        "\n",
        "    helps to find the string ends with"
      ],
      "metadata": {
        "id": "Ha8d-TgiS6gK"
      }
    },
    {
      "cell_type": "code",
      "source": [
        "village=\"Green Leaf\"  #helps to find the string ends with\n",
        "print(village.endswith(\"f\"))"
      ],
      "metadata": {
        "colab": {
          "base_uri": "https://localhost:8080/"
        },
        "id": "7_lFyb3GTB_O",
        "outputId": "d68d07a7-8137-4b0e-be8f-4359ccb3db42"
      },
      "execution_count": 28,
      "outputs": [
        {
          "output_type": "stream",
          "name": "stdout",
          "text": [
            "True\n"
          ]
        }
      ]
    },
    {
      "cell_type": "markdown",
      "source": [
        "##9. String count()\n",
        "\n",
        "    count(x) function helps to count the occurance of the letter"
      ],
      "metadata": {
        "id": "fsibiDlHTSj_"
      }
    },
    {
      "cell_type": "code",
      "source": [
        "village= \"Green Leaf\"\n",
        "print(village.count(\"e\"))"
      ],
      "metadata": {
        "colab": {
          "base_uri": "https://localhost:8080/"
        },
        "id": "NjIRpMHOTQ7q",
        "outputId": "94b49776-5d8e-44e6-cb0a-e53cacd97cc3"
      },
      "execution_count": 29,
      "outputs": [
        {
          "output_type": "stream",
          "name": "stdout",
          "text": [
            "3\n"
          ]
        }
      ]
    },
    {
      "cell_type": "markdown",
      "source": [
        "##10. String lower()\n",
        "\n",
        "    lower() function is used to convert the strings into lower case"
      ],
      "metadata": {
        "id": "Rb-6-TGYUcnu"
      }
    },
    {
      "cell_type": "code",
      "source": [
        "test=\"ConverTED to LOWER\"\n",
        "\n",
        "print(test.lower())\n",
        "\n",
        "test1=test.lower()\n",
        "\n",
        "print(test)\n",
        "\n",
        "print(test1)"
      ],
      "metadata": {
        "colab": {
          "base_uri": "https://localhost:8080/"
        },
        "id": "2K1L9h-aUesE",
        "outputId": "461e1b11-67ef-4b53-fc76-9b5e4bc324cd"
      },
      "execution_count": 31,
      "outputs": [
        {
          "output_type": "stream",
          "name": "stdout",
          "text": [
            "converted to lower\n",
            "ConverTED to LOWER\n",
            "converted to lower\n"
          ]
        }
      ]
    },
    {
      "cell_type": "markdown",
      "source": [
        "##11. String upper()\n",
        "\n",
        "    upper() function is used to convert the strings into upper case"
      ],
      "metadata": {
        "id": "rHTq7x-0U-jK"
      }
    },
    {
      "cell_type": "code",
      "source": [
        "test=\"ConverTED to UppER\"\n",
        "\n",
        "print(test.upper())\n",
        "\n",
        "test1=test.upper()\n",
        "\n",
        "print(test)\n",
        "\n",
        "print(test1)"
      ],
      "metadata": {
        "colab": {
          "base_uri": "https://localhost:8080/"
        },
        "id": "5-QIXjMFU9_E",
        "outputId": "1aefbfb3-ad3f-4da9-8d82-af5f0baa6ce7"
      },
      "execution_count": 32,
      "outputs": [
        {
          "output_type": "stream",
          "name": "stdout",
          "text": [
            "CONVERTED TO UPPER\n",
            "ConverTED to UppER\n",
            "CONVERTED TO UPPER\n"
          ]
        }
      ]
    },
    {
      "cell_type": "code",
      "source": [
        "test=\"hello\"\n",
        "\n",
        "test1=\"Hello\"\n",
        "\n",
        "print(test==test1)"
      ],
      "metadata": {
        "colab": {
          "base_uri": "https://localhost:8080/"
        },
        "id": "5NcCXy6xVc-6",
        "outputId": "90d1ad86-098f-4349-99bd-c66447d951b2"
      },
      "execution_count": 33,
      "outputs": [
        {
          "output_type": "stream",
          "name": "stdout",
          "text": [
            "False\n"
          ]
        }
      ]
    },
    {
      "cell_type": "markdown",
      "source": [
        "##12. String find()\n",
        "\n",
        "    find() helps to find the index of the letter"
      ],
      "metadata": {
        "id": "sbWdpUB2WHcr"
      }
    },
    {
      "cell_type": "code",
      "source": [
        "#Eg 1: \n",
        "test = 'Sqeeze'\n",
        "\n",
        "print(len(test))\n",
        "\n",
        "print(Test.find('e'))"
      ],
      "metadata": {
        "colab": {
          "base_uri": "https://localhost:8080/"
        },
        "id": "_qvQMzpaWI4z",
        "outputId": "89e4eabd-8f25-421c-ffc7-77206f843b0f"
      },
      "execution_count": 35,
      "outputs": [
        {
          "output_type": "stream",
          "name": "stdout",
          "text": [
            "6\n",
            "2\n"
          ]
        }
      ]
    },
    {
      "cell_type": "code",
      "source": [
        "#Eg 2:\n",
        "\n",
        "test = 'Sqeeze'\n",
        "\n",
        "print(len(test))\n",
        "\n",
        "print(test.find('ez'))"
      ],
      "metadata": {
        "id": "9htDx8fPXm-I",
        "colab": {
          "base_uri": "https://localhost:8080/"
        },
        "outputId": "62642f63-5b0a-461f-bbf5-df843a86cbc5"
      },
      "execution_count": 36,
      "outputs": [
        {
          "output_type": "stream",
          "name": "stdout",
          "text": [
            "6\n",
            "3\n"
          ]
        }
      ]
    },
    {
      "cell_type": "markdown",
      "source": [
        "## 13. String index() \n",
        "\n",
        "    index() helps to find the index of the letter"
      ],
      "metadata": {
        "id": "UeNp-3Y1WghY"
      }
    },
    {
      "cell_type": "code",
      "source": [
        "#Eg 1:\n",
        "\n",
        "test = 'Sqeeze'\n",
        "\n",
        "len(test)\n",
        "\n",
        "print(Test.index('e'))"
      ],
      "metadata": {
        "colab": {
          "base_uri": "https://localhost:8080/"
        },
        "id": "G5zrQUBIWoXr",
        "outputId": "72802028-2895-468e-8b7e-867acc203984"
      },
      "execution_count": 38,
      "outputs": [
        {
          "output_type": "stream",
          "name": "stdout",
          "text": [
            "2\n"
          ]
        }
      ]
    },
    {
      "cell_type": "code",
      "source": [
        "#Eg 2:\n",
        "\n",
        "test = 'Sqeeze'\n",
        "\n",
        "len(test)\n",
        "\n",
        "print(Test.index('ez'))"
      ],
      "metadata": {
        "colab": {
          "base_uri": "https://localhost:8080/"
        },
        "id": "evU1G3TlXvCS",
        "outputId": "aef9b6e4-5eda-4218-ae7c-b5927746dc7a"
      },
      "execution_count": 39,
      "outputs": [
        {
          "output_type": "stream",
          "name": "stdout",
          "text": [
            "3\n"
          ]
        }
      ]
    },
    {
      "cell_type": "markdown",
      "source": [
        "##14. Find vs Index\n",
        "\n",
        "    Find send -1 when letter not found\n",
        "\n",
        "    Index throws error when letter is not found"
      ],
      "metadata": {
        "id": "T_NO2CFQXHYf"
      }
    },
    {
      "cell_type": "code",
      "source": [
        "#Eg 1:\n",
        "\n",
        "test = 'Sqeeze'\n",
        "\n",
        "len(test)\n",
        "\n",
        "print(test.find('y'))"
      ],
      "metadata": {
        "colab": {
          "base_uri": "https://localhost:8080/"
        },
        "id": "HWaFD2WCXZpe",
        "outputId": "a954a7d9-c770-4625-8854-613470f1daf5"
      },
      "execution_count": 40,
      "outputs": [
        {
          "output_type": "stream",
          "name": "stdout",
          "text": [
            "-1\n"
          ]
        }
      ]
    },
    {
      "cell_type": "code",
      "source": [
        "#Eg 2:\n",
        "\n",
        "Test = 'Sqeeze'\n",
        "\n",
        "len(test)\n",
        "\n",
        "print(test.index('y'))"
      ],
      "metadata": {
        "colab": {
          "base_uri": "https://localhost:8080/",
          "height": 200
        },
        "id": "8rUx-O_mX15H",
        "outputId": "bd5a6250-2c98-4b3a-a6b0-c383411a01e5"
      },
      "execution_count": 42,
      "outputs": [
        {
          "output_type": "error",
          "ename": "ValueError",
          "evalue": "ignored",
          "traceback": [
            "\u001b[0;31m---------------------------------------------------------------------------\u001b[0m",
            "\u001b[0;31mValueError\u001b[0m                                Traceback (most recent call last)",
            "\u001b[0;32m<ipython-input-42-675550f74873>\u001b[0m in \u001b[0;36m<cell line: 7>\u001b[0;34m()\u001b[0m\n\u001b[1;32m      5\u001b[0m \u001b[0mlen\u001b[0m\u001b[0;34m(\u001b[0m\u001b[0mtest\u001b[0m\u001b[0;34m)\u001b[0m\u001b[0;34m\u001b[0m\u001b[0;34m\u001b[0m\u001b[0m\n\u001b[1;32m      6\u001b[0m \u001b[0;34m\u001b[0m\u001b[0m\n\u001b[0;32m----> 7\u001b[0;31m \u001b[0mprint\u001b[0m\u001b[0;34m(\u001b[0m\u001b[0mtest\u001b[0m\u001b[0;34m.\u001b[0m\u001b[0mindex\u001b[0m\u001b[0;34m(\u001b[0m\u001b[0;34m'y'\u001b[0m\u001b[0;34m)\u001b[0m\u001b[0;34m)\u001b[0m\u001b[0;34m\u001b[0m\u001b[0;34m\u001b[0m\u001b[0m\n\u001b[0m",
            "\u001b[0;31mValueError\u001b[0m: substring not found"
          ]
        }
      ]
    },
    {
      "cell_type": "markdown",
      "source": [
        "## 15. String split()\n",
        "\n",
        "    split() helps to split the word and store it in a list."
      ],
      "metadata": {
        "id": "iFpbH5dXYGy5"
      }
    },
    {
      "cell_type": "code",
      "source": [
        "#Eg 1:\n",
        "\n",
        "test='I am naruto'\n",
        "\n",
        "print(test.split(' '))\n",
        "\n",
        "print(test)"
      ],
      "metadata": {
        "colab": {
          "base_uri": "https://localhost:8080/"
        },
        "id": "2ZqRqopCYLmR",
        "outputId": "a5d77b91-2cb5-42e3-d9e8-8a650ced5860"
      },
      "execution_count": 43,
      "outputs": [
        {
          "output_type": "stream",
          "name": "stdout",
          "text": [
            "['I', 'am', 'naruto']\n",
            "I am naruto\n"
          ]
        }
      ]
    },
    {
      "cell_type": "code",
      "source": [
        "#Eg 2:\n",
        "\n",
        "test='I am naruto'\n",
        "\n",
        "test=test.split('n')\n",
        "\n",
        "print(test)"
      ],
      "metadata": {
        "colab": {
          "base_uri": "https://localhost:8080/"
        },
        "id": "YnxYDSHOYgAQ",
        "outputId": "f80e0d6f-985e-4d25-9352-bc16c4760983"
      },
      "execution_count": 44,
      "outputs": [
        {
          "output_type": "stream",
          "name": "stdout",
          "text": [
            "['I am ', 'aruto']\n"
          ]
        }
      ]
    },
    {
      "cell_type": "code",
      "source": [
        "#Eg 3:\n",
        "\n",
        "test='I am naruto'\n",
        "\n",
        "name=test.split(\" \")\n",
        "\n",
        "print(test)\n",
        "\n",
        "print(type(name),name)"
      ],
      "metadata": {
        "colab": {
          "base_uri": "https://localhost:8080/"
        },
        "id": "mVSLsk1BF2Rs",
        "outputId": "4ac19531-18d6-4881-e5f3-fa85bafb4968"
      },
      "execution_count": 45,
      "outputs": [
        {
          "output_type": "stream",
          "name": "stdout",
          "text": [
            "I am naruto\n",
            "<class 'list'> ['I', 'am', 'naruto']\n"
          ]
        }
      ]
    },
    {
      "cell_type": "markdown",
      "source": [
        "##16. String join()\n",
        "\n",
        "    join() helps to join the word letter with middle of each two character\n",
        "\n",
        "    \n"
      ],
      "metadata": {
        "id": "VMBRZ-HwY3oK"
      }
    },
    {
      "cell_type": "code",
      "source": [
        "#Eg 1:\n",
        "\n",
        "test= 'Hi'\n",
        "\n",
        "print(\" naruto \".join(test))"
      ],
      "metadata": {
        "colab": {
          "base_uri": "https://localhost:8080/"
        },
        "id": "KhST3wY5Y86J",
        "outputId": "5f99f202-3c4e-4033-8843-49cdbd33ddc5"
      },
      "execution_count": 46,
      "outputs": [
        {
          "output_type": "stream",
          "name": "stdout",
          "text": [
            "H naruto i\n"
          ]
        }
      ]
    },
    {
      "cell_type": "code",
      "source": [
        "#Eg 2:\n",
        "\n",
        "test = \"hello world\"\n",
        "\n",
        "print('1'.join(test))"
      ],
      "metadata": {
        "colab": {
          "base_uri": "https://localhost:8080/"
        },
        "id": "uNMvFV6zZQUT",
        "outputId": "65d364ac-30d1-412d-d12c-49c152fdf881"
      },
      "execution_count": 47,
      "outputs": [
        {
          "output_type": "stream",
          "name": "stdout",
          "text": [
            "h1e1l1l1o1 1w1o1r1l1d\n"
          ]
        }
      ]
    },
    {
      "cell_type": "code",
      "source": [
        "#Eg 3:\n",
        "\n",
        "test=\"I am Naruto\"\n",
        "\n",
        "print(test)\n",
        "\n",
        "test=test.split(' ')\n",
        "\n",
        "print(test)\n",
        "\n",
        "test=' '.join(test)\n",
        "\n",
        "print(test)"
      ],
      "metadata": {
        "colab": {
          "base_uri": "https://localhost:8080/"
        },
        "id": "0uAFdW1iZjPH",
        "outputId": "1db5b2f3-28ee-4da3-a10d-a209c11b54f8"
      },
      "execution_count": 48,
      "outputs": [
        {
          "output_type": "stream",
          "name": "stdout",
          "text": [
            "I am Naruto\n",
            "['I', 'am', 'Naruto']\n",
            "I am Naruto\n"
          ]
        }
      ]
    },
    {
      "cell_type": "code",
      "source": [
        "#Eg 4\n",
        "\n",
        "print(\"1\".join('23'))"
      ],
      "metadata": {
        "colab": {
          "base_uri": "https://localhost:8080/"
        },
        "id": "rcqjFH_9aJHl",
        "outputId": "dc48ec53-b278-44ed-c71a-5d3c5ede81e7"
      },
      "execution_count": 49,
      "outputs": [
        {
          "output_type": "stream",
          "name": "stdout",
          "text": [
            "213\n"
          ]
        }
      ]
    },
    {
      "cell_type": "markdown",
      "source": [
        "#17. Split without passing letters\n",
        "\n",
        "    if we dont pass an argument instde the split function means. it will store that string in a list without splitting"
      ],
      "metadata": {
        "id": "WONoIehfomq7"
      }
    },
    {
      "cell_type": "code",
      "source": [
        "test=\"helloh\"\n",
        "\n",
        "print(test.split())"
      ],
      "metadata": {
        "colab": {
          "base_uri": "https://localhost:8080/"
        },
        "id": "PQ7SBQW5oqIv",
        "outputId": "d20b41fe-6f49-4fa8-a2fe-15e0284904c7"
      },
      "execution_count": 50,
      "outputs": [
        {
          "output_type": "stream",
          "name": "stdout",
          "text": [
            "['helloh']\n"
          ]
        }
      ]
    },
    {
      "cell_type": "markdown",
      "source": [
        "#18. String reverse() \n",
        "\n",
        "    We can reverse a string using step size with negative value\n",
        "\n"
      ],
      "metadata": {
        "id": "A7M-1loNpdrJ"
      }
    },
    {
      "cell_type": "code",
      "source": [
        "print(\"Hollow bricks\"[::-1])"
      ],
      "metadata": {
        "colab": {
          "base_uri": "https://localhost:8080/"
        },
        "id": "MserxSRppmC7",
        "outputId": "5756b454-e712-432e-dc4b-5075d4a2122f"
      },
      "execution_count": 51,
      "outputs": [
        {
          "output_type": "stream",
          "name": "stdout",
          "text": [
            "skcirb wolloH\n"
          ]
        }
      ]
    },
    {
      "cell_type": "markdown",
      "source": [
        "#19. isupper() and islower()\n",
        "\n",
        "    #isupper\n",
        "    How to find the string is in upper case\n",
        "\n",
        "        We can use isupper() function\n",
        "\n",
        "\n",
        "    #islower\n",
        "    How to find the string is in lower case\n",
        "\n",
        "        we can use islower() function"
      ],
      "metadata": {
        "id": "6d6pIvQaqn6P"
      }
    },
    {
      "cell_type": "code",
      "source": [
        "print(\"TRUE\".isupper())\n",
        "\n",
        "print(\"true\".isupper())\n",
        "\n",
        "print(\"true\".islower())\n",
        "\n",
        "print(\"True\".islower())"
      ],
      "metadata": {
        "colab": {
          "base_uri": "https://localhost:8080/"
        },
        "id": "2nWXko2QqvXJ",
        "outputId": "d6845c2c-495f-484e-d1ba-c048eba251c8"
      },
      "execution_count": 53,
      "outputs": [
        {
          "output_type": "stream",
          "name": "stdout",
          "text": [
            "True\n",
            "False\n",
            "True\n",
            "False\n"
          ]
        }
      ]
    }
  ]
}