{
  "nbformat": 4,
  "nbformat_minor": 0,
  "metadata": {
    "colab": {
      "provenance": [],
      "authorship_tag": "ABX9TyM9VgRAkXhU+us1najRlzF2",
      "include_colab_link": true
    },
    "kernelspec": {
      "name": "python3",
      "display_name": "Python 3"
    },
    "language_info": {
      "name": "python"
    }
  },
  "cells": [
    {
      "cell_type": "markdown",
      "metadata": {
        "id": "view-in-github",
        "colab_type": "text"
      },
      "source": [
        "<a href=\"https://colab.research.google.com/github/BALAJIKUMARAN-CS/pythonNotes/blob/main/pythonTuples.ipynb\" target=\"_parent\"><img src=\"https://colab.research.google.com/assets/colab-badge.svg\" alt=\"Open In Colab\"/></a>"
      ]
    },
    {
      "cell_type": "markdown",
      "source": [
        "#Python Tuple\n",
        "\n",
        "    1. Tuple assignment and class\n",
        "\n",
        "    2. Add 2 tuples\n",
        "\n",
        "    3. Multiply tuples\n",
        "    \n",
        "    4. Mixed tuple \n",
        "    \n",
        "    5. Auto correct as tuple\n",
        "    \n",
        "    6. Assign a tuple or list into a variable\n",
        "    \n",
        "    7. Nested\n",
        "          1.Nested list in a list\n",
        "          2.Nested tuple in a list\n",
        "          3.Nested list in a tuple\n",
        "          4.Nested tuple in a tuple\n",
        "    \n",
        "    8. Conversion\n",
        "          1. list to tuple\n",
        "          2. list to set |||||||||| CANNOT CONTAIN DUPLICATE VALUE\n",
        "          3. tuple to list\n",
        "          4. tuple to set\n",
        "\n",
        "    \n",
        "    9. Tuples are immutable(the values cannot be updated)\n",
        "    \n",
        "    10. Tuple Deletion (cannot be deleted with particular value EG: del tuple[0])\n",
        "    \n",
        "    \n",
        "    11. zip function of tuples and list"
      ],
      "metadata": {
        "id": "iFpQ9wELsNjo"
      }
    },
    {
      "cell_type": "markdown",
      "source": [
        "#1. Tuple assignment\n",
        "\n",
        "    Tuple can be assigned in curved brackets\n",
        "\n",
        "    eg: sample=()"
      ],
      "metadata": {
        "id": "iB7e4Gn2sUql"
      }
    },
    {
      "cell_type": "code",
      "source": [
        "sample=()\n",
        "\n",
        "print(sample)\n",
        "\n",
        "print(type(sample))"
      ],
      "metadata": {
        "colab": {
          "base_uri": "https://localhost:8080/"
        },
        "id": "gtpT45qbsgCG",
        "outputId": "8cc45e74-4129-4650-a4fd-c4477d499e13"
      },
      "execution_count": null,
      "outputs": [
        {
          "output_type": "stream",
          "name": "stdout",
          "text": [
            "()\n",
            "<class 'tuple'>\n"
          ]
        }
      ]
    },
    {
      "cell_type": "code",
      "source": [
        "greenLeafVillage=('naruto','sasuke','sakura','hinata')\n",
        "\n",
        "sandVillage=('gaara',\"gara'sfather\")\n",
        "\n",
        "print(greenLeafVillage,sandVillage)"
      ],
      "metadata": {
        "colab": {
          "base_uri": "https://localhost:8080/"
        },
        "id": "08aYdwpAspon",
        "outputId": "c83a1ce3-1c90-44e9-b9dd-f45e393d369c"
      },
      "execution_count": null,
      "outputs": [
        {
          "output_type": "stream",
          "name": "stdout",
          "text": [
            "('naruto', 'sasuke', 'sakura', 'hinata') ('gaara', \"gara'sfather\")\n"
          ]
        }
      ]
    },
    {
      "cell_type": "markdown",
      "source": [
        "# 2. Add 2 Tuples\n",
        "\n",
        "    we can add 2 tuples with + operator\n"
      ],
      "metadata": {
        "id": "pTzN918ktM2i"
      }
    },
    {
      "cell_type": "code",
      "source": [
        "greenLeafVillage=('naruto','sasuke','sakura','hinata')\n",
        "\n",
        "print(greenLeafVillage[0].upper()) #it will make as upper case\n",
        "\n",
        "sandVillage=('gaara',\"gara'sfather\")\n",
        "\n",
        "village=greenLeafVillage+sandVillage\n",
        "\n",
        "print(village)"
      ],
      "metadata": {
        "colab": {
          "base_uri": "https://localhost:8080/"
        },
        "id": "iDZkknnxtUW-",
        "outputId": "8699256d-b5eb-4ffc-bd6a-6770169385f4"
      },
      "execution_count": null,
      "outputs": [
        {
          "output_type": "stream",
          "name": "stdout",
          "text": [
            "NARUTO\n",
            "('naruto', 'sasuke', 'sakura', 'hinata', 'gaara', \"gara'sfather\")\n"
          ]
        }
      ]
    },
    {
      "cell_type": "markdown",
      "source": [
        "#3. Multiply tuples\n",
        "\n",
        "    we can multiply tuples by * operator"
      ],
      "metadata": {
        "id": "r9DxhvFwuTik"
      }
    },
    {
      "cell_type": "code",
      "source": [
        "test=('1',\"2\",\"3\")\n",
        "\n",
        "print(test * 3)\n",
        "\n",
        "print(test)\n",
        "\n",
        "test*=3\n",
        "\n",
        "print(test)"
      ],
      "metadata": {
        "colab": {
          "base_uri": "https://localhost:8080/"
        },
        "id": "c7fafYO_ubFs",
        "outputId": "9fd4951a-4b34-4bc3-df7a-d17572ef99d2"
      },
      "execution_count": 1,
      "outputs": [
        {
          "output_type": "stream",
          "name": "stdout",
          "text": [
            "('1', '2', '3', '1', '2', '3', '1', '2', '3')\n",
            "('1', '2', '3')\n",
            "('1', '2', '3', '1', '2', '3', '1', '2', '3')\n"
          ]
        }
      ]
    },
    {
      "cell_type": "markdown",
      "source": [
        "#4. Mixed tuple\n",
        "\n",
        "    tuple can contains int,float,str with mixed in a single tuple"
      ],
      "metadata": {
        "id": "qsACqf7lvVay"
      }
    },
    {
      "cell_type": "code",
      "source": [
        "test=(1,2,3.3,'test')\n",
        "\n",
        "print(type(test[0]))\n",
        "\n",
        "print(type(test[1]))\n",
        "\n",
        "print(type(test[2]))\n",
        "\n",
        "print(type(test[3]),len(test[3]))\n",
        "\n",
        "print(test)"
      ],
      "metadata": {
        "colab": {
          "base_uri": "https://localhost:8080/"
        },
        "id": "rw6SBVtyvnNF",
        "outputId": "4f7db8d3-bfdb-4651-dbc1-66f55c8e0282"
      },
      "execution_count": null,
      "outputs": [
        {
          "output_type": "stream",
          "name": "stdout",
          "text": [
            "<class 'int'>\n",
            "<class 'int'>\n",
            "<class 'float'>\n",
            "<class 'str'> 4\n",
            "(1, 2, 3.3, 'test')\n"
          ]
        }
      ]
    },
    {
      "cell_type": "markdown",
      "source": [
        "#5. Auto correct as tuple\n",
        "\n",
        "    Tuple can be given without a curve braces\n",
        "\n",
        "    EG: x=1,2,'test'\n",
        "    "
      ],
      "metadata": {
        "id": "7YFdIw2pwR_v"
      }
    },
    {
      "cell_type": "code",
      "source": [
        "x=1,2.2,\"3\"\n",
        "\n",
        "print(type(x))\n",
        "\n",
        "print(x)"
      ],
      "metadata": {
        "colab": {
          "base_uri": "https://localhost:8080/"
        },
        "id": "YtIrXzDBwe_R",
        "outputId": "9faf2054-e63a-4b13-c8f8-fafb7eba7de4"
      },
      "execution_count": 2,
      "outputs": [
        {
          "output_type": "stream",
          "name": "stdout",
          "text": [
            "<class 'tuple'>\n",
            "(1, 2.2, '3')\n"
          ]
        }
      ]
    },
    {
      "cell_type": "markdown",
      "source": [
        "#6. Assign a tuple or list into a variable\n",
        "\n"
      ],
      "metadata": {
        "id": "dNY4QyigxEqz"
      }
    },
    {
      "cell_type": "code",
      "source": [
        "test=[1,2,3]\n",
        "\n",
        "a,b,c=test\n",
        "\n",
        "print(a)\n",
        "\n",
        "print(b)\n",
        "\n",
        "print(c)\n",
        "\n",
        "print(test)"
      ],
      "metadata": {
        "colab": {
          "base_uri": "https://localhost:8080/"
        },
        "id": "MvzI2v-0wzfV",
        "outputId": "195528c7-f5d7-4a16-8893-a71da2f207a1"
      },
      "execution_count": 6,
      "outputs": [
        {
          "output_type": "stream",
          "name": "stdout",
          "text": [
            "1\n",
            "2\n",
            "3\n",
            "[1, 2, 3]\n"
          ]
        }
      ]
    },
    {
      "cell_type": "markdown",
      "source": [
        "#7. Nested"
      ],
      "metadata": {
        "id": "DahnGthPC43h"
      }
    },
    {
      "cell_type": "markdown",
      "source": [
        "#Nested list in a list\n",
        "\n",
        "    nested list in a list means list inside a list"
      ],
      "metadata": {
        "id": "RZzqL-w-4nC9"
      }
    },
    {
      "cell_type": "code",
      "source": [
        "test=[1.1,2,[1,2]]\n",
        "\n",
        "print(test[1])\n",
        "\n",
        "print(test[1])\n",
        "\n",
        "print(test[2])\n",
        "\n",
        "print(test[2][0])\n",
        "\n",
        "print(test[2][1])"
      ],
      "metadata": {
        "colab": {
          "base_uri": "https://localhost:8080/"
        },
        "id": "ERqTjWsNxdGL",
        "outputId": "6b5c3850-a043-4483-8543-d19c46bd2f61"
      },
      "execution_count": 10,
      "outputs": [
        {
          "output_type": "stream",
          "name": "stdout",
          "text": [
            "2\n",
            "2\n",
            "[1, 2]\n",
            "1\n",
            "2\n"
          ]
        }
      ]
    },
    {
      "cell_type": "markdown",
      "source": [
        "##Nested tuple in a list"
      ],
      "metadata": {
        "id": "I6lbOluL5Pf5"
      }
    },
    {
      "cell_type": "code",
      "source": [
        "test=[1.1,2,(1,2)]\n",
        "print(test[0])\n",
        "print(test[1])\n",
        "print(test[2])\n",
        "print(test[2][0])\n",
        "print(test[2][1])"
      ],
      "metadata": {
        "colab": {
          "base_uri": "https://localhost:8080/"
        },
        "id": "fHsl51bi5WLG",
        "outputId": "2c76fe6d-f81b-4834-9c6d-c61344c96df9"
      },
      "execution_count": null,
      "outputs": [
        {
          "output_type": "stream",
          "name": "stdout",
          "text": [
            "1.1\n",
            "2\n",
            "(1, 2)\n",
            "1\n",
            "2\n"
          ]
        }
      ]
    },
    {
      "cell_type": "markdown",
      "source": [
        "##Nested list in a tuple"
      ],
      "metadata": {
        "id": "ZwmcMOPg5cyx"
      }
    },
    {
      "cell_type": "code",
      "source": [
        "test=(1.1,2,[1,2])\n",
        "print(test[0])\n",
        "print(test[1])\n",
        "print(test[2])\n",
        "print(test[2][0])\n",
        "print(test[2][1])"
      ],
      "metadata": {
        "colab": {
          "base_uri": "https://localhost:8080/"
        },
        "id": "KxOPGu7J51gT",
        "outputId": "d594921f-807d-41b6-b0ef-50355dc9c539"
      },
      "execution_count": null,
      "outputs": [
        {
          "output_type": "stream",
          "name": "stdout",
          "text": [
            "1.1\n",
            "2\n",
            "[1, 2]\n",
            "1\n",
            "2\n"
          ]
        }
      ]
    },
    {
      "cell_type": "markdown",
      "source": [
        "##Nested tuple in a tuple"
      ],
      "metadata": {
        "id": "kjA19RhI57mF"
      }
    },
    {
      "cell_type": "code",
      "source": [
        "test=(1.1,2,(1,2))\n",
        "print(test[0])\n",
        "print(test[1])\n",
        "print(test[2])\n",
        "print(test[2][0])\n",
        "print(test[2][1])"
      ],
      "metadata": {
        "colab": {
          "base_uri": "https://localhost:8080/"
        },
        "id": "xNbcml5658KY",
        "outputId": "b5b8dbc3-2900-42dd-cac6-127a542168b0"
      },
      "execution_count": null,
      "outputs": [
        {
          "output_type": "stream",
          "name": "stdout",
          "text": [
            "1.1\n",
            "2\n",
            "(1, 2)\n",
            "1\n",
            "2\n"
          ]
        }
      ]
    },
    {
      "cell_type": "markdown",
      "source": [
        "#8. conversion"
      ],
      "metadata": {
        "id": "rGteE445C9Lp"
      }
    },
    {
      "cell_type": "markdown",
      "source": [
        "##list to tuple"
      ],
      "metadata": {
        "id": "VusxieK17U31"
      }
    },
    {
      "cell_type": "code",
      "source": [
        "village=['green','sand','stone']\n",
        "\n",
        "print(type(village),village)\n",
        "\n",
        "village1=tuple(village)\n",
        "\n",
        "print(type(village1),village1)"
      ],
      "metadata": {
        "colab": {
          "base_uri": "https://localhost:8080/"
        },
        "id": "WDFGd2Y97WmI",
        "outputId": "f4077b71-bd01-47c2-ee33-7f192c3e3d72"
      },
      "execution_count": 11,
      "outputs": [
        {
          "output_type": "stream",
          "name": "stdout",
          "text": [
            "<class 'list'> ['green', 'sand', 'stone']\n",
            "<class 'tuple'> ('green', 'sand', 'stone')\n"
          ]
        }
      ]
    },
    {
      "cell_type": "markdown",
      "source": [
        "##list to SET"
      ],
      "metadata": {
        "id": "IE_Q_XlP73Cg"
      }
    },
    {
      "cell_type": "code",
      "source": [
        "village=['green','sand','stone','stone']\n",
        "\n",
        "unique=set(village)\n",
        "\n",
        "print(unique)"
      ],
      "metadata": {
        "colab": {
          "base_uri": "https://localhost:8080/"
        },
        "id": "agzPaGlL8Hcb",
        "outputId": "31603456-d6bb-4dd1-86fd-edf0e0f77ebc"
      },
      "execution_count": 13,
      "outputs": [
        {
          "output_type": "stream",
          "name": "stdout",
          "text": [
            "{'green', 'sand', 'stone'}\n"
          ]
        }
      ]
    },
    {
      "cell_type": "markdown",
      "source": [
        "##tuple to list"
      ],
      "metadata": {
        "id": "Wng7ivCY8tam"
      }
    },
    {
      "cell_type": "code",
      "source": [
        "village=('green','sand','stone')\n",
        "print(type(village),village)\n",
        "village1=list(village)\n",
        "print(type(village1),village1)"
      ],
      "metadata": {
        "colab": {
          "base_uri": "https://localhost:8080/"
        },
        "id": "qNMpkS5-8xkt",
        "outputId": "9614c6b9-e2fa-477f-cf1c-40481727c7c1"
      },
      "execution_count": null,
      "outputs": [
        {
          "output_type": "stream",
          "name": "stdout",
          "text": [
            "<class 'tuple'> ('green', 'sand', 'stone')\n",
            "<class 'list'> ['green', 'sand', 'stone']\n"
          ]
        }
      ]
    },
    {
      "cell_type": "markdown",
      "source": [
        "##tuple to SET"
      ],
      "metadata": {
        "id": "lU2hoALM83y_"
      }
    },
    {
      "cell_type": "code",
      "source": [
        "village=('green','sand','stone','stone')\n",
        "\n",
        "unique=set(village)\n",
        "\n",
        "print(unique)"
      ],
      "metadata": {
        "colab": {
          "base_uri": "https://localhost:8080/"
        },
        "id": "zXBsTzN487Iv",
        "outputId": "30600d7b-2571-419a-d0ea-1c770382e8cc"
      },
      "execution_count": 14,
      "outputs": [
        {
          "output_type": "stream",
          "name": "stdout",
          "text": [
            "{'green', 'sand', 'stone'}\n"
          ]
        }
      ]
    },
    {
      "cell_type": "markdown",
      "source": [
        "##9. Tuples are immutable\n",
        "\n",
        "    The values in the tuple cannot be updated or added"
      ],
      "metadata": {
        "id": "KuX1WHdaAbgo"
      }
    },
    {
      "cell_type": "code",
      "source": [
        "village=(\"hello\",\"Python\")\n",
        "village[0]=\"tello\"\n",
        "print(village)"
      ],
      "metadata": {
        "colab": {
          "base_uri": "https://localhost:8080/",
          "height": 200
        },
        "id": "s_rJokv2Aj1j",
        "outputId": "732e1320-2c13-430e-b5be-d8e3741318bc"
      },
      "execution_count": 15,
      "outputs": [
        {
          "output_type": "error",
          "ename": "TypeError",
          "evalue": "ignored",
          "traceback": [
            "\u001b[0;31m---------------------------------------------------------------------------\u001b[0m",
            "\u001b[0;31mTypeError\u001b[0m                                 Traceback (most recent call last)",
            "\u001b[0;32m<ipython-input-15-a5b8f4c1db86>\u001b[0m in \u001b[0;36m<cell line: 2>\u001b[0;34m()\u001b[0m\n\u001b[1;32m      1\u001b[0m \u001b[0mvillage\u001b[0m\u001b[0;34m=\u001b[0m\u001b[0;34m(\u001b[0m\u001b[0;34m\"hello\"\u001b[0m\u001b[0;34m,\u001b[0m\u001b[0;34m\"Python\"\u001b[0m\u001b[0;34m)\u001b[0m\u001b[0;34m\u001b[0m\u001b[0;34m\u001b[0m\u001b[0m\n\u001b[0;32m----> 2\u001b[0;31m \u001b[0mvillage\u001b[0m\u001b[0;34m[\u001b[0m\u001b[0;36m0\u001b[0m\u001b[0;34m]\u001b[0m\u001b[0;34m=\u001b[0m\u001b[0;34m\"tello\"\u001b[0m\u001b[0;34m\u001b[0m\u001b[0;34m\u001b[0m\u001b[0m\n\u001b[0m\u001b[1;32m      3\u001b[0m \u001b[0mprint\u001b[0m\u001b[0;34m(\u001b[0m\u001b[0mvillage\u001b[0m\u001b[0;34m)\u001b[0m\u001b[0;34m\u001b[0m\u001b[0;34m\u001b[0m\u001b[0m\n",
            "\u001b[0;31mTypeError\u001b[0m: 'tuple' object does not support item assignment"
          ]
        }
      ]
    },
    {
      "cell_type": "markdown",
      "source": [
        "    we can update a list inside a tuple"
      ],
      "metadata": {
        "id": "nvdIgY2JGYPU"
      }
    },
    {
      "cell_type": "code",
      "source": [
        "test=(1,2,3,[4,5])\n",
        "\n",
        "test[3].extend([100])\n",
        "\n",
        "print(test)"
      ],
      "metadata": {
        "colab": {
          "base_uri": "https://localhost:8080/"
        },
        "id": "U6CWleM9GW50",
        "outputId": "246995a9-5cd6-4b7f-8ab2-0df0c6666049"
      },
      "execution_count": 20,
      "outputs": [
        {
          "output_type": "stream",
          "name": "stdout",
          "text": [
            "(1, 2, 3, [4, 5, 100])\n"
          ]
        }
      ]
    },
    {
      "cell_type": "markdown",
      "source": [
        "##10. Tuple Deletion\n",
        "\n",
        "    It is not possible to delete a particular value in a tuple\n",
        "\n",
        "    But in list it is possible"
      ],
      "metadata": {
        "id": "v5Xb0OzSHWTq"
      }
    },
    {
      "cell_type": "code",
      "source": [
        "# Eg 1; Deletion of a list\n",
        "\n",
        "test=[1,2,3,4,5]\n",
        "\n",
        "del test[0]\n",
        "\n",
        "print(test)\n",
        "\n",
        "print(test[0])"
      ],
      "metadata": {
        "colab": {
          "base_uri": "https://localhost:8080/"
        },
        "id": "B2ZE5AfhGWun",
        "outputId": "5298c2a9-d867-4337-f57b-d15f00049fc1"
      },
      "execution_count": 17,
      "outputs": [
        {
          "output_type": "stream",
          "name": "stdout",
          "text": [
            "[2, 3, 4, 5]\n",
            "2\n"
          ]
        }
      ]
    },
    {
      "cell_type": "code",
      "source": [
        "# Eg 1; Deletion of a tuple\n",
        "\n",
        "test=(1,2,3,4,5)\n",
        "\n",
        "del test[0]\n",
        "\n",
        "print(test)\n",
        "\n",
        "print(test[0])"
      ],
      "metadata": {
        "colab": {
          "base_uri": "https://localhost:8080/",
          "height": 235
        },
        "id": "VUvkN-i8H0ML",
        "outputId": "f3a148d8-9ba0-49ae-a574-c253bbd10f9c"
      },
      "execution_count": 19,
      "outputs": [
        {
          "output_type": "error",
          "ename": "TypeError",
          "evalue": "ignored",
          "traceback": [
            "\u001b[0;31m---------------------------------------------------------------------------\u001b[0m",
            "\u001b[0;31mTypeError\u001b[0m                                 Traceback (most recent call last)",
            "\u001b[0;32m<ipython-input-19-b0c87c58bcfb>\u001b[0m in \u001b[0;36m<cell line: 5>\u001b[0;34m()\u001b[0m\n\u001b[1;32m      3\u001b[0m \u001b[0mtest\u001b[0m\u001b[0;34m=\u001b[0m\u001b[0;34m(\u001b[0m\u001b[0;36m1\u001b[0m\u001b[0;34m,\u001b[0m\u001b[0;36m2\u001b[0m\u001b[0;34m,\u001b[0m\u001b[0;36m3\u001b[0m\u001b[0;34m,\u001b[0m\u001b[0;36m4\u001b[0m\u001b[0;34m,\u001b[0m\u001b[0;36m5\u001b[0m\u001b[0;34m)\u001b[0m\u001b[0;34m\u001b[0m\u001b[0;34m\u001b[0m\u001b[0m\n\u001b[1;32m      4\u001b[0m \u001b[0;34m\u001b[0m\u001b[0m\n\u001b[0;32m----> 5\u001b[0;31m \u001b[0;32mdel\u001b[0m \u001b[0mtest\u001b[0m\u001b[0;34m[\u001b[0m\u001b[0;36m0\u001b[0m\u001b[0;34m]\u001b[0m\u001b[0;34m\u001b[0m\u001b[0;34m\u001b[0m\u001b[0m\n\u001b[0m\u001b[1;32m      6\u001b[0m \u001b[0;34m\u001b[0m\u001b[0m\n\u001b[1;32m      7\u001b[0m \u001b[0mprint\u001b[0m\u001b[0;34m(\u001b[0m\u001b[0mtest\u001b[0m\u001b[0;34m)\u001b[0m\u001b[0;34m\u001b[0m\u001b[0;34m\u001b[0m\u001b[0m\n",
            "\u001b[0;31mTypeError\u001b[0m: 'tuple' object doesn't support item deletion"
          ]
        }
      ]
    },
    {
      "cell_type": "markdown",
      "source": [
        "    Deletion can be possible with whole tuple\n",
        "\n",
        "*   List item\n",
        "*   List item\n",
        "\n",
        "\n",
        "    "
      ],
      "metadata": {
        "id": "ICg0oR7AH60p"
      }
    },
    {
      "cell_type": "code",
      "source": [
        "# Eg 1; Deletion of a whole tuple\n",
        "\n",
        "test=(1,2,3,4,5)\n",
        "\n",
        "del test\n",
        "\n",
        "print(test)\n"
      ],
      "metadata": {
        "colab": {
          "base_uri": "https://localhost:8080/",
          "height": 200
        },
        "id": "P3QgDJ_AH-zG",
        "outputId": "5b4e11bd-9714-4064-8d13-012afe90d904"
      },
      "execution_count": null,
      "outputs": [
        {
          "output_type": "error",
          "ename": "NameError",
          "evalue": "ignored",
          "traceback": [
            "\u001b[0;31m---------------------------------------------------------------------------\u001b[0m",
            "\u001b[0;31mNameError\u001b[0m                                 Traceback (most recent call last)",
            "\u001b[0;32m<ipython-input-77-a1dfae4343ad>\u001b[0m in \u001b[0;36m<cell line: 4>\u001b[0;34m()\u001b[0m\n\u001b[1;32m      2\u001b[0m \u001b[0mtest\u001b[0m\u001b[0;34m=\u001b[0m\u001b[0;34m(\u001b[0m\u001b[0;36m1\u001b[0m\u001b[0;34m,\u001b[0m\u001b[0;36m2\u001b[0m\u001b[0;34m,\u001b[0m\u001b[0;36m3\u001b[0m\u001b[0;34m,\u001b[0m\u001b[0;36m4\u001b[0m\u001b[0;34m,\u001b[0m\u001b[0;36m5\u001b[0m\u001b[0;34m)\u001b[0m\u001b[0;34m\u001b[0m\u001b[0;34m\u001b[0m\u001b[0m\n\u001b[1;32m      3\u001b[0m \u001b[0;32mdel\u001b[0m \u001b[0mtest\u001b[0m\u001b[0;34m\u001b[0m\u001b[0;34m\u001b[0m\u001b[0m\n\u001b[0;32m----> 4\u001b[0;31m \u001b[0mprint\u001b[0m\u001b[0;34m(\u001b[0m\u001b[0mtest\u001b[0m\u001b[0;34m)\u001b[0m\u001b[0;34m\u001b[0m\u001b[0;34m\u001b[0m\u001b[0m\n\u001b[0m",
            "\u001b[0;31mNameError\u001b[0m: name 'test' is not defined"
          ]
        }
      ]
    },
    {
      "cell_type": "code",
      "source": [
        "# clear not possible in tuple\n",
        "\n",
        "test=(1,2,3,4)\n",
        "\n",
        "test.clear()\n",
        "\n",
        "print(test)"
      ],
      "metadata": {
        "colab": {
          "base_uri": "https://localhost:8080/"
        },
        "id": "JsEIeVkEIHVU",
        "outputId": "c4636416-0200-448c-da3c-a494b3b52ff7"
      },
      "execution_count": null,
      "outputs": [
        {
          "output_type": "stream",
          "name": "stdout",
          "text": [
            "[]\n"
          ]
        }
      ]
    },
    {
      "cell_type": "markdown",
      "source": [
        "##11. Zip function\n",
        "\n",
        "    Zip can be used to pair the values\n",
        "\n",
        "    zip combines a,b in a tuple\n",
        "    test1=1,2,3,4\n",
        "    test2=1,2,3,4\n",
        "\n",
        "    Points to note:\n",
        "\n",
        "    zip with 2 or more are possible\n",
        "    put only 2 possible when we convert that into a dict"
      ],
      "metadata": {
        "id": "R3By79DvJqBZ"
      }
    },
    {
      "cell_type": "code",
      "source": [
        "##EG: zip with tuple\n",
        "\n",
        "test1=\"name1\",\"name2\",\"name3\",\"name4\"\n",
        "\n",
        "test2=1,2,3,4\n",
        "\n",
        "test3=zip(test1,test2)\n",
        "\n",
        "print(test3)\n",
        "\n",
        "print(tuple(test3))"
      ],
      "metadata": {
        "colab": {
          "base_uri": "https://localhost:8080/"
        },
        "id": "72lMLv2ZJ7Fo",
        "outputId": "3c2637bb-e98f-4bf3-9fc5-672f71a2f843"
      },
      "execution_count": 31,
      "outputs": [
        {
          "output_type": "stream",
          "name": "stdout",
          "text": [
            "<zip object at 0x7fb0dba22940>\n",
            "(('name1', 1), ('name2', 2), ('name3', 3), ('name4', 4))\n"
          ]
        }
      ]
    },
    {
      "cell_type": "code",
      "source": [
        "##EG: zip with list\n",
        "\n",
        "test1=\"name1\",\"name2\",\"name3\",\"name4\"\n",
        "\n",
        "test2=1,2,3,4\n",
        "\n",
        "test3=zip(test1,test2)\n",
        "\n",
        "print(test3)\n",
        "\n",
        "print(list(test3))"
      ],
      "metadata": {
        "colab": {
          "base_uri": "https://localhost:8080/"
        },
        "id": "TksYif_BE9wL",
        "outputId": "6325e984-ab49-41bb-9d3c-61d56a11b7b4"
      },
      "execution_count": 32,
      "outputs": [
        {
          "output_type": "stream",
          "name": "stdout",
          "text": [
            "<zip object at 0x7fb0dbbbccc0>\n",
            "[('name1', 1), ('name2', 2), ('name3', 3), ('name4', 4)]\n"
          ]
        }
      ]
    },
    {
      "cell_type": "code",
      "source": [
        "##EG: zip with dict\n",
        "\n",
        "test1=\"name1\",\"name2\",\"name3\",\"name4\"\n",
        "\n",
        "test2=1,2,3,4\n",
        "\n",
        "test3=zip(test1,test2)\n",
        "\n",
        "print(test3)\n",
        "\n",
        "print(dict(test3))"
      ],
      "metadata": {
        "id": "2R6TQYUNOecf",
        "colab": {
          "base_uri": "https://localhost:8080/"
        },
        "outputId": "a9ed635b-df8e-4e4d-8544-227a3546efe8"
      },
      "execution_count": 30,
      "outputs": [
        {
          "output_type": "stream",
          "name": "stdout",
          "text": [
            "<zip object at 0x7fb0dba20d80>\n",
            "{'name1': 1, 'name2': 2, 'name3': 3, 'name4': 4}\n"
          ]
        }
      ]
    },
    {
      "cell_type": "code",
      "source": [
        "#zip with 3 variables\n",
        "\n",
        "test1=\"name1\",\"name2\",\"name3\",\"name4\"\n",
        "\n",
        "test2=1,2,3,4\n",
        "\n",
        "test3=\"naruto\",\"sarutobi\",\"kakashi\",\"lee\"\n",
        "\n",
        "test4=zip(test1,test2,test3)\n",
        "\n",
        "print(test4)\n",
        "\n",
        "print(list(test4))"
      ],
      "metadata": {
        "colab": {
          "base_uri": "https://localhost:8080/"
        },
        "id": "PqRtk01OPbs5",
        "outputId": "cb82149a-994f-403d-c382-de3954232c41"
      },
      "execution_count": 29,
      "outputs": [
        {
          "output_type": "stream",
          "name": "stdout",
          "text": [
            "<zip object at 0x7fb0dbbdc200>\n",
            "[('name1', 1, 'naruto'), ('name2', 2, 'sarutobi'), ('name3', 3, 'kakashi'), ('name4', 4, 'lee')]\n"
          ]
        }
      ]
    }
  ]
}