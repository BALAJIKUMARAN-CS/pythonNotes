{
  "nbformat": 4,
  "nbformat_minor": 0,
  "metadata": {
    "colab": {
      "provenance": [],
      "authorship_tag": "ABX9TyO4a3plJR6gETThOyP5brFu",
      "include_colab_link": true
    },
    "kernelspec": {
      "name": "python3",
      "display_name": "Python 3"
    },
    "language_info": {
      "name": "python"
    }
  },
  "cells": [
    {
      "cell_type": "markdown",
      "metadata": {
        "id": "view-in-github",
        "colab_type": "text"
      },
      "source": [
        "<a href=\"https://colab.research.google.com/github/BALAJIKUMARAN-CS/pythonNotes/blob/main/pythonFunction.ipynb\" target=\"_parent\"><img src=\"https://colab.research.google.com/assets/colab-badge.svg\" alt=\"Open In Colab\"/></a>"
      ]
    },
    {
      "cell_type": "markdown",
      "source": [
        "**Notes by BALAJIKUMARAN CS**"
      ],
      "metadata": {
        "id": "hLOMlBOqzxeT"
      }
    },
    {
      "cell_type": "markdown",
      "source": [
        "#Functions:\n",
        "\n",
        "    1. Function\n",
        "    \n",
        "    2. Function invocation\n",
        "    \n",
        "    3. Function Documentation\n",
        "    \n",
        "    4. Meta data information\n",
        "    \n",
        "    5. Assign function to a variable\n",
        "    \n",
        "    6. Global variable\n",
        "    \n",
        "    7. Error inside the function\n",
        "    \n",
        "    8. Python Function Arguments\n",
        "    \n",
        "    9. simple Squre program\n",
        "    \n",
        "    10. Referencing Global variables\n",
        "    \n",
        "    11. Function arguments accepts all kind of data types\n",
        "    \n",
        "    12. Input Argument vs return value\n",
        "    \n",
        "    13. Empty return (None)\n",
        "\n",
        "    14. Multiple return Values\n",
        "\n",
        "    15. Multiple Variable assignment for result\n",
        "\n",
        "    16. Invoke Function inside the Function\n",
        "\n",
        "    17. Keyword Arguments\n",
        "\n",
        "    18. Positional Arguments vs keyword Arguments\n",
        "\n",
        "    19. Default arguments\n",
        "\n",
        "    20. Variable Length arguments(*args) --> positional argument\n",
        "\n",
        "    21. Unpack scenario\n",
        "\n",
        "    22. Variable length arguments(**kwargs) --> keyword argument\n",
        "\n",
        "    24. important note\n"
      ],
      "metadata": {
        "id": "Xz5i2rdUJE9f"
      }
    },
    {
      "cell_type": "markdown",
      "source": [
        "#1. Function :\n",
        "    function is a block of code which only runs when it is called.\n",
        "\n",
        "    You can pass data, known as parameters, into a function.\n",
        "\n",
        "    A function can return data as a result.\n",
        "\n",
        "    It is a reusable bit of code.\n",
        "\n",
        "    In Python a function is defined using the def keyword:\n"
      ],
      "metadata": {
        "id": "1SX09bmCJEst"
      }
    },
    {
      "cell_type": "code",
      "execution_count": null,
      "metadata": {
        "id": "DE5BxTyzI5_G"
      },
      "outputs": [],
      "source": [
        "def myFunction():\n",
        "  print(\"Hello Im in function\")"
      ]
    },
    {
      "cell_type": "markdown",
      "source": [
        "#2. Function Invocation:\n",
        "\n",
        "    We use name of a function + () to invoke (call) a function"
      ],
      "metadata": {
        "id": "f-_Fgr93Jv6k"
      }
    },
    {
      "cell_type": "code",
      "source": [
        "myFunction()"
      ],
      "metadata": {
        "colab": {
          "base_uri": "https://localhost:8080/"
        },
        "id": "IloW4CL1Jt6G",
        "outputId": "a4bf94ec-bbb6-483e-9d9d-54e004df73f5"
      },
      "execution_count": null,
      "outputs": [
        {
          "output_type": "stream",
          "name": "stdout",
          "text": [
            "Hello Im in function\n"
          ]
        }
      ]
    },
    {
      "cell_type": "markdown",
      "source": [
        "#3. Function Indentation:\n",
        "\n",
        "    indentation is properly followed in python function\n",
        "\n",
        "    We can write the function definition within the def block\n",
        "\n"
      ],
      "metadata": {
        "id": "uC5ISLWkKSgN"
      }
    },
    {
      "cell_type": "code",
      "source": [
        "def myServer():\n",
        "  print(\"Im in my server\")\n",
        "print(\"hello im outside the function\")"
      ],
      "metadata": {
        "colab": {
          "base_uri": "https://localhost:8080/"
        },
        "id": "-CTWSagjKoB-",
        "outputId": "97bd3b06-fee8-4968-ef74-69077bc7e684"
      },
      "execution_count": null,
      "outputs": [
        {
          "output_type": "stream",
          "name": "stdout",
          "text": [
            "hello im outside the function\n"
          ]
        }
      ]
    },
    {
      "cell_type": "code",
      "source": [
        "def myServer():\n",
        "  print(\"Im in my server\")\n",
        "print(\"hello im outside the function\")\n",
        "myServer()"
      ],
      "metadata": {
        "colab": {
          "base_uri": "https://localhost:8080/"
        },
        "id": "Jq3j-ZiHK5Dx",
        "outputId": "67574ae5-1f98-4670-d7a1-c116862027b8"
      },
      "execution_count": null,
      "outputs": [
        {
          "output_type": "stream",
          "name": "stdout",
          "text": [
            "hello im outside the function\n",
            "Im in my server\n"
          ]
        }
      ]
    },
    {
      "cell_type": "code",
      "source": [
        "#Indentation Fail:\n",
        "\n",
        "def willNotwork():\n",
        "print(\"Fail\")"
      ],
      "metadata": {
        "colab": {
          "base_uri": "https://localhost:8080/",
          "height": 130
        },
        "id": "RMN09rTcLR00",
        "outputId": "e62b3707-0bf6-4aed-8cee-a739f4d1fd8d"
      },
      "execution_count": null,
      "outputs": [
        {
          "output_type": "error",
          "ename": "IndentationError",
          "evalue": "ignored",
          "traceback": [
            "\u001b[0;36m  File \u001b[0;32m\"<ipython-input-8-41f583bf5025>\"\u001b[0;36m, line \u001b[0;32m2\u001b[0m\n\u001b[0;31m    print(\"Fail\")\u001b[0m\n\u001b[0m    ^\u001b[0m\n\u001b[0;31mIndentationError\u001b[0m\u001b[0;31m:\u001b[0m expected an indented block after function definition on line 1\n"
          ]
        }
      ]
    },
    {
      "cell_type": "code",
      "source": [
        "#If loop with Proper Indentation in a function\n",
        "\n",
        "def ifLoopFunction():\n",
        "  print(\"Indentation is all right\")\n",
        "\n",
        "  if 10>5:\n",
        "    print(\"10 is greater than 5\")\n",
        "\n",
        "ifLoopFunction()"
      ],
      "metadata": {
        "colab": {
          "base_uri": "https://localhost:8080/"
        },
        "id": "A-E0NugWLja7",
        "outputId": "3e3696a6-6e17-4072-dbcc-c8ac7435eec2"
      },
      "execution_count": null,
      "outputs": [
        {
          "output_type": "stream",
          "name": "stdout",
          "text": [
            "Indentation is all right\n",
            "10 is greater than 5\n"
          ]
        }
      ]
    },
    {
      "cell_type": "code",
      "source": [
        "#For loop with Proper Indentation in a function\n",
        "\n",
        "def forLoopFunction():\n",
        "  print(\"Indentation is all right\")\n",
        "\n",
        "  for i in range(10):\n",
        "    print(\"The value of i is :\",i)\n",
        "\n",
        "forLoopFunction()"
      ],
      "metadata": {
        "colab": {
          "base_uri": "https://localhost:8080/"
        },
        "id": "_31hAagrL5Yx",
        "outputId": "92e4a777-970e-4000-9eeb-a9a117887e28"
      },
      "execution_count": null,
      "outputs": [
        {
          "output_type": "stream",
          "name": "stdout",
          "text": [
            "Indentation is all right\n",
            "The value of i is : 0\n",
            "The value of i is : 1\n",
            "The value of i is : 2\n",
            "The value of i is : 3\n",
            "The value of i is : 4\n",
            "The value of i is : 5\n",
            "The value of i is : 6\n",
            "The value of i is : 7\n",
            "The value of i is : 8\n",
            "The value of i is : 9\n"
          ]
        }
      ]
    },
    {
      "cell_type": "markdown",
      "source": [
        "#3. Function Documentation\n",
        "\n",
        "    We can derive function documentation inside the function.-> It helps other user to understand about the function\n",
        "\n",
        "    Documentation can be written within \"\"\" \"\"\" triple quotes\n",
        "\n",
        "    We can use print statement to print the document without \\n\n",
        "\n",
        "    How to read the document of the function if available:\n",
        "    ______________________________________________________\n",
        "\n",
        "    function name.__doc__\n",
        "\n",
        "    ______________________________________________________\n",
        "\n"
      ],
      "metadata": {
        "id": "JgUVP0m_XDsA"
      }
    },
    {
      "cell_type": "code",
      "source": [
        "def documentationFunction():\n",
        "  \"\"\"This is well documented\"\"\"\n",
        "  print(\"Hello I'm in function\")\n",
        "\n",
        "documentationFunction.__doc__"
      ],
      "metadata": {
        "colab": {
          "base_uri": "https://localhost:8080/",
          "height": 35
        },
        "id": "bCl0xIZRXfOL",
        "outputId": "3431cf20-d3fe-4079-e5d1-ad5580daea54"
      },
      "execution_count": null,
      "outputs": [
        {
          "output_type": "execute_result",
          "data": {
            "text/plain": [
              "'This is well documented'"
            ],
            "application/vnd.google.colaboratory.intrinsic+json": {
              "type": "string"
            }
          },
          "metadata": {},
          "execution_count": 19
        }
      ]
    },
    {
      "cell_type": "code",
      "source": [
        "def print_many_times_with_doc(string, times):\n",
        "\n",
        "    \"\"\"\n",
        "        Prints the specified string the specified number of times\n",
        "\n",
        "        The first argument is the string you want printed, the second\n",
        "        argument is the number of times you want the string printed\n",
        "\n",
        "        Parameters (both required):\n",
        "        string(str): The string to be printed\n",
        "        times(int): The number of times the string should be printed\n",
        "\n",
        "        Returns:\n",
        "        No return value\n",
        "\n",
        "    \"\"\"\n",
        "\n",
        "    for i in range(times):\n",
        "        print(string)\n",
        "\n",
        "print_many_times_with_doc.__doc__"
      ],
      "metadata": {
        "colab": {
          "base_uri": "https://localhost:8080/",
          "height": 70
        },
        "id": "RcB-7HdtUBKi",
        "outputId": "fceb221e-164c-408d-acd4-4d80988d6a99"
      },
      "execution_count": null,
      "outputs": [
        {
          "output_type": "execute_result",
          "data": {
            "text/plain": [
              "'\\n        Prints the specified string the specified number of times\\n        \\n        The first argument is the string you want printed, the second\\n        argument is the number of times you want the string printed\\n        \\n        Parameters (both required):\\n        string(str): The string to be printed\\n        times(int): The number of times the string should be printed\\n        \\n        Returns:\\n        No return value\\n    \\n    '"
            ],
            "application/vnd.google.colaboratory.intrinsic+json": {
              "type": "string"
            }
          },
          "metadata": {},
          "execution_count": 1
        }
      ]
    },
    {
      "cell_type": "code",
      "source": [
        "#Eg : print without \\n\n",
        "\n",
        "def print_many_times_with_doc(string, times):\n",
        "\n",
        "    \"\"\"\n",
        "        Prints the specified string the specified number of times\n",
        "\n",
        "        The first argument is the string you want printed, the second\n",
        "        argument is the number of times you want the string printed\n",
        "\n",
        "        Parameters (both required):\n",
        "        string(str): The string to be printed\n",
        "        times(int): The number of times the string should be printed\n",
        "\n",
        "        Returns:\n",
        "        No return value\n",
        "\n",
        "    \"\"\"\n",
        "\n",
        "    for i in range(times):\n",
        "        print(string)\n",
        "\n",
        "print(print_many_times_with_doc.__doc__)"
      ],
      "metadata": {
        "colab": {
          "base_uri": "https://localhost:8080/"
        },
        "id": "3kBUz1keUKrC",
        "outputId": "0dd778d0-e0d9-4c1a-a48d-903b51bd958c"
      },
      "execution_count": null,
      "outputs": [
        {
          "output_type": "stream",
          "name": "stdout",
          "text": [
            "\n",
            "        Prints the specified string the specified number of times\n",
            "        \n",
            "        The first argument is the string you want printed, the second\n",
            "        argument is the number of times you want the string printed\n",
            "        \n",
            "        Parameters (both required):\n",
            "        string(str): The string to be printed\n",
            "        times(int): The number of times the string should be printed\n",
            "        \n",
            "        Returns:\n",
            "        No return value\n",
            "    \n",
            "    \n"
          ]
        }
      ]
    },
    {
      "cell_type": "markdown",
      "source": [
        "#4. Metadata information\n",
        "\n",
        "    we can invoke function without paranthesis () . --> It will shows the metadata info about your function object"
      ],
      "metadata": {
        "id": "OMDMpq5NYUP7"
      }
    },
    {
      "cell_type": "code",
      "source": [
        "def documentationFunction():\n",
        "\n",
        "  print(\"Hello I'm in function\")\n",
        "\n",
        "documentationFunction #-->shows meta data information about the function object"
      ],
      "metadata": {
        "colab": {
          "base_uri": "https://localhost:8080/"
        },
        "id": "xT_oJRcNXjSO",
        "outputId": "879eee60-3874-4cde-fc43-92d0cbf4a8ee"
      },
      "execution_count": null,
      "outputs": [
        {
          "output_type": "execute_result",
          "data": {
            "text/plain": [
              "<function __main__.documentationFunction()>"
            ]
          },
          "metadata": {},
          "execution_count": 18
        }
      ]
    },
    {
      "cell_type": "markdown",
      "source": [
        "#5. Assign Function to a variable\n",
        "\n",
        "    we can assign a variable to a function\n",
        "\n",
        "    Eg:\n",
        "\n",
        "    assign = name\n",
        "\n",
        "\n",
        "    Here \"name\" function is assigned to a variable \"assign\"\n",
        "\n",
        "    assign is a variable that has a reference to your original function object"
      ],
      "metadata": {
        "id": "QGETV-MUZagQ"
      }
    },
    {
      "cell_type": "code",
      "source": [
        "def documentationFunction():\n",
        "\n",
        "  print(\"Hello I'm in function\")\n",
        "\n",
        "assign = documentationFunction"
      ],
      "metadata": {
        "id": "qRsGgejnZd2J"
      },
      "execution_count": null,
      "outputs": []
    },
    {
      "cell_type": "code",
      "source": [
        "assign"
      ],
      "metadata": {
        "colab": {
          "base_uri": "https://localhost:8080/"
        },
        "id": "tlGxzIbeZk5T",
        "outputId": "257511b4-4c7d-4f7f-fee9-bf21729f508a"
      },
      "execution_count": null,
      "outputs": [
        {
          "output_type": "execute_result",
          "data": {
            "text/plain": [
              "<function __main__.documentationFunction()>"
            ]
          },
          "metadata": {},
          "execution_count": 27
        }
      ]
    },
    {
      "cell_type": "code",
      "source": [
        "assign()\n",
        "documentationFunction()"
      ],
      "metadata": {
        "colab": {
          "base_uri": "https://localhost:8080/"
        },
        "id": "s4Vku3BiaiOG",
        "outputId": "98c574ed-f3b2-4dc1-fc4a-c0c6d6023be3"
      },
      "execution_count": null,
      "outputs": [
        {
          "output_type": "stream",
          "name": "stdout",
          "text": [
            "Hello I'm in function\n",
            "Hello I'm in function\n"
          ]
        }
      ]
    },
    {
      "cell_type": "markdown",
      "source": [
        "#6. Global variable:\n",
        "\n",
        "      The variable declared outside the function are accessible within the function"
      ],
      "metadata": {
        "id": "Ii0ZPWHKa4oU"
      }
    },
    {
      "cell_type": "code",
      "source": [
        "name=\"naruto\"\n",
        "\n",
        "def shippuden():\n",
        "  print(\"The name is :\",name)\n",
        "\n",
        "shippuden()"
      ],
      "metadata": {
        "colab": {
          "base_uri": "https://localhost:8080/"
        },
        "id": "PDeeMQ_9a4FU",
        "outputId": "64d90e6a-c8c7-484b-a1ea-bf6263b74b8d"
      },
      "execution_count": null,
      "outputs": [
        {
          "output_type": "stream",
          "name": "stdout",
          "text": [
            "The name is : naruto\n"
          ]
        }
      ]
    },
    {
      "cell_type": "markdown",
      "source": [
        "#7. Error inside the Function:\n",
        "\n",
        "    If we made any error inside the function. It does not throw error untill we invoke the function\n",
        "\n",
        "    It throws error only during function invocation.\n",
        "\n",
        "    Note:\n",
        "    ____________________________________________________________________________\n",
        "\n",
        "    The syntax and indentation error can be identified before function invocation\n",
        "\n",
        "    ____________________________________________________________________________"
      ],
      "metadata": {
        "id": "_2nkTxXCdMwd"
      }
    },
    {
      "cell_type": "code",
      "source": [
        "#Eg : function with error\n",
        "\n",
        "print(\"no error\")\n",
        "def errorFunction():\n",
        "\n",
        "    result = \"a\"+2\n",
        "    print(result)\n"
      ],
      "metadata": {
        "colab": {
          "base_uri": "https://localhost:8080/"
        },
        "id": "9NEtnV3wcj0m",
        "outputId": "b1e79233-ecaf-4fc4-956e-b5fcb3ab61b9"
      },
      "execution_count": null,
      "outputs": [
        {
          "output_type": "stream",
          "name": "stdout",
          "text": [
            "no error\n"
          ]
        }
      ]
    },
    {
      "cell_type": "code",
      "source": [
        "def print_higher_number_with_error(a, b):\n",
        "\n",
        "    if a > b:\n",
        "        print(\"Higher number is\", a)\n",
        "    else:\n",
        "        print(\"Higher number is\", b)\n",
        "        result = b + \"a\"\n",
        "\n",
        "print_higher_number_with_error(10,8)\n",
        "\n",
        "#Here else is not evaluated. so error not identified by python"
      ],
      "metadata": {
        "colab": {
          "base_uri": "https://localhost:8080/"
        },
        "id": "SP1-vSaJUuE1",
        "outputId": "2ec1b417-d39d-4eac-9d1d-ea6234b230f3"
      },
      "execution_count": null,
      "outputs": [
        {
          "output_type": "stream",
          "name": "stdout",
          "text": [
            "Higher number is 10\n"
          ]
        }
      ]
    },
    {
      "cell_type": "code",
      "source": [
        "#Eg : Error During invocation\n",
        "\n",
        "def errorFunction1():\n",
        "\n",
        "    result = \"a\"+2\n",
        "    print(result)\n",
        "\n",
        "errorFunction1()\n"
      ],
      "metadata": {
        "colab": {
          "base_uri": "https://localhost:8080/",
          "height": 321
        },
        "id": "qW-2C6QOeDvL",
        "outputId": "a56d6c2d-9fe5-496f-c94e-d24e49441d2a"
      },
      "execution_count": null,
      "outputs": [
        {
          "output_type": "error",
          "ename": "TypeError",
          "evalue": "ignored",
          "traceback": [
            "\u001b[0;31m---------------------------------------------------------------------------\u001b[0m",
            "\u001b[0;31mTypeError\u001b[0m                                 Traceback (most recent call last)",
            "\u001b[0;32m<ipython-input-42-80941b18fcd9>\u001b[0m in \u001b[0;36m<cell line: 8>\u001b[0;34m()\u001b[0m\n\u001b[1;32m      6\u001b[0m     \u001b[0mprint\u001b[0m\u001b[0;34m(\u001b[0m\u001b[0mresult\u001b[0m\u001b[0;34m)\u001b[0m\u001b[0;34m\u001b[0m\u001b[0;34m\u001b[0m\u001b[0m\n\u001b[1;32m      7\u001b[0m \u001b[0;34m\u001b[0m\u001b[0m\n\u001b[0;32m----> 8\u001b[0;31m \u001b[0merrorFunction1\u001b[0m\u001b[0;34m(\u001b[0m\u001b[0;34m)\u001b[0m\u001b[0;34m\u001b[0m\u001b[0;34m\u001b[0m\u001b[0m\n\u001b[0m",
            "\u001b[0;32m<ipython-input-42-80941b18fcd9>\u001b[0m in \u001b[0;36merrorFunction1\u001b[0;34m()\u001b[0m\n\u001b[1;32m      3\u001b[0m \u001b[0;32mdef\u001b[0m \u001b[0merrorFunction1\u001b[0m\u001b[0;34m(\u001b[0m\u001b[0;34m)\u001b[0m\u001b[0;34m:\u001b[0m\u001b[0;34m\u001b[0m\u001b[0;34m\u001b[0m\u001b[0m\n\u001b[1;32m      4\u001b[0m \u001b[0;34m\u001b[0m\u001b[0m\n\u001b[0;32m----> 5\u001b[0;31m     \u001b[0mresult\u001b[0m \u001b[0;34m=\u001b[0m \u001b[0;34m\"a\"\u001b[0m\u001b[0;34m+\u001b[0m\u001b[0;36m2\u001b[0m\u001b[0;34m\u001b[0m\u001b[0;34m\u001b[0m\u001b[0m\n\u001b[0m\u001b[1;32m      6\u001b[0m     \u001b[0mprint\u001b[0m\u001b[0;34m(\u001b[0m\u001b[0mresult\u001b[0m\u001b[0;34m)\u001b[0m\u001b[0;34m\u001b[0m\u001b[0;34m\u001b[0m\u001b[0m\n\u001b[1;32m      7\u001b[0m \u001b[0;34m\u001b[0m\u001b[0m\n",
            "\u001b[0;31mTypeError\u001b[0m: can only concatenate str (not \"int\") to str"
          ]
        }
      ]
    },
    {
      "cell_type": "code",
      "source": [
        "#Eg : The syntax error can be identified before function invocation\n",
        "\n",
        "def syntaxError():\n",
        "\n",
        "  \"1\"+\"3\n"
      ],
      "metadata": {
        "colab": {
          "base_uri": "https://localhost:8080/",
          "height": 130
        },
        "id": "RrvMYxUMejHf",
        "outputId": "9067915c-95ca-4cb9-e107-a0bcaf8da331"
      },
      "execution_count": null,
      "outputs": [
        {
          "output_type": "error",
          "ename": "SyntaxError",
          "evalue": "ignored",
          "traceback": [
            "\u001b[0;36m  File \u001b[0;32m\"<ipython-input-44-48a835d19361>\"\u001b[0;36m, line \u001b[0;32m5\u001b[0m\n\u001b[0;31m    \"1\"+\"3\u001b[0m\n\u001b[0m        ^\u001b[0m\n\u001b[0;31mSyntaxError\u001b[0m\u001b[0;31m:\u001b[0m unterminated string literal (detected at line 5)\n"
          ]
        }
      ]
    },
    {
      "cell_type": "markdown",
      "source": [
        "#8. Python Function Arguments\n",
        "\n",
        "    Information can be passed into functions as arguments.\n",
        "\n",
        "\n",
        "    Arguments are specified after the function name, inside the parentheses.\n",
        "    \n",
        "    You can add as many arguments as you want, just separate them with a comma."
      ],
      "metadata": {
        "id": "V_B7OI8pfceu"
      }
    },
    {
      "cell_type": "code",
      "source": [
        "#Eg 1 : single argument\n",
        "\n",
        "def functionInput(ip):\n",
        "\n",
        "    print(\"Im\",ip)\n",
        "\n",
        "functionInput(\"naruto\")\n",
        "\n",
        "\n",
        "# Here\n",
        "# ip= \"naruto\"\n",
        ""
      ],
      "metadata": {
        "colab": {
          "base_uri": "https://localhost:8080/"
        },
        "id": "VsBKXO8TgBmE",
        "outputId": "8521ba28-79a0-4f91-b5a9-f1b03d19d5d6"
      },
      "execution_count": null,
      "outputs": [
        {
          "output_type": "stream",
          "name": "stdout",
          "text": [
            "Im naruto\n"
          ]
        }
      ]
    },
    {
      "cell_type": "code",
      "source": [
        "#Eg 1 : single argument\n",
        "\n",
        "def functionNaruto(name, clan, power):\n",
        "\n",
        "    print(\"Im\", name)\n",
        "    print(f\"\\nIm belongs to {clan} clan\")\n",
        "    print(f\"\\n{power} is my super power\")\n",
        "\n",
        "functionNaruto(\"naruto\",\"uzumaki\",\"rasengan\")\n",
        "\n",
        "\n",
        ""
      ],
      "metadata": {
        "colab": {
          "base_uri": "https://localhost:8080/"
        },
        "id": "TWu9jyuchObf",
        "outputId": "5d98c0de-0a84-434d-aee6-3ba28d5ddec5"
      },
      "execution_count": null,
      "outputs": [
        {
          "output_type": "stream",
          "name": "stdout",
          "text": [
            "Im naruto\n",
            "\n",
            "Im belongs to uzumaki clan\n",
            "\n",
            "rasengan is my super power\n"
          ]
        }
      ]
    },
    {
      "cell_type": "markdown",
      "source": [
        "#9. Simple Square Program:\n",
        "\n",
        "    Write a function to perform square of a number"
      ],
      "metadata": {
        "id": "nxJ6pdvxmN6x"
      }
    },
    {
      "cell_type": "code",
      "source": [
        "def square(x):\n",
        "  print(f\"The square of {x} is {x*x}\")\n",
        "\n",
        "square(10)"
      ],
      "metadata": {
        "colab": {
          "base_uri": "https://localhost:8080/"
        },
        "id": "WxHOMNXTmVy6",
        "outputId": "a54ee48b-325e-4958-b1bc-95fac4a614b7"
      },
      "execution_count": null,
      "outputs": [
        {
          "output_type": "stream",
          "name": "stdout",
          "text": [
            "The square of 10 is 100\n"
          ]
        }
      ]
    },
    {
      "cell_type": "markdown",
      "source": [
        " Write a function to perform square of a user given number"
      ],
      "metadata": {
        "id": "qU72mUe8mtAF"
      }
    },
    {
      "cell_type": "code",
      "source": [
        "def square(x):\n",
        "  print(f\"The square of {x} is {x*x}\")\n",
        "\n",
        "num = int(input(\"Enter your number : \"))\n",
        "square(num)"
      ],
      "metadata": {
        "colab": {
          "base_uri": "https://localhost:8080/"
        },
        "id": "gUaRpDQwmy9Z",
        "outputId": "a308e557-7a7d-42c2-efff-50f009a8103e"
      },
      "execution_count": null,
      "outputs": [
        {
          "output_type": "stream",
          "name": "stdout",
          "text": [
            "Enter your number : 20\n",
            "The square of 20 is 400\n"
          ]
        }
      ]
    },
    {
      "cell_type": "markdown",
      "source": [
        "#10. Referencing Global variables:"
      ],
      "metadata": {
        "id": "hBXkc5R3oHEr"
      }
    },
    {
      "cell_type": "code",
      "source": [
        "#Here Global variable is not taken: If we have same name for global variable and function variable. The function takes function variable as first priority\n",
        "\n",
        "salary = 1000\n",
        "expense =500\n",
        "\n",
        "def mySavings(salary, expense):\n",
        "\n",
        "    print(f\"The total savings is {salary-expense}\")\n",
        "\n",
        "mySavings(100,200)\n",
        "\n",
        "print(salary)\n",
        "print(expense)"
      ],
      "metadata": {
        "colab": {
          "base_uri": "https://localhost:8080/"
        },
        "id": "5-_QQT3LoK7L",
        "outputId": "1155753e-7fef-4662-8399-ad96946bcabb"
      },
      "execution_count": null,
      "outputs": [
        {
          "output_type": "stream",
          "name": "stdout",
          "text": [
            "The total savings is -100\n",
            "1000\n",
            "500\n"
          ]
        }
      ]
    },
    {
      "cell_type": "code",
      "source": [
        "#Here the variable name is different in function and global. so code works as per the variable which is used\n",
        "\n",
        "salary = 1000\n",
        "expense =500\n",
        "\n",
        "def mySavings(a, b):\n",
        "\n",
        "    print(f\"The total savings is {salary-expense}\")\n",
        "\n",
        "mySavings(100,200)\n",
        "\n",
        "print(salary)\n",
        "print(expense)"
      ],
      "metadata": {
        "colab": {
          "base_uri": "https://localhost:8080/"
        },
        "id": "FLoKm0wApELA",
        "outputId": "48168ca6-2795-486b-d97a-06e0cebd5282"
      },
      "execution_count": null,
      "outputs": [
        {
          "output_type": "stream",
          "name": "stdout",
          "text": [
            "The total savings is 500\n",
            "1000\n",
            "500\n"
          ]
        }
      ]
    },
    {
      "cell_type": "code",
      "source": [
        "#Here throws an error because args not passed during function invocation\n",
        "\n",
        "salary = 1000\n",
        "expense =500\n",
        "\n",
        "def mySavings(a, b):\n",
        "\n",
        "    print(f\"The total savings is {salary-expense}\")\n",
        "\n",
        "mySavings()\n",
        "\n",
        "print(salary)\n",
        "print(expense)"
      ],
      "metadata": {
        "colab": {
          "base_uri": "https://localhost:8080/",
          "height": 235
        },
        "id": "y4RYjCUapb4u",
        "outputId": "a065c2ae-2ab0-46e1-b1ac-98e0787850de"
      },
      "execution_count": null,
      "outputs": [
        {
          "output_type": "error",
          "ename": "TypeError",
          "evalue": "ignored",
          "traceback": [
            "\u001b[0;31m---------------------------------------------------------------------------\u001b[0m",
            "\u001b[0;31mTypeError\u001b[0m                                 Traceback (most recent call last)",
            "\u001b[0;32m<ipython-input-66-6dd7228db988>\u001b[0m in \u001b[0;36m<cell line: 10>\u001b[0;34m()\u001b[0m\n\u001b[1;32m      8\u001b[0m     \u001b[0mprint\u001b[0m\u001b[0;34m(\u001b[0m\u001b[0;34mf\"The total savings is {salary-expense}\"\u001b[0m\u001b[0;34m)\u001b[0m\u001b[0;34m\u001b[0m\u001b[0;34m\u001b[0m\u001b[0m\n\u001b[1;32m      9\u001b[0m \u001b[0;34m\u001b[0m\u001b[0m\n\u001b[0;32m---> 10\u001b[0;31m \u001b[0mmySavings\u001b[0m\u001b[0;34m(\u001b[0m\u001b[0;34m)\u001b[0m\u001b[0;34m\u001b[0m\u001b[0;34m\u001b[0m\u001b[0m\n\u001b[0m\u001b[1;32m     11\u001b[0m \u001b[0;34m\u001b[0m\u001b[0m\n\u001b[1;32m     12\u001b[0m \u001b[0mprint\u001b[0m\u001b[0;34m(\u001b[0m\u001b[0msalary\u001b[0m\u001b[0;34m)\u001b[0m\u001b[0;34m\u001b[0m\u001b[0;34m\u001b[0m\u001b[0m\n",
            "\u001b[0;31mTypeError\u001b[0m: mySavings() missing 2 required positional arguments: 'a' and 'b'"
          ]
        }
      ]
    },
    {
      "cell_type": "markdown",
      "source": [
        "#11. Function arguments accepts all kind of data types\n",
        "\n",
        "      funtion accepts all kind of data types\n",
        "      Eg: num, int,str,float,bool,list,tuple,dict"
      ],
      "metadata": {
        "id": "x5qADjTWVnnn"
      }
    },
    {
      "cell_type": "code",
      "source": [
        "def length(some_list):\n",
        "\n",
        "    count = 0\n",
        "    for element in some_list:\n",
        "        count += 1\n",
        "        print(f\"The count is increased to {count}\\n\")\n",
        "    print(\"The length of the list is\", count)\n",
        "\n",
        "listNum=[1,3,4,\"Test\"]\n",
        "\n",
        "length(listNum)"
      ],
      "metadata": {
        "colab": {
          "base_uri": "https://localhost:8080/"
        },
        "id": "rDXJ_uwHVnKl",
        "outputId": "2d13d304-aeb2-41e4-e903-daadd84da352"
      },
      "execution_count": null,
      "outputs": [
        {
          "output_type": "stream",
          "name": "stdout",
          "text": [
            "The count is increased to 1\n",
            "\n",
            "The count is increased to 2\n",
            "\n",
            "The count is increased to 3\n",
            "\n",
            "The count is increased to 4\n",
            "\n",
            "The length of the list is 4\n"
          ]
        }
      ]
    },
    {
      "cell_type": "code",
      "source": [
        "length([4.5, 7.8, 3.3])"
      ],
      "metadata": {
        "colab": {
          "base_uri": "https://localhost:8080/"
        },
        "id": "s_YEBS-AWuxc",
        "outputId": "b70b078a-6e49-48db-a076-206c1f9c298b"
      },
      "execution_count": null,
      "outputs": [
        {
          "output_type": "stream",
          "name": "stdout",
          "text": [
            "The count is increased to 1\n",
            "\n",
            "The count is increased to 2\n",
            "\n",
            "The count is increased to 3\n",
            "\n",
            "The length of the list is 3\n"
          ]
        }
      ]
    },
    {
      "cell_type": "markdown",
      "source": [
        "#   12. Input Argument vs return value\n",
        "\n",
        "    Input\n",
        "    ______\n",
        "    \n",
        "    Input argument are what you use to pass in information to a function\n",
        "\n",
        "    Return:\n",
        "    _______\n",
        "    \n",
        "    Return values are what you use to get information from a function\n",
        "\n",
        "\n",
        "    Input:\n",
        "    ____________________________________________________________________________\n",
        "    \n",
        "    def length(some_list):\n",
        "    \n",
        "        count = 0\n",
        "        for element in some_list:\n",
        "            count += 1\n",
        "\n",
        "        print(f\"Length is {count}\")\n",
        "\n",
        "    cars_list=[\"BMW\",\"Honda\",\"Tata\",\"Toyota\"]\n",
        "\n",
        "    num_cars= length(listNum)\n",
        "\n",
        "    print(num_cars)\n",
        "\n",
        "    Output:\n",
        "    ____________________________________________________________________________\n",
        "\n",
        "    Length is 4\n",
        "\n",
        "    None\n",
        "\n",
        "    Explanation:\n",
        "    _____________\n",
        "\n",
        "    Clearly, there's something missing in the length custom function that we've defined.\n",
        "    \n",
        "    num_cars does not hold any value\n",
        "    \n",
        "    And you can see that it prints out None rather than 4.\n",
        "    \n",
        "    What is that something missing?\n",
        "    \n",
        "    Well, that is a return value from our function and that's what we'll discuss now.\n",
        "\n",
        "    How do we get functions to return values.\n",
        "    ___________________________________________\n",
        "\n",
        "    We can use  Return to get information from a function\n",
        "\n",
        "    \n"
      ],
      "metadata": {
        "id": "xHv_0KOPXADy"
      }
    },
    {
      "cell_type": "code",
      "source": [
        "#len (built in  function)\n",
        "\n",
        "cars_list=[\"BMW\",\"Honda\",\"Tata\",\"Toyota\"]\n",
        "\n",
        "num_cars = len(cars_list)\n",
        "\n",
        "print(num_cars)"
      ],
      "metadata": {
        "colab": {
          "base_uri": "https://localhost:8080/"
        },
        "id": "UK_hVUXLZhry",
        "outputId": "1a8c49d8-8625-4842-a20e-95d3d2bcd2f8"
      },
      "execution_count": null,
      "outputs": [
        {
          "output_type": "stream",
          "name": "stdout",
          "text": [
            "4\n"
          ]
        }
      ]
    },
    {
      "cell_type": "code",
      "source": [
        "# length (user defined function)\n",
        "\n",
        "def length(some_list):\n",
        "\n",
        "    count = 0\n",
        "    for element in some_list:\n",
        "        count += 1\n",
        "\n",
        "    print(f\"Length is {count}\")\n",
        "\n",
        "cars_list=[\"BMW\",\"Honda\",\"Tata\",\"Toyota\"]\n",
        "\n",
        "num_cars= length(listNum)\n",
        "\n",
        "print(num_cars)"
      ],
      "metadata": {
        "colab": {
          "base_uri": "https://localhost:8080/"
        },
        "id": "QArwGLNNZu4k",
        "outputId": "f7f45567-3acc-4732-926f-630c14a8caaf"
      },
      "execution_count": null,
      "outputs": [
        {
          "output_type": "stream",
          "name": "stdout",
          "text": [
            "Length is 4\n",
            "None\n"
          ]
        }
      ]
    },
    {
      "cell_type": "code",
      "source": [
        "# length (user defined function with return value)\n",
        "\n",
        "def length(some_list):\n",
        "\n",
        "    count = 0\n",
        "    for element in some_list:\n",
        "        count += 1\n",
        "\n",
        "    print(f\"Length is {count}\")\n",
        "\n",
        "    return count\n",
        "\n",
        "cars_list=[\"BMW\",\"Honda\",\"Tata\",\"Toyota\"]\n",
        "\n",
        "num_cars= length(listNum)\n",
        "\n",
        "print(num_cars)"
      ],
      "metadata": {
        "colab": {
          "base_uri": "https://localhost:8080/"
        },
        "id": "fVbFLCcQdvvR",
        "outputId": "1967a486-2572-489c-adcb-70093846d585"
      },
      "execution_count": null,
      "outputs": [
        {
          "output_type": "stream",
          "name": "stdout",
          "text": [
            "Length is 4\n",
            "4\n"
          ]
        }
      ]
    },
    {
      "cell_type": "code",
      "source": [
        "#Find max element in a list\n",
        "\n",
        "def find_max_in_list(some_list):\n",
        "\n",
        "    max_element = some_list[0]\n",
        "\n",
        "    length = len(some_list)\n",
        "\n",
        "    for i in range(1, length):\n",
        "\n",
        "        if some_list[i] > max_element:\n",
        "                max_element = some_list[i]\n",
        "\n",
        "    return max_element\n",
        "\n",
        "\n",
        "num_list = [5, 4, 6, 7, 2, 10, 11, 3]\n",
        "\n",
        "max_element = find_max_in_list(num_list)\n",
        "\n",
        "print(max_element)"
      ],
      "metadata": {
        "colab": {
          "base_uri": "https://localhost:8080/"
        },
        "id": "Uhy0o0cKe8N2",
        "outputId": "f3c70b75-07db-4aa7-e1ae-0e749aa8f6c9"
      },
      "execution_count": null,
      "outputs": [
        {
          "output_type": "stream",
          "name": "stdout",
          "text": [
            "11\n"
          ]
        }
      ]
    },
    {
      "cell_type": "markdown",
      "source": [
        "#13. Empty return (None)\n",
        "\n",
        "    None is a special value that Python understands.\n",
        "    \n",
        "    None belongs to the special data type NoneType."
      ],
      "metadata": {
        "id": "BiG0El8Uglj-"
      }
    },
    {
      "cell_type": "code",
      "source": [
        "def empty_return(x, y):\n",
        "\n",
        "    total = x + y\n",
        "    return\n",
        "\n",
        "noneVal=empty_return(1,2)\n",
        "\n",
        "print(noneVal)\n",
        "\n",
        "type(noneVal)"
      ],
      "metadata": {
        "colab": {
          "base_uri": "https://localhost:8080/"
        },
        "id": "GHVxtOPvf4W8",
        "outputId": "6dd61bf1-ea76-4e44-836f-f115cbd90ddc"
      },
      "execution_count": null,
      "outputs": [
        {
          "output_type": "stream",
          "name": "stdout",
          "text": [
            "None\n"
          ]
        },
        {
          "output_type": "execute_result",
          "data": {
            "text/plain": [
              "NoneType"
            ]
          },
          "metadata": {},
          "execution_count": 25
        }
      ]
    },
    {
      "cell_type": "markdown",
      "source": [
        "#14. Multiple return values\n",
        "\n",
        "    We can send multiple return values in a single function\n",
        "\n",
        "    It will be on Tuple format\n",
        "\n",
        "    It can be stored in a variable\n",
        "\n",
        "    _____\n",
        "    \n",
        "    (x,y)\n",
        "    _____"
      ],
      "metadata": {
        "id": "c41hQPUmSHO7"
      }
    },
    {
      "cell_type": "code",
      "source": [
        "def add_sub(x, y):\n",
        "\n",
        "    add_result = x + y\n",
        "    sub_result = x - y\n",
        "\n",
        "    return add_result, sub_result\n",
        "\n",
        "add_sub(2,3)"
      ],
      "metadata": {
        "colab": {
          "base_uri": "https://localhost:8080/"
        },
        "id": "v_whX6NfSatB",
        "outputId": "9fafd305-3993-4cbb-d4cf-ff497e57576b"
      },
      "execution_count": null,
      "outputs": [
        {
          "output_type": "execute_result",
          "data": {
            "text/plain": [
              "(5, -1)"
            ]
          },
          "metadata": {},
          "execution_count": 1
        }
      ]
    },
    {
      "cell_type": "code",
      "source": [
        "def positive_negative_zero(num):\n",
        "\n",
        "    if num > 0:\n",
        "        return \"Positive!\"\n",
        "\n",
        "    elif num < 0:\n",
        "        return \"Negative!\"\n",
        "\n",
        "    else:\n",
        "        return \"Zero\"\n",
        "\n",
        "positive_negative_zero(1)\n"
      ],
      "metadata": {
        "colab": {
          "base_uri": "https://localhost:8080/",
          "height": 35
        },
        "id": "Fq3sFgOGUyXJ",
        "outputId": "fa16e862-2bd3-4c72-f11a-7f8ea0c1745f"
      },
      "execution_count": null,
      "outputs": [
        {
          "output_type": "execute_result",
          "data": {
            "text/plain": [
              "'Zero'"
            ],
            "application/vnd.google.colaboratory.intrinsic+json": {
              "type": "string"
            }
          },
          "metadata": {},
          "execution_count": 17
        }
      ]
    },
    {
      "cell_type": "code",
      "source": [
        "def positive_negative_zero(num):\n",
        "\n",
        "    if num > 0:\n",
        "        return \"Positive!\"\n",
        "\n",
        "    elif num < 0:1\n",
        "        return \"Negative!\"\n",
        "\n",
        "\n",
        "positive_negative_zero(0)\n"
      ],
      "metadata": {
        "id": "heyWKEUUVQht"
      },
      "execution_count": null,
      "outputs": []
    },
    {
      "cell_type": "markdown",
      "source": [
        "#15. Variable assignment\n",
        "\n",
        "    It can be 2 types:\n",
        "\n",
        "        1. single varable assignment\n",
        "        2. Multiple variable assignment"
      ],
      "metadata": {
        "id": "LK3wX8b9TC5u"
      }
    },
    {
      "cell_type": "code",
      "source": [
        "#Eg: Single variable assignment\n",
        "\n",
        "def add_sub(x, y):\n",
        "\n",
        "    add_result = x + y\n",
        "    sub_result = x - y\n",
        "\n",
        "    return add_result, sub_result\n",
        "\n",
        "value = add_sub(2,3)\n",
        "\n",
        "print(value)"
      ],
      "metadata": {
        "colab": {
          "base_uri": "https://localhost:8080/"
        },
        "id": "FWkvXl_NTBiF",
        "outputId": "1b805f68-e769-45c5-8eab-94eab573fc1f"
      },
      "execution_count": null,
      "outputs": [
        {
          "output_type": "stream",
          "name": "stdout",
          "text": [
            "(5, -1)\n"
          ]
        }
      ]
    },
    {
      "cell_type": "code",
      "source": [
        "print(value)"
      ],
      "metadata": {
        "colab": {
          "base_uri": "https://localhost:8080/"
        },
        "id": "5pokAem6TZj5",
        "outputId": "85fff5cd-fa99-418b-be92-0e61ffed149d"
      },
      "execution_count": null,
      "outputs": [
        {
          "output_type": "stream",
          "name": "stdout",
          "text": [
            "(5, -1)\n"
          ]
        }
      ]
    },
    {
      "cell_type": "code",
      "source": [
        "#Eg: multiple variable assignment\n",
        "\n",
        "def add_sub(x, y):\n",
        "\n",
        "    add_result = x + y\n",
        "    sub_result = x - y\n",
        "\n",
        "    return add_result, sub_result\n",
        "\n",
        "value1, value2 = add_sub(2,3)\n",
        "\n",
        "print(\"The value 1 is \",value1)\n",
        "\n",
        "print(\"The value 2 is \",value2)\n"
      ],
      "metadata": {
        "colab": {
          "base_uri": "https://localhost:8080/"
        },
        "id": "hrLS-v6KTe9v",
        "outputId": "f3fa6dad-b8a0-4ee7-dd42-1e8c349f5cf8"
      },
      "execution_count": null,
      "outputs": [
        {
          "output_type": "stream",
          "name": "stdout",
          "text": [
            "The value 1 is  5\n",
            "The value 2 is  -1\n"
          ]
        }
      ]
    },
    {
      "cell_type": "code",
      "source": [
        "#Eg: multiple variable assignment\n",
        "\n",
        "def add_sub(x, y):\n",
        "\n",
        "    add_result = x + y\n",
        "    sub_result = x - y\n",
        "\n",
        "    return add_result, sub_result\n",
        "\n",
        "value1, value2 = add_sub(2,3)\n",
        "\n",
        "print(\"The value 1 is \",value1)\n",
        "\n",
        "print(\"The value 2 is \",value2)\n"
      ],
      "metadata": {
        "id": "PrCwixBCUJN7"
      },
      "execution_count": null,
      "outputs": []
    },
    {
      "cell_type": "code",
      "source": [
        "#Eg: multiple variable assignment\n",
        "\n",
        "def add_sum(x, y):\n",
        "\n",
        "    add_result = x + y\n",
        "    sub_result = x - y\n",
        "\n",
        "    return add_result, sub_result\n",
        "\n",
        "value1, _= add_sum(2,6)\n",
        "\n",
        "print(\"The value 1 is \",value1)\n",
        "\n",
        "print(\"The value 2 is \",_)\n"
      ],
      "metadata": {
        "colab": {
          "base_uri": "https://localhost:8080/"
        },
        "id": "e-PeW57MUSyS",
        "outputId": "200a28de-a384-4278-ef96-32c81ca46007"
      },
      "execution_count": null,
      "outputs": [
        {
          "output_type": "stream",
          "name": "stdout",
          "text": [
            "The value 1 is  8\n",
            "The value 2 is  -4\n"
          ]
        }
      ]
    },
    {
      "cell_type": "markdown",
      "source": [
        "#16. Invoke Function inside the Function\n",
        "\n",
        "      We can invoke the custom function inside the custom function\n",
        "\n"
      ],
      "metadata": {
        "id": "6ZzXUtl_Y40Q"
      }
    },
    {
      "cell_type": "code",
      "source": [
        "def add(a, b):\n",
        "    return a + b\n",
        "\n",
        "def sub(a, b):\n",
        "    return a - b\n",
        "\n",
        "def mul(a, b):\n",
        "    return a * b\n",
        "\n",
        "def div(a, b):\n",
        "    return a / b\n",
        "\n",
        "def calculate(a, b, operator):\n",
        "\n",
        "    if operator == \"add\":\n",
        "        return add(a, b)\n",
        "\n",
        "    if operator == \"sub\":\n",
        "        return sub(a, b)\n",
        "\n",
        "    if operator == \"mul\":\n",
        "        return mul(a, b)\n",
        "\n",
        "    if operator == \"div\":\n",
        "        return div(a, b)\n",
        "\n",
        "calculate(10,20,\"add\")"
      ],
      "metadata": {
        "colab": {
          "base_uri": "https://localhost:8080/"
        },
        "id": "9MnoI1-2Y5jp",
        "outputId": "4e334680-9438-4033-cbfe-47f539789ca8"
      },
      "execution_count": null,
      "outputs": [
        {
          "output_type": "execute_result",
          "data": {
            "text/plain": [
              "30"
            ]
          },
          "metadata": {},
          "execution_count": 28
        }
      ]
    },
    {
      "cell_type": "markdown",
      "source": [
        "#17. Keyword Arguments\n",
        "\n",
        "      It allow you to specify input arguments by name while invoking functions\n",
        "\n",
        "      The order is not must when we use only keyword argumets in a function\n",
        "\n",
        "      Keyword Duplication not allowed\n",
        "\n",
        "      Eg :\n",
        "\n",
        "      function_name=(variable name = value)"
      ],
      "metadata": {
        "id": "YiuHUcS1d_dD"
      }
    },
    {
      "cell_type": "code",
      "source": [
        "def subject(maths,physics,chemistry,biology):\n",
        "\n",
        "    print(f\"Maths = {maths}\\nPhysics = {physics}\\nChemistry = {chemistry}\\nBiology = {biology}\\n\\nThe total marks are \")\n",
        "\n",
        "    return maths+physics+chemistry+biology\n",
        "\n",
        "subject(maths=90,chemistry=100,physics=80,biology=100)\n"
      ],
      "metadata": {
        "colab": {
          "base_uri": "https://localhost:8080/"
        },
        "id": "q_HOxNNWeAA0",
        "outputId": "32050f95-dff2-4656-d25a-614a7318faff"
      },
      "execution_count": null,
      "outputs": [
        {
          "output_type": "stream",
          "name": "stdout",
          "text": [
            "Maths = 90\n",
            "Physics = 80\n",
            "Chemistry = 100\n",
            "Biology = 100\n",
            "\n",
            "The total marks are \n"
          ]
        },
        {
          "output_type": "execute_result",
          "data": {
            "text/plain": [
              "370"
            ]
          },
          "metadata": {},
          "execution_count": 57
        }
      ]
    },
    {
      "cell_type": "code",
      "source": [
        "#Keyword duplication not allowed\n",
        "\n",
        "subject(maths=90,chemistry=100,physics=80,physics=100)"
      ],
      "metadata": {
        "colab": {
          "base_uri": "https://localhost:8080/",
          "height": 130
        },
        "id": "UZ8jHHWwlDV5",
        "outputId": "15cce5cd-0068-40ec-9513-2d8ee09d0082"
      },
      "execution_count": null,
      "outputs": [
        {
          "output_type": "error",
          "ename": "SyntaxError",
          "evalue": "ignored",
          "traceback": [
            "\u001b[0;36m  File \u001b[0;32m\"<ipython-input-56-4fb7db27c672>\"\u001b[0;36m, line \u001b[0;32m3\u001b[0m\n\u001b[0;31m    subject(maths=90,chemistry=100,physics=80,physics=100)\u001b[0m\n\u001b[0m                                              ^\u001b[0m\n\u001b[0;31mSyntaxError\u001b[0m\u001b[0;31m:\u001b[0m keyword argument repeated: physics\n"
          ]
        }
      ]
    },
    {
      "cell_type": "code",
      "source": [
        "#what if\n",
        "\n",
        "#We dint give a proper keyword arg name:\n",
        "\n",
        "def subject(maths,physics,chemistry,biology):\n",
        "\n",
        "    print(f\"Maths = {maths}\\nPhysics = {physics}\\nChemistry = {chemistry}\\nBiology = {biology}\\n\\nThe total marks are \")\n",
        "\n",
        "    return maths+physics+chemistry+biology\n",
        "\n",
        "subject(math=90,chemistry=100,physics=80,biology=100)\n"
      ],
      "metadata": {
        "colab": {
          "base_uri": "https://localhost:8080/",
          "height": 200
        },
        "id": "DNx3cqoKiJLW",
        "outputId": "30e023be-bca5-412e-9b46-ba7a5a763b8e"
      },
      "execution_count": null,
      "outputs": [
        {
          "output_type": "error",
          "ename": "TypeError",
          "evalue": "ignored",
          "traceback": [
            "\u001b[0;31m---------------------------------------------------------------------------\u001b[0m",
            "\u001b[0;31mTypeError\u001b[0m                                 Traceback (most recent call last)",
            "\u001b[0;32m<ipython-input-58-7887fd08d4cd>\u001b[0m in \u001b[0;36m<cell line: 11>\u001b[0;34m()\u001b[0m\n\u001b[1;32m      9\u001b[0m     \u001b[0;32mreturn\u001b[0m \u001b[0mmaths\u001b[0m\u001b[0;34m+\u001b[0m\u001b[0mphysics\u001b[0m\u001b[0;34m+\u001b[0m\u001b[0mchemistry\u001b[0m\u001b[0;34m+\u001b[0m\u001b[0mbiology\u001b[0m\u001b[0;34m\u001b[0m\u001b[0;34m\u001b[0m\u001b[0m\n\u001b[1;32m     10\u001b[0m \u001b[0;34m\u001b[0m\u001b[0m\n\u001b[0;32m---> 11\u001b[0;31m \u001b[0msubject\u001b[0m\u001b[0;34m(\u001b[0m\u001b[0mmath\u001b[0m\u001b[0;34m=\u001b[0m\u001b[0;36m90\u001b[0m\u001b[0;34m,\u001b[0m\u001b[0mchemistry\u001b[0m\u001b[0;34m=\u001b[0m\u001b[0;36m100\u001b[0m\u001b[0;34m,\u001b[0m\u001b[0mphysics\u001b[0m\u001b[0;34m=\u001b[0m\u001b[0;36m80\u001b[0m\u001b[0;34m,\u001b[0m\u001b[0mbiology\u001b[0m\u001b[0;34m=\u001b[0m\u001b[0;36m100\u001b[0m\u001b[0;34m)\u001b[0m\u001b[0;34m\u001b[0m\u001b[0;34m\u001b[0m\u001b[0m\n\u001b[0m",
            "\u001b[0;31mTypeError\u001b[0m: subject() got an unexpected keyword argument 'math'"
          ]
        }
      ]
    },
    {
      "cell_type": "markdown",
      "source": [
        "#18. Positional Arguments vs Keyword Arguments\n",
        "\n",
        "    We can use positional arguments + keyword arguments in a same function.\n",
        "\n",
        "    But the positional arguments should comes first . otherwise it will throw error\n",
        "\n"
      ],
      "metadata": {
        "id": "b7mjpMsih_ZX"
      }
    },
    {
      "cell_type": "code",
      "source": [
        "#Eg 1 : Single positional arg\n",
        "\n",
        "def subject(maths,physics,chemistry,biology):\n",
        "\n",
        "    print(f\"Maths = {maths}\\nPhysics = {physics}\\nChemistry = {chemistry}\\nBiology = {biology}\\n\\nThe total marks are \")\n",
        "\n",
        "    return maths+physics+chemistry+biology\n",
        "\n",
        "subject(90,physics=80,chemistry=100,biology=100)\n"
      ],
      "metadata": {
        "colab": {
          "base_uri": "https://localhost:8080/"
        },
        "id": "3ApCHMjMiiHF",
        "outputId": "3868c195-6293-487f-8631-a36819dc9c33"
      },
      "execution_count": null,
      "outputs": [
        {
          "output_type": "stream",
          "name": "stdout",
          "text": [
            "Maths = 90\n",
            "Physics = 80\n",
            "Chemistry = 100\n",
            "Biology = 100\n",
            "\n",
            "The total marks are \n"
          ]
        },
        {
          "output_type": "execute_result",
          "data": {
            "text/plain": [
              "370"
            ]
          },
          "metadata": {},
          "execution_count": 52
        }
      ]
    },
    {
      "cell_type": "code",
      "source": [
        "#Eg 1 : Multiple positional arg\n",
        "\n",
        "def subject(maths,physics,chemistry,biology):\n",
        "\n",
        "    print(f\"Maths = {maths}\\nPhysics = {physics}\\nChemistry = {chemistry}\\nBiology = {biology}\\n\\nThe total marks are \")\n",
        "\n",
        "    return maths+physics+chemistry+biology\n",
        "\n",
        "subject(90,80,100,biology=100)\n"
      ],
      "metadata": {
        "colab": {
          "base_uri": "https://localhost:8080/"
        },
        "id": "6YMfjX9rjr3I",
        "outputId": "1354e462-273c-4362-f2cd-2a3b402a7905"
      },
      "execution_count": null,
      "outputs": [
        {
          "output_type": "stream",
          "name": "stdout",
          "text": [
            "Maths = 90\n",
            "Physics = 80\n",
            "Chemistry = 100\n",
            "Biology = 100\n",
            "\n",
            "The total marks are \n"
          ]
        },
        {
          "output_type": "execute_result",
          "data": {
            "text/plain": [
              "370"
            ]
          },
          "metadata": {},
          "execution_count": 53
        }
      ]
    },
    {
      "cell_type": "code",
      "source": [
        "#what if\n",
        "\n",
        "#We dint give a proper korder during positional + keyword arg name combo:\n",
        "\n",
        "def subject(maths,physics,chemistry,biology):\n",
        "\n",
        "    print(f\"Maths = {maths}\\nPhysics = {physics}\\nChemistry = {chemistry}\\nBiology = {biology}\\n\\nThe total marks are \")\n",
        "\n",
        "    return maths+physics+chemistry+biolaogy\n",
        "\n",
        "subject(maths=90,100,physics=80,biology=100)\n"
      ],
      "metadata": {
        "colab": {
          "base_uri": "https://localhost:8080/",
          "height": 130
        },
        "id": "dFqJN4v_iYzQ",
        "outputId": "5dbd2555-92df-4f27-8c94-f1ac0e20fc6f"
      },
      "execution_count": null,
      "outputs": [
        {
          "output_type": "error",
          "ename": "SyntaxError",
          "evalue": "ignored",
          "traceback": [
            "\u001b[0;36m  File \u001b[0;32m\"<ipython-input-48-3f1cd6f27299>\"\u001b[0;36m, line \u001b[0;32m11\u001b[0m\n\u001b[0;31m    subject(maths=90,100,physics=80,biology=100)\u001b[0m\n\u001b[0m                                               ^\u001b[0m\n\u001b[0;31mSyntaxError\u001b[0m\u001b[0;31m:\u001b[0m positional argument follows keyword argument\n"
          ]
        }
      ]
    },
    {
      "cell_type": "markdown",
      "source": [
        "#19. Default arguments\n",
        "\n",
        "    The Default value for any of the input argument for a function is specified as a part of the function definition.\n",
        "\n",
        "\n",
        "    See example 1 and 2 below for clear understanding\n",
        "\n",
        "    Note:\n",
        "\n",
        "    ____________________________________________________________________________\n",
        "\n",
        "    The positional arguments should be declared in first\n",
        "\n",
        "    The Default argument should be declared in end.\n",
        "\n",
        "\n",
        "    ____________________________________________________________________________"
      ],
      "metadata": {
        "id": "fhYt7Shvmz-M"
      }
    },
    {
      "cell_type": "code",
      "source": [
        "#Eg 1: It throws error when we miss an argument\n",
        "\n",
        "def school(name,_class,rank):\n",
        "\n",
        "    print(f\"\"\"The student name is : {name}\n",
        "          The class is : {_class}\n",
        "          The rank is {rank}\"\"\")\n",
        "\n",
        "school(name=\"naruto\",_class=5)"
      ],
      "metadata": {
        "colab": {
          "base_uri": "https://localhost:8080/",
          "height": 200
        },
        "id": "0mtyBLdZnNVC",
        "outputId": "9ef9b09f-e09f-40d1-d813-32a662e45aca"
      },
      "execution_count": null,
      "outputs": [
        {
          "output_type": "error",
          "ename": "TypeError",
          "evalue": "ignored",
          "traceback": [
            "\u001b[0;31m---------------------------------------------------------------------------\u001b[0m",
            "\u001b[0;31mTypeError\u001b[0m                                 Traceback (most recent call last)",
            "\u001b[0;32m<ipython-input-64-7d567350fc1c>\u001b[0m in \u001b[0;36m<cell line: 9>\u001b[0;34m()\u001b[0m\n\u001b[1;32m      7\u001b[0m           The rank is {rank}\"\"\")\n\u001b[1;32m      8\u001b[0m \u001b[0;34m\u001b[0m\u001b[0m\n\u001b[0;32m----> 9\u001b[0;31m \u001b[0mschool\u001b[0m\u001b[0;34m(\u001b[0m\u001b[0mname\u001b[0m\u001b[0;34m=\u001b[0m\u001b[0;34m\"naruto\"\u001b[0m\u001b[0;34m,\u001b[0m\u001b[0m_class\u001b[0m\u001b[0;34m=\u001b[0m\u001b[0;36m5\u001b[0m\u001b[0;34m)\u001b[0m\u001b[0;34m\u001b[0m\u001b[0;34m\u001b[0m\u001b[0m\n\u001b[0m",
            "\u001b[0;31mTypeError\u001b[0m: school() missing 1 required positional argument: 'rank'"
          ]
        }
      ]
    },
    {
      "cell_type": "code",
      "source": [
        "#Eg 2: It does not throws error when we miss an argument. Because we add a default value for an argument in function.\n",
        "\n",
        "#It will take default value if we din't pass any value\n",
        "\n",
        "def school(name,_class,rank=\"Fail\"):\n",
        "\n",
        "    print(f\"\"\"The student name is : {name}\n",
        "The class is : {_class}\n",
        "The rank is {rank}\"\"\")\n",
        "\n",
        "school(name=\"naruto\",_class=5)"
      ],
      "metadata": {
        "colab": {
          "base_uri": "https://localhost:8080/"
        },
        "id": "HASqGDT0oBku",
        "outputId": "5cd17847-d26b-4958-dd06-6c16dfb58202"
      },
      "execution_count": null,
      "outputs": [
        {
          "output_type": "stream",
          "name": "stdout",
          "text": [
            "The student name is : naruto\n",
            "The class is : 5\n",
            "The rank is Fail\n"
          ]
        }
      ]
    },
    {
      "cell_type": "code",
      "source": [
        "#Eg 3: What if we add a default value to an arg + also pass a value to the same arg\n",
        "\n",
        "#It will take positional arg/keyword argument\n",
        "\n",
        "def school(name,_class,rank=\"Fail\"):\n",
        "\n",
        "    print(f\"\"\"The student name is : {name}\n",
        "The class is : {_class}\n",
        "The rank is {rank}\"\"\")\n",
        "\n",
        "school(name=\"naruto\",_class=5,rank=\"merit holder\")"
      ],
      "metadata": {
        "colab": {
          "base_uri": "https://localhost:8080/"
        },
        "id": "1LnLGeeWooVK",
        "outputId": "335aa6fe-91e4-4e97-fe1b-7d7430af63c4"
      },
      "execution_count": null,
      "outputs": [
        {
          "output_type": "stream",
          "name": "stdout",
          "text": [
            "The student name is : naruto\n",
            "The class is : 5\n",
            "The rank is merit holder\n"
          ]
        }
      ]
    },
    {
      "cell_type": "code",
      "source": [
        "#Eg 3: What if we add a default value for an argument in first\n",
        "\n",
        "#It will throw an error\n",
        "\n",
        "def school(name=\"naruto\",_class,rank):\n",
        "\n",
        "    print(f\"\"\"The student name is : {name}\n",
        "The class is : {_class}\n",
        "The rank is {rank}\"\"\")\n",
        ""
      ],
      "metadata": {
        "colab": {
          "base_uri": "https://localhost:8080/",
          "height": 130
        },
        "id": "n55tGRrKqgdX",
        "outputId": "f7fcdb3e-ceda-44f4-d93a-29b9d252fc71"
      },
      "execution_count": null,
      "outputs": [
        {
          "output_type": "error",
          "ename": "SyntaxError",
          "evalue": "ignored",
          "traceback": [
            "\u001b[0;36m  File \u001b[0;32m\"<ipython-input-68-0fb6e3afbd8c>\"\u001b[0;36m, line \u001b[0;32m5\u001b[0m\n\u001b[0;31m    def school(name=\"naruto\",_class,rank):\u001b[0m\n\u001b[0m                             ^\u001b[0m\n\u001b[0;31mSyntaxError\u001b[0m\u001b[0;31m:\u001b[0m non-default argument follows default argument\n"
          ]
        }
      ]
    },
    {
      "cell_type": "markdown",
      "source": [
        "#20. Variable Length arguments (**args)\n",
        "\n",
        "    if we want your custom function to accept variable number of arguments, you will specify as\n",
        "\n",
        "Note:\n",
        "______________________________________\n",
        "\n",
        "\n",
        "    def fname(*args):\n",
        "\n",
        "    This is the syntax which python use to indicate that you have a function that can accept variable number of arguments\n",
        "\n",
        "    ---------------The data type of (*args) is a tuple--------------------------"
      ],
      "metadata": {
        "id": "UH-8wTaTzVq6"
      }
    },
    {
      "cell_type": "code",
      "source": [
        "def print_fn(*args):\n",
        "\n",
        "    args_type=type(args)\n",
        "\n",
        "    print(args_type)\n",
        "\n",
        "    print(args)\n",
        "\n",
        "print_fn(\"book\",1,1)"
      ],
      "metadata": {
        "colab": {
          "base_uri": "https://localhost:8080/"
        },
        "id": "HdbRmqVJ0F_b",
        "outputId": "6456201f-ac4b-49f0-84a7-7470d07a4545"
      },
      "execution_count": null,
      "outputs": [
        {
          "output_type": "stream",
          "name": "stdout",
          "text": [
            "<class 'tuple'>\n",
            "('book', 1, 1)\n"
          ]
        }
      ]
    },
    {
      "cell_type": "code",
      "source": [
        "#Eg : we can give any name for a variable. but * args is the best practice\n",
        "\n",
        "def print_fxn(*name):\n",
        "\n",
        "    name_type=type(name)\n",
        "\n",
        "    print(name_type)\n",
        "\n",
        "    print(name)\n",
        "\n",
        "print_fxn()"
      ],
      "metadata": {
        "colab": {
          "base_uri": "https://localhost:8080/"
        },
        "id": "gaFoCmCe0vIH",
        "outputId": "29255f84-8e1c-4379-f560-fd4432573524"
      },
      "execution_count": null,
      "outputs": [
        {
          "output_type": "stream",
          "name": "stdout",
          "text": [
            "<class 'tuple'>\n",
            "()\n"
          ]
        }
      ]
    },
    {
      "cell_type": "code",
      "source": [
        "def print_fn(*args):\n",
        "\n",
        "    args_type=type(args[1])\n",
        "\n",
        "    print(args_type)\n",
        "\n",
        "    print(args[1])\n",
        "\n",
        "print_fn(\"book\",1,1)"
      ],
      "metadata": {
        "colab": {
          "base_uri": "https://localhost:8080/"
        },
        "id": "HWKDSBYQ1R0j",
        "outputId": "bcdc8c3b-2886-4d55-d4bb-5f320dcd3a46"
      },
      "execution_count": null,
      "outputs": [
        {
          "output_type": "stream",
          "name": "stdout",
          "text": [
            "<class 'int'>\n",
            "1\n"
          ]
        }
      ]
    },
    {
      "cell_type": "code",
      "source": [
        "#no argument scenario:\n",
        "\n",
        "def students_in_a_school (school,city,*students):\n",
        "\n",
        "    print(f\"\"\"school = {school}\n",
        "city = {city}\n",
        "students = {students}\"\"\")\n",
        "\n",
        "students_in_a_school(\"GreenLeaf\",\"GreenLeafVillage\")"
      ],
      "metadata": {
        "colab": {
          "base_uri": "https://localhost:8080/"
        },
        "id": "H4Y6GRR34Ucj",
        "outputId": "a1b15fdc-3b92-4b2c-f131-1d25211aa9ef"
      },
      "execution_count": null,
      "outputs": [
        {
          "output_type": "stream",
          "name": "stdout",
          "text": [
            "school = GreenLeaf\n",
            "city = GreenLeafVillage\n",
            "students = ()\n"
          ]
        }
      ]
    },
    {
      "cell_type": "code",
      "source": [
        "#multiple argument scenario:\n",
        "\n",
        "def students_in_a_school (school,city,*students):\n",
        "\n",
        "    print(f\"\"\"school = {school}\n",
        "city = {city}\n",
        "students = {students}\"\"\")\n",
        "\n",
        "students_in_a_school(\"GreenLeaf\",\"GreenLeafVillage\",\"naruto\",\"kabuto\")"
      ],
      "metadata": {
        "colab": {
          "base_uri": "https://localhost:8080/"
        },
        "id": "9pMHuJI-5YU0",
        "outputId": "dc128639-6b6b-4f4f-b602-45ffbfecbf28"
      },
      "execution_count": null,
      "outputs": [
        {
          "output_type": "stream",
          "name": "stdout",
          "text": [
            "school = GreenLeaf\n",
            "city = GreenLeafVillage\n",
            "students = ('naruto', 'kabuto')\n"
          ]
        }
      ]
    },
    {
      "cell_type": "code",
      "source": [
        "#Error Scenario: it cannot allow positional arguments in last\n",
        "\n",
        "def students_in_a_school (school,city,*students):\n",
        "\n",
        "    print(f\"\"\"school = {school}\n",
        "city = {city}\n",
        "students = {students}\"\"\")\n",
        "\n",
        "students_in_a_school(school =\"GreenLeaf\",city =\"GreenLeafVillage\",\"kakashi\")"
      ],
      "metadata": {
        "colab": {
          "base_uri": "https://localhost:8080/",
          "height": 130
        },
        "id": "OayWnbRU7OOB",
        "outputId": "e93a71c7-7b34-4f4a-ec58-958c3a7ece35"
      },
      "execution_count": null,
      "outputs": [
        {
          "output_type": "error",
          "ename": "SyntaxError",
          "evalue": "ignored",
          "traceback": [
            "\u001b[0;36m  File \u001b[0;32m\"<ipython-input-28-965279ad41dc>\"\u001b[0;36m, line \u001b[0;32m9\u001b[0m\n\u001b[0;31m    students_in_a_school(school =\"GreenLeaf\",city =\"GreenLeafVillage\",\"kakashi\")\u001b[0m\n\u001b[0m                                                                               ^\u001b[0m\n\u001b[0;31mSyntaxError\u001b[0m\u001b[0;31m:\u001b[0m positional argument follows keyword argument\n"
          ]
        }
      ]
    },
    {
      "cell_type": "code",
      "source": [
        "#Error Scenario: Here \"kakashi\" and \"greenleaf\" are considered as students\n",
        "\n",
        "def students_in_a_school (*students,school,city,):\n",
        "\n",
        "    print(f\"\"\"school = {school}\n",
        "city = {city}\n",
        "students = {students}\"\"\")\n",
        "\n",
        "students_in_a_school(\"kakashi\",\"GreenLeaf\",city =\"GreenLeafVillage\")"
      ],
      "metadata": {
        "colab": {
          "base_uri": "https://localhost:8080/",
          "height": 200
        },
        "id": "1i1PkI2m8O3m",
        "outputId": "ab8ff243-918e-4795-b193-101cdf60fc94"
      },
      "execution_count": null,
      "outputs": [
        {
          "output_type": "error",
          "ename": "TypeError",
          "evalue": "ignored",
          "traceback": [
            "\u001b[0;31m---------------------------------------------------------------------------\u001b[0m",
            "\u001b[0;31mTypeError\u001b[0m                                 Traceback (most recent call last)",
            "\u001b[0;32m<ipython-input-32-e19cb87c3f5e>\u001b[0m in \u001b[0;36m<cell line: 9>\u001b[0;34m()\u001b[0m\n\u001b[1;32m      7\u001b[0m students = {students}\"\"\")\n\u001b[1;32m      8\u001b[0m \u001b[0;34m\u001b[0m\u001b[0m\n\u001b[0;32m----> 9\u001b[0;31m \u001b[0mstudents_in_a_school\u001b[0m\u001b[0;34m(\u001b[0m\u001b[0;34m\"kakashi\"\u001b[0m\u001b[0;34m,\u001b[0m\u001b[0;34m\"GreenLeaf\"\u001b[0m\u001b[0;34m,\u001b[0m\u001b[0mcity\u001b[0m \u001b[0;34m=\u001b[0m\u001b[0;34m\"GreenLeafVillage\"\u001b[0m\u001b[0;34m)\u001b[0m\u001b[0;34m\u001b[0m\u001b[0;34m\u001b[0m\u001b[0m\n\u001b[0m",
            "\u001b[0;31mTypeError\u001b[0m: students_in_a_school() missing 1 required keyword-only argument: 'school'"
          ]
        }
      ]
    },
    {
      "cell_type": "code",
      "source": [
        "#not throws an error\n",
        "\n",
        "def students_in_a_school (*students,school,city,):\n",
        "\n",
        "    print(f\"\"\"school = {school}\n",
        "city = {city}\n",
        "students = {students}\"\"\")\n",
        "\n",
        "students_in_a_school(\"kakashi\",school =\"GreenLeaf\",city =\"GreenLeafVillage\")"
      ],
      "metadata": {
        "colab": {
          "base_uri": "https://localhost:8080/"
        },
        "id": "e2Xi5DxR7vj0",
        "outputId": "16239ea2-197b-48c8-ee8d-55da95b111a7"
      },
      "execution_count": null,
      "outputs": [
        {
          "output_type": "stream",
          "name": "stdout",
          "text": [
            "school = GreenLeaf\n",
            "city = GreenLeafVillage\n",
            "students = ('kakashi',)\n"
          ]
        }
      ]
    },
    {
      "cell_type": "markdown",
      "source": [
        "# 21. Unpack Scenario\n",
        "      Here is a list of name and these are list of names that i want to print out using the print function"
      ],
      "metadata": {
        "id": "NXeOxVwe17O7"
      }
    },
    {
      "cell_type": "code",
      "source": [
        "names=['naruto','minato','kabuto']"
      ],
      "metadata": {
        "id": "_-bHl8IH2E64"
      },
      "execution_count": null,
      "outputs": []
    },
    {
      "cell_type": "markdown",
      "source": [
        "    Here the list is considered to be a single entity, which is then packed into a tuple\n",
        "\n",
        "    The list is the \"first\" field in a tuple. it consider as a single element. it is the first field in the tuple that is passed in."
      ],
      "metadata": {
        "id": "cYi-e5i92VlI"
      }
    },
    {
      "cell_type": "code",
      "source": [
        "def print_fn(*args):\n",
        "\n",
        "    args_type=type(args)\n",
        "\n",
        "    print(args_type)\n",
        "\n",
        "    print(args)\n",
        "\n",
        "print_fn(names)"
      ],
      "metadata": {
        "colab": {
          "base_uri": "https://localhost:8080/"
        },
        "id": "u6FFK9bA1l-1",
        "outputId": "474ab632-0149-4665-e6c6-ea8ba804b7bb"
      },
      "execution_count": null,
      "outputs": [
        {
          "output_type": "stream",
          "name": "stdout",
          "text": [
            "<class 'tuple'>\n",
            "(['naruto', 'minato', 'kabuto'],)\n"
          ]
        }
      ]
    },
    {
      "cell_type": "markdown",
      "source": [
        "    But what if you want the individual elements that make up the names to be separate input args to your print function?\n",
        "\n",
        "    \"\"\"you will ask python to unpack the names and then pass this unpack list into the print function\"\"\"\n",
        "\n",
        "    for that we use *variable while invoking"
      ],
      "metadata": {
        "id": "LsFjzH8I21Zq"
      }
    },
    {
      "cell_type": "code",
      "source": [
        "def print_fn(*args):\n",
        "\n",
        "    args_type=type(args)\n",
        "\n",
        "    print(args_type)\n",
        "\n",
        "    print(args)\n",
        "\n",
        "print_fn(*names)\n",
        "\n",
        "#Here it is not a list. it unpacks the list and stores the value in tuple"
      ],
      "metadata": {
        "colab": {
          "base_uri": "https://localhost:8080/"
        },
        "id": "SO-mbJVS3QCI",
        "outputId": "6ed0c2f6-4c53-4bae-d479-37fbd403593c"
      },
      "execution_count": null,
      "outputs": [
        {
          "output_type": "stream",
          "name": "stdout",
          "text": [
            "<class 'tuple'>\n",
            "('naruto', 'minato', 'kabuto')\n"
          ]
        }
      ]
    },
    {
      "cell_type": "markdown",
      "source": [
        "##22. Variable Length arguments (**kwargs)\n",
        "\n",
        "      We can use keyword arguments instead of just a tuple of variable length arguments\n",
        "\n",
        "      If you want your variable length arguments to be passed in the form of  keywords, you'll specify the double asterisk in front of your input arguments given below.\n",
        "\n",
        "      -------- def fname(**kwargs)-----------\n",
        "\n",
        "      when you use double asterisk, python packs the variable length args into a dictionary, \"not a tuple\"\n",
        "\n",
        "      This is a dict of key value pairs\n",
        "      \n",
        "      where the keys are the names of your variable\n",
        "\n",
        "      the values are the value that you specify.\n",
        "\n"
      ],
      "metadata": {
        "id": "Y4GWT_gv9dxL"
      }
    },
    {
      "cell_type": "code",
      "source": [
        "def student_detail(**kwargs):\n",
        "\n",
        "  print(type(kwargs))\n",
        "  print(kwargs)\n",
        "\n",
        "student_detail()"
      ],
      "metadata": {
        "colab": {
          "base_uri": "https://localhost:8080/"
        },
        "id": "izEkO-QW_CG9",
        "outputId": "cf60808b-7ed2-4d27-dadc-8f230c9045be"
      },
      "execution_count": null,
      "outputs": [
        {
          "output_type": "stream",
          "name": "stdout",
          "text": [
            "<class 'dict'>\n",
            "{}\n"
          ]
        }
      ]
    },
    {
      "cell_type": "code",
      "source": [
        "def student_detail(**kwargs):\n",
        "\n",
        "  print(type(kwargs))\n",
        "  print(kwargs)\n",
        "\n",
        "student_detail(name=\"naruto\",age=18)"
      ],
      "metadata": {
        "colab": {
          "base_uri": "https://localhost:8080/"
        },
        "id": "77tzh6MENDdL",
        "outputId": "caf33742-27a5-410f-d655-548f9e9112b0"
      },
      "execution_count": null,
      "outputs": [
        {
          "output_type": "stream",
          "name": "stdout",
          "text": [
            "<class 'dict'>\n",
            "{'name': 'John', 'age': 18}\n"
          ]
        }
      ]
    },
    {
      "cell_type": "code",
      "source": [
        "def student_details(**details):\n",
        "\n",
        "    for key,value in details.items():\n",
        "      print(key,value)\n",
        "\n",
        "student_details(name=\"naruto\",clan=\"uzumaki\",power=\"rasengan\")"
      ],
      "metadata": {
        "colab": {
          "base_uri": "https://localhost:8080/"
        },
        "id": "tiYLvDquNafW",
        "outputId": "92df467d-2d49-4cfa-b4e9-f54a1b9fae34"
      },
      "execution_count": null,
      "outputs": [
        {
          "output_type": "stream",
          "name": "stdout",
          "text": [
            "name naruto\n",
            "clan uzumaki\n",
            "power rasengan\n"
          ]
        }
      ]
    },
    {
      "cell_type": "code",
      "source": [
        "#Error : we cannot pass the dictionary directly while function invocation\n",
        "\n",
        "def student_details(**details):\n",
        "\n",
        "    for key,value in details.items():\n",
        "      print(key,value)\n",
        "\n",
        "student_details({\"name\":\"naruto\",\"clan\":\"uzumaki\",\"power\":\"rasengan\"})"
      ],
      "metadata": {
        "colab": {
          "base_uri": "https://localhost:8080/",
          "height": 200
        },
        "id": "PB4ig-dkOSk9",
        "outputId": "a789dc25-2b32-452c-88e5-bdf53ead6c17"
      },
      "execution_count": null,
      "outputs": [
        {
          "output_type": "error",
          "ename": "TypeError",
          "evalue": "ignored",
          "traceback": [
            "\u001b[0;31m---------------------------------------------------------------------------\u001b[0m",
            "\u001b[0;31mTypeError\u001b[0m                                 Traceback (most recent call last)",
            "\u001b[0;32m<ipython-input-52-75ec52d86e72>\u001b[0m in \u001b[0;36m<cell line: 6>\u001b[0;34m()\u001b[0m\n\u001b[1;32m      4\u001b[0m       \u001b[0mprint\u001b[0m\u001b[0;34m(\u001b[0m\u001b[0mkey\u001b[0m\u001b[0;34m,\u001b[0m\u001b[0mvalue\u001b[0m\u001b[0;34m)\u001b[0m\u001b[0;34m\u001b[0m\u001b[0;34m\u001b[0m\u001b[0m\n\u001b[1;32m      5\u001b[0m \u001b[0;34m\u001b[0m\u001b[0m\n\u001b[0;32m----> 6\u001b[0;31m \u001b[0mstudent_details\u001b[0m\u001b[0;34m(\u001b[0m\u001b[0;34m{\u001b[0m\u001b[0;34m\"name\"\u001b[0m\u001b[0;34m:\u001b[0m\u001b[0;34m\"naruto\"\u001b[0m\u001b[0;34m,\u001b[0m\u001b[0;34m\"clan\"\u001b[0m\u001b[0;34m:\u001b[0m\u001b[0;34m\"uzumaki\"\u001b[0m\u001b[0;34m,\u001b[0m\u001b[0;34m\"power\"\u001b[0m\u001b[0;34m:\u001b[0m\u001b[0;34m\"rasengan\"\u001b[0m\u001b[0;34m}\u001b[0m\u001b[0;34m)\u001b[0m\u001b[0;34m\u001b[0m\u001b[0;34m\u001b[0m\u001b[0m\n\u001b[0m",
            "\u001b[0;31mTypeError\u001b[0m: student_details() takes 0 positional arguments but 1 was given"
          ]
        }
      ]
    },
    {
      "cell_type": "code",
      "source": [
        "#Error : we can unpack the key-value pairs in the dictionry by using \"**\" (pass as a keyword args)\n",
        "\n",
        "def student_details(**details):\n",
        "\n",
        "    for key,value in details.items():\n",
        "      print(key,value)\n",
        "\n",
        "student_details(**{\"name\":\"naruto\",\"clan\":\"uzumaki\",\"power\":\"rasengan\"})"
      ],
      "metadata": {
        "colab": {
          "base_uri": "https://localhost:8080/"
        },
        "id": "V3YuOt7oOvJE",
        "outputId": "c947976d-cb83-40d3-b55f-86165503c3fb"
      },
      "execution_count": null,
      "outputs": [
        {
          "output_type": "stream",
          "name": "stdout",
          "text": [
            "name naruto\n",
            "clan uzumaki\n",
            "power rasengan\n"
          ]
        }
      ]
    },
    {
      "cell_type": "code",
      "source": [
        "#valid scenario\n",
        "\n",
        "def student_info(**details):\n",
        "\n",
        "    if 'name' in details:\n",
        "      print(f\"name : {details['name']}\")\n",
        "\n",
        "    if 'clan' in details:\n",
        "      print(f\"clan : {details['clan']}\")\n",
        "\n",
        "    if 'power' in details:\n",
        "      print(f\"power : {details['power']}\")\n",
        "\n",
        "student_info(**{\"name\":\"naruto\",\"clan\":\"uzumaki\",\"power\":\"rasengan\"})"
      ],
      "metadata": {
        "colab": {
          "base_uri": "https://localhost:8080/"
        },
        "id": "AHPybmGQPM2J",
        "outputId": "24f62698-4d6d-43f3-dd82-f5fbf702d808"
      },
      "execution_count": null,
      "outputs": [
        {
          "output_type": "stream",
          "name": "stdout",
          "text": [
            "name : naruto\n",
            "clan : uzumaki\n",
            "power : rasengan\n"
          ]
        }
      ]
    },
    {
      "cell_type": "markdown",
      "source": [
        "#23. important note:\n",
        "\n",
        "    we can pass variable length argument as positional args and keyword args in a same function\n",
        "\n",
        "    in below example:\n",
        "\n",
        "    *student_name is a positional argument\n",
        "\n",
        "    **details is a keyword argument"
      ],
      "metadata": {
        "id": "H3rmJGSFRmXq"
      }
    },
    {
      "cell_type": "code",
      "source": [
        "# we can pass variable length argument as positional args and keyword args in a same function\n",
        "\n",
        "\n",
        "def student_information(*student_names, **details):\n",
        "\n",
        "    print(\"students--\")\n",
        "    for i in student_names:\n",
        "      print(i)\n",
        "\n",
        "    print()\n",
        "    print(\"powers--\")\n",
        "\n",
        "    for key,value in details.items():\n",
        "      print(key,value)\n",
        "\n",
        "student_information(\"naruto\",\"sasuke\",power_of_naruro=\"=rasengan\",power_of_sasuke=\"=chidori\")"
      ],
      "metadata": {
        "colab": {
          "base_uri": "https://localhost:8080/"
        },
        "id": "ssSgjfysQCzL",
        "outputId": "a4814c45-0a0c-40a2-8a75-a85faf689ccd"
      },
      "execution_count": null,
      "outputs": [
        {
          "output_type": "stream",
          "name": "stdout",
          "text": [
            "students--\n",
            "naruto\n",
            "sasuke\n",
            "\n",
            "powers--\n",
            "power_of_naruro =rasengan\n",
            "power_of_sasuke =chidori\n"
          ]
        }
      ]
    }
  ]
}