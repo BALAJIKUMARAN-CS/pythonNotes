{
  "nbformat": 4,
  "nbformat_minor": 0,
  "metadata": {
    "colab": {
      "provenance": [],
      "authorship_tag": "ABX9TyMx41LmS7gTIJawKb7/k0Rz",
      "include_colab_link": true
    },
    "kernelspec": {
      "name": "python3",
      "display_name": "Python 3"
    },
    "language_info": {
      "name": "python"
    }
  },
  "cells": [
    {
      "cell_type": "markdown",
      "metadata": {
        "id": "view-in-github",
        "colab_type": "text"
      },
      "source": [
        "<a href=\"https://colab.research.google.com/github/BALAJIKUMARAN-CS/pythonNotes/blob/main/operatorPython.ipynb\" target=\"_parent\"><img src=\"https://colab.research.google.com/assets/colab-badge.svg\" alt=\"Open In Colab\"/></a>"
      ]
    },
    {
      "cell_type": "markdown",
      "source": [
        "**Notes by BALAJIKUMARAN CS**"
      ],
      "metadata": {
        "id": "FKoqPhpLyIjo"
      }
    },
    {
      "cell_type": "markdown",
      "source": [
        "#**Python Operator**"
      ],
      "metadata": {
        "id": "PiXOAtCzyOic"
      }
    },
    {
      "cell_type": "markdown",
      "source": [
        "\n",
        "###**1. Operators in python**\n",
        "\n",
        "###**2. Comparison operator in python**\n",
        "\n",
        "###**3. Logical Operator**\n",
        "\n",
        "###**4. Bitwise Operator**\n"
      ],
      "metadata": {
        "id": "ctE6gBceUlNS"
      }
    },
    {
      "cell_type": "markdown",
      "source": [
        "# 1. Operators in python\n",
        "\n",
        "    Operator can be classified into below types\n",
        "\n",
        "    1 . +  --> addition\n",
        "\n",
        "    2 . -  --> subtraction\n",
        "\n",
        "    3 . *  --> multiplication\n",
        "\n",
        "    4 . /  --> division\n",
        "\n",
        "    5 . // --> floor division\n",
        "\n",
        "    6 . ** --> Exponential\n",
        "\n"
      ],
      "metadata": {
        "id": "F-jVHBNYVGYF"
      }
    },
    {
      "cell_type": "code",
      "execution_count": null,
      "metadata": {
        "colab": {
          "base_uri": "https://localhost:8080/"
        },
        "id": "u3I82M6mUiCR",
        "outputId": "82677381-84ba-4ad9-f3cb-1dc8e64c1608"
      },
      "outputs": [
        {
          "output_type": "stream",
          "name": "stdout",
          "text": [
            "The addition of a and b is 32\n",
            "\n",
            "The subtraction of a and b is 26\n",
            "\n",
            "The multiplication of a and b is 87\n",
            "\n",
            "The division of a and b is 9.666666666666666\n",
            "\n",
            "The modulus of a and b is 2\n",
            "\n",
            "The floor division of a and b is 9\n",
            "\n",
            "The (b))Power of a is 24389\n"
          ]
        }
      ],
      "source": [
        "a=29\n",
        "b=3\n",
        "\n",
        "#Here the addition can be calculated\n",
        "print(\"The addition of a and b is\", a+b)\n",
        "\n",
        "#Here the subtraction can be calculated\n",
        "print(\"\\nThe subtraction of a and b is\", a-b)\n",
        "\n",
        "#Here the multiplication can be calculated\n",
        "print(\"\\nThe multiplication of a and b is\", a*b)\n",
        "\n",
        "#Here the division can be calculated.\n",
        "print(\"\\nThe division of a and b is\", a/b)\n",
        "\n",
        "#Here the modulus can be calculated. It shows only remainder\n",
        "print(\"\\nThe modulus of a and b is\", a%b)\n",
        "\n",
        "#Here the floor division can be calculated. . It shows only integer\n",
        "print(\"\\nThe floor division of a and b is\", a//b)\n",
        "\n",
        "\n",
        "#Here the (exponential)power can be calculated. . It shows only integer\n",
        "print(\"\\nThe (b))Power of a is\", a**b)\n"
      ]
    },
    {
      "cell_type": "markdown",
      "source": [
        "#2. Comparison Operator in python\n",
        "\n",
        "    It results in True or False\n",
        "\n",
        "    1 . == --> equal t0\n",
        "\n",
        "    2 . != --> not equal to\n",
        "\n",
        "    3 . >= --> greater than or equal to\n",
        "\n",
        "    4 . <= --> less than or equal to\n",
        "\n",
        "    5 . >  --> greater than\n",
        "\n",
        "    6 . <  --> less than"
      ],
      "metadata": {
        "id": "MCinqh0tefga"
      }
    },
    {
      "cell_type": "code",
      "source": [
        "a=10\n",
        "b=20\n",
        "\n",
        "print(a)"
      ],
      "metadata": {
        "colab": {
          "base_uri": "https://localhost:8080/"
        },
        "id": "eOOsrwA7ZkDY",
        "outputId": "84d8e32f-2c53-4a74-c9fb-ba3328daac11"
      },
      "execution_count": null,
      "outputs": [
        {
          "output_type": "execute_result",
          "data": {
            "text/plain": [
              "3"
            ]
          },
          "metadata": {},
          "execution_count": 7
        }
      ]
    },
    {
      "cell_type": "markdown",
      "source": [
        "# 3. Logical Operator\n",
        "\n",
        "    There are Three types of logical operator. It results in True or False\n",
        "\n",
        "    1 . and --> both should be true\n",
        "    2 . or  --> any one should be true\n",
        "    3 . not --> opposite of it"
      ],
      "metadata": {
        "id": "LVQ9rV7OfL6-"
      }
    },
    {
      "cell_type": "code",
      "source": [
        "a=\"naruto\"\n",
        "b=\"minato\"\n",
        "if a==\"naruto\" and b==\"minato\":\n",
        "  print(\"Both are from same family\")\n",
        "else:\n",
        "  print(\"Both are from different family\")"
      ],
      "metadata": {
        "colab": {
          "base_uri": "https://localhost:8080/"
        },
        "id": "9pamz4ppeXAo",
        "outputId": "2ba66ba0-ad8c-42cc-a58f-2564c755c85f"
      },
      "execution_count": null,
      "outputs": [
        {
          "output_type": "stream",
          "name": "stdout",
          "text": [
            "Both are from same family\n"
          ]
        }
      ]
    },
    {
      "cell_type": "code",
      "source": [
        "#and\n",
        "print(True and True) # Both are true so result also true\n",
        "print(True and False) # One is True and another one is false so, result is false\n",
        "\n",
        "#or\n",
        "print(True or False)\n",
        "\n",
        "#not\n",
        "\n",
        "print(not(True)) #Opposite of True."
      ],
      "metadata": {
        "colab": {
          "base_uri": "https://localhost:8080/"
        },
        "id": "r6n8ZdK3MrFx",
        "outputId": "e6345fb8-a002-41f5-d94a-50a625c58243"
      },
      "execution_count": null,
      "outputs": [
        {
          "output_type": "stream",
          "name": "stdout",
          "text": [
            "True\n",
            "False\n",
            "True\n",
            "False\n"
          ]
        }
      ]
    },
    {
      "cell_type": "markdown",
      "source": [
        "# 4. Bitwise Operator\n",
        "\n",
        "    The Four types of Bitwise operator are\n",
        "\n",
        "    1 . Bitwise AND --> &\n",
        "\n",
        "    2 . Bitwise OR  --> |\n",
        "\n",
        "    3 . Bitwise Xor --> ^\n",
        "\n",
        "    4 . Bitwise Not --> ~\n",
        "\n",
        "    5 . Bitwise Left Shift  --> <<\n",
        "\n",
        "    6 . Bitwise Right Shift --> >>\n",
        "\n"
      ],
      "metadata": {
        "id": "P5mnPa0COEEf"
      }
    },
    {
      "cell_type": "code",
      "source": [
        "# Bitwise AND --> if both are 1, Then the result also 1. Else it is 0\n",
        "\n",
        "a=10\n",
        "b=4\n",
        "\n",
        "#Bitwise operator can be performed with binary values\n",
        "\n",
        "#Binary of 10 is 1010\n",
        "#Binary of 4 is 0100\n",
        "\n",
        "#The calculation goes below\n",
        "\n",
        "# 1010\n",
        "# 0100\n",
        "# ------\n",
        "# 0000\n",
        "\n",
        "print(a&b)"
      ],
      "metadata": {
        "colab": {
          "base_uri": "https://localhost:8080/"
        },
        "id": "LqslXVJTPEx_",
        "outputId": "043ba19f-084b-4e82-9993-9e74e0331af8"
      },
      "execution_count": null,
      "outputs": [
        {
          "output_type": "stream",
          "name": "stdout",
          "text": [
            "0\n"
          ]
        }
      ]
    },
    {
      "cell_type": "code",
      "source": [
        "# Bitwise OR --> if any value is 1, Then the result also 1. Else it is 0\n",
        "\n",
        "a=10\n",
        "b=4\n",
        "\n",
        "#Bitwise operator can be performed with binary values\n",
        "\n",
        "#Binary of 10 is 1010\n",
        "#Binary of 4 is 0100\n",
        "\n",
        "#The calculation goes below\n",
        "\n",
        "# 1010\n",
        "# 0100\n",
        "# ------\n",
        "# 1110\n",
        "\n",
        "print(a|b)"
      ],
      "metadata": {
        "colab": {
          "base_uri": "https://localhost:8080/"
        },
        "id": "mul1mvR5QQHq",
        "outputId": "11dd8421-4edf-485b-f1d3-1ef13d6530ab"
      },
      "execution_count": null,
      "outputs": [
        {
          "output_type": "stream",
          "name": "stdout",
          "text": [
            "14\n"
          ]
        }
      ]
    },
    {
      "cell_type": "code",
      "source": [
        "# Bitwise XOR\n",
        "# if any value is 1, Then the result also 1.\n",
        "# But both values are 1 or 0 . The result also 0\n",
        "\n",
        "a=4\n",
        "b=5\n",
        "\n",
        "#Bitwise operator can be performed with binary values\n",
        "\n",
        "#Binary of 4 is 0100\n",
        "#Binary of 5 is 0101\n",
        "\n",
        "#The calculation goes below\n",
        "\n",
        "# 0100\n",
        "# 0101\n",
        "# ------\n",
        "# 0001\n",
        "\n",
        "print(a^b)\n"
      ],
      "metadata": {
        "colab": {
          "base_uri": "https://localhost:8080/"
        },
        "id": "wawV_lZbpsEm",
        "outputId": "d1947ca2-deab-44b3-fe9c-726d5696a8f9"
      },
      "execution_count": null,
      "outputs": [
        {
          "output_type": "stream",
          "name": "stdout",
          "text": [
            "1\n"
          ]
        }
      ]
    },
    {
      "cell_type": "code",
      "source": [
        "#Bitwise Not\n",
        "\n",
        "\"\"\"\n",
        "a = 10 = 1010 (Binary)\n",
        "\n",
        "In computers we usually represent numbers using 32 bits,\n",
        "so binary representation of 10 is (....0000 1010)[32 bits]\n",
        "\n",
        "~a is basically 1's complement of a\n",
        "i.e ~a should be ~10 = ~(....0000 1010) = (....1111 0101) = intermediate-result\n",
        "\n",
        "Since bitwise negation inverts the sign bit,\n",
        "we now have a negative number. And we represent a negative number\n",
        "using 2's complement.\n",
        "\n",
        "2's complement of intermediate-result is:\n",
        "intermediate-res =  0101      //....1111 0101\n",
        "\n",
        "                     1010      //....0000 1010 -(1's complement)\n",
        "                         +1\n",
        "                 -----------\n",
        "                   =  1011      //....0000 1011\n",
        "                  -----------\n",
        "                   =   -11 (Decimal)\n",
        "\n",
        "thus ~a = -11\n",
        "\"\"\"\n",
        "a=10\n",
        "print((~a))\n"
      ],
      "metadata": {
        "colab": {
          "base_uri": "https://localhost:8080/"
        },
        "id": "QPCv1OoZp9Ux",
        "outputId": "2bfc488e-1093-4558-ba54-9b328e8a39af"
      },
      "execution_count": null,
      "outputs": [
        {
          "output_type": "stream",
          "name": "stdout",
          "text": [
            "-11\n"
          ]
        }
      ]
    },
    {
      "cell_type": "code",
      "source": [
        "## Bitwise Left SHift\n",
        "\n",
        "\"\"\"\n",
        "Bitwise operator can be performed with binary values\n",
        "\n",
        "binary of 10 is 1010\n",
        "\n",
        "Steps :\n",
        "\n",
        "x<<n\n",
        "\n",
        "Here x is value and n is no of shift\n",
        "\n",
        "10<<4\n",
        "\n",
        "1. Make this to 8 bit\n",
        "\n",
        "  0 0 0 0 1 0 1 0\n",
        "\n",
        "2. Cancel the bit (cancel first 4 bit)\n",
        "\n",
        "  x x x x 1 0 1 0\n",
        "\n",
        "3. Add the bit (add 4 bit in last)\n",
        "\n",
        "  1   0   1   0   0   0   0   0\n",
        "  |   |   |   |   |   |   |   |\n",
        "  128 64  32 16   8   4   2   1\n",
        "\n",
        "4. Add the values\n",
        "\n",
        "128+32\n",
        "\n",
        "\"\"\"\n",
        "a=10\n",
        "b=4\n",
        "print(a<<b)"
      ],
      "metadata": {
        "colab": {
          "base_uri": "https://localhost:8080/"
        },
        "id": "xGoDA8KQ4MgP",
        "outputId": "cb8927bc-74ae-4c28-e1b4-bbdf5b44fe9e"
      },
      "execution_count": null,
      "outputs": [
        {
          "output_type": "stream",
          "name": "stdout",
          "text": [
            "160\n"
          ]
        }
      ]
    },
    {
      "cell_type": "code",
      "source": [
        "## Bitwise right Shift -->\n",
        "\n",
        "\"\"\"\n",
        "Bitwise operator can be performed with binary values\n",
        "\n",
        "binary of 10 is 1010\n",
        "\n",
        "Steps :\n",
        "\n",
        "x>>n\n",
        "\n",
        "Here x is value and n is no of shift\n",
        "\n",
        "10>>3\n",
        "\n",
        "1. Make this to 8 bit\n",
        "\n",
        "  0 0 0 0 1 0 1 0\n",
        "\n",
        "2. Cancel the bit (cancel last 3 bit)\n",
        "\n",
        "  0 0 0 0 1 x x x\n",
        "\n",
        "3. Add the bit (add 3 bit in first)\n",
        "\n",
        "  0   0   0   0   0   0   0   1\n",
        "  |   |   |   |   |   |   |   |\n",
        "  128 64  32 16   8   4   2   1\n",
        "\n",
        "4. Add the values\n",
        "\n",
        "1\n",
        "\n",
        "\"\"\"\n",
        "a=10\n",
        "b=3\n",
        "print(a>>b)"
      ],
      "metadata": {
        "colab": {
          "base_uri": "https://localhost:8080/"
        },
        "id": "UExT6F326sds",
        "outputId": "0b18b101-9202-4cf6-c763-b5b2be15baac"
      },
      "execution_count": null,
      "outputs": [
        {
          "output_type": "stream",
          "name": "stdout",
          "text": [
            "1\n"
          ]
        }
      ]
    }
  ]
}