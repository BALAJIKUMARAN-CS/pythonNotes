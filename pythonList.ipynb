{
  "nbformat": 4,
  "nbformat_minor": 0,
  "metadata": {
    "colab": {
      "provenance": [],
      "authorship_tag": "ABX9TyOxmTWwhVxOVJK415j+SAmN",
      "include_colab_link": true
    },
    "kernelspec": {
      "name": "python3",
      "display_name": "Python 3"
    },
    "language_info": {
      "name": "python"
    }
  },
  "cells": [
    {
      "cell_type": "markdown",
      "metadata": {
        "id": "view-in-github",
        "colab_type": "text"
      },
      "source": [
        "<a href=\"https://colab.research.google.com/github/BALAJIKUMARAN-CS/pythonNotes/blob/main/pythonList.ipynb\" target=\"_parent\"><img src=\"https://colab.research.google.com/assets/colab-badge.svg\" alt=\"Open In Colab\"/></a>"
      ]
    },
    {
      "cell_type": "markdown",
      "source": [
        "#1. LIST\n",
        "\n",
        "\n",
        "    1. Lists are used to store multiple items in a single variable. (Heterogeneous)\n",
        "\n",
        "    2. Lists are one of 4 built-in data types in Python used to store collections of data, the other 3 are Tuple, Set, and Dictionary, all with different qualities and usage.\n",
        "\n",
        "    3. Lists are created using square brackets:\n",
        "\n",
        "    4. List items are ordered, changeable, and allow duplicate values.\n",
        "\n",
        "    5. List items are indexed, the first item has index [0], the second item has index [1] etc."
      ],
      "metadata": {
        "id": "Gh6gZ21GRzQb"
      }
    },
    {
      "cell_type": "code",
      "source": [
        "source=[]\n",
        "t\n",
        "ype(source)"
      ],
      "metadata": {
        "colab": {
          "base_uri": "https://localhost:8080/",
          "height": 200
        },
        "id": "CLJVGylUR3li",
        "outputId": "3ba76dde-2ef6-46f3-a17e-46c7e68ab95e"
      },
      "execution_count": 64,
      "outputs": [
        {
          "output_type": "error",
          "ename": "NameError",
          "evalue": "ignored",
          "traceback": [
            "\u001b[0;31m---------------------------------------------------------------------------\u001b[0m",
            "\u001b[0;31mNameError\u001b[0m                                 Traceback (most recent call last)",
            "\u001b[0;32m<ipython-input-64-4ffb9011a669>\u001b[0m in \u001b[0;36m<cell line: 2>\u001b[0;34m()\u001b[0m\n\u001b[1;32m      1\u001b[0m \u001b[0msource\u001b[0m\u001b[0;34m=\u001b[0m\u001b[0;34m[\u001b[0m\u001b[0;34m]\u001b[0m\u001b[0;34m\u001b[0m\u001b[0;34m\u001b[0m\u001b[0m\n\u001b[0;32m----> 2\u001b[0;31m \u001b[0mt\u001b[0m\u001b[0;34m\u001b[0m\u001b[0;34m\u001b[0m\u001b[0m\n\u001b[0m\u001b[1;32m      3\u001b[0m \u001b[0mype\u001b[0m\u001b[0;34m(\u001b[0m\u001b[0msource\u001b[0m\u001b[0;34m)\u001b[0m\u001b[0;34m\u001b[0m\u001b[0;34m\u001b[0m\u001b[0m\n",
            "\u001b[0;31mNameError\u001b[0m: name 't' is not defined"
          ]
        }
      ]
    },
    {
      "cell_type": "code",
      "source": [
        "source=[\"Test\",1,1.1]\n",
        "\n",
        "print(type(source[0]),type(source[-1]))\n",
        "\n",
        "print(type(source[1]))"
      ],
      "metadata": {
        "colab": {
          "base_uri": "https://localhost:8080/"
        },
        "id": "ZUPa-Dr4SHVn",
        "outputId": "071a13c9-c907-4fc7-f08a-10b26b91330d"
      },
      "execution_count": 63,
      "outputs": [
        {
          "output_type": "stream",
          "name": "stdout",
          "text": [
            "<class 'str'> <class 'float'>\n",
            "<class 'int'>\n"
          ]
        }
      ]
    },
    {
      "cell_type": "markdown",
      "source": [
        "# 2. List Replace\n",
        "\n",
        "    We can replace the string by calling its index value\n",
        "\n",
        "    EG:\n",
        "    clan=[\"naruto\",\"minato\",\"obito\"]\n",
        "    clan[0]=\"hinata\"\n",
        "    here naruto is replaced with hinata"
      ],
      "metadata": {
        "id": "U2YaxOYpTkNt"
      }
    },
    {
      "cell_type": "code",
      "source": [
        "clan=[\"naruto\",\"minato\",\"obito\"]\n",
        "\n",
        "print(\"The old clan values: \",clan)\n",
        "\n",
        "clan[0]=\"hinata\"\n",
        "\n",
        "print(\"The new clan values are: \",clan)"
      ],
      "metadata": {
        "colab": {
          "base_uri": "https://localhost:8080/"
        },
        "id": "VZ5IGl0USozl",
        "outputId": "4163df39-b926-464f-924f-1c581a8440bf"
      },
      "execution_count": 65,
      "outputs": [
        {
          "output_type": "stream",
          "name": "stdout",
          "text": [
            "The old clan values:  ['naruto', 'minato', 'obito']\n",
            "The new clan values are:  ['hinata', 'minato', 'obito']\n"
          ]
        }
      ]
    },
    {
      "cell_type": "markdown",
      "source": [
        "# 3. List Insert\n",
        "\n",
        "    insert function is used to add a value in a list\n",
        "\n",
        "    Insert have 2 argument (index position, value)\n",
        "\n",
        "    Eg:\n",
        "\n",
        "    insert(1,\"book)\n",
        "\n",
        "    Here book is inserted in the index position of 1 in a list"
      ],
      "metadata": {
        "id": "0JsAiScZ28h6"
      }
    },
    {
      "cell_type": "code",
      "source": [
        "clan=[\"naruto\",\"minato\",\"obito\"]\n",
        "\n",
        "print(\"The old clan values: \",clan)\n",
        "\n",
        "clan.insert(1,\"kakashi\")\n",
        "\n",
        "print(\"\\nThe new clan values are: \",clan)"
      ],
      "metadata": {
        "colab": {
          "base_uri": "https://localhost:8080/"
        },
        "id": "toNwvBn92_Uz",
        "outputId": "ff29eb05-9641-4c86-e541-07967fd48e70"
      },
      "execution_count": 66,
      "outputs": [
        {
          "output_type": "stream",
          "name": "stdout",
          "text": [
            "The old clan values:  ['naruto', 'minato', 'obito']\n",
            "\n",
            "The new clan values are:  ['naruto', 'kakashi', 'minato', 'obito']\n"
          ]
        }
      ]
    },
    {
      "cell_type": "markdown",
      "source": [
        "# 4. List Append\n",
        "\n",
        "      append function is used to insert a value in the last\n",
        "\n",
        "      insert vs append\n",
        "\n",
        "      insert is used to add a value in a particular index\n",
        "      append is used to a add a value in last position"
      ],
      "metadata": {
        "id": "g5H_Ln6k3EfX"
      }
    },
    {
      "cell_type": "code",
      "source": [
        "clan=[\"naruto\",\"minato\",\"obito\"]\n",
        "\n",
        "print(\"The old clan values: \",clan)\n",
        "\n",
        "clan.append(\"kakashi\")\n",
        "\n",
        "print(\"\\nThe new clan values are: \",clan)"
      ],
      "metadata": {
        "colab": {
          "base_uri": "https://localhost:8080/"
        },
        "id": "bp0pShhz3IT9",
        "outputId": "c1375c28-1a16-4959-8b86-95a1e26a51e5"
      },
      "execution_count": 67,
      "outputs": [
        {
          "output_type": "stream",
          "name": "stdout",
          "text": [
            "The old clan values:  ['naruto', 'minato', 'obito']\n",
            "\n",
            "The new clan values are:  ['naruto', 'minato', 'obito', 'kakashi']\n"
          ]
        }
      ]
    },
    {
      "cell_type": "markdown",
      "source": [
        "#5. List remove\n",
        "\n",
        "    remove function is used to remove a particular value in a list\n",
        "\n",
        "\n",
        "    Eg:\n",
        "\n",
        "    list.remove(\"xyz\")\n",
        "\n",
        "    Here the value xyz is removed from the list"
      ],
      "metadata": {
        "id": "iYkTQ4NM3Nvd"
      }
    },
    {
      "cell_type": "code",
      "source": [
        "clan=[\"naruto\",\"minato\",\"obito\"]\n",
        "\n",
        "print(\"The old clan values: \",clan)\n",
        "\n",
        "clan.remove(\"minato\")\n",
        "\n",
        "print(\"\\nThe new clan values are: \",clan)"
      ],
      "metadata": {
        "colab": {
          "base_uri": "https://localhost:8080/"
        },
        "id": "BBBVQ9Lv3Os_",
        "outputId": "7a4d697e-f075-4acb-cca9-ed93e53b1e84"
      },
      "execution_count": 68,
      "outputs": [
        {
          "output_type": "stream",
          "name": "stdout",
          "text": [
            "The old clan values:  ['naruto', 'minato', 'obito']\n",
            "\n",
            "The new clan values are:  ['naruto', 'obito']\n"
          ]
        }
      ]
    },
    {
      "cell_type": "markdown",
      "source": [
        "# 6. List pop\n",
        "\n",
        "      pop function is used to delete a value in the last\n",
        "\n",
        "      remove vs pop\n",
        "\n",
        "      remove is used to delete a particular\n",
        "      pop is used to a delete a value in last position"
      ],
      "metadata": {
        "id": "0bBNoZ-x3btT"
      }
    },
    {
      "cell_type": "code",
      "source": [
        "clan=[\"naruto\",\"minato\",\"obito\"]\n",
        "\n",
        "print(\"The old clan values: \",clan)\n",
        "\n",
        "clan.pop()\n",
        "\n",
        "print(\"\\nThe new clan values are: \",clan)"
      ],
      "metadata": {
        "colab": {
          "base_uri": "https://localhost:8080/"
        },
        "id": "vM3lh_HE3bUE",
        "outputId": "9435684e-5c21-45c1-e7d3-c0d50f923e16"
      },
      "execution_count": 69,
      "outputs": [
        {
          "output_type": "stream",
          "name": "stdout",
          "text": [
            "The old clan values:  ['naruto', 'minato', 'obito']\n",
            "\n",
            "The new clan values are:  ['naruto', 'minato']\n"
          ]
        }
      ]
    },
    {
      "cell_type": "markdown",
      "source": [
        "#7. List del\n",
        "\n",
        "    del keyword is used to delete objects with its index position\n",
        "\n",
        "    Eg:\n",
        "\n",
        "    del list[index]\n",
        "\n"
      ],
      "metadata": {
        "id": "8FSZj39T3lf7"
      }
    },
    {
      "cell_type": "code",
      "source": [
        "clan=[\"naruto\",\"minato\",\"obito\"]\n",
        "\n",
        "print(\"The old clan values: \",clan)\n",
        "\n",
        "del clan[1]\n",
        "\n",
        "print(\"\\nThe new clan values are: \",clan)"
      ],
      "metadata": {
        "colab": {
          "base_uri": "https://localhost:8080/"
        },
        "id": "uPJV_m0y3mTT",
        "outputId": "d6182ab8-fabd-4ef6-ae5f-3634e2594af7"
      },
      "execution_count": 70,
      "outputs": [
        {
          "output_type": "stream",
          "name": "stdout",
          "text": [
            "The old clan values:  ['naruto', 'minato', 'obito']\n",
            "\n",
            "The new clan values are:  ['naruto', 'obito']\n"
          ]
        }
      ]
    },
    {
      "cell_type": "markdown",
      "source": [
        "#8. List Extend\n",
        "\n",
        "    extend function is used to extend the list with single value or multiple value"
      ],
      "metadata": {
        "id": "8foylg_gYHqk"
      }
    },
    {
      "cell_type": "code",
      "source": [
        "clan=[\"naruto\",\"minato\",\"obito\"]\n",
        "\n",
        "print(\"The old clan values: \",clan)\n",
        "\n",
        "clan.extend([\"kakashi\",\"sakura\"])\n",
        "\n",
        "print(\"\\nThe new clan values are: \",clan)"
      ],
      "metadata": {
        "colab": {
          "base_uri": "https://localhost:8080/"
        },
        "id": "wYTKeCr_YPic",
        "outputId": "99e05209-f305-4afe-cd4b-e96d5301021e"
      },
      "execution_count": 71,
      "outputs": [
        {
          "output_type": "stream",
          "name": "stdout",
          "text": [
            "The old clan values:  ['naruto', 'minato', 'obito']\n",
            "\n",
            "The new clan values are:  ['naruto', 'minato', 'obito', 'kakashi', 'sakura']\n"
          ]
        }
      ]
    },
    {
      "cell_type": "code",
      "source": [
        "#What if we didn't use square bracket in extend function for a string\n",
        "\n",
        "clan=[\"naruto\",\"minato\",\"obito\"]\n",
        "\n",
        "print(\"The old clan values: \",clan)\n",
        "\n",
        "clan.extend(\"abcde\")\n",
        "\n",
        "print(\"\\nThe new clan values are: \",clan)"
      ],
      "metadata": {
        "colab": {
          "base_uri": "https://localhost:8080/"
        },
        "id": "6rT36zD14vFw",
        "outputId": "303776f9-d421-4e51-cc8b-01551c1bdaec"
      },
      "execution_count": 72,
      "outputs": [
        {
          "output_type": "stream",
          "name": "stdout",
          "text": [
            "The old clan values:  ['naruto', 'minato', 'obito']\n",
            "\n",
            "The new clan values are:  ['naruto', 'minato', 'obito', 'a', 'b', 'c', 'd', 'e']\n"
          ]
        }
      ]
    },
    {
      "cell_type": "markdown",
      "source": [
        "#9. Combine two lists\n",
        "\n",
        "\n",
        "    We can use + operator"
      ],
      "metadata": {
        "id": "OdJaTeirYoMk"
      }
    },
    {
      "cell_type": "code",
      "source": [
        "uchihaClan=['sasuke','itachi','madara']\n",
        "\n",
        "uzumakiClan=['naruto',\"minato\"]\n",
        "\n",
        "\n",
        "greenLeafVillage=uchihaClan+uzumakiClan\n",
        "\n",
        "print(f\"The uchiha clan members are: {uchihaClan}\")\n",
        "\n",
        "print(f\"The uzumaki clan menbers are : {uzumakiClan}\")\n",
        "\n",
        "print(f\"The greenLeaf village members : {greenLeafVillage}\")"
      ],
      "metadata": {
        "colab": {
          "base_uri": "https://localhost:8080/"
        },
        "id": "pQ04gVolYyx7",
        "outputId": "95f977fc-83a1-4bec-c689-cd2c7bd4244b"
      },
      "execution_count": 20,
      "outputs": [
        {
          "output_type": "stream",
          "name": "stdout",
          "text": [
            "The uchiha clan members are: ['sasuke', 'itachi', 'madara']\n",
            "The uzumaki clan menbers are : ['naruto', 'minato']\n",
            "The greenLeaf village members : ['sasuke', 'itachi', 'madara', 'naruto', 'minato']\n"
          ]
        }
      ]
    },
    {
      "cell_type": "markdown",
      "source": [
        "#10. Add multple values in a list\n",
        "\n",
        "    we can add multiple values in a list by the below operation\n",
        "\n",
        "    1. list=list+[\"a\",\"b\",\"c\"]\n",
        "    2. list+=[\"a\",\"b\",\"c\"]\n"
      ],
      "metadata": {
        "id": "ABos2jF-6t6L"
      }
    },
    {
      "cell_type": "code",
      "source": [
        "#Eg : 1\n",
        "\n",
        "clan=[\"naruto\",\"minato\",\"obito\"]\n",
        "\n",
        "print(\"The old clan values: \",clan)\n",
        "\n",
        "clan=clan+[\"itachi\",\"kakashi\"]\n",
        "\n",
        "print(\"\\nThe new clan values are: \",clan)"
      ],
      "metadata": {
        "colab": {
          "base_uri": "https://localhost:8080/"
        },
        "id": "c4_O99dl6Z5R",
        "outputId": "23886da6-7041-4f83-8bea-e74d9fe446a5"
      },
      "execution_count": 73,
      "outputs": [
        {
          "output_type": "stream",
          "name": "stdout",
          "text": [
            "The old clan values:  ['naruto', 'minato', 'obito']\n",
            "\n",
            "The new clan values are:  ['naruto', 'minato', 'obito', 'itachi', 'kakashi']\n"
          ]
        }
      ]
    },
    {
      "cell_type": "code",
      "source": [
        "#Eg : 1\n",
        "\n",
        "clan=[\"naruto\",\"minato\",\"obito\"]\n",
        "\n",
        "print(\"The old clan values: \",clan)\n",
        "\n",
        "clan=clan+[\"itachi\",\"kakashi\"]\n",
        "\n",
        "print(\"\\nThe new clan values are: \",clan)"
      ],
      "metadata": {
        "colab": {
          "base_uri": "https://localhost:8080/"
        },
        "id": "Uez7UfgD7PYw",
        "outputId": "ec56f05a-7aca-47a7-ad27-feabf921cce0"
      },
      "execution_count": 74,
      "outputs": [
        {
          "output_type": "stream",
          "name": "stdout",
          "text": [
            "The old clan values:  ['naruto', 'minato', 'obito']\n",
            "\n",
            "The new clan values are:  ['naruto', 'minato', 'obito', 'itachi', 'kakashi']\n"
          ]
        }
      ]
    },
    {
      "cell_type": "markdown",
      "source": [
        "# 11. List Sort Ascending\n",
        "\n",
        "    The sort() method sorts the list ascending by default.\n",
        "\n",
        "      Posible with sort:\n",
        "      ___________________\n",
        "      int+float\n",
        "      int+bool\n",
        "\n",
        "      Not possible with sort:\n",
        "      _______________________\n",
        "        int+str\n",
        "        bool+str\n",
        "\n"
      ],
      "metadata": {
        "id": "1TIBx9_t8EAg"
      }
    },
    {
      "cell_type": "code",
      "source": [
        "#Eg 1: sort Capital and small (Here Capital is arranged first)\n",
        "\n",
        "clan=[\"naruto\",\"minato\",\"itachi\",\"Kakashi\"]\n",
        "\n",
        "clan.sort()\n",
        "\n",
        "print(clan)"
      ],
      "metadata": {
        "colab": {
          "base_uri": "https://localhost:8080/"
        },
        "id": "ImYtRVJy8nrB",
        "outputId": "2bdba66d-0da9-4f1b-b932-fb3e97b3d188"
      },
      "execution_count": 48,
      "outputs": [
        {
          "output_type": "stream",
          "name": "stdout",
          "text": [
            "['Kakashi', 'itachi', 'minato', 'naruto']\n"
          ]
        }
      ]
    },
    {
      "cell_type": "code",
      "source": [
        "#Eg 2: clan.sort() and clan.sort(reverse=False)\n",
        "\n",
        "clan=[\"naruto\",\"minato\",\"itachi\",\"Kakashi\"]\n",
        "\n",
        "clan.sort(reverse=False)\n",
        "\n",
        "print(clan)"
      ],
      "metadata": {
        "colab": {
          "base_uri": "https://localhost:8080/"
        },
        "id": "K-rzF-iQ-umN",
        "outputId": "ddac9edf-b000-4885-dfbe-cc3a37245434"
      },
      "execution_count": 49,
      "outputs": [
        {
          "output_type": "stream",
          "name": "stdout",
          "text": [
            "['Kakashi', 'itachi', 'minato', 'naruto']\n"
          ]
        }
      ]
    },
    {
      "cell_type": "code",
      "source": [
        "#Eg 3: Sort of Boolean\n",
        "\n",
        "clan=[True,False,True,False]\n",
        "\n",
        "clan.sort()\n",
        "\n",
        "print(clan)"
      ],
      "metadata": {
        "colab": {
          "base_uri": "https://localhost:8080/"
        },
        "id": "wV7Hto63_dd2",
        "outputId": "958fcdf4-234d-487f-c257-16ee59127de7"
      },
      "execution_count": 51,
      "outputs": [
        {
          "output_type": "stream",
          "name": "stdout",
          "text": [
            "[False, False, True, True]\n"
          ]
        }
      ]
    },
    {
      "cell_type": "code",
      "source": [
        "#Eg 4: Sort of integer and float\n",
        "\n",
        "clan=[1,1.1,5,0,5.3]\n",
        "\n",
        "clan.sort()\n",
        "\n",
        "print(clan)"
      ],
      "metadata": {
        "colab": {
          "base_uri": "https://localhost:8080/"
        },
        "id": "qyQcphO-AMO3",
        "outputId": "6c0b95fd-c93a-4a12-c5ef-d1eb037de39f"
      },
      "execution_count": 52,
      "outputs": [
        {
          "output_type": "stream",
          "name": "stdout",
          "text": [
            "[0, 1, 1.1, 5, 5.3]\n"
          ]
        }
      ]
    },
    {
      "cell_type": "code",
      "source": [
        "#Eg 5: Sort of integer and float and bool\n",
        "\n",
        "clan=[1,1.1,5,0,5.3,False,True,True,False]\n",
        "\n",
        "clan.sort()\n",
        "\n",
        "print(clan)"
      ],
      "metadata": {
        "colab": {
          "base_uri": "https://localhost:8080/"
        },
        "id": "-eoPCPjiAWbg",
        "outputId": "63893c24-f55e-4b91-d8bd-de5c495a8453"
      },
      "execution_count": 53,
      "outputs": [
        {
          "output_type": "stream",
          "name": "stdout",
          "text": [
            "[0, False, False, 1, True, True, 1.1, 5, 5.3]\n"
          ]
        }
      ]
    },
    {
      "cell_type": "code",
      "source": [
        "#Eg 6: integer + string sort is not possible\n",
        "\n",
        "clan=[\"naruto\",\"minato\",1,2,3]\n",
        "\n",
        "clan.sort()\n",
        "\n",
        "print(clan)"
      ],
      "metadata": {
        "colab": {
          "base_uri": "https://localhost:8080/",
          "height": 235
        },
        "id": "aiICbYpn-8_E",
        "outputId": "5b92ff87-b862-4e66-a2ee-9a71a2126fb3"
      },
      "execution_count": 54,
      "outputs": [
        {
          "output_type": "error",
          "ename": "TypeError",
          "evalue": "ignored",
          "traceback": [
            "\u001b[0;31m---------------------------------------------------------------------------\u001b[0m",
            "\u001b[0;31mTypeError\u001b[0m                                 Traceback (most recent call last)",
            "\u001b[0;32m<ipython-input-54-eb826cea5d21>\u001b[0m in \u001b[0;36m<cell line: 5>\u001b[0;34m()\u001b[0m\n\u001b[1;32m      3\u001b[0m \u001b[0mclan\u001b[0m\u001b[0;34m=\u001b[0m\u001b[0;34m[\u001b[0m\u001b[0;34m\"naruto\"\u001b[0m\u001b[0;34m,\u001b[0m\u001b[0;34m\"minato\"\u001b[0m\u001b[0;34m,\u001b[0m\u001b[0;36m1\u001b[0m\u001b[0;34m,\u001b[0m\u001b[0;36m2\u001b[0m\u001b[0;34m,\u001b[0m\u001b[0;36m3\u001b[0m\u001b[0;34m]\u001b[0m\u001b[0;34m\u001b[0m\u001b[0;34m\u001b[0m\u001b[0m\n\u001b[1;32m      4\u001b[0m \u001b[0;34m\u001b[0m\u001b[0m\n\u001b[0;32m----> 5\u001b[0;31m \u001b[0mclan\u001b[0m\u001b[0;34m.\u001b[0m\u001b[0msort\u001b[0m\u001b[0;34m(\u001b[0m\u001b[0;34m)\u001b[0m\u001b[0;34m\u001b[0m\u001b[0;34m\u001b[0m\u001b[0m\n\u001b[0m\u001b[1;32m      6\u001b[0m \u001b[0;34m\u001b[0m\u001b[0m\n\u001b[1;32m      7\u001b[0m \u001b[0mprint\u001b[0m\u001b[0;34m(\u001b[0m\u001b[0mclan\u001b[0m\u001b[0;34m)\u001b[0m\u001b[0;34m\u001b[0m\u001b[0;34m\u001b[0m\u001b[0m\n",
            "\u001b[0;31mTypeError\u001b[0m: '<' not supported between instances of 'int' and 'str'"
          ]
        }
      ]
    },
    {
      "cell_type": "markdown",
      "source": [
        "# 11. List Sort Descending\n",
        "\n",
        "    The .sort(reverse=True) is used for descending sort\n",
        "\n",
        "      "
      ],
      "metadata": {
        "id": "0ez--wErBJ0c"
      }
    },
    {
      "cell_type": "code",
      "source": [
        "clan=[\"itachi\",\"Obito\",\"naruto\",\"Kakashi\"]\n",
        "\n",
        "clan.sort(reverse=True)\n",
        "\n",
        "print(clan)\n"
      ],
      "metadata": {
        "colab": {
          "base_uri": "https://localhost:8080/"
        },
        "id": "oh9D6EA39ZhI",
        "outputId": "c584c6d0-7ef6-4ae4-cc70-d1988335af81"
      },
      "execution_count": 57,
      "outputs": [
        {
          "output_type": "stream",
          "name": "stdout",
          "text": [
            "['naruto', 'itachi', 'Obito', 'Kakashi']\n"
          ]
        }
      ]
    },
    {
      "cell_type": "markdown",
      "source": [
        "#12. List Reverse\n",
        "\n",
        "    Reverse function is used to reverse the exact list\n",
        "\n",
        "    Eg:\n",
        "    list.reverse()"
      ],
      "metadata": {
        "id": "MTfF3wUzDLGJ"
      }
    },
    {
      "cell_type": "code",
      "source": [
        "clan=[\"naruto\",\"minato\",\"obito\"]\n",
        "\n",
        "print(\"The old clan values: \",clan)\n",
        "\n",
        "clan.reverse()\n",
        "\n",
        "print(\"\\nThe new clan values are: \",clan)"
      ],
      "metadata": {
        "colab": {
          "base_uri": "https://localhost:8080/"
        },
        "id": "YVV2ZktADIKa",
        "outputId": "d5679f4f-90fa-4478-8f5f-4ed156b93a01"
      },
      "execution_count": 59,
      "outputs": [
        {
          "output_type": "stream",
          "name": "stdout",
          "text": [
            "The old clan values:  ['naruto', 'minato', 'obito']\n",
            "\n",
            "The new clan values are:  ['obito', 'minato', 'naruto']\n"
          ]
        }
      ]
    },
    {
      "cell_type": "markdown",
      "source": [
        "# 13. List Count\n",
        "\n",
        "    The count function is used to count the values\n",
        "\n",
        "    Eg:\n",
        "\n",
        "    list.count(x)"
      ],
      "metadata": {
        "id": "EARqDv5lF14n"
      }
    },
    {
      "cell_type": "code",
      "source": [
        "clan=[\"naruto\",\"minato\",\"obito\"]\n",
        "\n",
        "print(\"The old clan values: \",clan)\n",
        "\n",
        "print(\"\\nThe count is \",clan.count(\"naruto\"))"
      ],
      "metadata": {
        "colab": {
          "base_uri": "https://localhost:8080/"
        },
        "id": "nO5Uzv4iDtsR",
        "outputId": "596da327-05af-432d-ab84-ea3f2d048f23"
      },
      "execution_count": 81,
      "outputs": [
        {
          "output_type": "stream",
          "name": "stdout",
          "text": [
            "The old clan values:  ['naruto', 'minato', 'obito']\n",
            "\n",
            "The count is  1\n"
          ]
        }
      ]
    },
    {
      "cell_type": "markdown",
      "source": [
        "#14. List Clear\n",
        "\n",
        "    clear function is used to clear all the values in the list. But not the Variable"
      ],
      "metadata": {
        "id": "kM4VG6iZGJ7E"
      }
    },
    {
      "cell_type": "code",
      "source": [
        "#Eg 1:\n",
        "\n",
        "clan=[\"naruto\",\"minato\",\"obito\"]\n",
        "\n",
        "print(\"The old clan values: \",clan)\n",
        "\n",
        "clan.clear()\n",
        "\n",
        "print(\"\\nThe new clan values are: \",clan)\n"
      ],
      "metadata": {
        "colab": {
          "base_uri": "https://localhost:8080/"
        },
        "id": "mDLBL_F4Fl4C",
        "outputId": "1861351a-0daa-45ed-ad89-a1f84f3226f5"
      },
      "execution_count": 80,
      "outputs": [
        {
          "output_type": "stream",
          "name": "stdout",
          "text": [
            "The old clan values:  ['naruto', 'minato', 'obito']\n",
            "\n",
            "The new clan values are:  []\n"
          ]
        }
      ]
    },
    {
      "cell_type": "code",
      "source": [
        "clan=[\"naruto\",\"minato\",\"obito\"]\n",
        "\n",
        "print(\"The old clan values: \",clan)\n",
        "\n",
        "clan.clear()\n",
        "\n",
        "if len(clan) ==0:\n",
        "  print(\"\\nNo one in the clan\\n\")\n",
        "  print(clan)\n",
        "\n",
        "else:\n",
        "  print(\"Someone in the clan\")\n",
        "  print(clan)"
      ],
      "metadata": {
        "colab": {
          "base_uri": "https://localhost:8080/"
        },
        "id": "1vwrEpMSE67F",
        "outputId": "38689aa1-3108-462d-a3df-814472f0de28"
      },
      "execution_count": 84,
      "outputs": [
        {
          "output_type": "stream",
          "name": "stdout",
          "text": [
            "The old clan values:  ['naruto', 'minato', 'obito']\n",
            "\n",
            "No one in the clan\n",
            "\n",
            "[]\n"
          ]
        }
      ]
    },
    {
      "cell_type": "markdown",
      "source": [
        "#14. ShallowCopy\n",
        "\n",
        "    How to make a copy of on top of the existing list\n",
        "\n",
        "    for this we can use the below keyword\n",
        "\n",
        "      list2=list1\n",
        "\n",
        "\n",
        "    If we clear the list1 it will delete the both lists(list1,list2)"
      ],
      "metadata": {
        "id": "TETivdNkH-nz"
      }
    },
    {
      "cell_type": "code",
      "source": [
        "clan=[\"naruto\",\"minato\",\"obito\"]\n",
        "\n",
        "copyClan=clan\n",
        "\n",
        "print(\"The clan members are \",clan)\n",
        "\n",
        "print(\"\\nThe copyClan members are \",copyClan)\n",
        "\n",
        "clan.clear()   # it removes both clan\n",
        "\n",
        "print(\"\\nThe clan members are \",clan)\n",
        "\n",
        "print(\"\\nThe copyClan members are \",copyClan)"
      ],
      "metadata": {
        "colab": {
          "base_uri": "https://localhost:8080/"
        },
        "id": "vkVzSm1NH-VT",
        "outputId": "b512ef25-0b1d-4ebe-ced4-0167b964c046"
      },
      "execution_count": 88,
      "outputs": [
        {
          "output_type": "stream",
          "name": "stdout",
          "text": [
            "The clan members are  ['naruto', 'minato', 'obito']\n",
            "\n",
            "The copyClan members are  ['naruto', 'minato', 'obito']\n",
            "\n",
            "The clan members are  []\n",
            "\n",
            "The copyClan members are  []\n"
          ]
        }
      ]
    },
    {
      "cell_type": "markdown",
      "source": [
        "# 15. DeepCopy\n",
        "\n",
        "    How to make an exact copy of the list\n",
        "\n",
        "    for this we need to import copy option first then we can use the below keyword\n",
        "\n",
        "    list1=copy.deepcopy(list)\n",
        "\n",
        "    list2 contains value if we delete list 1"
      ],
      "metadata": {
        "id": "hZY2ZuZVG6kf"
      }
    },
    {
      "cell_type": "code",
      "source": [
        "import copy\n",
        "\n",
        "clan=[\"naruto\",\"minato\",\"obito\"]\n",
        "\n",
        "copyClan=copy.deepcopy(clan)\n",
        "\n",
        "print(\"The clan members are \",clan)\n",
        "\n",
        "print(\"\\nThe copyClan members are \",copyClan)\n",
        "\n",
        "clan.clear()   # it removes the clan value and not the copyClan's value\n",
        "\n",
        "print(\"\\nThe clan members are \",clan)\n",
        "\n",
        "print(\"\\nThe copyClan members are \",copyClan)"
      ],
      "metadata": {
        "colab": {
          "base_uri": "https://localhost:8080/"
        },
        "id": "cEbRQAjIG-jT",
        "outputId": "0c8f8e43-7b42-4027-ddde-e4ec273e7264"
      },
      "execution_count": 86,
      "outputs": [
        {
          "output_type": "stream",
          "name": "stdout",
          "text": [
            "The clan members are  ['naruto', 'minato', 'obito']\n",
            "\n",
            "The copyClan members are  ['naruto', 'minato', 'obito']\n",
            "\n",
            "The clan members are  []\n",
            "\n",
            "The copyClan members are  ['naruto', 'minato', 'obito']\n"
          ]
        }
      ]
    },
    {
      "cell_type": "markdown",
      "source": [
        "#16. min and max function in List\n",
        "\n",
        "    min() is used to find the minimum value in a list\n",
        "\n",
        "    max() is used to find the maximum value in a list\n",
        "\n",
        "    Possible Scenarios\n",
        "    ____________________\n",
        "    int+float\n",
        "    int+bool\n",
        "\n",
        "    Not possible Scenarios:\n",
        "    _______________________\n",
        "    int+str\n",
        "    bool+str\n"
      ],
      "metadata": {
        "id": "IPthNV-tKY0E"
      }
    },
    {
      "cell_type": "code",
      "source": [
        "#Eg 1: Capital letter is first precedence\n",
        "\n",
        "clan=[\"naruto\",\"minato\",\"obito\",\"Zabusa\"]\n",
        "\n",
        "print(min(clan))\n",
        "\n",
        "print(max(clan))"
      ],
      "metadata": {
        "colab": {
          "base_uri": "https://localhost:8080/"
        },
        "id": "XD21k-0nJyfm",
        "outputId": "c160367a-6b20-42cb-a7f5-1010e3536159"
      },
      "execution_count": 97,
      "outputs": [
        {
          "output_type": "stream",
          "name": "stdout",
          "text": [
            "Zabusa\n",
            "obito\n"
          ]
        }
      ]
    },
    {
      "cell_type": "code",
      "source": [
        "#Eg 2: Integer + float\n",
        "\n",
        "clan=[1,6,4,0.1,5]\n",
        "\n",
        "print(min(clan))\n",
        "\n",
        "print(max(clan))"
      ],
      "metadata": {
        "colab": {
          "base_uri": "https://localhost:8080/"
        },
        "id": "-vleXe2bL-o5",
        "outputId": "66701fcc-8bea-4a4f-91c7-8683832df196"
      },
      "execution_count": 98,
      "outputs": [
        {
          "output_type": "stream",
          "name": "stdout",
          "text": [
            "0.1\n",
            "6\n"
          ]
        }
      ]
    },
    {
      "cell_type": "code",
      "source": [
        "#Eg 3: Integer + float + bool\n",
        "\n",
        "clan=[1,6,4,0.1,5,False,True]\n",
        "\n",
        "print(min(clan))\n",
        "\n",
        "print(max(clan))"
      ],
      "metadata": {
        "colab": {
          "base_uri": "https://localhost:8080/"
        },
        "id": "2wwoyUEXMAqy",
        "outputId": "e2fb75cd-1eaa-4769-b122-5e995605ba05"
      },
      "execution_count": 99,
      "outputs": [
        {
          "output_type": "stream",
          "name": "stdout",
          "text": [
            "False\n",
            "6\n"
          ]
        }
      ]
    },
    {
      "cell_type": "code",
      "source": [
        "#Eg 3: Str + Bool (Not Possible)\n",
        "\n",
        "clan=[\"naruto\",False,True]\n",
        "\n",
        "print(min(clan))\n",
        "\n",
        "print(max(clan))"
      ],
      "metadata": {
        "colab": {
          "base_uri": "https://localhost:8080/",
          "height": 235
        },
        "id": "V3ByByK3MG41",
        "outputId": "9799a9c8-fc11-4743-d618-2d4e6e7d2023"
      },
      "execution_count": 102,
      "outputs": [
        {
          "output_type": "error",
          "ename": "TypeError",
          "evalue": "ignored",
          "traceback": [
            "\u001b[0;31m---------------------------------------------------------------------------\u001b[0m",
            "\u001b[0;31mTypeError\u001b[0m                                 Traceback (most recent call last)",
            "\u001b[0;32m<ipython-input-102-50974588daff>\u001b[0m in \u001b[0;36m<cell line: 5>\u001b[0;34m()\u001b[0m\n\u001b[1;32m      3\u001b[0m \u001b[0mclan\u001b[0m\u001b[0;34m=\u001b[0m\u001b[0;34m[\u001b[0m\u001b[0;34m\"naruto\"\u001b[0m\u001b[0;34m,\u001b[0m\u001b[0;32mFalse\u001b[0m\u001b[0;34m,\u001b[0m\u001b[0;32mTrue\u001b[0m\u001b[0;34m]\u001b[0m\u001b[0;34m\u001b[0m\u001b[0;34m\u001b[0m\u001b[0m\n\u001b[1;32m      4\u001b[0m \u001b[0;34m\u001b[0m\u001b[0m\n\u001b[0;32m----> 5\u001b[0;31m \u001b[0mprint\u001b[0m\u001b[0;34m(\u001b[0m\u001b[0mmin\u001b[0m\u001b[0;34m(\u001b[0m\u001b[0mclan\u001b[0m\u001b[0;34m)\u001b[0m\u001b[0;34m)\u001b[0m\u001b[0;34m\u001b[0m\u001b[0;34m\u001b[0m\u001b[0m\n\u001b[0m\u001b[1;32m      6\u001b[0m \u001b[0;34m\u001b[0m\u001b[0m\n\u001b[1;32m      7\u001b[0m \u001b[0mprint\u001b[0m\u001b[0;34m(\u001b[0m\u001b[0mmax\u001b[0m\u001b[0;34m(\u001b[0m\u001b[0mclan\u001b[0m\u001b[0;34m)\u001b[0m\u001b[0;34m)\u001b[0m\u001b[0;34m\u001b[0m\u001b[0;34m\u001b[0m\u001b[0m\n",
            "\u001b[0;31mTypeError\u001b[0m: '<' not supported between instances of 'bool' and 'str'"
          ]
        }
      ]
    },
    {
      "cell_type": "code",
      "source": [
        "#Eg 3: Str + int (Not Possible)\n",
        "\n",
        "clan=[\"Minato\",1,4]\n",
        "\n",
        "print(min(clan))\n",
        "\n",
        "print(max(clan))"
      ],
      "metadata": {
        "colab": {
          "base_uri": "https://localhost:8080/",
          "height": 235
        },
        "id": "WqWFX3t_MUrd",
        "outputId": "609b1eb1-fa13-4bcd-bb88-cff029aa3128"
      },
      "execution_count": 103,
      "outputs": [
        {
          "output_type": "error",
          "ename": "TypeError",
          "evalue": "ignored",
          "traceback": [
            "\u001b[0;31m---------------------------------------------------------------------------\u001b[0m",
            "\u001b[0;31mTypeError\u001b[0m                                 Traceback (most recent call last)",
            "\u001b[0;32m<ipython-input-103-ad4be76b5251>\u001b[0m in \u001b[0;36m<cell line: 5>\u001b[0;34m()\u001b[0m\n\u001b[1;32m      3\u001b[0m \u001b[0mclan\u001b[0m\u001b[0;34m=\u001b[0m\u001b[0;34m[\u001b[0m\u001b[0;34m\"Minato\"\u001b[0m\u001b[0;34m,\u001b[0m\u001b[0;36m1\u001b[0m\u001b[0;34m,\u001b[0m\u001b[0;36m4\u001b[0m\u001b[0;34m]\u001b[0m\u001b[0;34m\u001b[0m\u001b[0;34m\u001b[0m\u001b[0m\n\u001b[1;32m      4\u001b[0m \u001b[0;34m\u001b[0m\u001b[0m\n\u001b[0;32m----> 5\u001b[0;31m \u001b[0mprint\u001b[0m\u001b[0;34m(\u001b[0m\u001b[0mmin\u001b[0m\u001b[0;34m(\u001b[0m\u001b[0mclan\u001b[0m\u001b[0;34m)\u001b[0m\u001b[0;34m)\u001b[0m\u001b[0;34m\u001b[0m\u001b[0;34m\u001b[0m\u001b[0m\n\u001b[0m\u001b[1;32m      6\u001b[0m \u001b[0;34m\u001b[0m\u001b[0m\n\u001b[1;32m      7\u001b[0m \u001b[0mprint\u001b[0m\u001b[0;34m(\u001b[0m\u001b[0mmax\u001b[0m\u001b[0;34m(\u001b[0m\u001b[0mclan\u001b[0m\u001b[0;34m)\u001b[0m\u001b[0;34m)\u001b[0m\u001b[0;34m\u001b[0m\u001b[0;34m\u001b[0m\u001b[0m\n",
            "\u001b[0;31mTypeError\u001b[0m: '<' not supported between instances of 'int' and 'str'"
          ]
        }
      ]
    },
    {
      "cell_type": "markdown",
      "source": [
        "#17. List Sum\n",
        "\n",
        "    sum function is used to add all the values in a list\n",
        "\n",
        "    The type of the result is int or float\n",
        "\n",
        "    possible --> int,float,bool\n",
        "    not possible --> str"
      ],
      "metadata": {
        "id": "q9Mpn3YMM2_f"
      }
    },
    {
      "cell_type": "code",
      "source": [
        "#EG 1: int + float\n",
        "\n",
        "numbers=[1,2,1.1,2]\n",
        "\n",
        "print(sum(numbers))"
      ],
      "metadata": {
        "colab": {
          "base_uri": "https://localhost:8080/"
        },
        "id": "5Eo1VDdCMkhY",
        "outputId": "0dafe3b4-7724-4adb-b6d9-77bea83f762d"
      },
      "execution_count": 110,
      "outputs": [
        {
          "output_type": "stream",
          "name": "stdout",
          "text": [
            "6.1\n"
          ]
        }
      ]
    },
    {
      "cell_type": "code",
      "source": [
        "#EG 2: Str\n",
        "\n",
        "clan=[\"minato\",\"naruto\"]\n",
        "\n",
        "print(sum(clan))"
      ],
      "metadata": {
        "colab": {
          "base_uri": "https://localhost:8080/",
          "height": 200
        },
        "id": "9SyABmrKM00y",
        "outputId": "2cea48ab-98fd-446f-bd8f-0b3ae4e8b409"
      },
      "execution_count": 105,
      "outputs": [
        {
          "output_type": "error",
          "ename": "TypeError",
          "evalue": "ignored",
          "traceback": [
            "\u001b[0;31m---------------------------------------------------------------------------\u001b[0m",
            "\u001b[0;31mTypeError\u001b[0m                                 Traceback (most recent call last)",
            "\u001b[0;32m<ipython-input-105-846e04317368>\u001b[0m in \u001b[0;36m<cell line: 4>\u001b[0;34m()\u001b[0m\n\u001b[1;32m      2\u001b[0m \u001b[0;34m\u001b[0m\u001b[0m\n\u001b[1;32m      3\u001b[0m \u001b[0mclan\u001b[0m\u001b[0;34m=\u001b[0m\u001b[0;34m[\u001b[0m\u001b[0;34m\"minato\"\u001b[0m\u001b[0;34m,\u001b[0m\u001b[0;34m\"naruto\"\u001b[0m\u001b[0;34m]\u001b[0m\u001b[0;34m\u001b[0m\u001b[0;34m\u001b[0m\u001b[0m\n\u001b[0;32m----> 4\u001b[0;31m \u001b[0mprint\u001b[0m\u001b[0;34m(\u001b[0m\u001b[0msum\u001b[0m\u001b[0;34m(\u001b[0m\u001b[0mclan\u001b[0m\u001b[0;34m)\u001b[0m\u001b[0;34m)\u001b[0m\u001b[0;34m\u001b[0m\u001b[0;34m\u001b[0m\u001b[0m\n\u001b[0m",
            "\u001b[0;31mTypeError\u001b[0m: unsupported operand type(s) for +: 'int' and 'str'"
          ]
        }
      ]
    },
    {
      "cell_type": "code",
      "source": [
        "#EG 3: bool + Int\n",
        "\n",
        "numbers=[True,False,4,5,True,True]\n",
        "\n",
        "print(sum(numbers))\n",
        "\n",
        "# Here the value of \"False\" is \"0\" and the value of \"True\" is \"1\" \n",
        "\n",
        "# so [1 + 0 + 4 + 5 + 1 + 1] = 12"
      ],
      "metadata": {
        "colab": {
          "base_uri": "https://localhost:8080/"
        },
        "id": "zZfCKPbuNZLX",
        "outputId": "4c92a8f4-9c35-4b2c-f544-0bdfcec62e5e"
      },
      "execution_count": 109,
      "outputs": [
        {
          "output_type": "stream",
          "name": "stdout",
          "text": [
            "12\n"
          ]
        }
      ]
    },
    {
      "cell_type": "code",
      "source": [
        "#EG 4: The type of the result is int\n",
        "\n",
        "numbers=[1,2,11,2]\n",
        "\n",
        "add=sum(numbers)\n",
        "\n",
        "print(add)\n",
        "print(type(add))"
      ],
      "metadata": {
        "colab": {
          "base_uri": "https://localhost:8080/"
        },
        "id": "BXUpuTxPOMGu",
        "outputId": "6c535259-3fcd-4716-ba19-1c0ac21b1314"
      },
      "execution_count": 112,
      "outputs": [
        {
          "output_type": "stream",
          "name": "stdout",
          "text": [
            "16\n",
            "<class 'int'>\n"
          ]
        }
      ]
    },
    {
      "cell_type": "markdown",
      "source": [
        "# 18. all function\n",
        "\n",
        "    All function is like an and operator of list\n",
        "\n",
        "    It results in True or False\n",
        "\n",
        "    0 -> False\n",
        "\n",
        "    other than O all values --> true\n",
        "\n",
        "    Table:\n",
        "    _____\n",
        "\n",
        "    True and True = True\n",
        "    True and False = False\n",
        "    False and True = False\n",
        "    False and False = False"
      ],
      "metadata": {
        "id": "GooeAXsHOo30"
      }
    },
    {
      "cell_type": "code",
      "source": [
        "#Eg : 1 Here all values are non zero, so the result will be true\n",
        "\n",
        "function=[1,2,3,1,-1]\n",
        "\n",
        "print(all(function))"
      ],
      "metadata": {
        "colab": {
          "base_uri": "https://localhost:8080/"
        },
        "id": "8xtaQMvzO-HX",
        "outputId": "119745c2-d1f3-40cf-d79e-f20c59d3c131"
      },
      "execution_count": 122,
      "outputs": [
        {
          "output_type": "stream",
          "name": "stdout",
          "text": [
            "True\n"
          ]
        }
      ]
    },
    {
      "cell_type": "code",
      "source": [
        "#Eg : 2 Here one vaue of the result is zero, so the result will be false\n",
        "\n",
        "function=[1,2,3,0]\n",
        "\n",
        "print(all(function))"
      ],
      "metadata": {
        "colab": {
          "base_uri": "https://localhost:8080/"
        },
        "id": "V29plP77Pymf",
        "outputId": "7f35781a-cd50-4005-dbc4-a45cee0ffb6f"
      },
      "execution_count": 121,
      "outputs": [
        {
          "output_type": "stream",
          "name": "stdout",
          "text": [
            "False\n"
          ]
        }
      ]
    },
    {
      "cell_type": "code",
      "source": [
        "# Eg : 3 it supports string \n",
        "\n",
        "function= [\"a\",\"b\"]\n",
        "\n",
        "print(all(function))"
      ],
      "metadata": {
        "colab": {
          "base_uri": "https://localhost:8080/"
        },
        "id": "NbDw-FmWP8gr",
        "outputId": "8d7120c2-990b-448a-cecd-0be06a26fa59"
      },
      "execution_count": 123,
      "outputs": [
        {
          "output_type": "stream",
          "name": "stdout",
          "text": [
            "True\n"
          ]
        }
      ]
    },
    {
      "cell_type": "code",
      "source": [
        "# Eg : 4 it supports bool\n",
        "\n",
        "print(all([True, True]))\n",
        "print(all([True, False]))\n",
        "print(all([False, True]))\n",
        "print(all([False, False]))"
      ],
      "metadata": {
        "colab": {
          "base_uri": "https://localhost:8080/"
        },
        "id": "rW5FbjRaQItL",
        "outputId": "cb3e8d51-3e53-4df5-be63-42f34d040145"
      },
      "execution_count": 124,
      "outputs": [
        {
          "output_type": "stream",
          "name": "stdout",
          "text": [
            "True\n",
            "False\n",
            "False\n",
            "False\n"
          ]
        }
      ]
    },
    {
      "cell_type": "markdown",
      "source": [
        "# 19. any function\n",
        "\n",
        "    Any function is like an \"or\" operator of list\n",
        "\n",
        "    It results in True or False\n",
        "\n",
        "    0 -> False\n",
        "\n",
        "    other than O all values --> true\n",
        "\n",
        "    Table:\n",
        "    _____\n",
        "\n",
        "    True or True = True\n",
        "    True or False = True\n",
        "    False or True = True\n",
        "    False or False = False"
      ],
      "metadata": {
        "id": "9LSdoQXdQgmW"
      }
    },
    {
      "cell_type": "code",
      "source": [
        "#Eg : 1 \n",
        "\n",
        "function=[-1,0,0,0,0]\n",
        "\n",
        "print(any(function))"
      ],
      "metadata": {
        "colab": {
          "base_uri": "https://localhost:8080/"
        },
        "id": "esq7kDDFQ3sd",
        "outputId": "d1bcae72-1f61-4af9-8d57-ba0e60151221"
      },
      "execution_count": 125,
      "outputs": [
        {
          "output_type": "stream",
          "name": "stdout",
          "text": [
            "True\n"
          ]
        }
      ]
    },
    {
      "cell_type": "code",
      "source": [
        "# Eg : 2\n",
        "\n",
        "print(any([True, True]))\n",
        "print(any([True, False]))\n",
        "print(any([False, True]))\n",
        "print(any([False, False]))"
      ],
      "metadata": {
        "colab": {
          "base_uri": "https://localhost:8080/"
        },
        "id": "xAoU8-2FRPY2",
        "outputId": "fd9237cf-a260-4472-bb62-a89370a7ece2"
      },
      "execution_count": 126,
      "outputs": [
        {
          "output_type": "stream",
          "name": "stdout",
          "text": [
            "True\n",
            "True\n",
            "True\n",
            "False\n"
          ]
        }
      ]
    }
  ]
}