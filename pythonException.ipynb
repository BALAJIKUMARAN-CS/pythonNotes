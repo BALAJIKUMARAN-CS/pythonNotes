{
  "cells": [
    {
      "cell_type": "markdown",
      "metadata": {
        "id": "view-in-github",
        "colab_type": "text"
      },
      "source": [
        "<a href=\"https://colab.research.google.com/github/BALAJIKUMARAN-CS/pythonNotes/blob/main/pythonException.ipynb\" target=\"_parent\"><img src=\"https://colab.research.google.com/assets/colab-badge.svg\" alt=\"Open In Colab\"/></a>"
      ]
    },
    {
      "cell_type": "markdown",
      "source": [
        "#Exception Handling:\n",
        "\n",
        "    1. Exception handling\n",
        "\n",
        "    2. try block\n",
        "\n",
        "    3. except block\n",
        "\n",
        "    4. else block\n",
        "\n",
        "    5. finally block\n",
        "\n",
        "    6. raise Exception\n",
        "\n",
        "    7. Most common type of exceptions\n",
        "\n",
        "        7.1. ZeroDivisionError\n",
        "\n",
        "        7.2. ValueError\n",
        "\n",
        "        7.3. Multiple Exception\n",
        "\n",
        "        7.4. TypeError\n",
        "\n",
        "        7.5. IndexError\n",
        "\n",
        "        7.6. KeyError\n",
        "\n",
        "        7.7. FileNotFoundError\n",
        "\n",
        "        7.8. IOError\n",
        "\n",
        "        7.9. ImportError\n",
        "\n",
        "        7.10 MemoryError\n",
        "\n",
        "        7.11 OverflowError\n",
        "\n",
        "        7.12 AttributeError\n",
        "\n",
        "        7.13 NameError\n",
        "\n",
        "    8. Quiz Corner\n"
      ],
      "metadata": {
        "id": "VTwb-0WRud2P"
      }
    },
    {
      "cell_type": "markdown",
      "metadata": {
        "id": "5SpFColSevo0"
      },
      "source": [
        "#1. Exception handling\n",
        "\n",
        "    When an error occurs, or exception as we call it, Python will normally stop and generate an error message.\n",
        "\n",
        "    These exceptions can be handled using the try statement:\n",
        "\n",
        "    1. It is a mechanism in programming to handle runtime errors, which are known as exceptions.\n",
        "\n",
        "    2. It's a process where you define a block of code that will be executed if an error occurs when the program is running.\n",
        "\n",
        "    3. This allows the program to continue running (or terminate gracefully) even if an error occurs.\n",
        "\n",
        "    4. Without exception handling, an error occurring in a program would cause the program to immediately stop.\n",
        "\n",
        "    5. This can be very undesirable, especially in production software, as it can lead to a poor user experience or even data loss.\n",
        "\n"
      ]
    },
    {
      "cell_type": "markdown",
      "metadata": {
        "id": "eW65tCpbevo4"
      },
      "source": [
        "#2. try block:\n",
        "\n",
        "    1. The code within the try block contains the statements that may potentially raise an exception.\n",
        "\n",
        "    2. It allows you to specify the section of code that you want to monitor for exceptions.\n",
        "\n",
        "\n",
        "#3. except block:\n",
        "\n",
        "    1. If an exception occurs within the try block, the corresponding except block(s) are executed.\n",
        "\n",
        "    * If the try block raises an error, the except block will be executed.\n",
        "\n",
        "    Without the try block, the program will crash and raise an error:\n"
      ]
    },
    {
      "cell_type": "code",
      "execution_count": 1,
      "metadata": {
        "colab": {
          "base_uri": "https://localhost:8080/"
        },
        "id": "eKpX8Rduevo6",
        "outputId": "87688f65-ea63-430a-dbc9-6a10b5587bb0"
      },
      "outputs": [
        {
          "output_type": "stream",
          "name": "stdout",
          "text": [
            "An exception occurred\n"
          ]
        }
      ],
      "source": [
        "# try raise an exception because x is not defined\n",
        "\n",
        "try:\n",
        "  print(x)\n",
        "\n",
        "except:\n",
        "  print(\"An exception occurred\")"
      ]
    },
    {
      "cell_type": "markdown",
      "source": [
        "#4. else block:\n",
        "\n",
        "    The else block allows you run code without errors.\n",
        "\n",
        "\n"
      ],
      "metadata": {
        "id": "uNtNkv8Pjawp"
      }
    },
    {
      "cell_type": "code",
      "execution_count": 35,
      "metadata": {
        "colab": {
          "base_uri": "https://localhost:8080/"
        },
        "id": "14KAwMe_evo8",
        "outputId": "a0c612f2-2b35-49a1-9b31-f5c7a1fc2a07"
      },
      "outputs": [
        {
          "output_type": "stream",
          "name": "stdout",
          "text": [
            "HI Im in try block\n",
            "Hi Im in else block\n"
          ]
        }
      ],
      "source": [
        "\"\"\"You can use the \"else\" keyword to specify a block\n",
        "   of code that will be performed if no errors are raised:\"\"\"\n",
        "\n",
        "try:\n",
        "  print(\"HI Im in try block\")\n",
        "\n",
        "except: #here except is like an if block. if except execute means the else wont execute\n",
        "  print(\"Hi Im in exept block\")\n",
        "\n",
        "else:\n",
        "  print(\"Hi Im in else block\")\n"
      ]
    },
    {
      "cell_type": "code",
      "source": [
        "#If code has an exception the else wont run\n",
        "try:\n",
        "  print(xyz)\n",
        "\n",
        "except:\n",
        "  print(\"Hi Im in exept block\")\n",
        "\n",
        "else:\n",
        "  print(\"Hi Im in else block\")\n"
      ],
      "metadata": {
        "colab": {
          "base_uri": "https://localhost:8080/"
        },
        "id": "nmLCbaL2DTAg",
        "outputId": "6e042b44-6224-41ec-9919-1224d6c8c7a9"
      },
      "execution_count": 36,
      "outputs": [
        {
          "output_type": "stream",
          "name": "stdout",
          "text": [
            "Hi Im in exept block\n"
          ]
        }
      ]
    },
    {
      "cell_type": "markdown",
      "source": [
        "#5. finally\n",
        "\n",
        "    The finally block will always be executed, no matter if the try block raises an error or not:\n",
        "\n",
        "    * If try get executed means finally also will get executed\n",
        "\n",
        "    * If except get executed means finally also will get executed"
      ],
      "metadata": {
        "id": "MKB_GutLiJAS"
      }
    },
    {
      "cell_type": "code",
      "execution_count": 41,
      "metadata": {
        "colab": {
          "base_uri": "https://localhost:8080/"
        },
        "id": "SMI_XqFhevo9",
        "outputId": "2e9c262c-d5a1-4f55-859d-fdfb3b23ad9a"
      },
      "outputs": [
        {
          "output_type": "stream",
          "name": "stdout",
          "text": [
            "Who is hinata\n",
            "except block executed\n"
          ]
        }
      ],
      "source": [
        "# Eg 1: Here the code face an exception because variable \"hinata\" not defined\n",
        "\n",
        "try:\n",
        "  hinata == \"anime_character\"\n",
        "\n",
        "except:\n",
        "  print(\"Who is hinata\")\n",
        "\n",
        "else:\n",
        "  print(\"Yeah hinata is an anime character\")\n",
        "\n",
        "finally:\n",
        "  print(\"except block executed\")"
      ]
    },
    {
      "cell_type": "code",
      "source": [
        "# Eg 2: Here the code face an exception because variable \"sakura\" is defined. so it will go to else block\n",
        "\n",
        "try:\n",
        "  sakura = \"anime_character\"\n",
        "  sakura == \"anime_character\"\n",
        "\n",
        "except:\n",
        "  print(\"Who is hinata\")\n",
        "\n",
        "else:\n",
        "  print(\"Yeah sakura is an anime character\")\n",
        "\n",
        "finally:\n",
        "  print(\"else block executed\")"
      ],
      "metadata": {
        "colab": {
          "base_uri": "https://localhost:8080/"
        },
        "id": "Is1E2T6NEiex",
        "outputId": "1509e82b-fa50-40e0-bee5-c314c4334643"
      },
      "execution_count": 42,
      "outputs": [
        {
          "output_type": "stream",
          "name": "stdout",
          "text": [
            "Yeah sakura is an anime character\n",
            "else block executed\n"
          ]
        }
      ]
    },
    {
      "cell_type": "markdown",
      "source": [
        "#6. raise Exception\n",
        "\n",
        "    1. You can choose to throw an exception if a condition occurs.\n",
        "\n",
        "    2. To throw (or raise) an exception, use the raise keyword.\n",
        "\n",
        "    3. You can define what kind of error to raise, and the text to print to the user."
      ],
      "metadata": {
        "id": "HihL8DyKk50t"
      }
    },
    {
      "cell_type": "code",
      "source": [
        "# Use the \"raise\" keyword to throw an exception.\n",
        "\n",
        "x = 2\n",
        "\n",
        "if x < 10:\n",
        "  raise Exception (\"There is a problem: X is below zero\")"
      ],
      "metadata": {
        "id": "rKQXP7O2k17k",
        "colab": {
          "base_uri": "https://localhost:8080/",
          "height": 200
        },
        "outputId": "e155100e-4d29-49d3-8a21-86b4f0977dca"
      },
      "execution_count": 8,
      "outputs": [
        {
          "output_type": "error",
          "ename": "Exception",
          "evalue": "ignored",
          "traceback": [
            "\u001b[0;31m---------------------------------------------------------------------------\u001b[0m",
            "\u001b[0;31mException\u001b[0m                                 Traceback (most recent call last)",
            "\u001b[0;32m<ipython-input-8-593df4dd59b8>\u001b[0m in \u001b[0;36m<cell line: 5>\u001b[0;34m()\u001b[0m\n\u001b[1;32m      4\u001b[0m \u001b[0;34m\u001b[0m\u001b[0m\n\u001b[1;32m      5\u001b[0m \u001b[0;32mif\u001b[0m \u001b[0mx\u001b[0m \u001b[0;34m<\u001b[0m \u001b[0;36m10\u001b[0m\u001b[0;34m:\u001b[0m\u001b[0;34m\u001b[0m\u001b[0;34m\u001b[0m\u001b[0m\n\u001b[0;32m----> 6\u001b[0;31m   \u001b[0;32mraise\u001b[0m \u001b[0mException\u001b[0m \u001b[0;34m(\u001b[0m\u001b[0;34m\"There is a problem: X is below zero\"\u001b[0m\u001b[0;34m)\u001b[0m\u001b[0;34m\u001b[0m\u001b[0;34m\u001b[0m\u001b[0m\n\u001b[0m",
            "\u001b[0;31mException\u001b[0m: There is a problem: X is below zero"
          ]
        }
      ]
    },
    {
      "cell_type": "markdown",
      "metadata": {
        "id": "oCAbvYzfevo3"
      },
      "source": [
        "#7. Most common type of exceptions\n",
        "<ul>\n",
        "<li>\n",
        "<p><strong><code>ZeroDivisionError</code>:</strong> Raised when the second argument of a division or modulo operation is zero.</p>\n",
        "</li>\n",
        "\n",
        "<li>\n",
        "<p><strong><code>TypeError</code>:</strong> Raised when an operation or function is applied to an object of inappropriate type.</p>\n",
        "</li>\n",
        "<li>\n",
        "<p><strong><code>ValueError</code>:</strong> Raised when a built-in operation or function receives an argument that has the right type but an inappropriate value.</p>\n",
        "</li>\n",
        "<li>\n",
        "<p><strong><code>IndexError</code>:</strong> Raised when a sequence subscript is out of range.</p>\n",
        "</li>\n",
        "<li>\n",
        "<p><strong><code>KeyError</code>:</strong> Raised when a dictionary key is not found.</p>\n",
        "</li>\n",
        "<li>\n",
        "<p><strong><code>FileNotFoundError</code>:</strong> Raised when a file or directory is requested but doesn&rsquo;t exist.</p>\n",
        "</li>\n",
        "<li>\n",
        "<p><strong><code>IOError</code>:</strong> Raised when an I/O operation (such as a print statement, the built-in open() function or a method of a file object) fails for an I/O-related reason.</p>\n",
        "</li>\n",
        "<li>\n",
        "<p><strong><code>ImportError</code>:</strong> Raised when an <code>import</code> statement fails to find the module definition or when a <code>from ... import</code> fails to find a name that is to be imported.</p>\n",
        "</li>\n",
        "<li>\n",
        "<p><strong><code>MemoryError</code>:</strong> Raised when an operation runs out of memory.</p>\n",
        "</li>\n",
        "<li>\n",
        "<p><strong><code>OverflowError</code>:</strong> Raised when the result of an arithmetic operation is too large to be expressed by the normal number format.</p>\n",
        "</li>\n",
        "<li>\n",
        "<p><strong><code>AttributeError</code>:</strong> Raised when an attribute reference or assignment fails.</p>\n",
        "</li>\n",
        "<li>\n",
        "<p><strong><code>SyntaxError</code>:</strong> Raised when the parser encounters a syntax error.</p>\n",
        "</li>\n",
        "<li>\n",
        "<p><strong><code>IndentationError</code>:</strong> Raised when there is incorrect indentation.</p>\n",
        "</li>\n",
        "<li>\n",
        "<p><strong><code>NameError</code>:</strong> Raised when a local or global name is not found.</p>\n",
        "</li>\n",
        "</ul>"
      ]
    },
    {
      "cell_type": "markdown",
      "metadata": {
        "id": "E7jsd9Kzevo9"
      },
      "source": [
        "#7.1 ZeroDivisionError\n",
        "\n",
        "    1. A ZeroDivisionError occurs in Python when a number is attempted to be divided by zero.\n",
        "\n",
        "    2. Since division by zero is not allowed in mathematics, attempting this in Python code raises a ZeroDivisionError"
      ]
    },
    {
      "cell_type": "code",
      "execution_count": 44,
      "metadata": {
        "id": "FzmAyyc9evo-",
        "outputId": "b29c98ba-13c8-4569-c3c0-2bdcafbf5144",
        "colab": {
          "base_uri": "https://localhost:8080/",
          "height": 252
        }
      },
      "outputs": [
        {
          "name": "stdout",
          "output_type": "stream",
          "text": [
            "Please enter the numerator: 1\n",
            "Please enter the denominator: 0\n"
          ]
        },
        {
          "output_type": "error",
          "ename": "ZeroDivisionError",
          "evalue": "ignored",
          "traceback": [
            "\u001b[0;31m---------------------------------------------------------------------------\u001b[0m",
            "\u001b[0;31mZeroDivisionError\u001b[0m                         Traceback (most recent call last)",
            "\u001b[0;32m<ipython-input-44-b7e37f9adb9b>\u001b[0m in \u001b[0;36m<cell line: 4>\u001b[0;34m()\u001b[0m\n\u001b[1;32m      2\u001b[0m \u001b[0mnum2\u001b[0m \u001b[0;34m=\u001b[0m \u001b[0mint\u001b[0m\u001b[0;34m(\u001b[0m\u001b[0minput\u001b[0m\u001b[0;34m(\u001b[0m\u001b[0;34m\"Please enter the denominator: \"\u001b[0m\u001b[0;34m)\u001b[0m\u001b[0;34m)\u001b[0m\u001b[0;34m\u001b[0m\u001b[0;34m\u001b[0m\u001b[0m\n\u001b[1;32m      3\u001b[0m \u001b[0;34m\u001b[0m\u001b[0m\n\u001b[0;32m----> 4\u001b[0;31m \u001b[0mresult\u001b[0m \u001b[0;34m=\u001b[0m \u001b[0mnum1\u001b[0m \u001b[0;34m/\u001b[0m \u001b[0mnum2\u001b[0m\u001b[0;34m\u001b[0m\u001b[0;34m\u001b[0m\u001b[0m\n\u001b[0m\u001b[1;32m      5\u001b[0m \u001b[0mprint\u001b[0m\u001b[0;34m(\u001b[0m\u001b[0;34m\"Result:\"\u001b[0m\u001b[0;34m,\u001b[0m \u001b[0mresult\u001b[0m\u001b[0;34m)\u001b[0m\u001b[0;34m\u001b[0m\u001b[0;34m\u001b[0m\u001b[0m\n",
            "\u001b[0;31mZeroDivisionError\u001b[0m: division by zero"
          ]
        }
      ],
      "source": [
        "num1 = int(input(\"Please enter the numerator: \"))\n",
        "num2 = int(input(\"Please enter the denominator: \"))\n",
        "\n",
        "result = num1 / num2\n",
        "print(\"Result:\", result)"
      ]
    },
    {
      "cell_type": "code",
      "execution_count": 45,
      "metadata": {
        "id": "WFF4rtO2evo-",
        "outputId": "3f56abc1-eadd-44da-aad6-dd1fce637d48",
        "colab": {
          "base_uri": "https://localhost:8080/"
        }
      },
      "outputs": [
        {
          "output_type": "stream",
          "name": "stdout",
          "text": [
            "Please enter the numerator: 1\n",
            "Please enter the denominator: 0\n",
            "There is an Error: Division by zero is not allowed.\n"
          ]
        }
      ],
      "source": [
        "try:\n",
        "    num1 = int(input(\"Please enter the numerator: \"))\n",
        "    num2 = int(input(\"Please enter the denominator: \"))\n",
        "\n",
        "    result = num1 / num2\n",
        "    print(\"Result:\", result)\n",
        "\n",
        "except ZeroDivisionError:\n",
        "    print(\"There is an Error: Division by zero is not allowed.\")\n"
      ]
    },
    {
      "cell_type": "markdown",
      "metadata": {
        "id": "2j6dq9Xvevo-"
      },
      "source": [
        "#7.2 ValueError\n",
        "\n",
        "    The Python ValueError is an exception that occurs when a function receives an argument of the correct data type but an inappropriate value."
      ]
    },
    {
      "cell_type": "code",
      "execution_count": 15,
      "metadata": {
        "id": "8kbldJpVevo-",
        "colab": {
          "base_uri": "https://localhost:8080/",
          "height": 269
        },
        "outputId": "b3d5fb09-bfab-460f-a30b-c05c86288baf"
      },
      "outputs": [
        {
          "name": "stdout",
          "output_type": "stream",
          "text": [
            "Please enter the numerator: 1\n",
            "Please enter the denominator: 1.1\n"
          ]
        },
        {
          "output_type": "error",
          "ename": "ValueError",
          "evalue": "ignored",
          "traceback": [
            "\u001b[0;31m---------------------------------------------------------------------------\u001b[0m",
            "\u001b[0;31mValueError\u001b[0m                                Traceback (most recent call last)",
            "\u001b[0;32m<ipython-input-15-461e1e021f07>\u001b[0m in \u001b[0;36m<cell line: 4>\u001b[0;34m()\u001b[0m\n\u001b[1;32m      2\u001b[0m \u001b[0;34m\u001b[0m\u001b[0m\n\u001b[1;32m      3\u001b[0m \u001b[0mn\u001b[0m \u001b[0;34m=\u001b[0m \u001b[0mint\u001b[0m\u001b[0;34m(\u001b[0m\u001b[0minput\u001b[0m\u001b[0;34m(\u001b[0m\u001b[0;34m\"Please enter the numerator: \"\u001b[0m\u001b[0;34m)\u001b[0m\u001b[0;34m)\u001b[0m\u001b[0;34m\u001b[0m\u001b[0;34m\u001b[0m\u001b[0m\n\u001b[0;32m----> 4\u001b[0;31m \u001b[0md\u001b[0m \u001b[0;34m=\u001b[0m \u001b[0mint\u001b[0m\u001b[0;34m(\u001b[0m\u001b[0minput\u001b[0m\u001b[0;34m(\u001b[0m\u001b[0;34m\"Please enter the denominator: \"\u001b[0m\u001b[0;34m)\u001b[0m\u001b[0;34m)\u001b[0m\u001b[0;34m\u001b[0m\u001b[0;34m\u001b[0m\u001b[0m\n\u001b[0m\u001b[1;32m      5\u001b[0m \u001b[0;34m\u001b[0m\u001b[0m\n\u001b[1;32m      6\u001b[0m \u001b[0mresult\u001b[0m \u001b[0;34m=\u001b[0m \u001b[0mn\u001b[0m \u001b[0;34m/\u001b[0m \u001b[0md\u001b[0m\u001b[0;34m\u001b[0m\u001b[0;34m\u001b[0m\u001b[0m\n",
            "\u001b[0;31mValueError\u001b[0m: invalid literal for int() with base 10: '1.1'"
          ]
        }
      ],
      "source": [
        "#The below example throws an error if you give any float value\n",
        "\n",
        "n = int(input(\"Please enter the numerator: \"))\n",
        "d = int(input(\"Please enter the denominator: \"))\n",
        "\n",
        "result = n / d\n",
        "print(\"Result:\", result)"
      ]
    },
    {
      "cell_type": "code",
      "execution_count": 16,
      "metadata": {
        "id": "oziKBLe1evo_",
        "outputId": "73885d95-b65a-4aea-8477-85abe7835f50",
        "colab": {
          "base_uri": "https://localhost:8080/"
        }
      },
      "outputs": [
        {
          "output_type": "stream",
          "name": "stdout",
          "text": [
            "Please enter the numerator: a\n",
            "Please enter valid integers for the numerator and denominator.\n"
          ]
        }
      ],
      "source": [
        "#valueError help us to execute the code without fail\n",
        "\n",
        "try:\n",
        "    n = int(input(\"Please enter the numerator: \"))\n",
        "    d = int(input(\"Please enter the denominator: \"))\n",
        "\n",
        "    result = n / d\n",
        "    print(\"Result:\", result)\n",
        "\n",
        "except ValueError:\n",
        "    print(\"Please enter valid integers for the numerator and denominator.\")"
      ]
    },
    {
      "cell_type": "markdown",
      "source": [
        "#7.3 Mulitiple exception:\n",
        "\n",
        "    We can handle multiple exception in a single code. The below example contains valueError, ZeroDivision error"
      ],
      "metadata": {
        "id": "S46E40Wynxfr"
      }
    },
    {
      "cell_type": "code",
      "execution_count": 17,
      "metadata": {
        "id": "Uf8jOtFzevo_",
        "outputId": "c7392ca1-2eb8-4205-fd25-1f815c34adf1",
        "colab": {
          "base_uri": "https://localhost:8080/"
        }
      },
      "outputs": [
        {
          "output_type": "stream",
          "name": "stdout",
          "text": [
            "Please enter the numerator: 0\n",
            "Please enter the denominator: 0\n",
            "Division by zero is not allowed.\n"
          ]
        }
      ],
      "source": [
        "# If you give input 0 to d means it will go to zeroDivision error block\n",
        "\n",
        "# If you give float input in n or d means it will go to ValueError Block\n",
        "\n",
        "try:\n",
        "    n = int(input(\"Please enter the numerator: \"))\n",
        "    d = int(input(\"Please enter the denominator: \"))\n",
        "\n",
        "    result = n / d\n",
        "    print(\"Result:\", result)\n",
        "\n",
        "except ValueError:\n",
        "    print(\"Please enter valid integers for the numerator and denominator.\")\n",
        "\n",
        "except ZeroDivisionError:\n",
        "    print(\"Division by zero is not allowed.\")"
      ]
    },
    {
      "cell_type": "markdown",
      "metadata": {
        "id": "cmDDAOknevo_"
      },
      "source": [
        "# 7.4 TypeError\n",
        "\n",
        "    1. The Python TypeError is an exception that occurs when the data type of an object in an operation is inappropriate.\n",
        "\n",
        "    2. This can happen when an operation is performed on an object of an incorrect type, or it is not supported for the object.\n",
        "\n",
        "    *Eg: If we add str+int or str+float it will throw an error"
      ]
    },
    {
      "cell_type": "code",
      "execution_count": 18,
      "metadata": {
        "id": "_u8qfCMYevo_",
        "outputId": "79d29d4d-5762-4087-9592-899c5bdf9be8",
        "colab": {
          "base_uri": "https://localhost:8080/"
        }
      },
      "outputs": [
        {
          "output_type": "stream",
          "name": "stdout",
          "text": [
            "Error: TypeError occurred.\n"
          ]
        }
      ],
      "source": [
        "try:\n",
        "    x = \"10\"  # Assigning a string value to the variable x\n",
        "    y = 2\n",
        "\n",
        "    z = x + y  # Attempt addition between a string and an integer\n",
        "\n",
        "    print(\"Result:\", z)\n",
        "\n",
        "except TypeError:\n",
        "    print(\"Error: TypeError occurred.\")"
      ]
    },
    {
      "cell_type": "markdown",
      "metadata": {
        "id": "Zf4qP7Fjevo_"
      },
      "source": [
        "# 7.5 IndexError\n",
        "\n",
        "    The IndexError in Python occurs when an item from a list is attempted to be accessed that is outside the index range of the list\n",
        "\n",
        "    * It occurs when if we call an index with out of range in a list or tuple"
      ]
    },
    {
      "cell_type": "code",
      "execution_count": 26,
      "metadata": {
        "id": "ujAvYTkRevpA",
        "outputId": "84358c39-c09c-4b3b-e358-50982a851548",
        "colab": {
          "base_uri": "https://localhost:8080/"
        }
      },
      "outputs": [
        {
          "output_type": "stream",
          "name": "stdout",
          "text": [
            "IndexError error occurred.\n"
          ]
        }
      ],
      "source": [
        "try:\n",
        "    list1 = (1,2,3,4)\n",
        "\n",
        "    print(list1[100])  # Trying to reach an index that is out of range\n",
        "\n",
        "except IndexError:\n",
        "    print(\"IndexError error occurred.\")"
      ]
    },
    {
      "cell_type": "markdown",
      "metadata": {
        "id": "wQx8-3kvevpA"
      },
      "source": [
        "#7.6 KeyError\n",
        "\n",
        "    1. The Python KeyError is an exception that occurs when an attempt is made to access an item in a dictionary that does not exist.\n",
        "\n",
        "    2. The key used to access the item is not found in the dictionary, which leads to the KeyError\n",
        "\n",
        "    * It occurs when if we call an index(key) with out of range in a dictionary"
      ]
    },
    {
      "cell_type": "code",
      "execution_count": null,
      "metadata": {
        "id": "Ivqd2-0ZevpA",
        "outputId": "d1962a83-8650-4a52-96a0-a88d38ad7c21"
      },
      "outputs": [
        {
          "name": "stdout",
          "output_type": "stream",
          "text": [
            "KeyError error occurred.\n"
          ]
        }
      ],
      "source": [
        "try:\n",
        "    my_dictionary = {\"name\": \"John\", \"age\": 30}\n",
        "\n",
        "    print(my_dictionary[\"city\"])  # Accessing a KEY which does not exist\n",
        "\n",
        "except KeyError:\n",
        "    print(\"KeyError error occurred.\")"
      ]
    },
    {
      "cell_type": "markdown",
      "metadata": {
        "id": "5LLWLnnievpA"
      },
      "source": [
        "#7.7 FileNotFoundError\n",
        "\n",
        "    The FileNotFoundError Exception in Python is raised when you are trying to access a file or a directory that doesn't exist.\n",
        "\n",
        "    * You are looking certain file, if it was not there means, it will throw an error"
      ]
    },
    {
      "cell_type": "code",
      "source": [
        "#Without try/catch\n",
        "\n",
        "file_location = \"my_file.txt\"\n",
        "with open(file_location, \"r\") as file:\n",
        "        contents = file.read()"
      ],
      "metadata": {
        "colab": {
          "base_uri": "https://localhost:8080/",
          "height": 200
        },
        "id": "1gUNV8cNylyZ",
        "outputId": "5d1d3363-f4d4-4224-fdbb-ca0cbc942e01"
      },
      "execution_count": 31,
      "outputs": [
        {
          "output_type": "error",
          "ename": "FileNotFoundError",
          "evalue": "ignored",
          "traceback": [
            "\u001b[0;31m---------------------------------------------------------------------------\u001b[0m",
            "\u001b[0;31mFileNotFoundError\u001b[0m                         Traceback (most recent call last)",
            "\u001b[0;32m<ipython-input-31-55dae46b8a08>\u001b[0m in \u001b[0;36m<cell line: 2>\u001b[0;34m()\u001b[0m\n\u001b[1;32m      1\u001b[0m \u001b[0mfile_location\u001b[0m \u001b[0;34m=\u001b[0m \u001b[0;34m\"my_file.txt\"\u001b[0m\u001b[0;34m\u001b[0m\u001b[0;34m\u001b[0m\u001b[0m\n\u001b[0;32m----> 2\u001b[0;31m \u001b[0;32mwith\u001b[0m \u001b[0mopen\u001b[0m\u001b[0;34m(\u001b[0m\u001b[0mfile_location\u001b[0m\u001b[0;34m,\u001b[0m \u001b[0;34m\"r\"\u001b[0m\u001b[0;34m)\u001b[0m \u001b[0;32mas\u001b[0m \u001b[0mfile\u001b[0m\u001b[0;34m:\u001b[0m\u001b[0;34m\u001b[0m\u001b[0;34m\u001b[0m\u001b[0m\n\u001b[0m\u001b[1;32m      3\u001b[0m         \u001b[0mcontents\u001b[0m \u001b[0;34m=\u001b[0m \u001b[0mfile\u001b[0m\u001b[0;34m.\u001b[0m\u001b[0mread\u001b[0m\u001b[0;34m(\u001b[0m\u001b[0;34m)\u001b[0m\u001b[0;34m\u001b[0m\u001b[0;34m\u001b[0m\u001b[0m\n",
            "\u001b[0;31mFileNotFoundError\u001b[0m: [Errno 2] No such file or directory: 'my_file.txt'"
          ]
        }
      ]
    },
    {
      "cell_type": "code",
      "source": [
        "#Exception Handling\n",
        "try:\n",
        "    file_name = \"new_file.txt\"\n",
        "\n",
        "    with open(file_name, \"r\") as file:\n",
        "        contents = file.read()\n",
        "\n",
        "except FileNotFoundError:\n",
        "    print(f\"File '{file_name}' not found.\")\n"
      ],
      "metadata": {
        "colab": {
          "base_uri": "https://localhost:8080/"
        },
        "id": "xqGJEt4nzhxd",
        "outputId": "6022e3be-8224-4156-eff0-4b7a723b5879"
      },
      "execution_count": 12,
      "outputs": [
        {
          "output_type": "stream",
          "name": "stdout",
          "text": [
            "File 'new_file.txt' not found.\n"
          ]
        }
      ]
    },
    {
      "cell_type": "markdown",
      "metadata": {
        "id": "5Dl9Y0w9evpB"
      },
      "source": [
        "#7.8 IOError\n",
        "\n",
        "    Below are the reasons that cause the IOError:\n",
        "\n",
        "    1. The file a user tried to access does not exist\n",
        "    2. The user does not have permission to access the file"
      ]
    },
    {
      "cell_type": "code",
      "execution_count": 13,
      "metadata": {
        "id": "1aqNQxg0evpB",
        "outputId": "7064ca6c-6be6-477d-c293-5c5f30b9816d",
        "colab": {
          "base_uri": "https://localhost:8080/"
        }
      },
      "outputs": [
        {
          "output_type": "stream",
          "name": "stdout",
          "text": [
            "Unable to write to file 'write.txt'.\n"
          ]
        }
      ],
      "source": [
        "#Here the file is set as read only. so the exception occurs when we write the code\n",
        "\n",
        "try:\n",
        "    file_location = \"write.txt\"\n",
        "\n",
        "    with open(file_location, \"r\") as file:\n",
        "        file.write(\"This is my file\")\n",
        "\n",
        "except IOError:\n",
        "    print(f\"Unable to write to file '{file_location}'.\")"
      ]
    },
    {
      "cell_type": "markdown",
      "metadata": {
        "id": "cq60Hb5bevpB"
      },
      "source": [
        "#7.9 ImportError\n",
        "\n",
        "    This error generally occurs when a class cannot be imported due to one of the following reasons:\n",
        "\n",
        "    1. The imported class is in a circular dependency.\n",
        "\n",
        "    2. The imported class is unavailable or was not created.\n",
        "\n",
        "    3. The imported class name is misspelled."
      ]
    },
    {
      "cell_type": "code",
      "source": [
        "try:\n",
        "    import maath\n",
        "\n",
        "except ImportError:\n",
        "    print(\"There is no built in package called maath. DO you want me to import math\")"
      ],
      "metadata": {
        "colab": {
          "base_uri": "https://localhost:8080/"
        },
        "id": "D6GicJMu4ilg",
        "outputId": "7c6a84ee-53a8-4d50-aeb3-cd9f1d72b4cc"
      },
      "execution_count": 14,
      "outputs": [
        {
          "output_type": "stream",
          "name": "stdout",
          "text": [
            "There is no built in package called maath. DO you want me to import math\n"
          ]
        }
      ]
    },
    {
      "cell_type": "code",
      "execution_count": 53,
      "metadata": {
        "id": "ZdGokcX0evpB",
        "colab": {
          "base_uri": "https://localhost:8080/"
        },
        "outputId": "074ae859-0886-4215-c5ca-390015b96b0d"
      },
      "outputs": [
        {
          "output_type": "stream",
          "name": "stdout",
          "text": [
            "Unsuccessful to import module 'naruto'\n"
          ]
        }
      ],
      "source": [
        "try:\n",
        "    import naruto\n",
        "\n",
        "except ImportError:\n",
        "    print(\"Unsuccessful to import module 'naruto'\")"
      ]
    },
    {
      "cell_type": "markdown",
      "metadata": {
        "id": "uFh-h9nGevpB"
      },
      "source": [
        "#7.10 MemoryError\n",
        "\n",
        "    A MemoryError means that the interpreter has run out of memory to allocate to your Python program.\n",
        "\n",
        "    1. This may be due to an issue in the setup of the Python environment.\n",
        "\n",
        "    2. It may be a concern with the code itself loading too much data at the same time."
      ]
    },
    {
      "cell_type": "code",
      "execution_count": null,
      "metadata": {
        "id": "-0upN-cmevpB"
      },
      "outputs": [],
      "source": [
        "# Creating a large list that consumes a significant amount of memory\n",
        "try:\n",
        "    large_list = [1] * (10 ** 12)\n",
        "\n",
        "    \"\"\"The phrase [1] * (10 ** 12) generates a\n",
        "    list by repeatedly repeating the element [1].\"\"\"\n",
        "\n",
        "except MemoryError:\n",
        "    print(\"Insufficient memory for the list.\")"
      ]
    },
    {
      "cell_type": "markdown",
      "metadata": {
        "id": "HleVF5wQevpC"
      },
      "source": [
        "#7.11 OverflowError\n",
        "\n",
        "    When an arithmetic operation exceeds the limits of the variable type, an OverflowError is raised.\n",
        "\n",
        "    Long integers allocate more space as values grow, so they end up raising MemoryError."
      ]
    },
    {
      "cell_type": "code",
      "source": [
        "\n",
        "try:\n",
        "    result = 5000 ** 10  # Attempting to calculate an extremely large number\n",
        "\n",
        "\n",
        "except OverflowError:\n",
        "    print(\"Error: Calculation resulted in an overflow.\")\n",
        "\n",
        "else:\n",
        "    print(result)"
      ],
      "metadata": {
        "id": "640nlwvP5-AM"
      },
      "execution_count": null,
      "outputs": []
    },
    {
      "cell_type": "markdown",
      "metadata": {
        "id": "60WxYhP2evpC"
      },
      "source": [
        "#7.12 AttributeError\n",
        "\n",
        "    The Python AttributeError is an exception that occurs when an attribute reference or assignment fails.\n",
        "\n",
        "    This can occur when an attempt is made to reference an attribute on a value that does not support the attribute."
      ]
    },
    {
      "cell_type": "code",
      "source": [
        "#without AttributeError handling\n",
        "\n",
        "i = 1\n",
        "i.append(2)"
      ],
      "metadata": {
        "colab": {
          "base_uri": "https://localhost:8080/",
          "height": 183
        },
        "id": "T73j0I6X8pd6",
        "outputId": "c21d25ce-c69c-48d0-82e0-26575265b4b0"
      },
      "execution_count": 18,
      "outputs": [
        {
          "output_type": "error",
          "ename": "AttributeError",
          "evalue": "ignored",
          "traceback": [
            "\u001b[0;31m---------------------------------------------------------------------------\u001b[0m",
            "\u001b[0;31mAttributeError\u001b[0m                            Traceback (most recent call last)",
            "\u001b[0;32m<ipython-input-18-607dabb2f888>\u001b[0m in \u001b[0;36m<cell line: 2>\u001b[0;34m()\u001b[0m\n\u001b[1;32m      1\u001b[0m \u001b[0mi\u001b[0m \u001b[0;34m=\u001b[0m \u001b[0;36m1\u001b[0m\u001b[0;34m\u001b[0m\u001b[0;34m\u001b[0m\u001b[0m\n\u001b[0;32m----> 2\u001b[0;31m \u001b[0mi\u001b[0m\u001b[0;34m.\u001b[0m\u001b[0mappend\u001b[0m\u001b[0;34m(\u001b[0m\u001b[0;36m2\u001b[0m\u001b[0;34m)\u001b[0m\u001b[0;34m\u001b[0m\u001b[0;34m\u001b[0m\u001b[0m\n\u001b[0m",
            "\u001b[0;31mAttributeError\u001b[0m: 'int' object has no attribute 'append'"
          ]
        }
      ]
    },
    {
      "cell_type": "code",
      "execution_count": 19,
      "metadata": {
        "id": "R-wH8amFevpC",
        "outputId": "e816bf3f-a1bf-4e3a-bd25-00243e331d9b",
        "colab": {
          "base_uri": "https://localhost:8080/"
        }
      },
      "outputs": [
        {
          "output_type": "stream",
          "name": "stdout",
          "text": [
            "No such attribute\n"
          ]
        }
      ],
      "source": [
        "i = 1\n",
        "try:\n",
        "    i.append(2)\n",
        "\n",
        "except AttributeError:\n",
        "    print('No such attribute')"
      ]
    },
    {
      "cell_type": "markdown",
      "metadata": {
        "id": "U3fkn65sevpC"
      },
      "source": [
        "#7.13 NameError\n",
        "\n",
        "    1. In Python, a NameError: name 'x' is not defined error is raised when the program attempts to access or use a variable that has not been defined or assigned a value.\n",
        "\n",
        "    2. This can happen if the variable is spelled incorrectly, or if it is accessed before it has been defined."
      ]
    },
    {
      "cell_type": "code",
      "source": [
        "myName = \"naruto\"\n",
        "print(myFatherName)"
      ],
      "metadata": {
        "colab": {
          "base_uri": "https://localhost:8080/",
          "height": 183
        },
        "id": "IUo_YORd-YEg",
        "outputId": "d0fdabcb-7060-422c-b565-c15cce854470"
      },
      "execution_count": 29,
      "outputs": [
        {
          "output_type": "error",
          "ename": "NameError",
          "evalue": "ignored",
          "traceback": [
            "\u001b[0;31m---------------------------------------------------------------------------\u001b[0m",
            "\u001b[0;31mNameError\u001b[0m                                 Traceback (most recent call last)",
            "\u001b[0;32m<ipython-input-29-9529229078d3>\u001b[0m in \u001b[0;36m<cell line: 2>\u001b[0;34m()\u001b[0m\n\u001b[1;32m      1\u001b[0m \u001b[0mmyName\u001b[0m \u001b[0;34m=\u001b[0m \u001b[0;34m\"naruto\"\u001b[0m\u001b[0;34m\u001b[0m\u001b[0;34m\u001b[0m\u001b[0m\n\u001b[0;32m----> 2\u001b[0;31m \u001b[0mprint\u001b[0m\u001b[0;34m(\u001b[0m\u001b[0mmyFatherName\u001b[0m\u001b[0;34m)\u001b[0m\u001b[0;34m\u001b[0m\u001b[0;34m\u001b[0m\u001b[0m\n\u001b[0m",
            "\u001b[0;31mNameError\u001b[0m: name 'myFatherName' is not defined"
          ]
        }
      ]
    },
    {
      "cell_type": "code",
      "execution_count": 32,
      "metadata": {
        "id": "w5BXNXJwevpD",
        "outputId": "642f401d-9b53-4f2f-cbcb-381eb8751ad0",
        "colab": {
          "base_uri": "https://localhost:8080/"
        }
      },
      "outputs": [
        {
          "output_type": "stream",
          "name": "stdout",
          "text": [
            "NameError is there\n"
          ]
        }
      ],
      "source": [
        "try:\n",
        "    myName = \"naruto\"\n",
        "    print(myFatherName)  # Attempting to access an undefined variable\n",
        "\n",
        "except NameError:\n",
        "    print(\"NameError is there\")"
      ]
    },
    {
      "cell_type": "markdown",
      "source": [
        "#8. Quiz Corner"
      ],
      "metadata": {
        "id": "MTK-ejmvFWTd"
      }
    },
    {
      "cell_type": "code",
      "execution_count": 33,
      "metadata": {
        "id": "rSwhswdXevpY"
      },
      "outputs": [],
      "source": [
        "def quiz_on_exception():\n",
        "    # Quiz Questions\n",
        "    quiz_data = [\n",
        "        {\n",
        "            \"question\": \"Which keyword is used for exception handling?\",\n",
        "            \"options\": ['a) raise', 'b) try', 'c) handle', 'd) exception'],\n",
        "            \"answer\": 'b'\n",
        "        },\n",
        "        {\n",
        "            \"question\": \"What is the purpose of the 'finally' clause in Python exception handling?\",\n",
        "            \"options\": ['a) It executes no matter what', 'b) It is executed if an exception occurs', 'c) It is executed if no exception', 'd) None of the above'],\n",
        "            \"answer\": 'a'\n",
        "        },\n",
        "        {\n",
        "            \"question\": \"Which built-in exception is raised when a function or operation is not implemented yet?\",\n",
        "            \"options\": ['a) NotImplementedError', 'b) ArithmeticError', 'c) BufferError', 'd) AssertionError'],\n",
        "            \"answer\": 'a'\n",
        "        },\n",
        "        {\n",
        "            \"question\": \"Which of the following exceptions is NOT raised by Python built-in operations?\",\n",
        "            \"options\": ['a) IOError', 'b) FileNotFoundError', 'c) KeyNotFoundError', 'd) ZeroDivisionError'],\n",
        "            \"answer\": 'c'\n",
        "        },\n",
        "        {\n",
        "            \"question\": \"What exception is raised when a local or global name is not found?\",\n",
        "            \"options\": ['a) AttributeError', 'b) KeyError', 'c) ImportError', 'd) NameError'],\n",
        "            \"answer\": 'd'\n",
        "        },\n",
        "        {\n",
        "            \"question\": \"What exception is raised when the parser encounters a syntax error?\",\n",
        "            \"options\": ['a) AttributeError', 'b) SyntaxError', 'c) IndentationError', 'd) ValueError'],\n",
        "            \"answer\": 'b'\n",
        "        },\n",
        "        {\n",
        "            \"question\": \"What exception is raised when there is incorrect indentation?\",\n",
        "            \"options\": ['a) IndentationError', 'b) ValueError', 'c) SyntaxError', 'd) TypeError'],\n",
        "            \"answer\": 'a'\n",
        "        },\n",
        "        {\n",
        "            \"question\": \"What exception is raised when an operation or function receives an argument of the right type but an inappropriate value?\",\n",
        "            \"options\": ['a) ValueError', 'b) TypeError', 'c) IndexError', 'd) KeyError'],\n",
        "            \"answer\": 'a'\n",
        "        },\n",
        "        {\n",
        "            \"question\": \"What exception is raised when a sequence subscript is out of range?\",\n",
        "            \"options\": ['a) KeyError', 'b) ValueError', 'c) TypeError', 'd) IndexError'],\n",
        "            \"answer\": 'd'\n",
        "        },\n",
        "        {\n",
        "            \"question\": \"What exception is raised when an import statement fails to find the module definition or when a from ... import fails to find a name that is to be imported?\",\n",
        "            \"options\": ['a) ImportError', 'b) ValueError', 'c) FileNotFoundError', 'd) AttributeError'],\n",
        "            \"answer\": 'a'\n",
        "        },\n",
        "        {\n",
        "            \"question\": \"What exception is raised when an operation runs out of memory?\",\n",
        "            \"options\": ['a) MemoryError', 'b) BufferError', 'c) OverflowError', 'd) ArithmeticError'],\n",
        "            \"answer\": 'a'\n",
        "        },\n",
        "        {\n",
        "            \"question\": \"What exception is raised when the result of an arithmetic operation is too large to be expressed by the normal number format?\",\n",
        "            \"options\": ['a) OverflowError', 'b) MemoryError', 'c) IndexError', 'd) ArithmeticError'],\n",
        "            \"answer\": 'a'\n",
        "        },\n",
        "        {\n",
        "            \"question\": \"What exception is raised when an attribute reference or assignment fails?\",\n",
        "            \"options\": ['a) AttributeError', 'b) KeyError', 'c) ImportError', 'd) NameError'],\n",
        "            \"answer\": 'a'\n",
        "        },\n",
        "        {\n",
        "            \"question\": \"What exception is raised when a file or directory is requested but doesn’t exist?\",\n",
        "            \"options\": ['a) FileNotFoundError', 'b) IOError', 'c) ImportError', 'd) KeyError'],\n",
        "            \"answer\": 'a'\n",
        "        },\n",
        "        {\n",
        "            \"question\": \"What exception is raised when a dictionary key is not found?\",\n",
        "            \"options\": ['a) KeyError', 'b) ValueError', 'c) IndexError', 'd) FileNotFoundError'],\n",
        "            \"answer\": 'a'\n",
        "        },\n",
        "    ]\n",
        "\n",
        "    def ask_question(question_data):\n",
        "        print(question_data[\"question\"])\n",
        "        for option in question_data[\"options\"]:\n",
        "            print(option)\n",
        "        while True:\n",
        "            try:\n",
        "                user_answer = input(\"Enter your answer: \")\n",
        "                if user_answer in ['a', 'b', 'c', 'd']:\n",
        "                    correct = user_answer == question_data[\"answer\"]\n",
        "                    if not correct:\n",
        "                        print(f\"Incorrect.\")\n",
        "                    return user_answer, question_data[\"answer\"], correct\n",
        "                else:\n",
        "                    raise ValueError(\"Invalid option. Please enter a, b, c, or d.\")\n",
        "            except ValueError as e:\n",
        "                print(e)\n",
        "\n",
        "    score = 0\n",
        "    all_answers = []  # a list to store all the user's answers and correct answers\n",
        "\n",
        "    for question_data in quiz_data:\n",
        "        user_answer, correct_answer, correct = ask_question(question_data)\n",
        "        all_answers.append((question_data[\"question\"], user_answer, correct_answer, correct))\n",
        "        if correct:\n",
        "            print(\"Correct!\")\n",
        "            score += 1\n",
        "\n",
        "    print(\"\\n\"+\"-\"*30+\"\\nQuiz Results\\n\"+\"-\"*30)\n",
        "    for item in all_answers:\n",
        "        print(f\"Question: {item[0]}\\nYour Answer: {item[1]}\\nCorrect Answer: {item[2]}\\n{'Correct' if item[3] else 'Incorrect'}\")\n",
        "        print(\"-\"*30)\n",
        "    print(f\"You scored {score}/{len(quiz_data)}.\")\n"
      ]
    },
    {
      "cell_type": "code",
      "execution_count": 46,
      "metadata": {
        "colab": {
          "base_uri": "https://localhost:8080/"
        },
        "id": "mI3vYa2bevpZ",
        "outputId": "db6de602-0cb8-4077-e0ed-1d11610c7c9a"
      },
      "outputs": [
        {
          "output_type": "stream",
          "name": "stdout",
          "text": [
            "Which keyword is used for exception handling?\n",
            "a) raise\n",
            "b) try\n",
            "c) handle\n",
            "d) exception\n",
            "Enter your answer: b\n",
            "Correct!\n",
            "What is the purpose of the 'finally' clause in Python exception handling?\n",
            "a) It executes no matter what\n",
            "b) It is executed if an exception occurs\n",
            "c) It is executed if no exception\n",
            "d) None of the above\n",
            "Enter your answer: a\n",
            "Correct!\n",
            "Which built-in exception is raised when a function or operation is not implemented yet?\n",
            "a) NotImplementedError\n",
            "b) ArithmeticError\n",
            "c) BufferError\n",
            "d) AssertionError\n",
            "Enter your answer: a\n",
            "Correct!\n",
            "Which of the following exceptions is NOT raised by Python built-in operations?\n",
            "a) IOError\n",
            "b) FileNotFoundError\n",
            "c) KeyNotFoundError\n",
            "d) ZeroDivisionError\n",
            "Enter your answer: c\n",
            "Correct!\n",
            "What exception is raised when a local or global name is not found?\n",
            "a) AttributeError\n",
            "b) KeyError\n",
            "c) ImportError\n",
            "d) NameError\n",
            "Enter your answer: d\n",
            "Correct!\n",
            "What exception is raised when the parser encounters a syntax error?\n",
            "a) AttributeError\n",
            "b) SyntaxError\n",
            "c) IndentationError\n",
            "d) ValueError\n",
            "Enter your answer: b\n",
            "Correct!\n",
            "What exception is raised when there is incorrect indentation?\n",
            "a) IndentationError\n",
            "b) ValueError\n",
            "c) SyntaxError\n",
            "d) TypeError\n",
            "Enter your answer: a\n",
            "Correct!\n",
            "What exception is raised when an operation or function receives an argument of the right type but an inappropriate value?\n",
            "a) ValueError\n",
            "b) TypeError\n",
            "c) IndexError\n",
            "d) KeyError\n",
            "Enter your answer: a\n",
            "Correct!\n",
            "What exception is raised when a sequence subscript is out of range?\n",
            "a) KeyError\n",
            "b) ValueError\n",
            "c) TypeError\n",
            "d) IndexError\n",
            "Enter your answer: d\n",
            "Correct!\n",
            "What exception is raised when an import statement fails to find the module definition or when a from ... import fails to find a name that is to be imported?\n",
            "a) ImportError\n",
            "b) ValueError\n",
            "c) FileNotFoundError\n",
            "d) AttributeError\n",
            "Enter your answer: a\n",
            "Correct!\n",
            "What exception is raised when an operation runs out of memory?\n",
            "a) MemoryError\n",
            "b) BufferError\n",
            "c) OverflowError\n",
            "d) ArithmeticError\n",
            "Enter your answer: a\n",
            "Correct!\n",
            "What exception is raised when the result of an arithmetic operation is too large to be expressed by the normal number format?\n",
            "a) OverflowError\n",
            "b) MemoryError\n",
            "c) IndexError\n",
            "d) ArithmeticError\n",
            "Enter your answer: a\n",
            "Correct!\n",
            "What exception is raised when an attribute reference or assignment fails?\n",
            "a) AttributeError\n",
            "b) KeyError\n",
            "c) ImportError\n",
            "d) NameError\n",
            "Enter your answer: a\n",
            "Correct!\n",
            "What exception is raised when a file or directory is requested but doesn’t exist?\n",
            "a) FileNotFoundError\n",
            "b) IOError\n",
            "c) ImportError\n",
            "d) KeyError\n",
            "Enter your answer: a\n",
            "Correct!\n",
            "What exception is raised when a dictionary key is not found?\n",
            "a) KeyError\n",
            "b) ValueError\n",
            "c) IndexError\n",
            "d) FileNotFoundError\n",
            "Enter your answer: a\n",
            "Correct!\n",
            "\n",
            "------------------------------\n",
            "Quiz Results\n",
            "------------------------------\n",
            "Question: Which keyword is used for exception handling?\n",
            "Your Answer: b\n",
            "Correct Answer: b\n",
            "Correct\n",
            "------------------------------\n",
            "Question: What is the purpose of the 'finally' clause in Python exception handling?\n",
            "Your Answer: a\n",
            "Correct Answer: a\n",
            "Correct\n",
            "------------------------------\n",
            "Question: Which built-in exception is raised when a function or operation is not implemented yet?\n",
            "Your Answer: a\n",
            "Correct Answer: a\n",
            "Correct\n",
            "------------------------------\n",
            "Question: Which of the following exceptions is NOT raised by Python built-in operations?\n",
            "Your Answer: c\n",
            "Correct Answer: c\n",
            "Correct\n",
            "------------------------------\n",
            "Question: What exception is raised when a local or global name is not found?\n",
            "Your Answer: d\n",
            "Correct Answer: d\n",
            "Correct\n",
            "------------------------------\n",
            "Question: What exception is raised when the parser encounters a syntax error?\n",
            "Your Answer: b\n",
            "Correct Answer: b\n",
            "Correct\n",
            "------------------------------\n",
            "Question: What exception is raised when there is incorrect indentation?\n",
            "Your Answer: a\n",
            "Correct Answer: a\n",
            "Correct\n",
            "------------------------------\n",
            "Question: What exception is raised when an operation or function receives an argument of the right type but an inappropriate value?\n",
            "Your Answer: a\n",
            "Correct Answer: a\n",
            "Correct\n",
            "------------------------------\n",
            "Question: What exception is raised when a sequence subscript is out of range?\n",
            "Your Answer: d\n",
            "Correct Answer: d\n",
            "Correct\n",
            "------------------------------\n",
            "Question: What exception is raised when an import statement fails to find the module definition or when a from ... import fails to find a name that is to be imported?\n",
            "Your Answer: a\n",
            "Correct Answer: a\n",
            "Correct\n",
            "------------------------------\n",
            "Question: What exception is raised when an operation runs out of memory?\n",
            "Your Answer: a\n",
            "Correct Answer: a\n",
            "Correct\n",
            "------------------------------\n",
            "Question: What exception is raised when the result of an arithmetic operation is too large to be expressed by the normal number format?\n",
            "Your Answer: a\n",
            "Correct Answer: a\n",
            "Correct\n",
            "------------------------------\n",
            "Question: What exception is raised when an attribute reference or assignment fails?\n",
            "Your Answer: a\n",
            "Correct Answer: a\n",
            "Correct\n",
            "------------------------------\n",
            "Question: What exception is raised when a file or directory is requested but doesn’t exist?\n",
            "Your Answer: a\n",
            "Correct Answer: a\n",
            "Correct\n",
            "------------------------------\n",
            "Question: What exception is raised when a dictionary key is not found?\n",
            "Your Answer: a\n",
            "Correct Answer: a\n",
            "Correct\n",
            "------------------------------\n",
            "You scored 15/15.\n"
          ]
        }
      ],
      "source": [
        "quiz_on_exception()"
      ]
    }
  ],
  "metadata": {
    "kernelspec": {
      "display_name": "Python 3",
      "language": "python",
      "name": "python3"
    },
    "colab": {
      "provenance": [],
      "include_colab_link": true
    }
  },
  "nbformat": 4,
  "nbformat_minor": 0
}